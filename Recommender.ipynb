{
 "metadata": {
  "language_info": {
   "codemirror_mode": {
    "name": "ipython",
    "version": 3
   },
   "file_extension": ".py",
   "mimetype": "text/x-python",
   "name": "python",
   "nbconvert_exporter": "python",
   "pygments_lexer": "ipython3",
   "version": "3.9.1"
  },
  "orig_nbformat": 2,
  "kernelspec": {
   "name": "python3",
   "display_name": "Python 3.9.1 64-bit ('DJ_NumPy-RDDxY7Pi': pipenv)",
   "metadata": {
    "interpreter": {
     "hash": "abf4aac3bd47590b3c3ba9c20e5c9ff76a5d60f3d204cf7670d4141c0c3b4c10"
    }
   }
  }
 },
 "nbformat": 4,
 "nbformat_minor": 2,
 "cells": [
  {
   "cell_type": "code",
   "execution_count": 2,
   "metadata": {},
   "outputs": [],
   "source": [
    "from keys import client_id, client_secret, user_name\n",
    "import os\n",
    "import pandas as pd\n",
    "import numpy as np\n",
    "import json\n",
    "import matplotlib.pyplot as plt\n",
    "import seaborn as sns\n",
    "%config InlineBackend.figure_format ='retina'\n",
    "import spotipy\n",
    "import spotipy.util as util\n",
    "from spotipy.oauth2 import SpotifyClientCredentials\n",
    "from spotipy import oauth2\n",
    "import random\n",
    "from functools import reduce"
   ]
  },
  {
   "cell_type": "code",
   "execution_count": 3,
   "metadata": {},
   "outputs": [],
   "source": [
    "scope = 'user-library-read playlist-modify-public playlist-read-private user-read-recently-played app-remote-control user-top-read'\n",
    "\n",
    "redirect_uri = 'https://developer.spotify.com/dashboard/applications/0743a195f7654b5ab95560a95e89316a'\n",
    "\n",
    "client_credentials_manager = SpotifyClientCredentials(client_id=client_id, client_secret=client_secret)\n",
    "\n",
    "sp = spotipy.Spotify(client_credentials_manager=client_credentials_manager)\n",
    "\n",
    "token = util.prompt_for_user_token(user_name, scope, client_id, client_secret, redirect_uri)\n",
    "\n",
    "if token:\n",
    "    sp = spotipy.Spotify(auth=token)\n",
    "else:\n",
    "    print(\"NO TOKEN FOUND\")\n"
   ]
  },
  {
   "cell_type": "code",
   "execution_count": 4,
   "metadata": {},
   "outputs": [
    {
     "output_type": "execute_result",
     "data": {
      "text/plain": [
       "                                         id  acousticness  danceability  \\\n",
       "HOLIDAY              6zFMeegAMYQo0mt8rXtrli       0.12000         0.810   \n",
       "Death of a Bachelor  1BECwm5qkaBwlbfo4kpYx8       0.01370         0.462   \n",
       "Daylight             6Ed1q0X8oSKSm4IIhiQbYg       0.00488         0.528   \n",
       "Knock Knock          3uYm4MtU6jUQft2DtGqEoZ       0.03530         0.667   \n",
       "Don't Matter         7I6DceMT3utDOHjcYCbrr4       0.24400         0.798   \n",
       "\n",
       "                     duration_ms  energy  instrumentalness  key  liveness  \\\n",
       "HOLIDAY                   154998   0.511          0.000000    5    0.0832   \n",
       "Death of a Bachelor       203507   0.538          0.000000    0    0.4290   \n",
       "Daylight                  163906   0.749          0.000096    7    0.0949   \n",
       "Knock Knock               202807   0.922          0.000000    4    0.3640   \n",
       "Don't Matter              293053   0.443          0.000000    2    0.3260   \n",
       "\n",
       "                     loudness  mode  speechiness    tempo  valence  \n",
       "HOLIDAY                -6.924     0       0.1640  151.947    0.837  \n",
       "Death of a Bachelor    -5.527     1       0.0590  139.256    0.405  \n",
       "Daylight               -7.571     1       0.0479  163.944    0.729  \n",
       "Knock Knock            -4.857     0       0.1280  108.952    0.509  \n",
       "Don't Matter           -6.062     1       0.0403  125.232    0.354  "
      ],
      "text/html": "<div>\n<style scoped>\n    .dataframe tbody tr th:only-of-type {\n        vertical-align: middle;\n    }\n\n    .dataframe tbody tr th {\n        vertical-align: top;\n    }\n\n    .dataframe thead th {\n        text-align: right;\n    }\n</style>\n<table border=\"1\" class=\"dataframe\">\n  <thead>\n    <tr style=\"text-align: right;\">\n      <th></th>\n      <th>id</th>\n      <th>acousticness</th>\n      <th>danceability</th>\n      <th>duration_ms</th>\n      <th>energy</th>\n      <th>instrumentalness</th>\n      <th>key</th>\n      <th>liveness</th>\n      <th>loudness</th>\n      <th>mode</th>\n      <th>speechiness</th>\n      <th>tempo</th>\n      <th>valence</th>\n    </tr>\n  </thead>\n  <tbody>\n    <tr>\n      <th>HOLIDAY</th>\n      <td>6zFMeegAMYQo0mt8rXtrli</td>\n      <td>0.12000</td>\n      <td>0.810</td>\n      <td>154998</td>\n      <td>0.511</td>\n      <td>0.000000</td>\n      <td>5</td>\n      <td>0.0832</td>\n      <td>-6.924</td>\n      <td>0</td>\n      <td>0.1640</td>\n      <td>151.947</td>\n      <td>0.837</td>\n    </tr>\n    <tr>\n      <th>Death of a Bachelor</th>\n      <td>1BECwm5qkaBwlbfo4kpYx8</td>\n      <td>0.01370</td>\n      <td>0.462</td>\n      <td>203507</td>\n      <td>0.538</td>\n      <td>0.000000</td>\n      <td>0</td>\n      <td>0.4290</td>\n      <td>-5.527</td>\n      <td>1</td>\n      <td>0.0590</td>\n      <td>139.256</td>\n      <td>0.405</td>\n    </tr>\n    <tr>\n      <th>Daylight</th>\n      <td>6Ed1q0X8oSKSm4IIhiQbYg</td>\n      <td>0.00488</td>\n      <td>0.528</td>\n      <td>163906</td>\n      <td>0.749</td>\n      <td>0.000096</td>\n      <td>7</td>\n      <td>0.0949</td>\n      <td>-7.571</td>\n      <td>1</td>\n      <td>0.0479</td>\n      <td>163.944</td>\n      <td>0.729</td>\n    </tr>\n    <tr>\n      <th>Knock Knock</th>\n      <td>3uYm4MtU6jUQft2DtGqEoZ</td>\n      <td>0.03530</td>\n      <td>0.667</td>\n      <td>202807</td>\n      <td>0.922</td>\n      <td>0.000000</td>\n      <td>4</td>\n      <td>0.3640</td>\n      <td>-4.857</td>\n      <td>0</td>\n      <td>0.1280</td>\n      <td>108.952</td>\n      <td>0.509</td>\n    </tr>\n    <tr>\n      <th>Don't Matter</th>\n      <td>7I6DceMT3utDOHjcYCbrr4</td>\n      <td>0.24400</td>\n      <td>0.798</td>\n      <td>293053</td>\n      <td>0.443</td>\n      <td>0.000000</td>\n      <td>2</td>\n      <td>0.3260</td>\n      <td>-6.062</td>\n      <td>1</td>\n      <td>0.0403</td>\n      <td>125.232</td>\n      <td>0.354</td>\n    </tr>\n  </tbody>\n</table>\n</div>"
     },
     "metadata": {},
     "execution_count": 4
    }
   ],
   "source": [
    "user_top_tracks = sp.current_user_top_tracks(limit=50, offset=0, time_range='long_term')\n",
    "song_data = user_top_tracks[\"items\"]\n",
    "\n",
    "song_ids = []\n",
    "song_names = []\n",
    "\n",
    "for i in range(0, len(song_data)):\n",
    "    if song_data[i]['id'] != None:\n",
    "        song_ids.append(song_data[i]['id'])\n",
    "        song_names.append(song_data[i]['name'])\n",
    "\n",
    "song_features = []\n",
    "for i in range(0, len(song_ids)):\n",
    "    features = sp.audio_features(song_ids[i])\n",
    "    for song in features:\n",
    "        song_features.append(song)\n",
    "\n",
    "top_tracks_df = pd.DataFrame(song_features, index=song_names)\n",
    "top_tracks_df = top_tracks_df[[\"id\", \"acousticness\", \"danceability\", \"duration_ms\", \n",
    "                         \"energy\", \"instrumentalness\",  \"key\", \"liveness\",\n",
    "                         \"loudness\", \"mode\", \"speechiness\", \"tempo\", \"valence\"]]\n",
    "top_tracks_df.head()"
   ]
  },
  {
   "cell_type": "code",
   "execution_count": 5,
   "metadata": {},
   "outputs": [
    {
     "output_type": "stream",
     "name": "stdout",
     "text": [
      "<class 'pandas.core.frame.DataFrame'>\nIndex: 50 entries, HOLIDAY to Team\nData columns (total 13 columns):\n #   Column            Non-Null Count  Dtype  \n---  ------            --------------  -----  \n 0   id                50 non-null     object \n 1   acousticness      50 non-null     float64\n 2   danceability      50 non-null     float64\n 3   duration_ms       50 non-null     int64  \n 4   energy            50 non-null     float64\n 5   instrumentalness  50 non-null     float64\n 6   key               50 non-null     int64  \n 7   liveness          50 non-null     float64\n 8   loudness          50 non-null     float64\n 9   mode              50 non-null     int64  \n 10  speechiness       50 non-null     float64\n 11  tempo             50 non-null     float64\n 12  valence           50 non-null     float64\ndtypes: float64(9), int64(3), object(1)\nmemory usage: 5.5+ KB\n"
     ]
    }
   ],
   "source": [
    "top_tracks_df.info()"
   ]
  },
  {
   "cell_type": "code",
   "execution_count": 6,
   "metadata": {},
   "outputs": [],
   "source": [
    "featured_playlists = sp.featured_playlists(limit=50)\n",
    "# Creating data frame for playlists\n",
    "id = []\n",
    "name = []\n",
    "num_tracks = []\n",
    "items = featured_playlists['playlists']['items']\n",
    "for item in items:\n",
    "    id.append(item[\"id\"])\n",
    "    name.append(item[\"name\"])\n",
    "    num_tracks.append(item[\"tracks\"][\"total\"])\n",
    "\n",
    "df_pl_data = pd.DataFrame({\"id\":id, \"name\": name, \"num_tracks\": num_tracks})"
   ]
  },
  {
   "cell_type": "code",
   "execution_count": 7,
   "metadata": {},
   "outputs": [
    {
     "output_type": "execute_result",
     "data": {
      "text/plain": [
       "                        id                    name  num_tracks\n",
       "0   37i9dQZF1DXcBWIGoYBM5M        Today's Top Hits          50\n",
       "1   37i9dQZF1DX4bSrsRWE9cd                   Bliss          75\n",
       "2   37i9dQZF1DWU3bkMPOyjie       Summer Rock Vibes          73\n",
       "3   37i9dQZF1DXbm6HfkbMtFZ        Feel Good Dinner         115\n",
       "4   37i9dQZF1DX4UtSsGT1Sbe             All Out 80s         150\n",
       "5   37i9dQZF1DX186v583rmzp  I Love My '90s Hip-Hop         100\n",
       "6   37i9dQZF1DXdPec7aLTmlC             Happy Hits!         100\n",
       "7   37i9dQZF1DWY4xHQp97fN6               Get Turnt         100\n",
       "8   37i9dQZF1DX4WYpdgoIcn6              Chill Hits         130\n",
       "9   37i9dQZF1DX5NsFgylu4qQ                   Waves          81\n",
       "10  37i9dQZF1DX82pCGH5USnM     Lounge - Soft House         125\n",
       "11  37i9dQZF1DWYs83FtTMQFw            Hot Rhythmic          88"
      ],
      "text/html": "<div>\n<style scoped>\n    .dataframe tbody tr th:only-of-type {\n        vertical-align: middle;\n    }\n\n    .dataframe tbody tr th {\n        vertical-align: top;\n    }\n\n    .dataframe thead th {\n        text-align: right;\n    }\n</style>\n<table border=\"1\" class=\"dataframe\">\n  <thead>\n    <tr style=\"text-align: right;\">\n      <th></th>\n      <th>id</th>\n      <th>name</th>\n      <th>num_tracks</th>\n    </tr>\n  </thead>\n  <tbody>\n    <tr>\n      <th>0</th>\n      <td>37i9dQZF1DXcBWIGoYBM5M</td>\n      <td>Today's Top Hits</td>\n      <td>50</td>\n    </tr>\n    <tr>\n      <th>1</th>\n      <td>37i9dQZF1DX4bSrsRWE9cd</td>\n      <td>Bliss</td>\n      <td>75</td>\n    </tr>\n    <tr>\n      <th>2</th>\n      <td>37i9dQZF1DWU3bkMPOyjie</td>\n      <td>Summer Rock Vibes</td>\n      <td>73</td>\n    </tr>\n    <tr>\n      <th>3</th>\n      <td>37i9dQZF1DXbm6HfkbMtFZ</td>\n      <td>Feel Good Dinner</td>\n      <td>115</td>\n    </tr>\n    <tr>\n      <th>4</th>\n      <td>37i9dQZF1DX4UtSsGT1Sbe</td>\n      <td>All Out 80s</td>\n      <td>150</td>\n    </tr>\n    <tr>\n      <th>5</th>\n      <td>37i9dQZF1DX186v583rmzp</td>\n      <td>I Love My '90s Hip-Hop</td>\n      <td>100</td>\n    </tr>\n    <tr>\n      <th>6</th>\n      <td>37i9dQZF1DXdPec7aLTmlC</td>\n      <td>Happy Hits!</td>\n      <td>100</td>\n    </tr>\n    <tr>\n      <th>7</th>\n      <td>37i9dQZF1DWY4xHQp97fN6</td>\n      <td>Get Turnt</td>\n      <td>100</td>\n    </tr>\n    <tr>\n      <th>8</th>\n      <td>37i9dQZF1DX4WYpdgoIcn6</td>\n      <td>Chill Hits</td>\n      <td>130</td>\n    </tr>\n    <tr>\n      <th>9</th>\n      <td>37i9dQZF1DX5NsFgylu4qQ</td>\n      <td>Waves</td>\n      <td>81</td>\n    </tr>\n    <tr>\n      <th>10</th>\n      <td>37i9dQZF1DX82pCGH5USnM</td>\n      <td>Lounge - Soft House</td>\n      <td>125</td>\n    </tr>\n    <tr>\n      <th>11</th>\n      <td>37i9dQZF1DWYs83FtTMQFw</td>\n      <td>Hot Rhythmic</td>\n      <td>88</td>\n    </tr>\n  </tbody>\n</table>\n</div>"
     },
     "metadata": {},
     "execution_count": 7
    }
   ],
   "source": [
    "df_pl_data"
   ]
  },
  {
   "cell_type": "code",
   "execution_count": 8,
   "metadata": {},
   "outputs": [],
   "source": [
    "# Returns Individual Tracks In Playlists\n",
    "def get_playlist_tracks(sp, playlist_id):\n",
    "    data_track = sp.playlist_tracks(playlist_id, fields=None, limit=100, offset=0, market=None)['items']\n",
    "    track_id = []\n",
    "    track_name = []\n",
    "    \n",
    "    for data in data_track:\n",
    "        track_id.append(data['track']['id'])\n",
    "        track_name.append(data['track']['name'])\n",
    "\n",
    "    return pd.DataFrame({\"track_id\":track_id, \"track_name\": track_name})"
   ]
  },
  {
   "cell_type": "code",
   "execution_count": 9,
   "metadata": {},
   "outputs": [
    {
     "output_type": "execute_result",
     "data": {
      "text/plain": [
       "                 track_id            track_name\n",
       "0  6FE2iI43OZnszFLuLtvvmg               Classic\n",
       "1  3DmW6y7wTEYHJZlLo1r6XJ                Shower\n",
       "2  4E5P1XyAFtrjpiIxkydly4                Replay\n",
       "3  3E7dfMvvCLUddWissuqMwr   Party In The U.S.A.\n",
       "4  1CQ2cMfrmFM1YdfmjENKVE  She Looks So Perfect"
      ],
      "text/html": "<div>\n<style scoped>\n    .dataframe tbody tr th:only-of-type {\n        vertical-align: middle;\n    }\n\n    .dataframe tbody tr th {\n        vertical-align: top;\n    }\n\n    .dataframe thead th {\n        text-align: right;\n    }\n</style>\n<table border=\"1\" class=\"dataframe\">\n  <thead>\n    <tr style=\"text-align: right;\">\n      <th></th>\n      <th>track_id</th>\n      <th>track_name</th>\n    </tr>\n  </thead>\n  <tbody>\n    <tr>\n      <th>0</th>\n      <td>6FE2iI43OZnszFLuLtvvmg</td>\n      <td>Classic</td>\n    </tr>\n    <tr>\n      <th>1</th>\n      <td>3DmW6y7wTEYHJZlLo1r6XJ</td>\n      <td>Shower</td>\n    </tr>\n    <tr>\n      <th>2</th>\n      <td>4E5P1XyAFtrjpiIxkydly4</td>\n      <td>Replay</td>\n    </tr>\n    <tr>\n      <th>3</th>\n      <td>3E7dfMvvCLUddWissuqMwr</td>\n      <td>Party In The U.S.A.</td>\n    </tr>\n    <tr>\n      <th>4</th>\n      <td>1CQ2cMfrmFM1YdfmjENKVE</td>\n      <td>She Looks So Perfect</td>\n    </tr>\n  </tbody>\n</table>\n</div>"
     },
     "metadata": {},
     "execution_count": 9
    }
   ],
   "source": [
    "get_playlist_tracks(sp, '37i9dQZF1DWZKuerrwoAGz').head()"
   ]
  },
  {
   "cell_type": "code",
   "execution_count": 10,
   "metadata": {},
   "outputs": [],
   "source": [
    "# Function for getting audio features of individual tracks\n",
    "def get_audio_features(sp, playlist_id):\n",
    "    playlist = get_playlist_tracks(sp, playlist_id)\n",
    "    audio_features = []\n",
    "    for i in range(len(playlist)):\n",
    "        song_data_id = playlist['track_id'][i]\n",
    "        audio_features.append(sp.audio_features(song_data_id))\n",
    "    features_array = []\n",
    "    for features in audio_features:\n",
    "        features = features[0]\n",
    "        features_array.append([features['danceability'],\n",
    "                              features['acousticness'],\n",
    "                              features['energy'], \n",
    "                              features['tempo'],\n",
    "                              features['instrumentalness'], \n",
    "                              features['loudness'],\n",
    "                              features['liveness'],\n",
    "                              features['duration_ms'],\n",
    "                              features['key'],\n",
    "                              features['valence'],\n",
    "                              features['speechiness']\n",
    "                             ])\n",
    "    df_audio_features = pd.DataFrame(features_array, columns=['danceability', 'acousticness', 'energy', 'tempo', 'instrumentalness', 'loudness', 'liveness', 'duration_ms', 'key', 'valence', 'speechiness'])\n",
    "    # DataFrame with audio features and playlist id/name\n",
    "    df_playlist_features = pd.concat([playlist, df_audio_features], axis=1)\n",
    "    df_playlist_features.set_index('track_name', inplace=True, drop=True)\n",
    "    return df_playlist_features"
   ]
  },
  {
   "cell_type": "code",
   "execution_count": 11,
   "metadata": {},
   "outputs": [
    {
     "output_type": "execute_result",
     "data": {
      "text/plain": [
       "                                                              track_id  \\\n",
       "track_name                                                               \n",
       "Beautiful Mistakes (feat. Megan Thee Stallion)  6fRxMU4LWwyaSSowV441IU   \n",
       "Peaches (feat. Daniel Caesar & Giveon)          4iJyoBOLtHqaGxP12qzhQI   \n",
       "deja vu                                         61KpQadow081I2AsbeLcsb   \n",
       "BED                                             7jXQUrVhEpXdymfFWNDnQW   \n",
       "Met Him Last Night (feat. Ariana Grande)        0BI0hfbmqybnd3TezrDME3   \n",
       "\n",
       "                                                danceability  acousticness  \\\n",
       "track_name                                                                   \n",
       "Beautiful Mistakes (feat. Megan Thee Stallion)         0.713        0.0377   \n",
       "Peaches (feat. Daniel Caesar & Giveon)                 0.677        0.3210   \n",
       "deja vu                                                0.439        0.5930   \n",
       "BED                                                    0.663        0.0134   \n",
       "Met Him Last Night (feat. Ariana Grande)               0.538        0.2200   \n",
       "\n",
       "                                                energy    tempo  \\\n",
       "track_name                                                        \n",
       "Beautiful Mistakes (feat. Megan Thee Stallion)   0.676   99.048   \n",
       "Peaches (feat. Daniel Caesar & Giveon)           0.696   90.030   \n",
       "deja vu                                          0.610  181.088   \n",
       "BED                                              0.783  123.986   \n",
       "Met Him Last Night (feat. Ariana Grande)         0.512  144.978   \n",
       "\n",
       "                                                instrumentalness  loudness  \\\n",
       "track_name                                                                   \n",
       "Beautiful Mistakes (feat. Megan Thee Stallion)          0.000000    -5.483   \n",
       "Peaches (feat. Daniel Caesar & Giveon)                  0.000000    -6.181   \n",
       "deja vu                                                 0.000011    -7.236   \n",
       "BED                                                     0.001790    -4.585   \n",
       "Met Him Last Night (feat. Ariana Grande)                0.000000    -4.548   \n",
       "\n",
       "                                                liveness  duration_ms  key  \\\n",
       "track_name                                                                   \n",
       "Beautiful Mistakes (feat. Megan Thee Stallion)     0.154       227395   10   \n",
       "Peaches (feat. Daniel Caesar & Giveon)             0.420       198082    0   \n",
       "deja vu                                            0.341       215508    9   \n",
       "BED                                                0.325       178088    6   \n",
       "Met Him Last Night (feat. Ariana Grande)           0.101       204632    4   \n",
       "\n",
       "                                                valence  speechiness  \n",
       "track_name                                                            \n",
       "Beautiful Mistakes (feat. Megan Thee Stallion)    0.721       0.0270  \n",
       "Peaches (feat. Daniel Caesar & Giveon)            0.464       0.1190  \n",
       "deja vu                                           0.172       0.1160  \n",
       "BED                                               0.622       0.0393  \n",
       "Met Him Last Night (feat. Ariana Grande)          0.120       0.0262  "
      ],
      "text/html": "<div>\n<style scoped>\n    .dataframe tbody tr th:only-of-type {\n        vertical-align: middle;\n    }\n\n    .dataframe tbody tr th {\n        vertical-align: top;\n    }\n\n    .dataframe thead th {\n        text-align: right;\n    }\n</style>\n<table border=\"1\" class=\"dataframe\">\n  <thead>\n    <tr style=\"text-align: right;\">\n      <th></th>\n      <th>track_id</th>\n      <th>danceability</th>\n      <th>acousticness</th>\n      <th>energy</th>\n      <th>tempo</th>\n      <th>instrumentalness</th>\n      <th>loudness</th>\n      <th>liveness</th>\n      <th>duration_ms</th>\n      <th>key</th>\n      <th>valence</th>\n      <th>speechiness</th>\n    </tr>\n    <tr>\n      <th>track_name</th>\n      <th></th>\n      <th></th>\n      <th></th>\n      <th></th>\n      <th></th>\n      <th></th>\n      <th></th>\n      <th></th>\n      <th></th>\n      <th></th>\n      <th></th>\n      <th></th>\n    </tr>\n  </thead>\n  <tbody>\n    <tr>\n      <th>Beautiful Mistakes (feat. Megan Thee Stallion)</th>\n      <td>6fRxMU4LWwyaSSowV441IU</td>\n      <td>0.713</td>\n      <td>0.0377</td>\n      <td>0.676</td>\n      <td>99.048</td>\n      <td>0.000000</td>\n      <td>-5.483</td>\n      <td>0.154</td>\n      <td>227395</td>\n      <td>10</td>\n      <td>0.721</td>\n      <td>0.0270</td>\n    </tr>\n    <tr>\n      <th>Peaches (feat. Daniel Caesar &amp; Giveon)</th>\n      <td>4iJyoBOLtHqaGxP12qzhQI</td>\n      <td>0.677</td>\n      <td>0.3210</td>\n      <td>0.696</td>\n      <td>90.030</td>\n      <td>0.000000</td>\n      <td>-6.181</td>\n      <td>0.420</td>\n      <td>198082</td>\n      <td>0</td>\n      <td>0.464</td>\n      <td>0.1190</td>\n    </tr>\n    <tr>\n      <th>deja vu</th>\n      <td>61KpQadow081I2AsbeLcsb</td>\n      <td>0.439</td>\n      <td>0.5930</td>\n      <td>0.610</td>\n      <td>181.088</td>\n      <td>0.000011</td>\n      <td>-7.236</td>\n      <td>0.341</td>\n      <td>215508</td>\n      <td>9</td>\n      <td>0.172</td>\n      <td>0.1160</td>\n    </tr>\n    <tr>\n      <th>BED</th>\n      <td>7jXQUrVhEpXdymfFWNDnQW</td>\n      <td>0.663</td>\n      <td>0.0134</td>\n      <td>0.783</td>\n      <td>123.986</td>\n      <td>0.001790</td>\n      <td>-4.585</td>\n      <td>0.325</td>\n      <td>178088</td>\n      <td>6</td>\n      <td>0.622</td>\n      <td>0.0393</td>\n    </tr>\n    <tr>\n      <th>Met Him Last Night (feat. Ariana Grande)</th>\n      <td>0BI0hfbmqybnd3TezrDME3</td>\n      <td>0.538</td>\n      <td>0.2200</td>\n      <td>0.512</td>\n      <td>144.978</td>\n      <td>0.000000</td>\n      <td>-4.548</td>\n      <td>0.101</td>\n      <td>204632</td>\n      <td>4</td>\n      <td>0.120</td>\n      <td>0.0262</td>\n    </tr>\n  </tbody>\n</table>\n</div>"
     },
     "metadata": {},
     "execution_count": 11
    }
   ],
   "source": [
    "get_audio_features(sp, '37i9dQZF1DXcRXFNfZr7Tp').head()"
   ]
  },
  {
   "cell_type": "code",
   "execution_count": 13,
   "metadata": {},
   "outputs": [],
   "source": [
    "# Finding mean of audio features for each playlist\n",
    "def audio_features_mean(sp, playlist_id):\n",
    "    Playlist = get_audio_features(sp, playlist_id)\n",
    "    return pd.DataFrame(Playlist.mean(), columns= [playlist_id])"
   ]
  },
  {
   "cell_type": "code",
   "execution_count": 30,
   "metadata": {},
   "outputs": [
    {
     "output_type": "error",
     "ename": "KeyboardInterrupt",
     "evalue": "",
     "traceback": [
      "\u001b[0;31m---------------------------------------------------------------------------\u001b[0m",
      "\u001b[0;31mKeyboardInterrupt\u001b[0m                         Traceback (most recent call last)",
      "\u001b[0;32m<ipython-input-30-fdd7f48900de>\u001b[0m in \u001b[0;36m<module>\u001b[0;34m\u001b[0m\n\u001b[0;32m----> 1\u001b[0;31m \u001b[0maudio_features_mean\u001b[0m\u001b[0;34m(\u001b[0m\u001b[0msp\u001b[0m\u001b[0;34m,\u001b[0m \u001b[0;34m'37i9dQZF1DXbYM3nMM0oPk'\u001b[0m\u001b[0;34m)\u001b[0m\u001b[0;34m\u001b[0m\u001b[0;34m\u001b[0m\u001b[0m\n\u001b[0m",
      "\u001b[0;32m<ipython-input-13-cc1559c0c7c6>\u001b[0m in \u001b[0;36maudio_features_mean\u001b[0;34m(sp, playlist_id)\u001b[0m\n\u001b[1;32m      1\u001b[0m \u001b[0;31m# Finding mean of audio features for each playlist\u001b[0m\u001b[0;34m\u001b[0m\u001b[0;34m\u001b[0m\u001b[0;34m\u001b[0m\u001b[0m\n\u001b[1;32m      2\u001b[0m \u001b[0;32mdef\u001b[0m \u001b[0maudio_features_mean\u001b[0m\u001b[0;34m(\u001b[0m\u001b[0msp\u001b[0m\u001b[0;34m,\u001b[0m \u001b[0mplaylist_id\u001b[0m\u001b[0;34m)\u001b[0m\u001b[0;34m:\u001b[0m\u001b[0;34m\u001b[0m\u001b[0;34m\u001b[0m\u001b[0m\n\u001b[0;32m----> 3\u001b[0;31m     \u001b[0mPlaylist\u001b[0m \u001b[0;34m=\u001b[0m \u001b[0mget_audio_features\u001b[0m\u001b[0;34m(\u001b[0m\u001b[0msp\u001b[0m\u001b[0;34m,\u001b[0m \u001b[0mplaylist_id\u001b[0m\u001b[0;34m)\u001b[0m\u001b[0;34m\u001b[0m\u001b[0;34m\u001b[0m\u001b[0m\n\u001b[0m\u001b[1;32m      4\u001b[0m     \u001b[0;32mreturn\u001b[0m \u001b[0mpd\u001b[0m\u001b[0;34m.\u001b[0m\u001b[0mDataFrame\u001b[0m\u001b[0;34m(\u001b[0m\u001b[0mPlaylist\u001b[0m\u001b[0;34m.\u001b[0m\u001b[0mmean\u001b[0m\u001b[0;34m(\u001b[0m\u001b[0;34m)\u001b[0m\u001b[0;34m,\u001b[0m \u001b[0mcolumns\u001b[0m\u001b[0;34m=\u001b[0m \u001b[0;34m[\u001b[0m\u001b[0mplaylist_id\u001b[0m\u001b[0;34m]\u001b[0m\u001b[0;34m)\u001b[0m\u001b[0;34m\u001b[0m\u001b[0;34m\u001b[0m\u001b[0m\n",
      "\u001b[0;32m<ipython-input-10-c9636b23fabd>\u001b[0m in \u001b[0;36mget_audio_features\u001b[0;34m(sp, playlist_id)\u001b[0m\n\u001b[1;32m      5\u001b[0m     \u001b[0;32mfor\u001b[0m \u001b[0mi\u001b[0m \u001b[0;32min\u001b[0m \u001b[0mrange\u001b[0m\u001b[0;34m(\u001b[0m\u001b[0mlen\u001b[0m\u001b[0;34m(\u001b[0m\u001b[0mplaylist\u001b[0m\u001b[0;34m)\u001b[0m\u001b[0;34m)\u001b[0m\u001b[0;34m:\u001b[0m\u001b[0;34m\u001b[0m\u001b[0;34m\u001b[0m\u001b[0m\n\u001b[1;32m      6\u001b[0m         \u001b[0msong_data_id\u001b[0m \u001b[0;34m=\u001b[0m \u001b[0mplaylist\u001b[0m\u001b[0;34m[\u001b[0m\u001b[0;34m'track_id'\u001b[0m\u001b[0;34m]\u001b[0m\u001b[0;34m[\u001b[0m\u001b[0mi\u001b[0m\u001b[0;34m]\u001b[0m\u001b[0;34m\u001b[0m\u001b[0;34m\u001b[0m\u001b[0m\n\u001b[0;32m----> 7\u001b[0;31m         \u001b[0maudio_features\u001b[0m\u001b[0;34m.\u001b[0m\u001b[0mappend\u001b[0m\u001b[0;34m(\u001b[0m\u001b[0msp\u001b[0m\u001b[0;34m.\u001b[0m\u001b[0maudio_features\u001b[0m\u001b[0;34m(\u001b[0m\u001b[0msong_data_id\u001b[0m\u001b[0;34m)\u001b[0m\u001b[0;34m)\u001b[0m\u001b[0;34m\u001b[0m\u001b[0;34m\u001b[0m\u001b[0m\n\u001b[0m\u001b[1;32m      8\u001b[0m     \u001b[0mfeatures_array\u001b[0m \u001b[0;34m=\u001b[0m \u001b[0;34m[\u001b[0m\u001b[0;34m]\u001b[0m\u001b[0;34m\u001b[0m\u001b[0;34m\u001b[0m\u001b[0m\n\u001b[1;32m      9\u001b[0m     \u001b[0;32mfor\u001b[0m \u001b[0mfeatures\u001b[0m \u001b[0;32min\u001b[0m \u001b[0maudio_features\u001b[0m\u001b[0;34m:\u001b[0m\u001b[0;34m\u001b[0m\u001b[0;34m\u001b[0m\u001b[0m\n",
      "\u001b[0;32m~/.local/share/virtualenvs/DJ_NumPy-RDDxY7Pi/lib/python3.9/site-packages/spotipy/client.py\u001b[0m in \u001b[0;36maudio_features\u001b[0;34m(self, tracks)\u001b[0m\n\u001b[1;32m   1620\u001b[0m         \u001b[0;32mif\u001b[0m \u001b[0misinstance\u001b[0m\u001b[0;34m(\u001b[0m\u001b[0mtracks\u001b[0m\u001b[0;34m,\u001b[0m \u001b[0mstr\u001b[0m\u001b[0;34m)\u001b[0m\u001b[0;34m:\u001b[0m\u001b[0;34m\u001b[0m\u001b[0;34m\u001b[0m\u001b[0m\n\u001b[1;32m   1621\u001b[0m             \u001b[0mtrackid\u001b[0m \u001b[0;34m=\u001b[0m \u001b[0mself\u001b[0m\u001b[0;34m.\u001b[0m\u001b[0m_get_id\u001b[0m\u001b[0;34m(\u001b[0m\u001b[0;34m\"track\"\u001b[0m\u001b[0;34m,\u001b[0m \u001b[0mtracks\u001b[0m\u001b[0;34m)\u001b[0m\u001b[0;34m\u001b[0m\u001b[0;34m\u001b[0m\u001b[0m\n\u001b[0;32m-> 1622\u001b[0;31m             \u001b[0mresults\u001b[0m \u001b[0;34m=\u001b[0m \u001b[0mself\u001b[0m\u001b[0;34m.\u001b[0m\u001b[0m_get\u001b[0m\u001b[0;34m(\u001b[0m\u001b[0;34m\"audio-features/?ids=\"\u001b[0m \u001b[0;34m+\u001b[0m \u001b[0mtrackid\u001b[0m\u001b[0;34m)\u001b[0m\u001b[0;34m\u001b[0m\u001b[0;34m\u001b[0m\u001b[0m\n\u001b[0m\u001b[1;32m   1623\u001b[0m         \u001b[0;32melse\u001b[0m\u001b[0;34m:\u001b[0m\u001b[0;34m\u001b[0m\u001b[0;34m\u001b[0m\u001b[0m\n\u001b[1;32m   1624\u001b[0m             \u001b[0mtlist\u001b[0m \u001b[0;34m=\u001b[0m \u001b[0;34m[\u001b[0m\u001b[0mself\u001b[0m\u001b[0;34m.\u001b[0m\u001b[0m_get_id\u001b[0m\u001b[0;34m(\u001b[0m\u001b[0;34m\"track\"\u001b[0m\u001b[0;34m,\u001b[0m \u001b[0mt\u001b[0m\u001b[0;34m)\u001b[0m \u001b[0;32mfor\u001b[0m \u001b[0mt\u001b[0m \u001b[0;32min\u001b[0m \u001b[0mtracks\u001b[0m\u001b[0;34m]\u001b[0m\u001b[0;34m\u001b[0m\u001b[0;34m\u001b[0m\u001b[0m\n",
      "\u001b[0;32m~/.local/share/virtualenvs/DJ_NumPy-RDDxY7Pi/lib/python3.9/site-packages/spotipy/client.py\u001b[0m in \u001b[0;36m_get\u001b[0;34m(self, url, args, payload, **kwargs)\u001b[0m\n\u001b[1;32m    289\u001b[0m             \u001b[0mkwargs\u001b[0m\u001b[0;34m.\u001b[0m\u001b[0mupdate\u001b[0m\u001b[0;34m(\u001b[0m\u001b[0margs\u001b[0m\u001b[0;34m)\u001b[0m\u001b[0;34m\u001b[0m\u001b[0;34m\u001b[0m\u001b[0m\n\u001b[1;32m    290\u001b[0m \u001b[0;34m\u001b[0m\u001b[0m\n\u001b[0;32m--> 291\u001b[0;31m         \u001b[0;32mreturn\u001b[0m \u001b[0mself\u001b[0m\u001b[0;34m.\u001b[0m\u001b[0m_internal_call\u001b[0m\u001b[0;34m(\u001b[0m\u001b[0;34m\"GET\"\u001b[0m\u001b[0;34m,\u001b[0m \u001b[0murl\u001b[0m\u001b[0;34m,\u001b[0m \u001b[0mpayload\u001b[0m\u001b[0;34m,\u001b[0m \u001b[0mkwargs\u001b[0m\u001b[0;34m)\u001b[0m\u001b[0;34m\u001b[0m\u001b[0;34m\u001b[0m\u001b[0m\n\u001b[0m\u001b[1;32m    292\u001b[0m \u001b[0;34m\u001b[0m\u001b[0m\n\u001b[1;32m    293\u001b[0m     \u001b[0;32mdef\u001b[0m \u001b[0m_post\u001b[0m\u001b[0;34m(\u001b[0m\u001b[0mself\u001b[0m\u001b[0;34m,\u001b[0m \u001b[0murl\u001b[0m\u001b[0;34m,\u001b[0m \u001b[0margs\u001b[0m\u001b[0;34m=\u001b[0m\u001b[0;32mNone\u001b[0m\u001b[0;34m,\u001b[0m \u001b[0mpayload\u001b[0m\u001b[0;34m=\u001b[0m\u001b[0;32mNone\u001b[0m\u001b[0;34m,\u001b[0m \u001b[0;34m**\u001b[0m\u001b[0mkwargs\u001b[0m\u001b[0;34m)\u001b[0m\u001b[0;34m:\u001b[0m\u001b[0;34m\u001b[0m\u001b[0;34m\u001b[0m\u001b[0m\n",
      "\u001b[0;32m~/.local/share/virtualenvs/DJ_NumPy-RDDxY7Pi/lib/python3.9/site-packages/spotipy/client.py\u001b[0m in \u001b[0;36m_internal_call\u001b[0;34m(self, method, url, payload, params)\u001b[0m\n\u001b[1;32m    238\u001b[0m \u001b[0;34m\u001b[0m\u001b[0m\n\u001b[1;32m    239\u001b[0m         \u001b[0;32mtry\u001b[0m\u001b[0;34m:\u001b[0m\u001b[0;34m\u001b[0m\u001b[0;34m\u001b[0m\u001b[0m\n\u001b[0;32m--> 240\u001b[0;31m             response = self._session.request(\n\u001b[0m\u001b[1;32m    241\u001b[0m                 \u001b[0mmethod\u001b[0m\u001b[0;34m,\u001b[0m \u001b[0murl\u001b[0m\u001b[0;34m,\u001b[0m \u001b[0mheaders\u001b[0m\u001b[0;34m=\u001b[0m\u001b[0mheaders\u001b[0m\u001b[0;34m,\u001b[0m \u001b[0mproxies\u001b[0m\u001b[0;34m=\u001b[0m\u001b[0mself\u001b[0m\u001b[0;34m.\u001b[0m\u001b[0mproxies\u001b[0m\u001b[0;34m,\u001b[0m\u001b[0;34m\u001b[0m\u001b[0;34m\u001b[0m\u001b[0m\n\u001b[1;32m    242\u001b[0m                 \u001b[0mtimeout\u001b[0m\u001b[0;34m=\u001b[0m\u001b[0mself\u001b[0m\u001b[0;34m.\u001b[0m\u001b[0mrequests_timeout\u001b[0m\u001b[0;34m,\u001b[0m \u001b[0;34m**\u001b[0m\u001b[0margs\u001b[0m\u001b[0;34m\u001b[0m\u001b[0;34m\u001b[0m\u001b[0m\n",
      "\u001b[0;32m~/.local/share/virtualenvs/DJ_NumPy-RDDxY7Pi/lib/python3.9/site-packages/requests/sessions.py\u001b[0m in \u001b[0;36mrequest\u001b[0;34m(self, method, url, params, data, headers, cookies, files, auth, timeout, allow_redirects, proxies, hooks, stream, verify, cert, json)\u001b[0m\n\u001b[1;32m    540\u001b[0m         }\n\u001b[1;32m    541\u001b[0m         \u001b[0msend_kwargs\u001b[0m\u001b[0;34m.\u001b[0m\u001b[0mupdate\u001b[0m\u001b[0;34m(\u001b[0m\u001b[0msettings\u001b[0m\u001b[0;34m)\u001b[0m\u001b[0;34m\u001b[0m\u001b[0;34m\u001b[0m\u001b[0m\n\u001b[0;32m--> 542\u001b[0;31m         \u001b[0mresp\u001b[0m \u001b[0;34m=\u001b[0m \u001b[0mself\u001b[0m\u001b[0;34m.\u001b[0m\u001b[0msend\u001b[0m\u001b[0;34m(\u001b[0m\u001b[0mprep\u001b[0m\u001b[0;34m,\u001b[0m \u001b[0;34m**\u001b[0m\u001b[0msend_kwargs\u001b[0m\u001b[0;34m)\u001b[0m\u001b[0;34m\u001b[0m\u001b[0;34m\u001b[0m\u001b[0m\n\u001b[0m\u001b[1;32m    543\u001b[0m \u001b[0;34m\u001b[0m\u001b[0m\n\u001b[1;32m    544\u001b[0m         \u001b[0;32mreturn\u001b[0m \u001b[0mresp\u001b[0m\u001b[0;34m\u001b[0m\u001b[0;34m\u001b[0m\u001b[0m\n",
      "\u001b[0;32m~/.local/share/virtualenvs/DJ_NumPy-RDDxY7Pi/lib/python3.9/site-packages/requests/sessions.py\u001b[0m in \u001b[0;36msend\u001b[0;34m(self, request, **kwargs)\u001b[0m\n\u001b[1;32m    653\u001b[0m \u001b[0;34m\u001b[0m\u001b[0m\n\u001b[1;32m    654\u001b[0m         \u001b[0;31m# Send the request\u001b[0m\u001b[0;34m\u001b[0m\u001b[0;34m\u001b[0m\u001b[0;34m\u001b[0m\u001b[0m\n\u001b[0;32m--> 655\u001b[0;31m         \u001b[0mr\u001b[0m \u001b[0;34m=\u001b[0m \u001b[0madapter\u001b[0m\u001b[0;34m.\u001b[0m\u001b[0msend\u001b[0m\u001b[0;34m(\u001b[0m\u001b[0mrequest\u001b[0m\u001b[0;34m,\u001b[0m \u001b[0;34m**\u001b[0m\u001b[0mkwargs\u001b[0m\u001b[0;34m)\u001b[0m\u001b[0;34m\u001b[0m\u001b[0;34m\u001b[0m\u001b[0m\n\u001b[0m\u001b[1;32m    656\u001b[0m \u001b[0;34m\u001b[0m\u001b[0m\n\u001b[1;32m    657\u001b[0m         \u001b[0;31m# Total elapsed time of the request (approximately)\u001b[0m\u001b[0;34m\u001b[0m\u001b[0;34m\u001b[0m\u001b[0;34m\u001b[0m\u001b[0m\n",
      "\u001b[0;32m~/.local/share/virtualenvs/DJ_NumPy-RDDxY7Pi/lib/python3.9/site-packages/requests/adapters.py\u001b[0m in \u001b[0;36msend\u001b[0;34m(self, request, stream, timeout, verify, cert, proxies)\u001b[0m\n\u001b[1;32m    437\u001b[0m         \u001b[0;32mtry\u001b[0m\u001b[0;34m:\u001b[0m\u001b[0;34m\u001b[0m\u001b[0;34m\u001b[0m\u001b[0m\n\u001b[1;32m    438\u001b[0m             \u001b[0;32mif\u001b[0m \u001b[0;32mnot\u001b[0m \u001b[0mchunked\u001b[0m\u001b[0;34m:\u001b[0m\u001b[0;34m\u001b[0m\u001b[0;34m\u001b[0m\u001b[0m\n\u001b[0;32m--> 439\u001b[0;31m                 resp = conn.urlopen(\n\u001b[0m\u001b[1;32m    440\u001b[0m                     \u001b[0mmethod\u001b[0m\u001b[0;34m=\u001b[0m\u001b[0mrequest\u001b[0m\u001b[0;34m.\u001b[0m\u001b[0mmethod\u001b[0m\u001b[0;34m,\u001b[0m\u001b[0;34m\u001b[0m\u001b[0;34m\u001b[0m\u001b[0m\n\u001b[1;32m    441\u001b[0m                     \u001b[0murl\u001b[0m\u001b[0;34m=\u001b[0m\u001b[0murl\u001b[0m\u001b[0;34m,\u001b[0m\u001b[0;34m\u001b[0m\u001b[0;34m\u001b[0m\u001b[0m\n",
      "\u001b[0;32m~/.local/share/virtualenvs/DJ_NumPy-RDDxY7Pi/lib/python3.9/site-packages/urllib3/connectionpool.py\u001b[0m in \u001b[0;36murlopen\u001b[0;34m(self, method, url, body, headers, retries, redirect, assert_same_host, timeout, pool_timeout, release_conn, chunked, body_pos, **response_kw)\u001b[0m\n\u001b[1;32m    697\u001b[0m \u001b[0;34m\u001b[0m\u001b[0m\n\u001b[1;32m    698\u001b[0m             \u001b[0;31m# Make the request on the httplib connection object.\u001b[0m\u001b[0;34m\u001b[0m\u001b[0;34m\u001b[0m\u001b[0;34m\u001b[0m\u001b[0m\n\u001b[0;32m--> 699\u001b[0;31m             httplib_response = self._make_request(\n\u001b[0m\u001b[1;32m    700\u001b[0m                 \u001b[0mconn\u001b[0m\u001b[0;34m,\u001b[0m\u001b[0;34m\u001b[0m\u001b[0;34m\u001b[0m\u001b[0m\n\u001b[1;32m    701\u001b[0m                 \u001b[0mmethod\u001b[0m\u001b[0;34m,\u001b[0m\u001b[0;34m\u001b[0m\u001b[0;34m\u001b[0m\u001b[0m\n",
      "\u001b[0;32m~/.local/share/virtualenvs/DJ_NumPy-RDDxY7Pi/lib/python3.9/site-packages/urllib3/connectionpool.py\u001b[0m in \u001b[0;36m_make_request\u001b[0;34m(self, conn, method, url, timeout, chunked, **httplib_request_kw)\u001b[0m\n\u001b[1;32m    443\u001b[0m                     \u001b[0;31m# Python 3 (including for exceptions like SystemExit).\u001b[0m\u001b[0;34m\u001b[0m\u001b[0;34m\u001b[0m\u001b[0;34m\u001b[0m\u001b[0m\n\u001b[1;32m    444\u001b[0m                     \u001b[0;31m# Otherwise it looks like a bug in the code.\u001b[0m\u001b[0;34m\u001b[0m\u001b[0;34m\u001b[0m\u001b[0;34m\u001b[0m\u001b[0m\n\u001b[0;32m--> 445\u001b[0;31m                     \u001b[0msix\u001b[0m\u001b[0;34m.\u001b[0m\u001b[0mraise_from\u001b[0m\u001b[0;34m(\u001b[0m\u001b[0me\u001b[0m\u001b[0;34m,\u001b[0m \u001b[0;32mNone\u001b[0m\u001b[0;34m)\u001b[0m\u001b[0;34m\u001b[0m\u001b[0;34m\u001b[0m\u001b[0m\n\u001b[0m\u001b[1;32m    446\u001b[0m         \u001b[0;32mexcept\u001b[0m \u001b[0;34m(\u001b[0m\u001b[0mSocketTimeout\u001b[0m\u001b[0;34m,\u001b[0m \u001b[0mBaseSSLError\u001b[0m\u001b[0;34m,\u001b[0m \u001b[0mSocketError\u001b[0m\u001b[0;34m)\u001b[0m \u001b[0;32mas\u001b[0m \u001b[0me\u001b[0m\u001b[0;34m:\u001b[0m\u001b[0;34m\u001b[0m\u001b[0;34m\u001b[0m\u001b[0m\n\u001b[1;32m    447\u001b[0m             \u001b[0mself\u001b[0m\u001b[0;34m.\u001b[0m\u001b[0m_raise_timeout\u001b[0m\u001b[0;34m(\u001b[0m\u001b[0merr\u001b[0m\u001b[0;34m=\u001b[0m\u001b[0me\u001b[0m\u001b[0;34m,\u001b[0m \u001b[0murl\u001b[0m\u001b[0;34m=\u001b[0m\u001b[0murl\u001b[0m\u001b[0;34m,\u001b[0m \u001b[0mtimeout_value\u001b[0m\u001b[0;34m=\u001b[0m\u001b[0mread_timeout\u001b[0m\u001b[0;34m)\u001b[0m\u001b[0;34m\u001b[0m\u001b[0;34m\u001b[0m\u001b[0m\n",
      "\u001b[0;32m~/.local/share/virtualenvs/DJ_NumPy-RDDxY7Pi/lib/python3.9/site-packages/urllib3/packages/six.py\u001b[0m in \u001b[0;36mraise_from\u001b[0;34m(value, from_value)\u001b[0m\n",
      "\u001b[0;32m~/.local/share/virtualenvs/DJ_NumPy-RDDxY7Pi/lib/python3.9/site-packages/urllib3/connectionpool.py\u001b[0m in \u001b[0;36m_make_request\u001b[0;34m(self, conn, method, url, timeout, chunked, **httplib_request_kw)\u001b[0m\n\u001b[1;32m    438\u001b[0m                 \u001b[0;31m# Python 3\u001b[0m\u001b[0;34m\u001b[0m\u001b[0;34m\u001b[0m\u001b[0;34m\u001b[0m\u001b[0m\n\u001b[1;32m    439\u001b[0m                 \u001b[0;32mtry\u001b[0m\u001b[0;34m:\u001b[0m\u001b[0;34m\u001b[0m\u001b[0;34m\u001b[0m\u001b[0m\n\u001b[0;32m--> 440\u001b[0;31m                     \u001b[0mhttplib_response\u001b[0m \u001b[0;34m=\u001b[0m \u001b[0mconn\u001b[0m\u001b[0;34m.\u001b[0m\u001b[0mgetresponse\u001b[0m\u001b[0;34m(\u001b[0m\u001b[0;34m)\u001b[0m\u001b[0;34m\u001b[0m\u001b[0;34m\u001b[0m\u001b[0m\n\u001b[0m\u001b[1;32m    441\u001b[0m                 \u001b[0;32mexcept\u001b[0m \u001b[0mBaseException\u001b[0m \u001b[0;32mas\u001b[0m \u001b[0me\u001b[0m\u001b[0;34m:\u001b[0m\u001b[0;34m\u001b[0m\u001b[0;34m\u001b[0m\u001b[0m\n\u001b[1;32m    442\u001b[0m                     \u001b[0;31m# Remove the TypeError from the exception chain in\u001b[0m\u001b[0;34m\u001b[0m\u001b[0;34m\u001b[0m\u001b[0;34m\u001b[0m\u001b[0m\n",
      "\u001b[0;32m/Library/Frameworks/Python.framework/Versions/3.9/lib/python3.9/http/client.py\u001b[0m in \u001b[0;36mgetresponse\u001b[0;34m(self)\u001b[0m\n\u001b[1;32m   1345\u001b[0m         \u001b[0;32mtry\u001b[0m\u001b[0;34m:\u001b[0m\u001b[0;34m\u001b[0m\u001b[0;34m\u001b[0m\u001b[0m\n\u001b[1;32m   1346\u001b[0m             \u001b[0;32mtry\u001b[0m\u001b[0;34m:\u001b[0m\u001b[0;34m\u001b[0m\u001b[0;34m\u001b[0m\u001b[0m\n\u001b[0;32m-> 1347\u001b[0;31m                 \u001b[0mresponse\u001b[0m\u001b[0;34m.\u001b[0m\u001b[0mbegin\u001b[0m\u001b[0;34m(\u001b[0m\u001b[0;34m)\u001b[0m\u001b[0;34m\u001b[0m\u001b[0;34m\u001b[0m\u001b[0m\n\u001b[0m\u001b[1;32m   1348\u001b[0m             \u001b[0;32mexcept\u001b[0m \u001b[0mConnectionError\u001b[0m\u001b[0;34m:\u001b[0m\u001b[0;34m\u001b[0m\u001b[0;34m\u001b[0m\u001b[0m\n\u001b[1;32m   1349\u001b[0m                 \u001b[0mself\u001b[0m\u001b[0;34m.\u001b[0m\u001b[0mclose\u001b[0m\u001b[0;34m(\u001b[0m\u001b[0;34m)\u001b[0m\u001b[0;34m\u001b[0m\u001b[0;34m\u001b[0m\u001b[0m\n",
      "\u001b[0;32m/Library/Frameworks/Python.framework/Versions/3.9/lib/python3.9/http/client.py\u001b[0m in \u001b[0;36mbegin\u001b[0;34m(self)\u001b[0m\n\u001b[1;32m    305\u001b[0m         \u001b[0;31m# read until we get a non-100 response\u001b[0m\u001b[0;34m\u001b[0m\u001b[0;34m\u001b[0m\u001b[0;34m\u001b[0m\u001b[0m\n\u001b[1;32m    306\u001b[0m         \u001b[0;32mwhile\u001b[0m \u001b[0;32mTrue\u001b[0m\u001b[0;34m:\u001b[0m\u001b[0;34m\u001b[0m\u001b[0;34m\u001b[0m\u001b[0m\n\u001b[0;32m--> 307\u001b[0;31m             \u001b[0mversion\u001b[0m\u001b[0;34m,\u001b[0m \u001b[0mstatus\u001b[0m\u001b[0;34m,\u001b[0m \u001b[0mreason\u001b[0m \u001b[0;34m=\u001b[0m \u001b[0mself\u001b[0m\u001b[0;34m.\u001b[0m\u001b[0m_read_status\u001b[0m\u001b[0;34m(\u001b[0m\u001b[0;34m)\u001b[0m\u001b[0;34m\u001b[0m\u001b[0;34m\u001b[0m\u001b[0m\n\u001b[0m\u001b[1;32m    308\u001b[0m             \u001b[0;32mif\u001b[0m \u001b[0mstatus\u001b[0m \u001b[0;34m!=\u001b[0m \u001b[0mCONTINUE\u001b[0m\u001b[0;34m:\u001b[0m\u001b[0;34m\u001b[0m\u001b[0;34m\u001b[0m\u001b[0m\n\u001b[1;32m    309\u001b[0m                 \u001b[0;32mbreak\u001b[0m\u001b[0;34m\u001b[0m\u001b[0;34m\u001b[0m\u001b[0m\n",
      "\u001b[0;32m/Library/Frameworks/Python.framework/Versions/3.9/lib/python3.9/http/client.py\u001b[0m in \u001b[0;36m_read_status\u001b[0;34m(self)\u001b[0m\n\u001b[1;32m    266\u001b[0m \u001b[0;34m\u001b[0m\u001b[0m\n\u001b[1;32m    267\u001b[0m     \u001b[0;32mdef\u001b[0m \u001b[0m_read_status\u001b[0m\u001b[0;34m(\u001b[0m\u001b[0mself\u001b[0m\u001b[0;34m)\u001b[0m\u001b[0;34m:\u001b[0m\u001b[0;34m\u001b[0m\u001b[0;34m\u001b[0m\u001b[0m\n\u001b[0;32m--> 268\u001b[0;31m         \u001b[0mline\u001b[0m \u001b[0;34m=\u001b[0m \u001b[0mstr\u001b[0m\u001b[0;34m(\u001b[0m\u001b[0mself\u001b[0m\u001b[0;34m.\u001b[0m\u001b[0mfp\u001b[0m\u001b[0;34m.\u001b[0m\u001b[0mreadline\u001b[0m\u001b[0;34m(\u001b[0m\u001b[0m_MAXLINE\u001b[0m \u001b[0;34m+\u001b[0m \u001b[0;36m1\u001b[0m\u001b[0;34m)\u001b[0m\u001b[0;34m,\u001b[0m \u001b[0;34m\"iso-8859-1\"\u001b[0m\u001b[0;34m)\u001b[0m\u001b[0;34m\u001b[0m\u001b[0;34m\u001b[0m\u001b[0m\n\u001b[0m\u001b[1;32m    269\u001b[0m         \u001b[0;32mif\u001b[0m \u001b[0mlen\u001b[0m\u001b[0;34m(\u001b[0m\u001b[0mline\u001b[0m\u001b[0;34m)\u001b[0m \u001b[0;34m>\u001b[0m \u001b[0m_MAXLINE\u001b[0m\u001b[0;34m:\u001b[0m\u001b[0;34m\u001b[0m\u001b[0;34m\u001b[0m\u001b[0m\n\u001b[1;32m    270\u001b[0m             \u001b[0;32mraise\u001b[0m \u001b[0mLineTooLong\u001b[0m\u001b[0;34m(\u001b[0m\u001b[0;34m\"status line\"\u001b[0m\u001b[0;34m)\u001b[0m\u001b[0;34m\u001b[0m\u001b[0;34m\u001b[0m\u001b[0m\n",
      "\u001b[0;32m/Library/Frameworks/Python.framework/Versions/3.9/lib/python3.9/socket.py\u001b[0m in \u001b[0;36mreadinto\u001b[0;34m(self, b)\u001b[0m\n\u001b[1;32m    702\u001b[0m         \u001b[0;32mwhile\u001b[0m \u001b[0;32mTrue\u001b[0m\u001b[0;34m:\u001b[0m\u001b[0;34m\u001b[0m\u001b[0;34m\u001b[0m\u001b[0m\n\u001b[1;32m    703\u001b[0m             \u001b[0;32mtry\u001b[0m\u001b[0;34m:\u001b[0m\u001b[0;34m\u001b[0m\u001b[0;34m\u001b[0m\u001b[0m\n\u001b[0;32m--> 704\u001b[0;31m                 \u001b[0;32mreturn\u001b[0m \u001b[0mself\u001b[0m\u001b[0;34m.\u001b[0m\u001b[0m_sock\u001b[0m\u001b[0;34m.\u001b[0m\u001b[0mrecv_into\u001b[0m\u001b[0;34m(\u001b[0m\u001b[0mb\u001b[0m\u001b[0;34m)\u001b[0m\u001b[0;34m\u001b[0m\u001b[0;34m\u001b[0m\u001b[0m\n\u001b[0m\u001b[1;32m    705\u001b[0m             \u001b[0;32mexcept\u001b[0m \u001b[0mtimeout\u001b[0m\u001b[0;34m:\u001b[0m\u001b[0;34m\u001b[0m\u001b[0;34m\u001b[0m\u001b[0m\n\u001b[1;32m    706\u001b[0m                 \u001b[0mself\u001b[0m\u001b[0;34m.\u001b[0m\u001b[0m_timeout_occurred\u001b[0m \u001b[0;34m=\u001b[0m \u001b[0;32mTrue\u001b[0m\u001b[0;34m\u001b[0m\u001b[0;34m\u001b[0m\u001b[0m\n",
      "\u001b[0;32m/Library/Frameworks/Python.framework/Versions/3.9/lib/python3.9/ssl.py\u001b[0m in \u001b[0;36mrecv_into\u001b[0;34m(self, buffer, nbytes, flags)\u001b[0m\n\u001b[1;32m   1239\u001b[0m                   \u001b[0;34m\"non-zero flags not allowed in calls to recv_into() on %s\"\u001b[0m \u001b[0;34m%\u001b[0m\u001b[0;34m\u001b[0m\u001b[0;34m\u001b[0m\u001b[0m\n\u001b[1;32m   1240\u001b[0m                   self.__class__)\n\u001b[0;32m-> 1241\u001b[0;31m             \u001b[0;32mreturn\u001b[0m \u001b[0mself\u001b[0m\u001b[0;34m.\u001b[0m\u001b[0mread\u001b[0m\u001b[0;34m(\u001b[0m\u001b[0mnbytes\u001b[0m\u001b[0;34m,\u001b[0m \u001b[0mbuffer\u001b[0m\u001b[0;34m)\u001b[0m\u001b[0;34m\u001b[0m\u001b[0;34m\u001b[0m\u001b[0m\n\u001b[0m\u001b[1;32m   1242\u001b[0m         \u001b[0;32melse\u001b[0m\u001b[0;34m:\u001b[0m\u001b[0;34m\u001b[0m\u001b[0;34m\u001b[0m\u001b[0m\n\u001b[1;32m   1243\u001b[0m             \u001b[0;32mreturn\u001b[0m \u001b[0msuper\u001b[0m\u001b[0;34m(\u001b[0m\u001b[0;34m)\u001b[0m\u001b[0;34m.\u001b[0m\u001b[0mrecv_into\u001b[0m\u001b[0;34m(\u001b[0m\u001b[0mbuffer\u001b[0m\u001b[0;34m,\u001b[0m \u001b[0mnbytes\u001b[0m\u001b[0;34m,\u001b[0m \u001b[0mflags\u001b[0m\u001b[0;34m)\u001b[0m\u001b[0;34m\u001b[0m\u001b[0;34m\u001b[0m\u001b[0m\n",
      "\u001b[0;32m/Library/Frameworks/Python.framework/Versions/3.9/lib/python3.9/ssl.py\u001b[0m in \u001b[0;36mread\u001b[0;34m(self, len, buffer)\u001b[0m\n\u001b[1;32m   1097\u001b[0m         \u001b[0;32mtry\u001b[0m\u001b[0;34m:\u001b[0m\u001b[0;34m\u001b[0m\u001b[0;34m\u001b[0m\u001b[0m\n\u001b[1;32m   1098\u001b[0m             \u001b[0;32mif\u001b[0m \u001b[0mbuffer\u001b[0m \u001b[0;32mis\u001b[0m \u001b[0;32mnot\u001b[0m \u001b[0;32mNone\u001b[0m\u001b[0;34m:\u001b[0m\u001b[0;34m\u001b[0m\u001b[0;34m\u001b[0m\u001b[0m\n\u001b[0;32m-> 1099\u001b[0;31m                 \u001b[0;32mreturn\u001b[0m \u001b[0mself\u001b[0m\u001b[0;34m.\u001b[0m\u001b[0m_sslobj\u001b[0m\u001b[0;34m.\u001b[0m\u001b[0mread\u001b[0m\u001b[0;34m(\u001b[0m\u001b[0mlen\u001b[0m\u001b[0;34m,\u001b[0m \u001b[0mbuffer\u001b[0m\u001b[0;34m)\u001b[0m\u001b[0;34m\u001b[0m\u001b[0;34m\u001b[0m\u001b[0m\n\u001b[0m\u001b[1;32m   1100\u001b[0m             \u001b[0;32melse\u001b[0m\u001b[0;34m:\u001b[0m\u001b[0;34m\u001b[0m\u001b[0;34m\u001b[0m\u001b[0m\n\u001b[1;32m   1101\u001b[0m                 \u001b[0;32mreturn\u001b[0m \u001b[0mself\u001b[0m\u001b[0;34m.\u001b[0m\u001b[0m_sslobj\u001b[0m\u001b[0;34m.\u001b[0m\u001b[0mread\u001b[0m\u001b[0;34m(\u001b[0m\u001b[0mlen\u001b[0m\u001b[0;34m)\u001b[0m\u001b[0;34m\u001b[0m\u001b[0;34m\u001b[0m\u001b[0m\n",
      "\u001b[0;31mKeyboardInterrupt\u001b[0m: "
     ]
    }
   ],
   "source": [
    "audio_features_mean(sp, '37i9dQZF1DXbYM3nMM0oPk')"
   ]
  },
  {
   "cell_type": "code",
   "execution_count": 29,
   "metadata": {},
   "outputs": [],
   "source": [
    "# Merges average of audio features of each playlist into a single DataFrame\n",
    "primary_df = []\n",
    "for i in range(len(df_pl_data)):\n",
    "    primary_df.append(audio_features_mean(sp, df_pl_data['id'][i]))"
   ]
  },
  {
   "cell_type": "code",
   "execution_count": 16,
   "metadata": {},
   "outputs": [
    {
     "output_type": "execute_result",
     "data": {
      "text/plain": [
       "[                  37i9dQZF1DXcBWIGoYBM5M\n",
       " danceability                    0.686820\n",
       " acousticness                    0.255789\n",
       " energy                          0.616880\n",
       " tempo                         119.491220\n",
       " instrumentalness                0.005073\n",
       " loudness                       -6.547720\n",
       " liveness                        0.184132\n",
       " duration_ms                184768.500000\n",
       " key                             5.180000\n",
       " valence                         0.464922\n",
       " speechiness                     0.081396,\n",
       "                   37i9dQZF1DX4bSrsRWE9cd\n",
       " danceability                    0.493147\n",
       " acousticness                    0.816849\n",
       " energy                          0.235191\n",
       " tempo                         118.281827\n",
       " instrumentalness                0.162121\n",
       " loudness                      -14.750040\n",
       " liveness                        0.132576\n",
       " duration_ms                231474.000000\n",
       " key                             3.813333\n",
       " valence                         0.249524\n",
       " speechiness                     0.038636,\n",
       "                   37i9dQZF1DWU3bkMPOyjie\n",
       " danceability                    0.507767\n",
       " acousticness                    0.032725\n",
       " energy                          0.883452\n",
       " tempo                         137.531342\n",
       " instrumentalness                0.036276\n",
       " loudness                       -4.348123\n",
       " liveness                        0.217848\n",
       " duration_ms                212175.178082\n",
       " key                             5.191781\n",
       " valence                         0.602192\n",
       " speechiness                     0.068455,\n",
       "                   37i9dQZF1DXbm6HfkbMtFZ\n",
       " danceability                    0.727840\n",
       " acousticness                    0.251532\n",
       " energy                          0.610740\n",
       " tempo                         108.492510\n",
       " instrumentalness                0.078397\n",
       " loudness                       -7.529030\n",
       " liveness                        0.187282\n",
       " duration_ms                222785.550000\n",
       " key                             5.270000\n",
       " valence                         0.660040\n",
       " speechiness                     0.061153,\n",
       "                   37i9dQZF1DX4UtSsGT1Sbe\n",
       " danceability                    0.692520\n",
       " acousticness                    0.174843\n",
       " energy                          0.723460\n",
       " tempo                         120.156330\n",
       " instrumentalness                0.026667\n",
       " loudness                       -8.647150\n",
       " liveness                        0.185297\n",
       " duration_ms                247861.220000\n",
       " key                             4.620000\n",
       " valence                         0.740530\n",
       " speechiness                     0.055615,\n",
       "                   37i9dQZF1DX186v583rmzp\n",
       " danceability                    0.767620\n",
       " acousticness                    0.113683\n",
       " energy                          0.684230\n",
       " tempo                         104.043510\n",
       " instrumentalness                0.004795\n",
       " loudness                       -7.242940\n",
       " liveness                        0.228368\n",
       " duration_ms                259391.130000\n",
       " key                             6.220000\n",
       " valence                         0.660430\n",
       " speechiness                     0.250630,\n",
       "                   37i9dQZF1DXdPec7aLTmlC\n",
       " danceability                    0.682550\n",
       " acousticness                    0.134390\n",
       " energy                          0.705310\n",
       " tempo                         119.150000\n",
       " instrumentalness                0.005998\n",
       " loudness                       -5.431520\n",
       " liveness                        0.180783\n",
       " duration_ms                182980.350000\n",
       " key                             5.330000\n",
       " valence                         0.573460\n",
       " speechiness                     0.076297,\n",
       "                   37i9dQZF1DWY4xHQp97fN6\n",
       " danceability                    0.806070\n",
       " acousticness                    0.115721\n",
       " energy                          0.621680\n",
       " tempo                         128.961100\n",
       " instrumentalness                0.006484\n",
       " loudness                       -6.459370\n",
       " liveness                        0.163975\n",
       " duration_ms                182556.170000\n",
       " key                             4.640000\n",
       " valence                         0.497988\n",
       " speechiness                     0.246112,\n",
       "                   37i9dQZF1DX4WYpdgoIcn6\n",
       " danceability                    0.650250\n",
       " acousticness                    0.356874\n",
       " energy                          0.525280\n",
       " tempo                         116.588920\n",
       " instrumentalness                0.005211\n",
       " loudness                       -7.176000\n",
       " liveness                        0.172499\n",
       " duration_ms                186238.160000\n",
       " key                             4.990000\n",
       " valence                         0.444416\n",
       " speechiness                     0.090021,\n",
       "                   37i9dQZF1DX5NsFgylu4qQ\n",
       " danceability                    0.662210\n",
       " acousticness                    0.307635\n",
       " energy                          0.554148\n",
       " tempo                         111.621988\n",
       " instrumentalness                0.032039\n",
       " loudness                       -8.310815\n",
       " liveness                        0.167702\n",
       " duration_ms                213390.765432\n",
       " key                             5.827160\n",
       " valence                         0.369707\n",
       " speechiness                     0.085994,\n",
       "                   37i9dQZF1DX82pCGH5USnM\n",
       " danceability                    0.718130\n",
       " acousticness                    0.259253\n",
       " energy                          0.558350\n",
       " tempo                         114.381740\n",
       " instrumentalness                0.841477\n",
       " loudness                      -12.104650\n",
       " liveness                        0.128697\n",
       " duration_ms                218269.740000\n",
       " key                             5.410000\n",
       " valence                         0.300440\n",
       " speechiness                     0.060927,\n",
       "                   37i9dQZF1DWYs83FtTMQFw\n",
       " danceability                    0.759273\n",
       " acousticness                    0.199679\n",
       " energy                          0.581523\n",
       " tempo                         118.657102\n",
       " instrumentalness                0.006970\n",
       " loudness                       -6.947659\n",
       " liveness                        0.168328\n",
       " duration_ms                177628.102273\n",
       " key                             5.045455\n",
       " valence                         0.533468\n",
       " speechiness                     0.182100]"
      ]
     },
     "metadata": {},
     "execution_count": 16
    }
   ],
   "source": [
    "primary_df"
   ]
  },
  {
   "cell_type": "code",
   "execution_count": 17,
   "metadata": {},
   "outputs": [
    {
     "output_type": "execute_result",
     "data": {
      "text/plain": [
       "                  37i9dQZF1DXcBWIGoYBM5M  37i9dQZF1DX4bSrsRWE9cd  \\\n",
       "danceability                    0.686820                0.493147   \n",
       "acousticness                    0.255789                0.816849   \n",
       "energy                          0.616880                0.235191   \n",
       "tempo                         119.491220              118.281827   \n",
       "instrumentalness                0.005073                0.162121   \n",
       "loudness                       -6.547720              -14.750040   \n",
       "liveness                        0.184132                0.132576   \n",
       "duration_ms                184768.500000           231474.000000   \n",
       "key                             5.180000                3.813333   \n",
       "valence                         0.464922                0.249524   \n",
       "speechiness                     0.081396                0.038636   \n",
       "\n",
       "                  37i9dQZF1DWU3bkMPOyjie  37i9dQZF1DXbm6HfkbMtFZ  \\\n",
       "danceability                    0.507767                0.727840   \n",
       "acousticness                    0.032725                0.251532   \n",
       "energy                          0.883452                0.610740   \n",
       "tempo                         137.531342              108.492510   \n",
       "instrumentalness                0.036276                0.078397   \n",
       "loudness                       -4.348123               -7.529030   \n",
       "liveness                        0.217848                0.187282   \n",
       "duration_ms                212175.178082           222785.550000   \n",
       "key                             5.191781                5.270000   \n",
       "valence                         0.602192                0.660040   \n",
       "speechiness                     0.068455                0.061153   \n",
       "\n",
       "                  37i9dQZF1DX4UtSsGT1Sbe  37i9dQZF1DX186v583rmzp  \\\n",
       "danceability                    0.692520                0.767620   \n",
       "acousticness                    0.174843                0.113683   \n",
       "energy                          0.723460                0.684230   \n",
       "tempo                         120.156330              104.043510   \n",
       "instrumentalness                0.026667                0.004795   \n",
       "loudness                       -8.647150               -7.242940   \n",
       "liveness                        0.185297                0.228368   \n",
       "duration_ms                247861.220000           259391.130000   \n",
       "key                             4.620000                6.220000   \n",
       "valence                         0.740530                0.660430   \n",
       "speechiness                     0.055615                0.250630   \n",
       "\n",
       "                  37i9dQZF1DXdPec7aLTmlC  37i9dQZF1DWY4xHQp97fN6  \\\n",
       "danceability                    0.682550                0.806070   \n",
       "acousticness                    0.134390                0.115721   \n",
       "energy                          0.705310                0.621680   \n",
       "tempo                         119.150000              128.961100   \n",
       "instrumentalness                0.005998                0.006484   \n",
       "loudness                       -5.431520               -6.459370   \n",
       "liveness                        0.180783                0.163975   \n",
       "duration_ms                182980.350000           182556.170000   \n",
       "key                             5.330000                4.640000   \n",
       "valence                         0.573460                0.497988   \n",
       "speechiness                     0.076297                0.246112   \n",
       "\n",
       "                  37i9dQZF1DX4WYpdgoIcn6  37i9dQZF1DX5NsFgylu4qQ  \\\n",
       "danceability                    0.650250                0.662210   \n",
       "acousticness                    0.356874                0.307635   \n",
       "energy                          0.525280                0.554148   \n",
       "tempo                         116.588920              111.621988   \n",
       "instrumentalness                0.005211                0.032039   \n",
       "loudness                       -7.176000               -8.310815   \n",
       "liveness                        0.172499                0.167702   \n",
       "duration_ms                186238.160000           213390.765432   \n",
       "key                             4.990000                5.827160   \n",
       "valence                         0.444416                0.369707   \n",
       "speechiness                     0.090021                0.085994   \n",
       "\n",
       "                  37i9dQZF1DX82pCGH5USnM  37i9dQZF1DWYs83FtTMQFw  \n",
       "danceability                    0.718130                0.759273  \n",
       "acousticness                    0.259253                0.199679  \n",
       "energy                          0.558350                0.581523  \n",
       "tempo                         114.381740              118.657102  \n",
       "instrumentalness                0.841477                0.006970  \n",
       "loudness                      -12.104650               -6.947659  \n",
       "liveness                        0.128697                0.168328  \n",
       "duration_ms                218269.740000           177628.102273  \n",
       "key                             5.410000                5.045455  \n",
       "valence                         0.300440                0.533468  \n",
       "speechiness                     0.060927                0.182100  "
      ],
      "text/html": "<div>\n<style scoped>\n    .dataframe tbody tr th:only-of-type {\n        vertical-align: middle;\n    }\n\n    .dataframe tbody tr th {\n        vertical-align: top;\n    }\n\n    .dataframe thead th {\n        text-align: right;\n    }\n</style>\n<table border=\"1\" class=\"dataframe\">\n  <thead>\n    <tr style=\"text-align: right;\">\n      <th></th>\n      <th>37i9dQZF1DXcBWIGoYBM5M</th>\n      <th>37i9dQZF1DX4bSrsRWE9cd</th>\n      <th>37i9dQZF1DWU3bkMPOyjie</th>\n      <th>37i9dQZF1DXbm6HfkbMtFZ</th>\n      <th>37i9dQZF1DX4UtSsGT1Sbe</th>\n      <th>37i9dQZF1DX186v583rmzp</th>\n      <th>37i9dQZF1DXdPec7aLTmlC</th>\n      <th>37i9dQZF1DWY4xHQp97fN6</th>\n      <th>37i9dQZF1DX4WYpdgoIcn6</th>\n      <th>37i9dQZF1DX5NsFgylu4qQ</th>\n      <th>37i9dQZF1DX82pCGH5USnM</th>\n      <th>37i9dQZF1DWYs83FtTMQFw</th>\n    </tr>\n  </thead>\n  <tbody>\n    <tr>\n      <th>danceability</th>\n      <td>0.686820</td>\n      <td>0.493147</td>\n      <td>0.507767</td>\n      <td>0.727840</td>\n      <td>0.692520</td>\n      <td>0.767620</td>\n      <td>0.682550</td>\n      <td>0.806070</td>\n      <td>0.650250</td>\n      <td>0.662210</td>\n      <td>0.718130</td>\n      <td>0.759273</td>\n    </tr>\n    <tr>\n      <th>acousticness</th>\n      <td>0.255789</td>\n      <td>0.816849</td>\n      <td>0.032725</td>\n      <td>0.251532</td>\n      <td>0.174843</td>\n      <td>0.113683</td>\n      <td>0.134390</td>\n      <td>0.115721</td>\n      <td>0.356874</td>\n      <td>0.307635</td>\n      <td>0.259253</td>\n      <td>0.199679</td>\n    </tr>\n    <tr>\n      <th>energy</th>\n      <td>0.616880</td>\n      <td>0.235191</td>\n      <td>0.883452</td>\n      <td>0.610740</td>\n      <td>0.723460</td>\n      <td>0.684230</td>\n      <td>0.705310</td>\n      <td>0.621680</td>\n      <td>0.525280</td>\n      <td>0.554148</td>\n      <td>0.558350</td>\n      <td>0.581523</td>\n    </tr>\n    <tr>\n      <th>tempo</th>\n      <td>119.491220</td>\n      <td>118.281827</td>\n      <td>137.531342</td>\n      <td>108.492510</td>\n      <td>120.156330</td>\n      <td>104.043510</td>\n      <td>119.150000</td>\n      <td>128.961100</td>\n      <td>116.588920</td>\n      <td>111.621988</td>\n      <td>114.381740</td>\n      <td>118.657102</td>\n    </tr>\n    <tr>\n      <th>instrumentalness</th>\n      <td>0.005073</td>\n      <td>0.162121</td>\n      <td>0.036276</td>\n      <td>0.078397</td>\n      <td>0.026667</td>\n      <td>0.004795</td>\n      <td>0.005998</td>\n      <td>0.006484</td>\n      <td>0.005211</td>\n      <td>0.032039</td>\n      <td>0.841477</td>\n      <td>0.006970</td>\n    </tr>\n    <tr>\n      <th>loudness</th>\n      <td>-6.547720</td>\n      <td>-14.750040</td>\n      <td>-4.348123</td>\n      <td>-7.529030</td>\n      <td>-8.647150</td>\n      <td>-7.242940</td>\n      <td>-5.431520</td>\n      <td>-6.459370</td>\n      <td>-7.176000</td>\n      <td>-8.310815</td>\n      <td>-12.104650</td>\n      <td>-6.947659</td>\n    </tr>\n    <tr>\n      <th>liveness</th>\n      <td>0.184132</td>\n      <td>0.132576</td>\n      <td>0.217848</td>\n      <td>0.187282</td>\n      <td>0.185297</td>\n      <td>0.228368</td>\n      <td>0.180783</td>\n      <td>0.163975</td>\n      <td>0.172499</td>\n      <td>0.167702</td>\n      <td>0.128697</td>\n      <td>0.168328</td>\n    </tr>\n    <tr>\n      <th>duration_ms</th>\n      <td>184768.500000</td>\n      <td>231474.000000</td>\n      <td>212175.178082</td>\n      <td>222785.550000</td>\n      <td>247861.220000</td>\n      <td>259391.130000</td>\n      <td>182980.350000</td>\n      <td>182556.170000</td>\n      <td>186238.160000</td>\n      <td>213390.765432</td>\n      <td>218269.740000</td>\n      <td>177628.102273</td>\n    </tr>\n    <tr>\n      <th>key</th>\n      <td>5.180000</td>\n      <td>3.813333</td>\n      <td>5.191781</td>\n      <td>5.270000</td>\n      <td>4.620000</td>\n      <td>6.220000</td>\n      <td>5.330000</td>\n      <td>4.640000</td>\n      <td>4.990000</td>\n      <td>5.827160</td>\n      <td>5.410000</td>\n      <td>5.045455</td>\n    </tr>\n    <tr>\n      <th>valence</th>\n      <td>0.464922</td>\n      <td>0.249524</td>\n      <td>0.602192</td>\n      <td>0.660040</td>\n      <td>0.740530</td>\n      <td>0.660430</td>\n      <td>0.573460</td>\n      <td>0.497988</td>\n      <td>0.444416</td>\n      <td>0.369707</td>\n      <td>0.300440</td>\n      <td>0.533468</td>\n    </tr>\n    <tr>\n      <th>speechiness</th>\n      <td>0.081396</td>\n      <td>0.038636</td>\n      <td>0.068455</td>\n      <td>0.061153</td>\n      <td>0.055615</td>\n      <td>0.250630</td>\n      <td>0.076297</td>\n      <td>0.246112</td>\n      <td>0.090021</td>\n      <td>0.085994</td>\n      <td>0.060927</td>\n      <td>0.182100</td>\n    </tr>\n  </tbody>\n</table>\n</div>"
     },
     "metadata": {},
     "execution_count": 17
    }
   ],
   "source": [
    "# Turns playlist feature mean data into correctly formatted DataFrame\n",
    "X_data = reduce(lambda left,right: pd.merge(left,right, left_index=True, right_index=True), primary_df)\n",
    "X_data"
   ]
  },
  {
   "cell_type": "code",
   "execution_count": 18,
   "metadata": {},
   "outputs": [
    {
     "output_type": "execute_result",
     "data": {
      "text/plain": [
       "                     top_tracks\n",
       "acousticness           0.128677\n",
       "danceability           0.646100\n",
       "duration_ms       212794.200000\n",
       "energy                 0.700260\n",
       "instrumentalness       0.000695\n",
       "key                    5.660000\n",
       "liveness               0.197508\n",
       "loudness              -5.582480\n",
       "speechiness            0.095180\n",
       "tempo                120.883060\n",
       "valence                0.539028"
      ],
      "text/html": "<div>\n<style scoped>\n    .dataframe tbody tr th:only-of-type {\n        vertical-align: middle;\n    }\n\n    .dataframe tbody tr th {\n        vertical-align: top;\n    }\n\n    .dataframe thead th {\n        text-align: right;\n    }\n</style>\n<table border=\"1\" class=\"dataframe\">\n  <thead>\n    <tr style=\"text-align: right;\">\n      <th></th>\n      <th>top_tracks</th>\n    </tr>\n  </thead>\n  <tbody>\n    <tr>\n      <th>acousticness</th>\n      <td>0.128677</td>\n    </tr>\n    <tr>\n      <th>danceability</th>\n      <td>0.646100</td>\n    </tr>\n    <tr>\n      <th>duration_ms</th>\n      <td>212794.200000</td>\n    </tr>\n    <tr>\n      <th>energy</th>\n      <td>0.700260</td>\n    </tr>\n    <tr>\n      <th>instrumentalness</th>\n      <td>0.000695</td>\n    </tr>\n    <tr>\n      <th>key</th>\n      <td>5.660000</td>\n    </tr>\n    <tr>\n      <th>liveness</th>\n      <td>0.197508</td>\n    </tr>\n    <tr>\n      <th>loudness</th>\n      <td>-5.582480</td>\n    </tr>\n    <tr>\n      <th>speechiness</th>\n      <td>0.095180</td>\n    </tr>\n    <tr>\n      <th>tempo</th>\n      <td>120.883060</td>\n    </tr>\n    <tr>\n      <th>valence</th>\n      <td>0.539028</td>\n    </tr>\n  </tbody>\n</table>\n</div>"
     },
     "metadata": {},
     "execution_count": 18
    }
   ],
   "source": [
    "# Turns my favorite track data (Y_data) into a DataFrame with audio features averaged\n",
    "# maybe change mean to median\n",
    "Y_data = pd.DataFrame(top_tracks_df.mean(), columns=['top_tracks']).drop('mode')\n",
    "Y_data"
   ]
  },
  {
   "cell_type": "code",
   "execution_count": 19,
   "metadata": {},
   "outputs": [
    {
     "output_type": "execute_result",
     "data": {
      "text/plain": [
       "                        importance\n",
       "37i9dQZF1DWU3bkMPOyjie    0.168674\n",
       "37i9dQZF1DX82pCGH5USnM    0.116964\n",
       "37i9dQZF1DX4UtSsGT1Sbe    0.111874\n",
       "37i9dQZF1DXdPec7aLTmlC    0.111521\n",
       "37i9dQZF1DX5NsFgylu4qQ    0.075277\n",
       "37i9dQZF1DWYs83FtTMQFw    0.069473\n",
       "37i9dQZF1DX4bSrsRWE9cd    0.069058\n",
       "37i9dQZF1DXbm6HfkbMtFZ    0.063317\n",
       "37i9dQZF1DXcBWIGoYBM5M    0.060841\n",
       "37i9dQZF1DWY4xHQp97fN6    0.055801\n",
       "37i9dQZF1DX4WYpdgoIcn6    0.050691\n",
       "37i9dQZF1DX186v583rmzp    0.046508"
      ],
      "text/html": "<div>\n<style scoped>\n    .dataframe tbody tr th:only-of-type {\n        vertical-align: middle;\n    }\n\n    .dataframe tbody tr th {\n        vertical-align: top;\n    }\n\n    .dataframe thead th {\n        text-align: right;\n    }\n</style>\n<table border=\"1\" class=\"dataframe\">\n  <thead>\n    <tr style=\"text-align: right;\">\n      <th></th>\n      <th>importance</th>\n    </tr>\n  </thead>\n  <tbody>\n    <tr>\n      <th>37i9dQZF1DWU3bkMPOyjie</th>\n      <td>0.168674</td>\n    </tr>\n    <tr>\n      <th>37i9dQZF1DX82pCGH5USnM</th>\n      <td>0.116964</td>\n    </tr>\n    <tr>\n      <th>37i9dQZF1DX4UtSsGT1Sbe</th>\n      <td>0.111874</td>\n    </tr>\n    <tr>\n      <th>37i9dQZF1DXdPec7aLTmlC</th>\n      <td>0.111521</td>\n    </tr>\n    <tr>\n      <th>37i9dQZF1DX5NsFgylu4qQ</th>\n      <td>0.075277</td>\n    </tr>\n    <tr>\n      <th>37i9dQZF1DWYs83FtTMQFw</th>\n      <td>0.069473</td>\n    </tr>\n    <tr>\n      <th>37i9dQZF1DX4bSrsRWE9cd</th>\n      <td>0.069058</td>\n    </tr>\n    <tr>\n      <th>37i9dQZF1DXbm6HfkbMtFZ</th>\n      <td>0.063317</td>\n    </tr>\n    <tr>\n      <th>37i9dQZF1DXcBWIGoYBM5M</th>\n      <td>0.060841</td>\n    </tr>\n    <tr>\n      <th>37i9dQZF1DWY4xHQp97fN6</th>\n      <td>0.055801</td>\n    </tr>\n    <tr>\n      <th>37i9dQZF1DX4WYpdgoIcn6</th>\n      <td>0.050691</td>\n    </tr>\n    <tr>\n      <th>37i9dQZF1DX186v583rmzp</th>\n      <td>0.046508</td>\n    </tr>\n  </tbody>\n</table>\n</div>"
     },
     "metadata": {},
     "execution_count": 19
    }
   ],
   "source": [
    "# Model for predicting playlist of \"best-fit\" using feature_importances_\n",
    "from sklearn.ensemble import RandomForestRegressor\n",
    "\n",
    "model = RandomForestRegressor(random_state=44, max_depth=5, max_features=8, oob_score=True)\n",
    "model.fit(X_data, Y_data['top_tracks'])\n",
    "pl_rank = model.feature_importances_\n",
    "pl_importances = pd.DataFrame(pl_rank, index = X_data.columns, columns=['importance']).sort_values('importance',                                        ascending=False)\n",
    "\n",
    "pl_importances"
   ]
  },
  {
   "cell_type": "code",
   "execution_count": 20,
   "metadata": {},
   "outputs": [],
   "source": [
    "pl_t3 = pl_importances.index[0:3]\n",
    "frames = []\n",
    "for i in range(len(pl_t3)):\n",
    "    frame = get_audio_features(sp, pl_t3[i])\n",
    "    frames.append(frame)\n",
    "    \n",
    "recommended_pl = pd.concat(frames)"
   ]
  },
  {
   "cell_type": "code",
   "execution_count": 21,
   "metadata": {},
   "outputs": [
    {
     "output_type": "execute_result",
     "data": {
      "text/plain": [
       "                                        track_id  danceability  acousticness  \\\n",
       "track_name                                                                     \n",
       "Dani California           10Nmj3JCNoMeBQ87uw5j8k         0.556      0.019300   \n",
       "Holiday                   5vfjUAhefN7IjHbTvVCT4Z         0.538      0.000138   \n",
       "When You Were Young       70wYA8oYHoMzhRRkARoMhU         0.467      0.000152   \n",
       "Black Betty - Edit        7uSsHbBFFAnkRQR1rDwP3L         0.562      0.000021   \n",
       "Are You Gonna Be My Girl  305WCRhhS10XUcH6AEwZk6         0.613      0.001480   \n",
       "\n",
       "                          energy    tempo  instrumentalness  loudness  \\\n",
       "track_name                                                              \n",
       "Dani California            0.913   96.184          0.000009    -2.360   \n",
       "Holiday                    0.884  146.511          0.000000    -3.251   \n",
       "When You Were Young        0.988  130.433          0.048400    -3.313   \n",
       "Black Betty - Edit         0.865  124.047          0.591000    -6.476   \n",
       "Are You Gonna Be My Girl   0.953  105.046          0.000582    -3.435   \n",
       "\n",
       "                          liveness  duration_ms  key  valence  speechiness  \n",
       "track_name                                                                  \n",
       "Dani California              0.346       282160    0    0.730       0.0437  \n",
       "Holiday                      0.466       233027    8    0.736       0.0310  \n",
       "When You Were Young          0.280       220427   11    0.321       0.1120  \n",
       "Black Betty - Edit           0.219       205973    7    0.350       0.0922  \n",
       "Are You Gonna Be My Girl     0.152       213800    2    0.537       0.0855  "
      ],
      "text/html": "<div>\n<style scoped>\n    .dataframe tbody tr th:only-of-type {\n        vertical-align: middle;\n    }\n\n    .dataframe tbody tr th {\n        vertical-align: top;\n    }\n\n    .dataframe thead th {\n        text-align: right;\n    }\n</style>\n<table border=\"1\" class=\"dataframe\">\n  <thead>\n    <tr style=\"text-align: right;\">\n      <th></th>\n      <th>track_id</th>\n      <th>danceability</th>\n      <th>acousticness</th>\n      <th>energy</th>\n      <th>tempo</th>\n      <th>instrumentalness</th>\n      <th>loudness</th>\n      <th>liveness</th>\n      <th>duration_ms</th>\n      <th>key</th>\n      <th>valence</th>\n      <th>speechiness</th>\n    </tr>\n    <tr>\n      <th>track_name</th>\n      <th></th>\n      <th></th>\n      <th></th>\n      <th></th>\n      <th></th>\n      <th></th>\n      <th></th>\n      <th></th>\n      <th></th>\n      <th></th>\n      <th></th>\n      <th></th>\n    </tr>\n  </thead>\n  <tbody>\n    <tr>\n      <th>Dani California</th>\n      <td>10Nmj3JCNoMeBQ87uw5j8k</td>\n      <td>0.556</td>\n      <td>0.019300</td>\n      <td>0.913</td>\n      <td>96.184</td>\n      <td>0.000009</td>\n      <td>-2.360</td>\n      <td>0.346</td>\n      <td>282160</td>\n      <td>0</td>\n      <td>0.730</td>\n      <td>0.0437</td>\n    </tr>\n    <tr>\n      <th>Holiday</th>\n      <td>5vfjUAhefN7IjHbTvVCT4Z</td>\n      <td>0.538</td>\n      <td>0.000138</td>\n      <td>0.884</td>\n      <td>146.511</td>\n      <td>0.000000</td>\n      <td>-3.251</td>\n      <td>0.466</td>\n      <td>233027</td>\n      <td>8</td>\n      <td>0.736</td>\n      <td>0.0310</td>\n    </tr>\n    <tr>\n      <th>When You Were Young</th>\n      <td>70wYA8oYHoMzhRRkARoMhU</td>\n      <td>0.467</td>\n      <td>0.000152</td>\n      <td>0.988</td>\n      <td>130.433</td>\n      <td>0.048400</td>\n      <td>-3.313</td>\n      <td>0.280</td>\n      <td>220427</td>\n      <td>11</td>\n      <td>0.321</td>\n      <td>0.1120</td>\n    </tr>\n    <tr>\n      <th>Black Betty - Edit</th>\n      <td>7uSsHbBFFAnkRQR1rDwP3L</td>\n      <td>0.562</td>\n      <td>0.000021</td>\n      <td>0.865</td>\n      <td>124.047</td>\n      <td>0.591000</td>\n      <td>-6.476</td>\n      <td>0.219</td>\n      <td>205973</td>\n      <td>7</td>\n      <td>0.350</td>\n      <td>0.0922</td>\n    </tr>\n    <tr>\n      <th>Are You Gonna Be My Girl</th>\n      <td>305WCRhhS10XUcH6AEwZk6</td>\n      <td>0.613</td>\n      <td>0.001480</td>\n      <td>0.953</td>\n      <td>105.046</td>\n      <td>0.000582</td>\n      <td>-3.435</td>\n      <td>0.152</td>\n      <td>213800</td>\n      <td>2</td>\n      <td>0.537</td>\n      <td>0.0855</td>\n    </tr>\n  </tbody>\n</table>\n</div>"
     },
     "metadata": {},
     "execution_count": 21
    }
   ],
   "source": [
    "recommended_pl.head()"
   ]
  },
  {
   "cell_type": "code",
   "execution_count": 22,
   "metadata": {},
   "outputs": [
    {
     "output_type": "execute_result",
     "data": {
      "text/plain": [
       "                        acousticness  danceability  duration_ms  energy  \\\n",
       "track_id                                                                  \n",
       "10Nmj3JCNoMeBQ87uw5j8k      0.019300         0.556       282160   0.913   \n",
       "5vfjUAhefN7IjHbTvVCT4Z      0.000138         0.538       233027   0.884   \n",
       "70wYA8oYHoMzhRRkARoMhU      0.000152         0.467       220427   0.988   \n",
       "7uSsHbBFFAnkRQR1rDwP3L      0.000021         0.562       205973   0.865   \n",
       "305WCRhhS10XUcH6AEwZk6      0.001480         0.613       213800   0.953   \n",
       "\n",
       "                        instrumentalness  key  liveness  loudness  \\\n",
       "track_id                                                            \n",
       "10Nmj3JCNoMeBQ87uw5j8k          0.000009    0     0.346    -2.360   \n",
       "5vfjUAhefN7IjHbTvVCT4Z          0.000000    8     0.466    -3.251   \n",
       "70wYA8oYHoMzhRRkARoMhU          0.048400   11     0.280    -3.313   \n",
       "7uSsHbBFFAnkRQR1rDwP3L          0.591000    7     0.219    -6.476   \n",
       "305WCRhhS10XUcH6AEwZk6          0.000582    2     0.152    -3.435   \n",
       "\n",
       "                        speechiness    tempo  valence  \n",
       "track_id                                               \n",
       "10Nmj3JCNoMeBQ87uw5j8k       0.0437   96.184    0.730  \n",
       "5vfjUAhefN7IjHbTvVCT4Z       0.0310  146.511    0.736  \n",
       "70wYA8oYHoMzhRRkARoMhU       0.1120  130.433    0.321  \n",
       "7uSsHbBFFAnkRQR1rDwP3L       0.0922  124.047    0.350  \n",
       "305WCRhhS10XUcH6AEwZk6       0.0855  105.046    0.537  "
      ],
      "text/html": "<div>\n<style scoped>\n    .dataframe tbody tr th:only-of-type {\n        vertical-align: middle;\n    }\n\n    .dataframe tbody tr th {\n        vertical-align: top;\n    }\n\n    .dataframe thead th {\n        text-align: right;\n    }\n</style>\n<table border=\"1\" class=\"dataframe\">\n  <thead>\n    <tr style=\"text-align: right;\">\n      <th></th>\n      <th>acousticness</th>\n      <th>danceability</th>\n      <th>duration_ms</th>\n      <th>energy</th>\n      <th>instrumentalness</th>\n      <th>key</th>\n      <th>liveness</th>\n      <th>loudness</th>\n      <th>speechiness</th>\n      <th>tempo</th>\n      <th>valence</th>\n    </tr>\n    <tr>\n      <th>track_id</th>\n      <th></th>\n      <th></th>\n      <th></th>\n      <th></th>\n      <th></th>\n      <th></th>\n      <th></th>\n      <th></th>\n      <th></th>\n      <th></th>\n      <th></th>\n    </tr>\n  </thead>\n  <tbody>\n    <tr>\n      <th>10Nmj3JCNoMeBQ87uw5j8k</th>\n      <td>0.019300</td>\n      <td>0.556</td>\n      <td>282160</td>\n      <td>0.913</td>\n      <td>0.000009</td>\n      <td>0</td>\n      <td>0.346</td>\n      <td>-2.360</td>\n      <td>0.0437</td>\n      <td>96.184</td>\n      <td>0.730</td>\n    </tr>\n    <tr>\n      <th>5vfjUAhefN7IjHbTvVCT4Z</th>\n      <td>0.000138</td>\n      <td>0.538</td>\n      <td>233027</td>\n      <td>0.884</td>\n      <td>0.000000</td>\n      <td>8</td>\n      <td>0.466</td>\n      <td>-3.251</td>\n      <td>0.0310</td>\n      <td>146.511</td>\n      <td>0.736</td>\n    </tr>\n    <tr>\n      <th>70wYA8oYHoMzhRRkARoMhU</th>\n      <td>0.000152</td>\n      <td>0.467</td>\n      <td>220427</td>\n      <td>0.988</td>\n      <td>0.048400</td>\n      <td>11</td>\n      <td>0.280</td>\n      <td>-3.313</td>\n      <td>0.1120</td>\n      <td>130.433</td>\n      <td>0.321</td>\n    </tr>\n    <tr>\n      <th>7uSsHbBFFAnkRQR1rDwP3L</th>\n      <td>0.000021</td>\n      <td>0.562</td>\n      <td>205973</td>\n      <td>0.865</td>\n      <td>0.591000</td>\n      <td>7</td>\n      <td>0.219</td>\n      <td>-6.476</td>\n      <td>0.0922</td>\n      <td>124.047</td>\n      <td>0.350</td>\n    </tr>\n    <tr>\n      <th>305WCRhhS10XUcH6AEwZk6</th>\n      <td>0.001480</td>\n      <td>0.613</td>\n      <td>213800</td>\n      <td>0.953</td>\n      <td>0.000582</td>\n      <td>2</td>\n      <td>0.152</td>\n      <td>-3.435</td>\n      <td>0.0855</td>\n      <td>105.046</td>\n      <td>0.537</td>\n    </tr>\n  </tbody>\n</table>\n</div>"
     },
     "metadata": {},
     "execution_count": 22
    }
   ],
   "source": [
    "pl_rec = recommended_pl.set_index('track_id')\n",
    "pl_rec.sort_index( axis=1, level=None, ascending=True, inplace=True, kind='quicksort')\n",
    "\n",
    "pl_rec.head()"
   ]
  },
  {
   "cell_type": "code",
   "execution_count": 23,
   "metadata": {},
   "outputs": [
    {
     "output_type": "execute_result",
     "data": {
      "text/plain": [
       "(11,)"
      ]
     },
     "metadata": {},
     "execution_count": 23
    }
   ],
   "source": [
    "Y_data_sorted = Y_data.sort_index( axis=0, level=None, ascending=True, inplace=False, kind='quicksort').squeeze(1)\n",
    "\n",
    "Y_data_sorted.shape"
   ]
  },
  {
   "cell_type": "code",
   "execution_count": 24,
   "metadata": {},
   "outputs": [
    {
     "output_type": "execute_result",
     "data": {
      "text/plain": [
       "acousticness             0.128677\n",
       "danceability             0.646100\n",
       "duration_ms         212794.200000\n",
       "energy                   0.700260\n",
       "instrumentalness         0.000695\n",
       "key                      5.660000\n",
       "liveness                 0.197508\n",
       "loudness                -5.582480\n",
       "speechiness              0.095180\n",
       "tempo                  120.883060\n",
       "valence                  0.539028\n",
       "Name: top_tracks, dtype: float64"
      ]
     },
     "metadata": {},
     "execution_count": 24
    }
   ],
   "source": [
    "Y_data_sorted"
   ]
  },
  {
   "cell_type": "code",
   "execution_count": 25,
   "metadata": {},
   "outputs": [
    {
     "output_type": "execute_result",
     "data": {
      "text/plain": [
       "                        acousticness  danceability  duration_ms    energy  \\\n",
       "track_id                                                                    \n",
       "10Nmj3JCNoMeBQ87uw5j8k     -0.850012     -0.139452     0.325976  0.303801   \n",
       "5vfjUAhefN7IjHbTvVCT4Z     -0.998928     -0.167312     0.095082  0.262388   \n",
       "70wYA8oYHoMzhRRkARoMhU     -0.998819     -0.277202     0.035869  0.410905   \n",
       "7uSsHbBFFAnkRQR1rDwP3L     -0.999840     -0.130166    -0.032055  0.235255   \n",
       "305WCRhhS10XUcH6AEwZk6     -0.988498     -0.051230     0.004727  0.360923   \n",
       "\n",
       "                        instrumentalness       key  liveness  loudness  \\\n",
       "track_id                                                                 \n",
       "10Nmj3JCNoMeBQ87uw5j8k         -0.987637 -1.000000  0.751828 -0.577249   \n",
       "5vfjUAhefN7IjHbTvVCT4Z         -1.000000  0.413428  1.359398 -0.417642   \n",
       "70wYA8oYHoMzhRRkARoMhU         68.657046  0.943463  0.417664 -0.406536   \n",
       "7uSsHbBFFAnkRQR1rDwP3L        849.564337  0.236749  0.108816  0.160058   \n",
       "305WCRhhS10XUcH6AEwZk6         -0.162388 -0.646643 -0.230411 -0.384682   \n",
       "\n",
       "                        speechiness     tempo   valence  \n",
       "track_id                                                 \n",
       "10Nmj3JCNoMeBQ87uw5j8k    -0.540870 -0.204322  0.354290  \n",
       "5vfjUAhefN7IjHbTvVCT4Z    -0.674301  0.212006  0.365421  \n",
       "70wYA8oYHoMzhRRkARoMhU     0.176718  0.079001 -0.404484  \n",
       "7uSsHbBFFAnkRQR1rDwP3L    -0.031309  0.026174 -0.350683  \n",
       "305WCRhhS10XUcH6AEwZk6    -0.101702 -0.131011 -0.003762  "
      ],
      "text/html": "<div>\n<style scoped>\n    .dataframe tbody tr th:only-of-type {\n        vertical-align: middle;\n    }\n\n    .dataframe tbody tr th {\n        vertical-align: top;\n    }\n\n    .dataframe thead th {\n        text-align: right;\n    }\n</style>\n<table border=\"1\" class=\"dataframe\">\n  <thead>\n    <tr style=\"text-align: right;\">\n      <th></th>\n      <th>acousticness</th>\n      <th>danceability</th>\n      <th>duration_ms</th>\n      <th>energy</th>\n      <th>instrumentalness</th>\n      <th>key</th>\n      <th>liveness</th>\n      <th>loudness</th>\n      <th>speechiness</th>\n      <th>tempo</th>\n      <th>valence</th>\n    </tr>\n    <tr>\n      <th>track_id</th>\n      <th></th>\n      <th></th>\n      <th></th>\n      <th></th>\n      <th></th>\n      <th></th>\n      <th></th>\n      <th></th>\n      <th></th>\n      <th></th>\n      <th></th>\n    </tr>\n  </thead>\n  <tbody>\n    <tr>\n      <th>10Nmj3JCNoMeBQ87uw5j8k</th>\n      <td>-0.850012</td>\n      <td>-0.139452</td>\n      <td>0.325976</td>\n      <td>0.303801</td>\n      <td>-0.987637</td>\n      <td>-1.000000</td>\n      <td>0.751828</td>\n      <td>-0.577249</td>\n      <td>-0.540870</td>\n      <td>-0.204322</td>\n      <td>0.354290</td>\n    </tr>\n    <tr>\n      <th>5vfjUAhefN7IjHbTvVCT4Z</th>\n      <td>-0.998928</td>\n      <td>-0.167312</td>\n      <td>0.095082</td>\n      <td>0.262388</td>\n      <td>-1.000000</td>\n      <td>0.413428</td>\n      <td>1.359398</td>\n      <td>-0.417642</td>\n      <td>-0.674301</td>\n      <td>0.212006</td>\n      <td>0.365421</td>\n    </tr>\n    <tr>\n      <th>70wYA8oYHoMzhRRkARoMhU</th>\n      <td>-0.998819</td>\n      <td>-0.277202</td>\n      <td>0.035869</td>\n      <td>0.410905</td>\n      <td>68.657046</td>\n      <td>0.943463</td>\n      <td>0.417664</td>\n      <td>-0.406536</td>\n      <td>0.176718</td>\n      <td>0.079001</td>\n      <td>-0.404484</td>\n    </tr>\n    <tr>\n      <th>7uSsHbBFFAnkRQR1rDwP3L</th>\n      <td>-0.999840</td>\n      <td>-0.130166</td>\n      <td>-0.032055</td>\n      <td>0.235255</td>\n      <td>849.564337</td>\n      <td>0.236749</td>\n      <td>0.108816</td>\n      <td>0.160058</td>\n      <td>-0.031309</td>\n      <td>0.026174</td>\n      <td>-0.350683</td>\n    </tr>\n    <tr>\n      <th>305WCRhhS10XUcH6AEwZk6</th>\n      <td>-0.988498</td>\n      <td>-0.051230</td>\n      <td>0.004727</td>\n      <td>0.360923</td>\n      <td>-0.162388</td>\n      <td>-0.646643</td>\n      <td>-0.230411</td>\n      <td>-0.384682</td>\n      <td>-0.101702</td>\n      <td>-0.131011</td>\n      <td>-0.003762</td>\n    </tr>\n  </tbody>\n</table>\n</div>"
     },
     "metadata": {},
     "execution_count": 25
    }
   ],
   "source": [
    "df_main_var = pl_rec.subtract(Y_data_sorted, axis=1)\n",
    "df_main_var = df_main_var.divide(Y_data_sorted, axis=1) \n",
    "\n",
    "df_main_var.head()"
   ]
  },
  {
   "cell_type": "code",
   "execution_count": 26,
   "metadata": {},
   "outputs": [],
   "source": [
    "df_main_var['variation'] = df_main_var.sum(axis=1)\n",
    "\n",
    "df_main_var['variation'] = df_main_var['variation'].abs()"
   ]
  },
  {
   "cell_type": "code",
   "execution_count": 27,
   "metadata": {},
   "outputs": [
    {
     "output_type": "execute_result",
     "data": {
      "text/plain": [
       "                        acousticness  danceability  duration_ms    energy  \\\n",
       "track_id                                                                    \n",
       "10Nmj3JCNoMeBQ87uw5j8k     -0.850012     -0.139452     0.325976  0.303801   \n",
       "5vfjUAhefN7IjHbTvVCT4Z     -0.998928     -0.167312     0.095082  0.262388   \n",
       "70wYA8oYHoMzhRRkARoMhU     -0.998819     -0.277202     0.035869  0.410905   \n",
       "7uSsHbBFFAnkRQR1rDwP3L     -0.999840     -0.130166    -0.032055  0.235255   \n",
       "305WCRhhS10XUcH6AEwZk6     -0.988498     -0.051230     0.004727  0.360923   \n",
       "...                              ...           ...          ...       ...   \n",
       "0bVtevEgtDIeRjCJbK3Lmv     -0.817372     -0.308157     0.278357  0.362351   \n",
       "7woZGXjtaYwuvSoU1zToB3      0.383314     -0.045039     0.206175 -0.378802   \n",
       "5yGTQzYbEdY6B9RFZJypgt     -0.402377      0.094258     0.076660  0.083883   \n",
       "19Ym5Sg0YyOCa6ao21bdoG     -0.867886     -0.037301     0.244898 -0.228858   \n",
       "39lSeqnyjZJejRuaREfyLL     -0.663497      0.069494     0.036809  0.159569   \n",
       "\n",
       "                        instrumentalness       key  liveness  loudness  \\\n",
       "track_id                                                                 \n",
       "10Nmj3JCNoMeBQ87uw5j8k         -0.987637 -1.000000  0.751828 -0.577249   \n",
       "5vfjUAhefN7IjHbTvVCT4Z         -1.000000  0.413428  1.359398 -0.417642   \n",
       "70wYA8oYHoMzhRRkARoMhU         68.657046  0.943463  0.417664 -0.406536   \n",
       "7uSsHbBFFAnkRQR1rDwP3L        849.564337  0.236749  0.108816  0.160058   \n",
       "305WCRhhS10XUcH6AEwZk6         -0.162388 -0.646643 -0.230411 -0.384682   \n",
       "...                                  ...       ...       ...       ...   \n",
       "0bVtevEgtDIeRjCJbK3Lmv        578.995648  0.413428  0.508800  0.445415   \n",
       "7woZGXjtaYwuvSoU1zToB3         -1.000000 -0.116608 -0.583814  1.426699   \n",
       "5yGTQzYbEdY6B9RFZJypgt         -0.959127  0.943463 -0.607611  1.208338   \n",
       "19Ym5Sg0YyOCa6ao21bdoG         10.096195 -0.116608  0.341718  1.506055   \n",
       "39lSeqnyjZJejRuaREfyLL         -0.998331 -1.000000  0.513863  0.392213   \n",
       "\n",
       "                        speechiness     tempo   valence   variation  \n",
       "track_id                                                             \n",
       "10Nmj3JCNoMeBQ87uw5j8k    -0.540870 -0.204322  0.354290    2.563647  \n",
       "5vfjUAhefN7IjHbTvVCT4Z    -0.674301  0.212006  0.365421    0.550461  \n",
       "70wYA8oYHoMzhRRkARoMhU     0.176718  0.079001 -0.404484   68.633626  \n",
       "7uSsHbBFFAnkRQR1rDwP3L    -0.031309  0.026174 -0.350683  848.787336  \n",
       "305WCRhhS10XUcH6AEwZk6    -0.101702 -0.131011 -0.003762    2.334679  \n",
       "...                             ...       ...       ...         ...  \n",
       "0bVtevEgtDIeRjCJbK3Lmv    -0.210969  0.021260 -0.385932  579.302830  \n",
       "7woZGXjtaYwuvSoU1zToB3    -0.731036 -0.301953  0.114970    1.026096  \n",
       "5yGTQzYbEdY6B9RFZJypgt    -0.516705 -0.047493  0.771708    0.644996  \n",
       "19Ym5Sg0YyOCa6ao21bdoG    -0.725783  0.082691  0.571347   10.866468  \n",
       "39lSeqnyjZJejRuaREfyLL    -0.413742  0.055301  0.270806    1.577515  \n",
       "\n",
       "[273 rows x 12 columns]"
      ],
      "text/html": "<div>\n<style scoped>\n    .dataframe tbody tr th:only-of-type {\n        vertical-align: middle;\n    }\n\n    .dataframe tbody tr th {\n        vertical-align: top;\n    }\n\n    .dataframe thead th {\n        text-align: right;\n    }\n</style>\n<table border=\"1\" class=\"dataframe\">\n  <thead>\n    <tr style=\"text-align: right;\">\n      <th></th>\n      <th>acousticness</th>\n      <th>danceability</th>\n      <th>duration_ms</th>\n      <th>energy</th>\n      <th>instrumentalness</th>\n      <th>key</th>\n      <th>liveness</th>\n      <th>loudness</th>\n      <th>speechiness</th>\n      <th>tempo</th>\n      <th>valence</th>\n      <th>variation</th>\n    </tr>\n    <tr>\n      <th>track_id</th>\n      <th></th>\n      <th></th>\n      <th></th>\n      <th></th>\n      <th></th>\n      <th></th>\n      <th></th>\n      <th></th>\n      <th></th>\n      <th></th>\n      <th></th>\n      <th></th>\n    </tr>\n  </thead>\n  <tbody>\n    <tr>\n      <th>10Nmj3JCNoMeBQ87uw5j8k</th>\n      <td>-0.850012</td>\n      <td>-0.139452</td>\n      <td>0.325976</td>\n      <td>0.303801</td>\n      <td>-0.987637</td>\n      <td>-1.000000</td>\n      <td>0.751828</td>\n      <td>-0.577249</td>\n      <td>-0.540870</td>\n      <td>-0.204322</td>\n      <td>0.354290</td>\n      <td>2.563647</td>\n    </tr>\n    <tr>\n      <th>5vfjUAhefN7IjHbTvVCT4Z</th>\n      <td>-0.998928</td>\n      <td>-0.167312</td>\n      <td>0.095082</td>\n      <td>0.262388</td>\n      <td>-1.000000</td>\n      <td>0.413428</td>\n      <td>1.359398</td>\n      <td>-0.417642</td>\n      <td>-0.674301</td>\n      <td>0.212006</td>\n      <td>0.365421</td>\n      <td>0.550461</td>\n    </tr>\n    <tr>\n      <th>70wYA8oYHoMzhRRkARoMhU</th>\n      <td>-0.998819</td>\n      <td>-0.277202</td>\n      <td>0.035869</td>\n      <td>0.410905</td>\n      <td>68.657046</td>\n      <td>0.943463</td>\n      <td>0.417664</td>\n      <td>-0.406536</td>\n      <td>0.176718</td>\n      <td>0.079001</td>\n      <td>-0.404484</td>\n      <td>68.633626</td>\n    </tr>\n    <tr>\n      <th>7uSsHbBFFAnkRQR1rDwP3L</th>\n      <td>-0.999840</td>\n      <td>-0.130166</td>\n      <td>-0.032055</td>\n      <td>0.235255</td>\n      <td>849.564337</td>\n      <td>0.236749</td>\n      <td>0.108816</td>\n      <td>0.160058</td>\n      <td>-0.031309</td>\n      <td>0.026174</td>\n      <td>-0.350683</td>\n      <td>848.787336</td>\n    </tr>\n    <tr>\n      <th>305WCRhhS10XUcH6AEwZk6</th>\n      <td>-0.988498</td>\n      <td>-0.051230</td>\n      <td>0.004727</td>\n      <td>0.360923</td>\n      <td>-0.162388</td>\n      <td>-0.646643</td>\n      <td>-0.230411</td>\n      <td>-0.384682</td>\n      <td>-0.101702</td>\n      <td>-0.131011</td>\n      <td>-0.003762</td>\n      <td>2.334679</td>\n    </tr>\n    <tr>\n      <th>...</th>\n      <td>...</td>\n      <td>...</td>\n      <td>...</td>\n      <td>...</td>\n      <td>...</td>\n      <td>...</td>\n      <td>...</td>\n      <td>...</td>\n      <td>...</td>\n      <td>...</td>\n      <td>...</td>\n      <td>...</td>\n    </tr>\n    <tr>\n      <th>0bVtevEgtDIeRjCJbK3Lmv</th>\n      <td>-0.817372</td>\n      <td>-0.308157</td>\n      <td>0.278357</td>\n      <td>0.362351</td>\n      <td>578.995648</td>\n      <td>0.413428</td>\n      <td>0.508800</td>\n      <td>0.445415</td>\n      <td>-0.210969</td>\n      <td>0.021260</td>\n      <td>-0.385932</td>\n      <td>579.302830</td>\n    </tr>\n    <tr>\n      <th>7woZGXjtaYwuvSoU1zToB3</th>\n      <td>0.383314</td>\n      <td>-0.045039</td>\n      <td>0.206175</td>\n      <td>-0.378802</td>\n      <td>-1.000000</td>\n      <td>-0.116608</td>\n      <td>-0.583814</td>\n      <td>1.426699</td>\n      <td>-0.731036</td>\n      <td>-0.301953</td>\n      <td>0.114970</td>\n      <td>1.026096</td>\n    </tr>\n    <tr>\n      <th>5yGTQzYbEdY6B9RFZJypgt</th>\n      <td>-0.402377</td>\n      <td>0.094258</td>\n      <td>0.076660</td>\n      <td>0.083883</td>\n      <td>-0.959127</td>\n      <td>0.943463</td>\n      <td>-0.607611</td>\n      <td>1.208338</td>\n      <td>-0.516705</td>\n      <td>-0.047493</td>\n      <td>0.771708</td>\n      <td>0.644996</td>\n    </tr>\n    <tr>\n      <th>19Ym5Sg0YyOCa6ao21bdoG</th>\n      <td>-0.867886</td>\n      <td>-0.037301</td>\n      <td>0.244898</td>\n      <td>-0.228858</td>\n      <td>10.096195</td>\n      <td>-0.116608</td>\n      <td>0.341718</td>\n      <td>1.506055</td>\n      <td>-0.725783</td>\n      <td>0.082691</td>\n      <td>0.571347</td>\n      <td>10.866468</td>\n    </tr>\n    <tr>\n      <th>39lSeqnyjZJejRuaREfyLL</th>\n      <td>-0.663497</td>\n      <td>0.069494</td>\n      <td>0.036809</td>\n      <td>0.159569</td>\n      <td>-0.998331</td>\n      <td>-1.000000</td>\n      <td>0.513863</td>\n      <td>0.392213</td>\n      <td>-0.413742</td>\n      <td>0.055301</td>\n      <td>0.270806</td>\n      <td>1.577515</td>\n    </tr>\n  </tbody>\n</table>\n<p>273 rows × 12 columns</p>\n</div>"
     },
     "metadata": {},
     "execution_count": 27
    }
   ],
   "source": [
    "df_main_var"
   ]
  },
  {
   "cell_type": "code",
   "execution_count": 28,
   "metadata": {},
   "outputs": [
    {
     "output_type": "execute_result",
     "data": {
      "text/plain": [
       "                        acousticness  danceability  duration_ms    energy  \\\n",
       "track_id                                                                    \n",
       "21qnJAMtzC6S5SESuqQLEK     -0.885760      0.369757     0.505243  0.205267   \n",
       "2D4D3hiOf5U0W6SvJoCQph     -0.320778      0.030800     0.336376  0.299517   \n",
       "3SFXsFpeGmBTtQvKiwYMDA     -0.316115      0.119022    -0.113383  0.278097   \n",
       "1A2PWRltFrX8iB8IP3CUgo      0.165714     -0.052778     0.183303 -0.143175   \n",
       "2tUBqZG2AbRi7Q0BIrVrEj      0.608685      0.097353     0.368895  0.176706   \n",
       "2WfaOiMkCvy7F5fcp2zZ8L     -0.860114     -0.113140     0.058675  0.288093   \n",
       "2H7PHVdQ3mXqEHXcvclTB0      0.064685      0.340350     0.782318  0.042470   \n",
       "4yKZACkuudvfd600H2dQie      0.593142      0.360471     0.000530 -0.106046   \n",
       "0snPJPxkk0MbTc0xeUvAPt     -0.067429      0.080328     0.272215  0.105304   \n",
       "0BmJsqTCp4cz2xxaMGVD7n     -0.997505     -0.289584    -0.247287  0.362351   \n",
       "4f3w2PoA3b9CWDSwVYWil1     -0.999297     -0.382449     0.044714  0.188130   \n",
       "2fuCquhmrzHpu5xcA1ci9x      2.333941      0.038539     0.167513  0.016765   \n",
       "3pOSTi5yh2krttjdNddRLl     -0.998267     -0.430429    -0.256996  0.386628   \n",
       "1w2b6f5Cgwy8ZmKdHUBSiW      1.611199     -0.034205     0.135684  0.218119   \n",
       "77NNZQSqzLNqh2A9JhLRkg      0.942856     -0.240056     0.169708  0.145289   \n",
       "5zA8vzDGqPl2AzZkEYQGKh     -0.419475      0.084971    -0.070900  0.346643   \n",
       "7oOOI85fVQvVnK5ynNMdW7      0.391085      0.250580     0.036809 -0.235998   \n",
       "71SvEDmsOwIWw1IozsZoMA     -0.980494     -0.181241    -0.052169  0.330934   \n",
       "7gSQv1OHpkIoAdUiRLdmI6     -0.608320      0.184027    -0.161819 -0.320252   \n",
       "6mYrhCAGWzTdF8QnKuchXM      0.888456      0.018418     0.127037 -0.178876   \n",
       "3kb72STxc2959ZqsTwu52i     -0.659612     -0.018728    -0.175292  0.212407   \n",
       "22sLuJYcvZOSoLLRYev1s5      1.587884      0.148429     0.129166  0.260960   \n",
       "4uLU6hMCjMI75M1A2tKUQC     -0.106286      0.115926     0.003660  0.340931   \n",
       "5jSz894ljfWE0IcHBSM39i      0.631999      0.177836     0.011179 -0.043213   \n",
       "5vfjUAhefN7IjHbTvVCT4Z     -0.998928     -0.167312     0.095082  0.262388   \n",
       "0uyoXwOQ3U5tGfNNmR5Y1p     -0.578789      0.050921     0.036057  0.333790   \n",
       "2J9yZBKajggHsCmoSiaVCw      0.398856      0.078780     0.097271 -0.127467   \n",
       "3nFJbZCHP4d9vduKjJLdBL     -0.028572      0.136047     0.083051 -0.163168   \n",
       "5yGTQzYbEdY6B9RFZJypgt     -0.402377      0.094258     0.076660  0.083883   \n",
       "3Z2tPWiNiIpg8UMMoowHIk      0.468799     -0.182789     1.008199 -0.361666   \n",
       "\n",
       "                        instrumentalness       key  liveness  loudness  \\\n",
       "track_id                                                                 \n",
       "21qnJAMtzC6S5SESuqQLEK         -0.993538  0.766784 -0.749884  0.652491   \n",
       "2D4D3hiOf5U0W6SvJoCQph         -0.987896 -0.293286  0.701197  0.156654   \n",
       "3SFXsFpeGmBTtQvKiwYMDA         -1.000000  0.943463 -0.636977 -0.335958   \n",
       "1A2PWRltFrX8iB8IP3CUgo         -0.995625  0.590106  0.124005  0.960598   \n",
       "2tUBqZG2AbRi7Q0BIrVrEj         -0.558167 -0.823322 -0.550398  0.580659   \n",
       "2WfaOiMkCvy7F5fcp2zZ8L          0.798994  0.060071 -0.530146  0.368209   \n",
       "2H7PHVdQ3mXqEHXcvclTB0         -1.000000 -0.116608 -0.573182  0.469060   \n",
       "4yKZACkuudvfd600H2dQie         -0.912641  0.236749 -0.716467  0.136412   \n",
       "0snPJPxkk0MbTc0xeUvAPt         -0.996747 -1.000000  0.994856  0.548057   \n",
       "0BmJsqTCp4cz2xxaMGVD7n         -1.000000 -0.646643  3.035280 -0.218985   \n",
       "4f3w2PoA3b9CWDSwVYWil1         -1.000000  0.943463  0.888531 -0.175277   \n",
       "2fuCquhmrzHpu5xcA1ci9x         -1.000000 -0.646643 -0.478502  0.399915   \n",
       "3pOSTi5yh2krttjdNddRLl         -0.984601  0.943463  1.597363 -0.610209   \n",
       "1w2b6f5Cgwy8ZmKdHUBSiW         -0.811465 -0.293286 -0.139275 -0.303356   \n",
       "77NNZQSqzLNqh2A9JhLRkg         -1.000000 -0.293286  0.959414  0.272911   \n",
       "5zA8vzDGqPl2AzZkEYQGKh         -1.000000 -0.293286  2.042915 -0.465112   \n",
       "7oOOI85fVQvVnK5ynNMdW7         -0.857376 -0.823322 -0.200032  1.242910   \n",
       "71SvEDmsOwIWw1IozsZoMA          0.568723  0.236749 -0.311420  0.343668   \n",
       "7gSQv1OHpkIoAdUiRLdmI6         -0.996028  0.236749 -0.164591  1.415951   \n",
       "6mYrhCAGWzTdF8QnKuchXM         -1.000000  0.943463 -0.382304  0.856702   \n",
       "3kb72STxc2959ZqsTwu52i         -1.000000 -1.000000  0.837900  0.267358   \n",
       "22sLuJYcvZOSoLLRYev1s5         -0.989192 -1.000000 -0.511919 -0.387548   \n",
       "4uLU6hMCjMI75M1A2tKUQC         -0.945455  0.413428 -0.453187  1.117876   \n",
       "5jSz894ljfWE0IcHBSM39i         -0.386903 -0.646643 -0.653179  1.285543   \n",
       "5vfjUAhefN7IjHbTvVCT4Z         -1.000000  0.413428  1.359398 -0.417642   \n",
       "0uyoXwOQ3U5tGfNNmR5Y1p         -0.956824  0.766784 -0.103834  0.961315   \n",
       "2J9yZBKajggHsCmoSiaVCw         -0.997064 -0.469965 -0.556474  1.104083   \n",
       "3nFJbZCHP4d9vduKjJLdBL         -1.000000 -0.646643 -0.814185  1.125579   \n",
       "5yGTQzYbEdY6B9RFZJypgt         -0.959127  0.943463 -0.607611  1.208338   \n",
       "3Z2tPWiNiIpg8UMMoowHIk         -1.000000 -0.293286 -0.622800  1.732656   \n",
       "\n",
       "                        speechiness     tempo   valence  variation  \n",
       "track_id                                                            \n",
       "21qnJAMtzC6S5SESuqQLEK    -0.229880  0.030765  0.326462   0.002293  \n",
       "2D4D3hiOf5U0W6SvJoCQph    -0.580794 -0.030964  0.704921   0.015747  \n",
       "3SFXsFpeGmBTtQvKiwYMDA     0.071654  0.186047  0.786549   0.017601  \n",
       "1A2PWRltFrX8iB8IP3CUgo    -0.656440 -0.080078 -0.126205   0.030576  \n",
       "2tUBqZG2AbRi7Q0BIrVrEj    -0.524060 -0.017083  0.608451   0.032280  \n",
       "2WfaOiMkCvy7F5fcp2zZ8L    -0.432654 -0.301705  0.625147   0.038570  \n",
       "2H7PHVdQ3mXqEHXcvclTB0    -0.194158 -0.019523  0.159494   0.045094  \n",
       "4yKZACkuudvfd600H2dQie    -0.365413 -0.082882  0.795825   0.060320  \n",
       "0snPJPxkk0MbTc0xeUvAPt    -0.495692  0.101867  0.356145   0.101097  \n",
       "0BmJsqTCp4cz2xxaMGVD7n    -0.430553 -0.053407  0.382117   0.104216  \n",
       "4f3w2PoA3b9CWDSwVYWil1    -0.391679  0.472423  0.519402   0.107960  \n",
       "2fuCquhmrzHpu5xcA1ci9x    -0.499895 -0.058553 -0.142902   0.130179  \n",
       "3pOSTi5yh2krttjdNddRLl     0.071654  0.407137  0.005514   0.131257  \n",
       "1w2b6f5Cgwy8ZmKdHUBSiW    -0.456819 -0.216929  0.127956   0.162378  \n",
       "77NNZQSqzLNqh2A9JhLRkg    -0.588149 -0.013509 -0.124350   0.230828  \n",
       "5zA8vzDGqPl2AzZkEYQGKh    -0.520908  0.067081  0.467456   0.239385  \n",
       "7oOOI85fVQvVnK5ynNMdW7    -0.629124 -0.056683  0.573202   0.307948  \n",
       "71SvEDmsOwIWw1IozsZoMA    -0.487287  0.142906  0.059314   0.330317  \n",
       "7gSQv1OHpkIoAdUiRLdmI6    -0.654339 -0.056774  0.790260   0.335137  \n",
       "6mYrhCAGWzTdF8QnKuchXM    -0.719479 -0.103853 -0.064984   0.384581  \n",
       "3kb72STxc2959ZqsTwu52i     0.103173  0.290536  0.704921   0.437337  \n",
       "22sLuJYcvZOSoLLRYev1s5    -0.654339  0.129240  0.814377   0.472941  \n",
       "4uLU6hMCjMI75M1A2tKUQC    -0.604959 -0.062656  0.695645   0.514922  \n",
       "5jSz894ljfWE0IcHBSM39i    -0.539819 -0.001084  0.688224   0.523941  \n",
       "5vfjUAhefN7IjHbTvVCT4Z    -0.674301  0.212006  0.365421   0.550461  \n",
       "0uyoXwOQ3U5tGfNNmR5Y1p    -0.498844 -0.023089  0.578768   0.566256  \n",
       "2J9yZBKajggHsCmoSiaVCw    -0.728935  0.075089  0.498994   0.626830  \n",
       "3nFJbZCHP4d9vduKjJLdBL     0.355327 -0.090584  0.413656   0.629492  \n",
       "5yGTQzYbEdY6B9RFZJypgt    -0.516705 -0.047493  0.771708   0.644996  \n",
       "3Z2tPWiNiIpg8UMMoowHIk    -0.542971 -0.399585 -0.458284   0.651727  "
      ],
      "text/html": "<div>\n<style scoped>\n    .dataframe tbody tr th:only-of-type {\n        vertical-align: middle;\n    }\n\n    .dataframe tbody tr th {\n        vertical-align: top;\n    }\n\n    .dataframe thead th {\n        text-align: right;\n    }\n</style>\n<table border=\"1\" class=\"dataframe\">\n  <thead>\n    <tr style=\"text-align: right;\">\n      <th></th>\n      <th>acousticness</th>\n      <th>danceability</th>\n      <th>duration_ms</th>\n      <th>energy</th>\n      <th>instrumentalness</th>\n      <th>key</th>\n      <th>liveness</th>\n      <th>loudness</th>\n      <th>speechiness</th>\n      <th>tempo</th>\n      <th>valence</th>\n      <th>variation</th>\n    </tr>\n    <tr>\n      <th>track_id</th>\n      <th></th>\n      <th></th>\n      <th></th>\n      <th></th>\n      <th></th>\n      <th></th>\n      <th></th>\n      <th></th>\n      <th></th>\n      <th></th>\n      <th></th>\n      <th></th>\n    </tr>\n  </thead>\n  <tbody>\n    <tr>\n      <th>21qnJAMtzC6S5SESuqQLEK</th>\n      <td>-0.885760</td>\n      <td>0.369757</td>\n      <td>0.505243</td>\n      <td>0.205267</td>\n      <td>-0.993538</td>\n      <td>0.766784</td>\n      <td>-0.749884</td>\n      <td>0.652491</td>\n      <td>-0.229880</td>\n      <td>0.030765</td>\n      <td>0.326462</td>\n      <td>0.002293</td>\n    </tr>\n    <tr>\n      <th>2D4D3hiOf5U0W6SvJoCQph</th>\n      <td>-0.320778</td>\n      <td>0.030800</td>\n      <td>0.336376</td>\n      <td>0.299517</td>\n      <td>-0.987896</td>\n      <td>-0.293286</td>\n      <td>0.701197</td>\n      <td>0.156654</td>\n      <td>-0.580794</td>\n      <td>-0.030964</td>\n      <td>0.704921</td>\n      <td>0.015747</td>\n    </tr>\n    <tr>\n      <th>3SFXsFpeGmBTtQvKiwYMDA</th>\n      <td>-0.316115</td>\n      <td>0.119022</td>\n      <td>-0.113383</td>\n      <td>0.278097</td>\n      <td>-1.000000</td>\n      <td>0.943463</td>\n      <td>-0.636977</td>\n      <td>-0.335958</td>\n      <td>0.071654</td>\n      <td>0.186047</td>\n      <td>0.786549</td>\n      <td>0.017601</td>\n    </tr>\n    <tr>\n      <th>1A2PWRltFrX8iB8IP3CUgo</th>\n      <td>0.165714</td>\n      <td>-0.052778</td>\n      <td>0.183303</td>\n      <td>-0.143175</td>\n      <td>-0.995625</td>\n      <td>0.590106</td>\n      <td>0.124005</td>\n      <td>0.960598</td>\n      <td>-0.656440</td>\n      <td>-0.080078</td>\n      <td>-0.126205</td>\n      <td>0.030576</td>\n    </tr>\n    <tr>\n      <th>2tUBqZG2AbRi7Q0BIrVrEj</th>\n      <td>0.608685</td>\n      <td>0.097353</td>\n      <td>0.368895</td>\n      <td>0.176706</td>\n      <td>-0.558167</td>\n      <td>-0.823322</td>\n      <td>-0.550398</td>\n      <td>0.580659</td>\n      <td>-0.524060</td>\n      <td>-0.017083</td>\n      <td>0.608451</td>\n      <td>0.032280</td>\n    </tr>\n    <tr>\n      <th>2WfaOiMkCvy7F5fcp2zZ8L</th>\n      <td>-0.860114</td>\n      <td>-0.113140</td>\n      <td>0.058675</td>\n      <td>0.288093</td>\n      <td>0.798994</td>\n      <td>0.060071</td>\n      <td>-0.530146</td>\n      <td>0.368209</td>\n      <td>-0.432654</td>\n      <td>-0.301705</td>\n      <td>0.625147</td>\n      <td>0.038570</td>\n    </tr>\n    <tr>\n      <th>2H7PHVdQ3mXqEHXcvclTB0</th>\n      <td>0.064685</td>\n      <td>0.340350</td>\n      <td>0.782318</td>\n      <td>0.042470</td>\n      <td>-1.000000</td>\n      <td>-0.116608</td>\n      <td>-0.573182</td>\n      <td>0.469060</td>\n      <td>-0.194158</td>\n      <td>-0.019523</td>\n      <td>0.159494</td>\n      <td>0.045094</td>\n    </tr>\n    <tr>\n      <th>4yKZACkuudvfd600H2dQie</th>\n      <td>0.593142</td>\n      <td>0.360471</td>\n      <td>0.000530</td>\n      <td>-0.106046</td>\n      <td>-0.912641</td>\n      <td>0.236749</td>\n      <td>-0.716467</td>\n      <td>0.136412</td>\n      <td>-0.365413</td>\n      <td>-0.082882</td>\n      <td>0.795825</td>\n      <td>0.060320</td>\n    </tr>\n    <tr>\n      <th>0snPJPxkk0MbTc0xeUvAPt</th>\n      <td>-0.067429</td>\n      <td>0.080328</td>\n      <td>0.272215</td>\n      <td>0.105304</td>\n      <td>-0.996747</td>\n      <td>-1.000000</td>\n      <td>0.994856</td>\n      <td>0.548057</td>\n      <td>-0.495692</td>\n      <td>0.101867</td>\n      <td>0.356145</td>\n      <td>0.101097</td>\n    </tr>\n    <tr>\n      <th>0BmJsqTCp4cz2xxaMGVD7n</th>\n      <td>-0.997505</td>\n      <td>-0.289584</td>\n      <td>-0.247287</td>\n      <td>0.362351</td>\n      <td>-1.000000</td>\n      <td>-0.646643</td>\n      <td>3.035280</td>\n      <td>-0.218985</td>\n      <td>-0.430553</td>\n      <td>-0.053407</td>\n      <td>0.382117</td>\n      <td>0.104216</td>\n    </tr>\n    <tr>\n      <th>4f3w2PoA3b9CWDSwVYWil1</th>\n      <td>-0.999297</td>\n      <td>-0.382449</td>\n      <td>0.044714</td>\n      <td>0.188130</td>\n      <td>-1.000000</td>\n      <td>0.943463</td>\n      <td>0.888531</td>\n      <td>-0.175277</td>\n      <td>-0.391679</td>\n      <td>0.472423</td>\n      <td>0.519402</td>\n      <td>0.107960</td>\n    </tr>\n    <tr>\n      <th>2fuCquhmrzHpu5xcA1ci9x</th>\n      <td>2.333941</td>\n      <td>0.038539</td>\n      <td>0.167513</td>\n      <td>0.016765</td>\n      <td>-1.000000</td>\n      <td>-0.646643</td>\n      <td>-0.478502</td>\n      <td>0.399915</td>\n      <td>-0.499895</td>\n      <td>-0.058553</td>\n      <td>-0.142902</td>\n      <td>0.130179</td>\n    </tr>\n    <tr>\n      <th>3pOSTi5yh2krttjdNddRLl</th>\n      <td>-0.998267</td>\n      <td>-0.430429</td>\n      <td>-0.256996</td>\n      <td>0.386628</td>\n      <td>-0.984601</td>\n      <td>0.943463</td>\n      <td>1.597363</td>\n      <td>-0.610209</td>\n      <td>0.071654</td>\n      <td>0.407137</td>\n      <td>0.005514</td>\n      <td>0.131257</td>\n    </tr>\n    <tr>\n      <th>1w2b6f5Cgwy8ZmKdHUBSiW</th>\n      <td>1.611199</td>\n      <td>-0.034205</td>\n      <td>0.135684</td>\n      <td>0.218119</td>\n      <td>-0.811465</td>\n      <td>-0.293286</td>\n      <td>-0.139275</td>\n      <td>-0.303356</td>\n      <td>-0.456819</td>\n      <td>-0.216929</td>\n      <td>0.127956</td>\n      <td>0.162378</td>\n    </tr>\n    <tr>\n      <th>77NNZQSqzLNqh2A9JhLRkg</th>\n      <td>0.942856</td>\n      <td>-0.240056</td>\n      <td>0.169708</td>\n      <td>0.145289</td>\n      <td>-1.000000</td>\n      <td>-0.293286</td>\n      <td>0.959414</td>\n      <td>0.272911</td>\n      <td>-0.588149</td>\n      <td>-0.013509</td>\n      <td>-0.124350</td>\n      <td>0.230828</td>\n    </tr>\n    <tr>\n      <th>5zA8vzDGqPl2AzZkEYQGKh</th>\n      <td>-0.419475</td>\n      <td>0.084971</td>\n      <td>-0.070900</td>\n      <td>0.346643</td>\n      <td>-1.000000</td>\n      <td>-0.293286</td>\n      <td>2.042915</td>\n      <td>-0.465112</td>\n      <td>-0.520908</td>\n      <td>0.067081</td>\n      <td>0.467456</td>\n      <td>0.239385</td>\n    </tr>\n    <tr>\n      <th>7oOOI85fVQvVnK5ynNMdW7</th>\n      <td>0.391085</td>\n      <td>0.250580</td>\n      <td>0.036809</td>\n      <td>-0.235998</td>\n      <td>-0.857376</td>\n      <td>-0.823322</td>\n      <td>-0.200032</td>\n      <td>1.242910</td>\n      <td>-0.629124</td>\n      <td>-0.056683</td>\n      <td>0.573202</td>\n      <td>0.307948</td>\n    </tr>\n    <tr>\n      <th>71SvEDmsOwIWw1IozsZoMA</th>\n      <td>-0.980494</td>\n      <td>-0.181241</td>\n      <td>-0.052169</td>\n      <td>0.330934</td>\n      <td>0.568723</td>\n      <td>0.236749</td>\n      <td>-0.311420</td>\n      <td>0.343668</td>\n      <td>-0.487287</td>\n      <td>0.142906</td>\n      <td>0.059314</td>\n      <td>0.330317</td>\n    </tr>\n    <tr>\n      <th>7gSQv1OHpkIoAdUiRLdmI6</th>\n      <td>-0.608320</td>\n      <td>0.184027</td>\n      <td>-0.161819</td>\n      <td>-0.320252</td>\n      <td>-0.996028</td>\n      <td>0.236749</td>\n      <td>-0.164591</td>\n      <td>1.415951</td>\n      <td>-0.654339</td>\n      <td>-0.056774</td>\n      <td>0.790260</td>\n      <td>0.335137</td>\n    </tr>\n    <tr>\n      <th>6mYrhCAGWzTdF8QnKuchXM</th>\n      <td>0.888456</td>\n      <td>0.018418</td>\n      <td>0.127037</td>\n      <td>-0.178876</td>\n      <td>-1.000000</td>\n      <td>0.943463</td>\n      <td>-0.382304</td>\n      <td>0.856702</td>\n      <td>-0.719479</td>\n      <td>-0.103853</td>\n      <td>-0.064984</td>\n      <td>0.384581</td>\n    </tr>\n    <tr>\n      <th>3kb72STxc2959ZqsTwu52i</th>\n      <td>-0.659612</td>\n      <td>-0.018728</td>\n      <td>-0.175292</td>\n      <td>0.212407</td>\n      <td>-1.000000</td>\n      <td>-1.000000</td>\n      <td>0.837900</td>\n      <td>0.267358</td>\n      <td>0.103173</td>\n      <td>0.290536</td>\n      <td>0.704921</td>\n      <td>0.437337</td>\n    </tr>\n    <tr>\n      <th>22sLuJYcvZOSoLLRYev1s5</th>\n      <td>1.587884</td>\n      <td>0.148429</td>\n      <td>0.129166</td>\n      <td>0.260960</td>\n      <td>-0.989192</td>\n      <td>-1.000000</td>\n      <td>-0.511919</td>\n      <td>-0.387548</td>\n      <td>-0.654339</td>\n      <td>0.129240</td>\n      <td>0.814377</td>\n      <td>0.472941</td>\n    </tr>\n    <tr>\n      <th>4uLU6hMCjMI75M1A2tKUQC</th>\n      <td>-0.106286</td>\n      <td>0.115926</td>\n      <td>0.003660</td>\n      <td>0.340931</td>\n      <td>-0.945455</td>\n      <td>0.413428</td>\n      <td>-0.453187</td>\n      <td>1.117876</td>\n      <td>-0.604959</td>\n      <td>-0.062656</td>\n      <td>0.695645</td>\n      <td>0.514922</td>\n    </tr>\n    <tr>\n      <th>5jSz894ljfWE0IcHBSM39i</th>\n      <td>0.631999</td>\n      <td>0.177836</td>\n      <td>0.011179</td>\n      <td>-0.043213</td>\n      <td>-0.386903</td>\n      <td>-0.646643</td>\n      <td>-0.653179</td>\n      <td>1.285543</td>\n      <td>-0.539819</td>\n      <td>-0.001084</td>\n      <td>0.688224</td>\n      <td>0.523941</td>\n    </tr>\n    <tr>\n      <th>5vfjUAhefN7IjHbTvVCT4Z</th>\n      <td>-0.998928</td>\n      <td>-0.167312</td>\n      <td>0.095082</td>\n      <td>0.262388</td>\n      <td>-1.000000</td>\n      <td>0.413428</td>\n      <td>1.359398</td>\n      <td>-0.417642</td>\n      <td>-0.674301</td>\n      <td>0.212006</td>\n      <td>0.365421</td>\n      <td>0.550461</td>\n    </tr>\n    <tr>\n      <th>0uyoXwOQ3U5tGfNNmR5Y1p</th>\n      <td>-0.578789</td>\n      <td>0.050921</td>\n      <td>0.036057</td>\n      <td>0.333790</td>\n      <td>-0.956824</td>\n      <td>0.766784</td>\n      <td>-0.103834</td>\n      <td>0.961315</td>\n      <td>-0.498844</td>\n      <td>-0.023089</td>\n      <td>0.578768</td>\n      <td>0.566256</td>\n    </tr>\n    <tr>\n      <th>2J9yZBKajggHsCmoSiaVCw</th>\n      <td>0.398856</td>\n      <td>0.078780</td>\n      <td>0.097271</td>\n      <td>-0.127467</td>\n      <td>-0.997064</td>\n      <td>-0.469965</td>\n      <td>-0.556474</td>\n      <td>1.104083</td>\n      <td>-0.728935</td>\n      <td>0.075089</td>\n      <td>0.498994</td>\n      <td>0.626830</td>\n    </tr>\n    <tr>\n      <th>3nFJbZCHP4d9vduKjJLdBL</th>\n      <td>-0.028572</td>\n      <td>0.136047</td>\n      <td>0.083051</td>\n      <td>-0.163168</td>\n      <td>-1.000000</td>\n      <td>-0.646643</td>\n      <td>-0.814185</td>\n      <td>1.125579</td>\n      <td>0.355327</td>\n      <td>-0.090584</td>\n      <td>0.413656</td>\n      <td>0.629492</td>\n    </tr>\n    <tr>\n      <th>5yGTQzYbEdY6B9RFZJypgt</th>\n      <td>-0.402377</td>\n      <td>0.094258</td>\n      <td>0.076660</td>\n      <td>0.083883</td>\n      <td>-0.959127</td>\n      <td>0.943463</td>\n      <td>-0.607611</td>\n      <td>1.208338</td>\n      <td>-0.516705</td>\n      <td>-0.047493</td>\n      <td>0.771708</td>\n      <td>0.644996</td>\n    </tr>\n    <tr>\n      <th>3Z2tPWiNiIpg8UMMoowHIk</th>\n      <td>0.468799</td>\n      <td>-0.182789</td>\n      <td>1.008199</td>\n      <td>-0.361666</td>\n      <td>-1.000000</td>\n      <td>-0.293286</td>\n      <td>-0.622800</td>\n      <td>1.732656</td>\n      <td>-0.542971</td>\n      <td>-0.399585</td>\n      <td>-0.458284</td>\n      <td>0.651727</td>\n    </tr>\n  </tbody>\n</table>\n</div>"
     },
     "metadata": {},
     "execution_count": 28
    }
   ],
   "source": [
    "# Picking 30 least variated songs from df_main_var\n",
    "rec_songs = df_main_var.nsmallest(30,'variation')\n",
    "\n",
    "rec_songs"
   ]
  },
  {
   "cell_type": "code",
   "execution_count": null,
   "metadata": {},
   "outputs": [],
   "source": []
  }
 ]
}