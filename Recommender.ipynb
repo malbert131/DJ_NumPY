{
 "metadata": {
  "language_info": {
   "codemirror_mode": {
    "name": "ipython",
    "version": 3
   },
   "file_extension": ".py",
   "mimetype": "text/x-python",
   "name": "python",
   "nbconvert_exporter": "python",
   "pygments_lexer": "ipython3",
   "version": "3.9.1"
  },
  "orig_nbformat": 2,
  "kernelspec": {
   "name": "python3",
   "display_name": "Python 3.9.1 64-bit ('DJ_NumPy-RDDxY7Pi': pipenv)",
   "metadata": {
    "interpreter": {
     "hash": "abf4aac3bd47590b3c3ba9c20e5c9ff76a5d60f3d204cf7670d4141c0c3b4c10"
    }
   }
  }
 },
 "nbformat": 4,
 "nbformat_minor": 2,
 "cells": [
  {
   "cell_type": "code",
   "execution_count": 180,
   "metadata": {},
   "outputs": [],
   "source": [
    "from keys import client_id, client_secret, user_name\n",
    "import os\n",
    "import pandas as pd\n",
    "import numpy as np\n",
    "import json\n",
    "import matplotlib.pyplot as plt\n",
    "import seaborn as sns\n",
    "%config InlineBackend.figure_format ='retina'\n",
    "import spotipy\n",
    "import spotipy.util as util\n",
    "from spotipy.oauth2 import SpotifyClientCredentials\n",
    "from spotipy import oauth2\n",
    "import random\n",
    "from functools import reduce"
   ]
  },
  {
   "cell_type": "code",
   "execution_count": 181,
   "metadata": {},
   "outputs": [],
   "source": [
    "scope = 'user-library-read playlist-modify-public playlist-modify-private playlist-read-private user-read-recently-played app-remote-control user-top-read'\n",
    "\n",
    "redirect_uri = 'https://developer.spotify.com/dashboard/applications/0743a195f7654b5ab95560a95e89316a'\n",
    "\n",
    "client_credentials_manager = SpotifyClientCredentials(client_id=client_id, client_secret=client_secret)\n",
    "\n",
    "sp = spotipy.Spotify(client_credentials_manager=client_credentials_manager)\n",
    "\n",
    "token = util.prompt_for_user_token(user_name, scope, client_id, client_secret, redirect_uri)\n",
    "\n",
    "if token:\n",
    "    sp = spotipy.Spotify(auth=token)\n",
    "else:\n",
    "    print(\"NO TOKEN FOUND\")\n"
   ]
  },
  {
   "cell_type": "code",
   "execution_count": 182,
   "metadata": {},
   "outputs": [
    {
     "output_type": "execute_result",
     "data": {
      "text/plain": [
       "                                         id  acousticness  danceability  \\\n",
       "HOLIDAY              6zFMeegAMYQo0mt8rXtrli       0.12000         0.810   \n",
       "Death of a Bachelor  1BECwm5qkaBwlbfo4kpYx8       0.01370         0.462   \n",
       "Daylight             6Ed1q0X8oSKSm4IIhiQbYg       0.00488         0.528   \n",
       "Knock Knock          3uYm4MtU6jUQft2DtGqEoZ       0.03530         0.667   \n",
       "Don't Matter         7I6DceMT3utDOHjcYCbrr4       0.24400         0.798   \n",
       "\n",
       "                     duration_ms  energy  instrumentalness  key  liveness  \\\n",
       "HOLIDAY                   154998   0.511          0.000000    5    0.0832   \n",
       "Death of a Bachelor       203507   0.538          0.000000    0    0.4290   \n",
       "Daylight                  163906   0.749          0.000096    7    0.0949   \n",
       "Knock Knock               202807   0.922          0.000000    4    0.3640   \n",
       "Don't Matter              293053   0.443          0.000000    2    0.3260   \n",
       "\n",
       "                     loudness  mode  speechiness    tempo  valence  \n",
       "HOLIDAY                -6.924     0       0.1640  151.947    0.837  \n",
       "Death of a Bachelor    -5.527     1       0.0590  139.256    0.405  \n",
       "Daylight               -7.571     1       0.0479  163.944    0.729  \n",
       "Knock Knock            -4.857     0       0.1280  108.952    0.509  \n",
       "Don't Matter           -6.062     1       0.0403  125.232    0.354  "
      ],
      "text/html": "<div>\n<style scoped>\n    .dataframe tbody tr th:only-of-type {\n        vertical-align: middle;\n    }\n\n    .dataframe tbody tr th {\n        vertical-align: top;\n    }\n\n    .dataframe thead th {\n        text-align: right;\n    }\n</style>\n<table border=\"1\" class=\"dataframe\">\n  <thead>\n    <tr style=\"text-align: right;\">\n      <th></th>\n      <th>id</th>\n      <th>acousticness</th>\n      <th>danceability</th>\n      <th>duration_ms</th>\n      <th>energy</th>\n      <th>instrumentalness</th>\n      <th>key</th>\n      <th>liveness</th>\n      <th>loudness</th>\n      <th>mode</th>\n      <th>speechiness</th>\n      <th>tempo</th>\n      <th>valence</th>\n    </tr>\n  </thead>\n  <tbody>\n    <tr>\n      <th>HOLIDAY</th>\n      <td>6zFMeegAMYQo0mt8rXtrli</td>\n      <td>0.12000</td>\n      <td>0.810</td>\n      <td>154998</td>\n      <td>0.511</td>\n      <td>0.000000</td>\n      <td>5</td>\n      <td>0.0832</td>\n      <td>-6.924</td>\n      <td>0</td>\n      <td>0.1640</td>\n      <td>151.947</td>\n      <td>0.837</td>\n    </tr>\n    <tr>\n      <th>Death of a Bachelor</th>\n      <td>1BECwm5qkaBwlbfo4kpYx8</td>\n      <td>0.01370</td>\n      <td>0.462</td>\n      <td>203507</td>\n      <td>0.538</td>\n      <td>0.000000</td>\n      <td>0</td>\n      <td>0.4290</td>\n      <td>-5.527</td>\n      <td>1</td>\n      <td>0.0590</td>\n      <td>139.256</td>\n      <td>0.405</td>\n    </tr>\n    <tr>\n      <th>Daylight</th>\n      <td>6Ed1q0X8oSKSm4IIhiQbYg</td>\n      <td>0.00488</td>\n      <td>0.528</td>\n      <td>163906</td>\n      <td>0.749</td>\n      <td>0.000096</td>\n      <td>7</td>\n      <td>0.0949</td>\n      <td>-7.571</td>\n      <td>1</td>\n      <td>0.0479</td>\n      <td>163.944</td>\n      <td>0.729</td>\n    </tr>\n    <tr>\n      <th>Knock Knock</th>\n      <td>3uYm4MtU6jUQft2DtGqEoZ</td>\n      <td>0.03530</td>\n      <td>0.667</td>\n      <td>202807</td>\n      <td>0.922</td>\n      <td>0.000000</td>\n      <td>4</td>\n      <td>0.3640</td>\n      <td>-4.857</td>\n      <td>0</td>\n      <td>0.1280</td>\n      <td>108.952</td>\n      <td>0.509</td>\n    </tr>\n    <tr>\n      <th>Don't Matter</th>\n      <td>7I6DceMT3utDOHjcYCbrr4</td>\n      <td>0.24400</td>\n      <td>0.798</td>\n      <td>293053</td>\n      <td>0.443</td>\n      <td>0.000000</td>\n      <td>2</td>\n      <td>0.3260</td>\n      <td>-6.062</td>\n      <td>1</td>\n      <td>0.0403</td>\n      <td>125.232</td>\n      <td>0.354</td>\n    </tr>\n  </tbody>\n</table>\n</div>"
     },
     "metadata": {},
     "execution_count": 182
    }
   ],
   "source": [
    "user_top_tracks = sp.current_user_top_tracks(limit=50, offset=0, time_range='long_term')\n",
    "song_data = user_top_tracks[\"items\"]\n",
    "\n",
    "song_ids = []\n",
    "song_names = []\n",
    "\n",
    "for i in range(0, len(song_data)):\n",
    "    if song_data[i]['id'] != None:\n",
    "        song_ids.append(song_data[i]['id'])\n",
    "        song_names.append(song_data[i]['name'])\n",
    "\n",
    "song_features = []\n",
    "for i in range(0, len(song_ids)):\n",
    "    features = sp.audio_features(song_ids[i])\n",
    "    for song in features:\n",
    "        song_features.append(song)\n",
    "\n",
    "top_tracks_df = pd.DataFrame(song_features, index=song_names)\n",
    "top_tracks_df = top_tracks_df[[\"id\", \"acousticness\", \"danceability\", \"duration_ms\", \n",
    "                         \"energy\", \"instrumentalness\",  \"key\", \"liveness\",\n",
    "                         \"loudness\", \"mode\", \"speechiness\", \"tempo\", \"valence\"]]\n",
    "top_tracks_df.head()"
   ]
  },
  {
   "cell_type": "code",
   "execution_count": 183,
   "metadata": {},
   "outputs": [
    {
     "output_type": "stream",
     "name": "stdout",
     "text": [
      "<class 'pandas.core.frame.DataFrame'>\nIndex: 50 entries, HOLIDAY to Team\nData columns (total 13 columns):\n #   Column            Non-Null Count  Dtype  \n---  ------            --------------  -----  \n 0   id                50 non-null     object \n 1   acousticness      50 non-null     float64\n 2   danceability      50 non-null     float64\n 3   duration_ms       50 non-null     int64  \n 4   energy            50 non-null     float64\n 5   instrumentalness  50 non-null     float64\n 6   key               50 non-null     int64  \n 7   liveness          50 non-null     float64\n 8   loudness          50 non-null     float64\n 9   mode              50 non-null     int64  \n 10  speechiness       50 non-null     float64\n 11  tempo             50 non-null     float64\n 12  valence           50 non-null     float64\ndtypes: float64(9), int64(3), object(1)\nmemory usage: 5.5+ KB\n"
     ]
    }
   ],
   "source": [
    "top_tracks_df.info()"
   ]
  },
  {
   "cell_type": "code",
   "execution_count": 184,
   "metadata": {},
   "outputs": [],
   "source": [
    "featured_playlists = sp.featured_playlists(limit=50)\n",
    "# Creating data frame for playlists\n",
    "id = []\n",
    "name = []\n",
    "num_tracks = []\n",
    "items = featured_playlists['playlists']['items']\n",
    "for item in items:\n",
    "    id.append(item[\"id\"])\n",
    "    name.append(item[\"name\"])\n",
    "    num_tracks.append(item[\"tracks\"][\"total\"])\n",
    "\n",
    "df_pl_data = pd.DataFrame({\"id\":id, \"name\": name, \"num_tracks\": num_tracks})"
   ]
  },
  {
   "cell_type": "code",
   "execution_count": 185,
   "metadata": {},
   "outputs": [
    {
     "output_type": "execute_result",
     "data": {
      "text/plain": [
       "                        id                name  num_tracks\n",
       "0   37i9dQZF1DWSRc3WJklgBs         Heart Beats         198\n",
       "1   37i9dQZF1DX843Qf4lrFtZ  Young, Wild & Free         100\n",
       "2   37i9dQZF1DX4bSrsRWE9cd               Bliss          75\n",
       "3   37i9dQZF1DX1BGjF5N5O7F        Sexy As Folk          50\n",
       "4   37i9dQZF1DWZd79rJ6a7lp               Sleep         186\n",
       "5   37i9dQZF1DX5Ejj0EkURtP         All Out 10s         150\n",
       "6   37i9dQZF1DX4WYpdgoIcn6          Chill Hits         130\n",
       "7   37i9dQZF1DWY4xHQp97fN6           Get Turnt         100\n",
       "8   37i9dQZF1DX2yvmlOdMYzV             Low-Key         100\n",
       "9   37i9dQZF1DX1aA8os1ylFZ                 BAE         100\n",
       "10  37i9dQZF1DX0QKpU3cGsyb        Bedroom Jams          70\n",
       "11  37i9dQZF1DX6xOPeSOGone           Soft Rock         100"
      ],
      "text/html": "<div>\n<style scoped>\n    .dataframe tbody tr th:only-of-type {\n        vertical-align: middle;\n    }\n\n    .dataframe tbody tr th {\n        vertical-align: top;\n    }\n\n    .dataframe thead th {\n        text-align: right;\n    }\n</style>\n<table border=\"1\" class=\"dataframe\">\n  <thead>\n    <tr style=\"text-align: right;\">\n      <th></th>\n      <th>id</th>\n      <th>name</th>\n      <th>num_tracks</th>\n    </tr>\n  </thead>\n  <tbody>\n    <tr>\n      <th>0</th>\n      <td>37i9dQZF1DWSRc3WJklgBs</td>\n      <td>Heart Beats</td>\n      <td>198</td>\n    </tr>\n    <tr>\n      <th>1</th>\n      <td>37i9dQZF1DX843Qf4lrFtZ</td>\n      <td>Young, Wild &amp; Free</td>\n      <td>100</td>\n    </tr>\n    <tr>\n      <th>2</th>\n      <td>37i9dQZF1DX4bSrsRWE9cd</td>\n      <td>Bliss</td>\n      <td>75</td>\n    </tr>\n    <tr>\n      <th>3</th>\n      <td>37i9dQZF1DX1BGjF5N5O7F</td>\n      <td>Sexy As Folk</td>\n      <td>50</td>\n    </tr>\n    <tr>\n      <th>4</th>\n      <td>37i9dQZF1DWZd79rJ6a7lp</td>\n      <td>Sleep</td>\n      <td>186</td>\n    </tr>\n    <tr>\n      <th>5</th>\n      <td>37i9dQZF1DX5Ejj0EkURtP</td>\n      <td>All Out 10s</td>\n      <td>150</td>\n    </tr>\n    <tr>\n      <th>6</th>\n      <td>37i9dQZF1DX4WYpdgoIcn6</td>\n      <td>Chill Hits</td>\n      <td>130</td>\n    </tr>\n    <tr>\n      <th>7</th>\n      <td>37i9dQZF1DWY4xHQp97fN6</td>\n      <td>Get Turnt</td>\n      <td>100</td>\n    </tr>\n    <tr>\n      <th>8</th>\n      <td>37i9dQZF1DX2yvmlOdMYzV</td>\n      <td>Low-Key</td>\n      <td>100</td>\n    </tr>\n    <tr>\n      <th>9</th>\n      <td>37i9dQZF1DX1aA8os1ylFZ</td>\n      <td>BAE</td>\n      <td>100</td>\n    </tr>\n    <tr>\n      <th>10</th>\n      <td>37i9dQZF1DX0QKpU3cGsyb</td>\n      <td>Bedroom Jams</td>\n      <td>70</td>\n    </tr>\n    <tr>\n      <th>11</th>\n      <td>37i9dQZF1DX6xOPeSOGone</td>\n      <td>Soft Rock</td>\n      <td>100</td>\n    </tr>\n  </tbody>\n</table>\n</div>"
     },
     "metadata": {},
     "execution_count": 185
    }
   ],
   "source": [
    "df_pl_data"
   ]
  },
  {
   "cell_type": "code",
   "execution_count": 186,
   "metadata": {},
   "outputs": [],
   "source": [
    "# Returns Individual Tracks In Playlists\n",
    "def get_playlist_tracks(sp, playlist_id):\n",
    "    data_track = sp.playlist_tracks(playlist_id, fields=None, limit=100, offset=0, market=None)['items']\n",
    "    track_id = []\n",
    "    track_name = []\n",
    "    \n",
    "    for data in data_track:\n",
    "        track_id.append(data['track']['id'])\n",
    "        track_name.append(data['track']['name'])\n",
    "\n",
    "    return pd.DataFrame({\"track_id\":track_id, \"track_name\": track_name})"
   ]
  },
  {
   "cell_type": "code",
   "execution_count": 187,
   "metadata": {},
   "outputs": [
    {
     "output_type": "execute_result",
     "data": {
      "text/plain": [
       "                 track_id            track_name\n",
       "0  6FE2iI43OZnszFLuLtvvmg               Classic\n",
       "1  3DmW6y7wTEYHJZlLo1r6XJ                Shower\n",
       "2  4E5P1XyAFtrjpiIxkydly4                Replay\n",
       "3  3E7dfMvvCLUddWissuqMwr   Party In The U.S.A.\n",
       "4  1CQ2cMfrmFM1YdfmjENKVE  She Looks So Perfect"
      ],
      "text/html": "<div>\n<style scoped>\n    .dataframe tbody tr th:only-of-type {\n        vertical-align: middle;\n    }\n\n    .dataframe tbody tr th {\n        vertical-align: top;\n    }\n\n    .dataframe thead th {\n        text-align: right;\n    }\n</style>\n<table border=\"1\" class=\"dataframe\">\n  <thead>\n    <tr style=\"text-align: right;\">\n      <th></th>\n      <th>track_id</th>\n      <th>track_name</th>\n    </tr>\n  </thead>\n  <tbody>\n    <tr>\n      <th>0</th>\n      <td>6FE2iI43OZnszFLuLtvvmg</td>\n      <td>Classic</td>\n    </tr>\n    <tr>\n      <th>1</th>\n      <td>3DmW6y7wTEYHJZlLo1r6XJ</td>\n      <td>Shower</td>\n    </tr>\n    <tr>\n      <th>2</th>\n      <td>4E5P1XyAFtrjpiIxkydly4</td>\n      <td>Replay</td>\n    </tr>\n    <tr>\n      <th>3</th>\n      <td>3E7dfMvvCLUddWissuqMwr</td>\n      <td>Party In The U.S.A.</td>\n    </tr>\n    <tr>\n      <th>4</th>\n      <td>1CQ2cMfrmFM1YdfmjENKVE</td>\n      <td>She Looks So Perfect</td>\n    </tr>\n  </tbody>\n</table>\n</div>"
     },
     "metadata": {},
     "execution_count": 187
    }
   ],
   "source": [
    "get_playlist_tracks(sp, '37i9dQZF1DWZKuerrwoAGz').head()"
   ]
  },
  {
   "cell_type": "code",
   "execution_count": 188,
   "metadata": {},
   "outputs": [],
   "source": [
    "# Function for getting audio features of individual tracks\n",
    "def get_audio_features(sp, playlist_id):\n",
    "    playlist = get_playlist_tracks(sp, playlist_id)\n",
    "    audio_features = []\n",
    "    for i in range(len(playlist)):\n",
    "        song_data_id = playlist['track_id'][i]\n",
    "        audio_features.append(sp.audio_features(song_data_id))\n",
    "    features_array = []\n",
    "    for features in audio_features:\n",
    "        features = features[0]\n",
    "        features_array.append([features['danceability'],\n",
    "                              features['acousticness'],\n",
    "                              features['energy'], \n",
    "                              features['tempo'],\n",
    "                              features['instrumentalness'], \n",
    "                              features['loudness'],\n",
    "                              features['liveness'],\n",
    "                              features['duration_ms'],\n",
    "                              features['key'],\n",
    "                              features['valence'],\n",
    "                              features['speechiness']\n",
    "                             ])\n",
    "    df_audio_features = pd.DataFrame(features_array, columns=['danceability', 'acousticness', 'energy', 'tempo', 'instrumentalness', 'loudness', 'liveness', 'duration_ms', 'key', 'valence', 'speechiness'])\n",
    "    # DataFrame with audio features and playlist id/name\n",
    "    df_playlist_features = pd.concat([playlist, df_audio_features], axis=1)\n",
    "    df_playlist_features.set_index('track_name', inplace=True, drop=True)\n",
    "    return df_playlist_features"
   ]
  },
  {
   "cell_type": "code",
   "execution_count": 189,
   "metadata": {},
   "outputs": [
    {
     "output_type": "execute_result",
     "data": {
      "text/plain": [
       "                                                              track_id  \\\n",
       "track_name                                                               \n",
       "Beautiful Mistakes (feat. Megan Thee Stallion)  6fRxMU4LWwyaSSowV441IU   \n",
       "Met Him Last Night (feat. Ariana Grande)        0BI0hfbmqybnd3TezrDME3   \n",
       "BED                                             7jXQUrVhEpXdymfFWNDnQW   \n",
       "Peaches (feat. Daniel Caesar & Giveon)          4iJyoBOLtHqaGxP12qzhQI   \n",
       "deja vu                                         61KpQadow081I2AsbeLcsb   \n",
       "\n",
       "                                                danceability  acousticness  \\\n",
       "track_name                                                                   \n",
       "Beautiful Mistakes (feat. Megan Thee Stallion)         0.713        0.0377   \n",
       "Met Him Last Night (feat. Ariana Grande)               0.538        0.2200   \n",
       "BED                                                    0.663        0.0134   \n",
       "Peaches (feat. Daniel Caesar & Giveon)                 0.677        0.3210   \n",
       "deja vu                                                0.439        0.5930   \n",
       "\n",
       "                                                energy    tempo  \\\n",
       "track_name                                                        \n",
       "Beautiful Mistakes (feat. Megan Thee Stallion)   0.676   99.048   \n",
       "Met Him Last Night (feat. Ariana Grande)         0.512  144.978   \n",
       "BED                                              0.783  123.986   \n",
       "Peaches (feat. Daniel Caesar & Giveon)           0.696   90.030   \n",
       "deja vu                                          0.610  181.088   \n",
       "\n",
       "                                                instrumentalness  loudness  \\\n",
       "track_name                                                                   \n",
       "Beautiful Mistakes (feat. Megan Thee Stallion)          0.000000    -5.483   \n",
       "Met Him Last Night (feat. Ariana Grande)                0.000000    -4.548   \n",
       "BED                                                     0.001790    -4.585   \n",
       "Peaches (feat. Daniel Caesar & Giveon)                  0.000000    -6.181   \n",
       "deja vu                                                 0.000011    -7.236   \n",
       "\n",
       "                                                liveness  duration_ms  key  \\\n",
       "track_name                                                                   \n",
       "Beautiful Mistakes (feat. Megan Thee Stallion)     0.154       227395   10   \n",
       "Met Him Last Night (feat. Ariana Grande)           0.101       204632    4   \n",
       "BED                                                0.325       178088    6   \n",
       "Peaches (feat. Daniel Caesar & Giveon)             0.420       198082    0   \n",
       "deja vu                                            0.341       215508    9   \n",
       "\n",
       "                                                valence  speechiness  \n",
       "track_name                                                            \n",
       "Beautiful Mistakes (feat. Megan Thee Stallion)    0.721       0.0270  \n",
       "Met Him Last Night (feat. Ariana Grande)          0.120       0.0262  \n",
       "BED                                               0.622       0.0393  \n",
       "Peaches (feat. Daniel Caesar & Giveon)            0.464       0.1190  \n",
       "deja vu                                           0.172       0.1160  "
      ],
      "text/html": "<div>\n<style scoped>\n    .dataframe tbody tr th:only-of-type {\n        vertical-align: middle;\n    }\n\n    .dataframe tbody tr th {\n        vertical-align: top;\n    }\n\n    .dataframe thead th {\n        text-align: right;\n    }\n</style>\n<table border=\"1\" class=\"dataframe\">\n  <thead>\n    <tr style=\"text-align: right;\">\n      <th></th>\n      <th>track_id</th>\n      <th>danceability</th>\n      <th>acousticness</th>\n      <th>energy</th>\n      <th>tempo</th>\n      <th>instrumentalness</th>\n      <th>loudness</th>\n      <th>liveness</th>\n      <th>duration_ms</th>\n      <th>key</th>\n      <th>valence</th>\n      <th>speechiness</th>\n    </tr>\n    <tr>\n      <th>track_name</th>\n      <th></th>\n      <th></th>\n      <th></th>\n      <th></th>\n      <th></th>\n      <th></th>\n      <th></th>\n      <th></th>\n      <th></th>\n      <th></th>\n      <th></th>\n      <th></th>\n    </tr>\n  </thead>\n  <tbody>\n    <tr>\n      <th>Beautiful Mistakes (feat. Megan Thee Stallion)</th>\n      <td>6fRxMU4LWwyaSSowV441IU</td>\n      <td>0.713</td>\n      <td>0.0377</td>\n      <td>0.676</td>\n      <td>99.048</td>\n      <td>0.000000</td>\n      <td>-5.483</td>\n      <td>0.154</td>\n      <td>227395</td>\n      <td>10</td>\n      <td>0.721</td>\n      <td>0.0270</td>\n    </tr>\n    <tr>\n      <th>Met Him Last Night (feat. Ariana Grande)</th>\n      <td>0BI0hfbmqybnd3TezrDME3</td>\n      <td>0.538</td>\n      <td>0.2200</td>\n      <td>0.512</td>\n      <td>144.978</td>\n      <td>0.000000</td>\n      <td>-4.548</td>\n      <td>0.101</td>\n      <td>204632</td>\n      <td>4</td>\n      <td>0.120</td>\n      <td>0.0262</td>\n    </tr>\n    <tr>\n      <th>BED</th>\n      <td>7jXQUrVhEpXdymfFWNDnQW</td>\n      <td>0.663</td>\n      <td>0.0134</td>\n      <td>0.783</td>\n      <td>123.986</td>\n      <td>0.001790</td>\n      <td>-4.585</td>\n      <td>0.325</td>\n      <td>178088</td>\n      <td>6</td>\n      <td>0.622</td>\n      <td>0.0393</td>\n    </tr>\n    <tr>\n      <th>Peaches (feat. Daniel Caesar &amp; Giveon)</th>\n      <td>4iJyoBOLtHqaGxP12qzhQI</td>\n      <td>0.677</td>\n      <td>0.3210</td>\n      <td>0.696</td>\n      <td>90.030</td>\n      <td>0.000000</td>\n      <td>-6.181</td>\n      <td>0.420</td>\n      <td>198082</td>\n      <td>0</td>\n      <td>0.464</td>\n      <td>0.1190</td>\n    </tr>\n    <tr>\n      <th>deja vu</th>\n      <td>61KpQadow081I2AsbeLcsb</td>\n      <td>0.439</td>\n      <td>0.5930</td>\n      <td>0.610</td>\n      <td>181.088</td>\n      <td>0.000011</td>\n      <td>-7.236</td>\n      <td>0.341</td>\n      <td>215508</td>\n      <td>9</td>\n      <td>0.172</td>\n      <td>0.1160</td>\n    </tr>\n  </tbody>\n</table>\n</div>"
     },
     "metadata": {},
     "execution_count": 189
    }
   ],
   "source": [
    "get_audio_features(sp, '37i9dQZF1DXcRXFNfZr7Tp').head()"
   ]
  },
  {
   "cell_type": "code",
   "execution_count": 190,
   "metadata": {},
   "outputs": [],
   "source": [
    "# Finding mean of audio features for each playlist\n",
    "def audio_features_mean(sp, playlist_id):\n",
    "    Playlist = get_audio_features(sp, playlist_id)\n",
    "    return pd.DataFrame(Playlist.mean(), columns= [playlist_id])"
   ]
  },
  {
   "cell_type": "code",
   "execution_count": 191,
   "metadata": {},
   "outputs": [
    {
     "output_type": "execute_result",
     "data": {
      "text/plain": [
       "                  37i9dQZF1DXbYM3nMM0oPk\n",
       "danceability                    0.709173\n",
       "acousticness                    0.181992\n",
       "energy                          0.645507\n",
       "tempo                         121.424267\n",
       "instrumentalness                0.008807\n",
       "loudness                       -5.947773\n",
       "liveness                        0.162463\n",
       "duration_ms                188870.400000\n",
       "key                             5.253333\n",
       "valence                         0.545632\n",
       "speechiness                     0.116663"
      ],
      "text/html": "<div>\n<style scoped>\n    .dataframe tbody tr th:only-of-type {\n        vertical-align: middle;\n    }\n\n    .dataframe tbody tr th {\n        vertical-align: top;\n    }\n\n    .dataframe thead th {\n        text-align: right;\n    }\n</style>\n<table border=\"1\" class=\"dataframe\">\n  <thead>\n    <tr style=\"text-align: right;\">\n      <th></th>\n      <th>37i9dQZF1DXbYM3nMM0oPk</th>\n    </tr>\n  </thead>\n  <tbody>\n    <tr>\n      <th>danceability</th>\n      <td>0.709173</td>\n    </tr>\n    <tr>\n      <th>acousticness</th>\n      <td>0.181992</td>\n    </tr>\n    <tr>\n      <th>energy</th>\n      <td>0.645507</td>\n    </tr>\n    <tr>\n      <th>tempo</th>\n      <td>121.424267</td>\n    </tr>\n    <tr>\n      <th>instrumentalness</th>\n      <td>0.008807</td>\n    </tr>\n    <tr>\n      <th>loudness</th>\n      <td>-5.947773</td>\n    </tr>\n    <tr>\n      <th>liveness</th>\n      <td>0.162463</td>\n    </tr>\n    <tr>\n      <th>duration_ms</th>\n      <td>188870.400000</td>\n    </tr>\n    <tr>\n      <th>key</th>\n      <td>5.253333</td>\n    </tr>\n    <tr>\n      <th>valence</th>\n      <td>0.545632</td>\n    </tr>\n    <tr>\n      <th>speechiness</th>\n      <td>0.116663</td>\n    </tr>\n  </tbody>\n</table>\n</div>"
     },
     "metadata": {},
     "execution_count": 191
    }
   ],
   "source": [
    "audio_features_mean(sp, '37i9dQZF1DXbYM3nMM0oPk')"
   ]
  },
  {
   "cell_type": "code",
   "execution_count": 192,
   "metadata": {},
   "outputs": [],
   "source": [
    "# Merges average of audio features of each playlist into a single DataFrame\n",
    "primary_df = []\n",
    "for i in range(len(df_pl_data)):\n",
    "    primary_df.append(audio_features_mean(sp, df_pl_data['id'][i]))"
   ]
  },
  {
   "cell_type": "code",
   "execution_count": 193,
   "metadata": {},
   "outputs": [
    {
     "output_type": "execute_result",
     "data": {
      "text/plain": [
       "[                  37i9dQZF1DWSRc3WJklgBs\n",
       " danceability                    0.617610\n",
       " acousticness                    0.107817\n",
       " energy                          0.766540\n",
       " tempo                         123.798780\n",
       " instrumentalness                0.025127\n",
       " loudness                       -5.508830\n",
       " liveness                        0.180683\n",
       " duration_ms                188617.020000\n",
       " key                             5.890000\n",
       " valence                         0.414486\n",
       " speechiness                     0.067123,\n",
       "                   37i9dQZF1DX843Qf4lrFtZ\n",
       " danceability                    0.677310\n",
       " acousticness                    0.160722\n",
       " energy                          0.691900\n",
       " tempo                         119.616990\n",
       " instrumentalness                0.000160\n",
       " loudness                       -5.372790\n",
       " liveness                        0.170980\n",
       " duration_ms                178213.750000\n",
       " key                             5.480000\n",
       " valence                         0.562920\n",
       " speechiness                     0.083545,\n",
       "                   37i9dQZF1DX4bSrsRWE9cd\n",
       " danceability                    0.493147\n",
       " acousticness                    0.816849\n",
       " energy                          0.235191\n",
       " tempo                         118.281827\n",
       " instrumentalness                0.162121\n",
       " loudness                      -14.750040\n",
       " liveness                        0.132576\n",
       " duration_ms                231474.000000\n",
       " key                             3.813333\n",
       " valence                         0.249524\n",
       " speechiness                     0.038636,\n",
       "                   37i9dQZF1DX1BGjF5N5O7F\n",
       " danceability                    0.527700\n",
       " acousticness                    0.604032\n",
       " energy                          0.397290\n",
       " tempo                         119.284680\n",
       " instrumentalness                0.040691\n",
       " loudness                      -10.190840\n",
       " liveness                        0.158820\n",
       " duration_ms                226657.980000\n",
       " key                             4.420000\n",
       " valence                         0.330820\n",
       " speechiness                     0.049098,\n",
       "                   37i9dQZF1DWZd79rJ6a7lp\n",
       " danceability                    0.160678\n",
       " acousticness                    0.944250\n",
       " energy                          0.032744\n",
       " tempo                          81.433500\n",
       " instrumentalness                0.883610\n",
       " loudness                      -31.683130\n",
       " liveness                        0.106823\n",
       " duration_ms                185802.540000\n",
       " key                             5.060000\n",
       " valence                         0.077998\n",
       " speechiness                     0.041315,\n",
       "                   37i9dQZF1DX5Ejj0EkURtP\n",
       " danceability                    0.684540\n",
       " acousticness                    0.137194\n",
       " energy                          0.728110\n",
       " tempo                         117.070070\n",
       " instrumentalness                0.002972\n",
       " loudness                       -5.043100\n",
       " liveness                        0.178658\n",
       " duration_ms                214663.690000\n",
       " key                             5.230000\n",
       " valence                         0.590890\n",
       " speechiness                     0.093440,\n",
       "                   37i9dQZF1DX4WYpdgoIcn6\n",
       " danceability                    0.650250\n",
       " acousticness                    0.356874\n",
       " energy                          0.525280\n",
       " tempo                         116.588920\n",
       " instrumentalness                0.005211\n",
       " loudness                       -7.176000\n",
       " liveness                        0.172499\n",
       " duration_ms                186238.160000\n",
       " key                             4.990000\n",
       " valence                         0.444416\n",
       " speechiness                     0.090021,\n",
       "                   37i9dQZF1DWY4xHQp97fN6\n",
       " danceability                    0.806070\n",
       " acousticness                    0.115721\n",
       " energy                          0.621680\n",
       " tempo                         128.961100\n",
       " instrumentalness                0.006484\n",
       " loudness                       -6.459370\n",
       " liveness                        0.163975\n",
       " duration_ms                182556.170000\n",
       " key                             4.640000\n",
       " valence                         0.497988\n",
       " speechiness                     0.246112,\n",
       "                   37i9dQZF1DX2yvmlOdMYzV\n",
       " danceability                    0.674990\n",
       " acousticness                    0.419566\n",
       " energy                          0.479430\n",
       " tempo                         108.973900\n",
       " instrumentalness                0.041125\n",
       " loudness                       -8.804380\n",
       " liveness                        0.149906\n",
       " duration_ms                198020.250000\n",
       " key                             5.350000\n",
       " valence                         0.462918\n",
       " speechiness                     0.134159,\n",
       "                   37i9dQZF1DX1aA8os1ylFZ\n",
       " danceability                    0.583160\n",
       " acousticness                    0.508304\n",
       " energy                          0.454160\n",
       " tempo                         114.335140\n",
       " instrumentalness                0.002175\n",
       " loudness                       -8.342350\n",
       " liveness                        0.161194\n",
       " duration_ms                193878.200000\n",
       " key                             4.980000\n",
       " valence                         0.370918\n",
       " speechiness                     0.076026,\n",
       "                   37i9dQZF1DX0QKpU3cGsyb\n",
       " danceability                    0.624714\n",
       " acousticness                    0.330599\n",
       " energy                          0.515786\n",
       " tempo                         117.082914\n",
       " instrumentalness                0.003760\n",
       " loudness                       -8.000343\n",
       " liveness                        0.164307\n",
       " duration_ms                204737.700000\n",
       " key                             5.285714\n",
       " valence                         0.424427\n",
       " speechiness                     0.102944,\n",
       "                   37i9dQZF1DX6xOPeSOGone\n",
       " danceability                    0.529590\n",
       " acousticness                    0.279832\n",
       " energy                          0.557610\n",
       " tempo                         120.550960\n",
       " instrumentalness                0.013119\n",
       " loudness                       -8.364110\n",
       " liveness                        0.154143\n",
       " duration_ms                251054.760000\n",
       " key                             4.870000\n",
       " valence                         0.431618\n",
       " speechiness                     0.034616]"
      ]
     },
     "metadata": {},
     "execution_count": 193
    }
   ],
   "source": [
    "primary_df"
   ]
  },
  {
   "cell_type": "code",
   "execution_count": 194,
   "metadata": {},
   "outputs": [
    {
     "output_type": "execute_result",
     "data": {
      "text/plain": [
       "                  37i9dQZF1DWSRc3WJklgBs  37i9dQZF1DX843Qf4lrFtZ  \\\n",
       "danceability                    0.617610                0.677310   \n",
       "acousticness                    0.107817                0.160722   \n",
       "energy                          0.766540                0.691900   \n",
       "tempo                         123.798780              119.616990   \n",
       "instrumentalness                0.025127                0.000160   \n",
       "loudness                       -5.508830               -5.372790   \n",
       "liveness                        0.180683                0.170980   \n",
       "duration_ms                188617.020000           178213.750000   \n",
       "key                             5.890000                5.480000   \n",
       "valence                         0.414486                0.562920   \n",
       "speechiness                     0.067123                0.083545   \n",
       "\n",
       "                  37i9dQZF1DX4bSrsRWE9cd  37i9dQZF1DX1BGjF5N5O7F  \\\n",
       "danceability                    0.493147                0.527700   \n",
       "acousticness                    0.816849                0.604032   \n",
       "energy                          0.235191                0.397290   \n",
       "tempo                         118.281827              119.284680   \n",
       "instrumentalness                0.162121                0.040691   \n",
       "loudness                      -14.750040              -10.190840   \n",
       "liveness                        0.132576                0.158820   \n",
       "duration_ms                231474.000000           226657.980000   \n",
       "key                             3.813333                4.420000   \n",
       "valence                         0.249524                0.330820   \n",
       "speechiness                     0.038636                0.049098   \n",
       "\n",
       "                  37i9dQZF1DWZd79rJ6a7lp  37i9dQZF1DX5Ejj0EkURtP  \\\n",
       "danceability                    0.160678                0.684540   \n",
       "acousticness                    0.944250                0.137194   \n",
       "energy                          0.032744                0.728110   \n",
       "tempo                          81.433500              117.070070   \n",
       "instrumentalness                0.883610                0.002972   \n",
       "loudness                      -31.683130               -5.043100   \n",
       "liveness                        0.106823                0.178658   \n",
       "duration_ms                185802.540000           214663.690000   \n",
       "key                             5.060000                5.230000   \n",
       "valence                         0.077998                0.590890   \n",
       "speechiness                     0.041315                0.093440   \n",
       "\n",
       "                  37i9dQZF1DX4WYpdgoIcn6  37i9dQZF1DWY4xHQp97fN6  \\\n",
       "danceability                    0.650250                0.806070   \n",
       "acousticness                    0.356874                0.115721   \n",
       "energy                          0.525280                0.621680   \n",
       "tempo                         116.588920              128.961100   \n",
       "instrumentalness                0.005211                0.006484   \n",
       "loudness                       -7.176000               -6.459370   \n",
       "liveness                        0.172499                0.163975   \n",
       "duration_ms                186238.160000           182556.170000   \n",
       "key                             4.990000                4.640000   \n",
       "valence                         0.444416                0.497988   \n",
       "speechiness                     0.090021                0.246112   \n",
       "\n",
       "                  37i9dQZF1DX2yvmlOdMYzV  37i9dQZF1DX1aA8os1ylFZ  \\\n",
       "danceability                    0.674990                0.583160   \n",
       "acousticness                    0.419566                0.508304   \n",
       "energy                          0.479430                0.454160   \n",
       "tempo                         108.973900              114.335140   \n",
       "instrumentalness                0.041125                0.002175   \n",
       "loudness                       -8.804380               -8.342350   \n",
       "liveness                        0.149906                0.161194   \n",
       "duration_ms                198020.250000           193878.200000   \n",
       "key                             5.350000                4.980000   \n",
       "valence                         0.462918                0.370918   \n",
       "speechiness                     0.134159                0.076026   \n",
       "\n",
       "                  37i9dQZF1DX0QKpU3cGsyb  37i9dQZF1DX6xOPeSOGone  \n",
       "danceability                    0.624714                0.529590  \n",
       "acousticness                    0.330599                0.279832  \n",
       "energy                          0.515786                0.557610  \n",
       "tempo                         117.082914              120.550960  \n",
       "instrumentalness                0.003760                0.013119  \n",
       "loudness                       -8.000343               -8.364110  \n",
       "liveness                        0.164307                0.154143  \n",
       "duration_ms                204737.700000           251054.760000  \n",
       "key                             5.285714                4.870000  \n",
       "valence                         0.424427                0.431618  \n",
       "speechiness                     0.102944                0.034616  "
      ],
      "text/html": "<div>\n<style scoped>\n    .dataframe tbody tr th:only-of-type {\n        vertical-align: middle;\n    }\n\n    .dataframe tbody tr th {\n        vertical-align: top;\n    }\n\n    .dataframe thead th {\n        text-align: right;\n    }\n</style>\n<table border=\"1\" class=\"dataframe\">\n  <thead>\n    <tr style=\"text-align: right;\">\n      <th></th>\n      <th>37i9dQZF1DWSRc3WJklgBs</th>\n      <th>37i9dQZF1DX843Qf4lrFtZ</th>\n      <th>37i9dQZF1DX4bSrsRWE9cd</th>\n      <th>37i9dQZF1DX1BGjF5N5O7F</th>\n      <th>37i9dQZF1DWZd79rJ6a7lp</th>\n      <th>37i9dQZF1DX5Ejj0EkURtP</th>\n      <th>37i9dQZF1DX4WYpdgoIcn6</th>\n      <th>37i9dQZF1DWY4xHQp97fN6</th>\n      <th>37i9dQZF1DX2yvmlOdMYzV</th>\n      <th>37i9dQZF1DX1aA8os1ylFZ</th>\n      <th>37i9dQZF1DX0QKpU3cGsyb</th>\n      <th>37i9dQZF1DX6xOPeSOGone</th>\n    </tr>\n  </thead>\n  <tbody>\n    <tr>\n      <th>danceability</th>\n      <td>0.617610</td>\n      <td>0.677310</td>\n      <td>0.493147</td>\n      <td>0.527700</td>\n      <td>0.160678</td>\n      <td>0.684540</td>\n      <td>0.650250</td>\n      <td>0.806070</td>\n      <td>0.674990</td>\n      <td>0.583160</td>\n      <td>0.624714</td>\n      <td>0.529590</td>\n    </tr>\n    <tr>\n      <th>acousticness</th>\n      <td>0.107817</td>\n      <td>0.160722</td>\n      <td>0.816849</td>\n      <td>0.604032</td>\n      <td>0.944250</td>\n      <td>0.137194</td>\n      <td>0.356874</td>\n      <td>0.115721</td>\n      <td>0.419566</td>\n      <td>0.508304</td>\n      <td>0.330599</td>\n      <td>0.279832</td>\n    </tr>\n    <tr>\n      <th>energy</th>\n      <td>0.766540</td>\n      <td>0.691900</td>\n      <td>0.235191</td>\n      <td>0.397290</td>\n      <td>0.032744</td>\n      <td>0.728110</td>\n      <td>0.525280</td>\n      <td>0.621680</td>\n      <td>0.479430</td>\n      <td>0.454160</td>\n      <td>0.515786</td>\n      <td>0.557610</td>\n    </tr>\n    <tr>\n      <th>tempo</th>\n      <td>123.798780</td>\n      <td>119.616990</td>\n      <td>118.281827</td>\n      <td>119.284680</td>\n      <td>81.433500</td>\n      <td>117.070070</td>\n      <td>116.588920</td>\n      <td>128.961100</td>\n      <td>108.973900</td>\n      <td>114.335140</td>\n      <td>117.082914</td>\n      <td>120.550960</td>\n    </tr>\n    <tr>\n      <th>instrumentalness</th>\n      <td>0.025127</td>\n      <td>0.000160</td>\n      <td>0.162121</td>\n      <td>0.040691</td>\n      <td>0.883610</td>\n      <td>0.002972</td>\n      <td>0.005211</td>\n      <td>0.006484</td>\n      <td>0.041125</td>\n      <td>0.002175</td>\n      <td>0.003760</td>\n      <td>0.013119</td>\n    </tr>\n    <tr>\n      <th>loudness</th>\n      <td>-5.508830</td>\n      <td>-5.372790</td>\n      <td>-14.750040</td>\n      <td>-10.190840</td>\n      <td>-31.683130</td>\n      <td>-5.043100</td>\n      <td>-7.176000</td>\n      <td>-6.459370</td>\n      <td>-8.804380</td>\n      <td>-8.342350</td>\n      <td>-8.000343</td>\n      <td>-8.364110</td>\n    </tr>\n    <tr>\n      <th>liveness</th>\n      <td>0.180683</td>\n      <td>0.170980</td>\n      <td>0.132576</td>\n      <td>0.158820</td>\n      <td>0.106823</td>\n      <td>0.178658</td>\n      <td>0.172499</td>\n      <td>0.163975</td>\n      <td>0.149906</td>\n      <td>0.161194</td>\n      <td>0.164307</td>\n      <td>0.154143</td>\n    </tr>\n    <tr>\n      <th>duration_ms</th>\n      <td>188617.020000</td>\n      <td>178213.750000</td>\n      <td>231474.000000</td>\n      <td>226657.980000</td>\n      <td>185802.540000</td>\n      <td>214663.690000</td>\n      <td>186238.160000</td>\n      <td>182556.170000</td>\n      <td>198020.250000</td>\n      <td>193878.200000</td>\n      <td>204737.700000</td>\n      <td>251054.760000</td>\n    </tr>\n    <tr>\n      <th>key</th>\n      <td>5.890000</td>\n      <td>5.480000</td>\n      <td>3.813333</td>\n      <td>4.420000</td>\n      <td>5.060000</td>\n      <td>5.230000</td>\n      <td>4.990000</td>\n      <td>4.640000</td>\n      <td>5.350000</td>\n      <td>4.980000</td>\n      <td>5.285714</td>\n      <td>4.870000</td>\n    </tr>\n    <tr>\n      <th>valence</th>\n      <td>0.414486</td>\n      <td>0.562920</td>\n      <td>0.249524</td>\n      <td>0.330820</td>\n      <td>0.077998</td>\n      <td>0.590890</td>\n      <td>0.444416</td>\n      <td>0.497988</td>\n      <td>0.462918</td>\n      <td>0.370918</td>\n      <td>0.424427</td>\n      <td>0.431618</td>\n    </tr>\n    <tr>\n      <th>speechiness</th>\n      <td>0.067123</td>\n      <td>0.083545</td>\n      <td>0.038636</td>\n      <td>0.049098</td>\n      <td>0.041315</td>\n      <td>0.093440</td>\n      <td>0.090021</td>\n      <td>0.246112</td>\n      <td>0.134159</td>\n      <td>0.076026</td>\n      <td>0.102944</td>\n      <td>0.034616</td>\n    </tr>\n  </tbody>\n</table>\n</div>"
     },
     "metadata": {},
     "execution_count": 194
    }
   ],
   "source": [
    "# Turns playlist feature mean data into correctly formatted DataFrame\n",
    "X_data = reduce(lambda left,right: pd.merge(left,right, left_index=True, right_index=True), primary_df)\n",
    "X_data"
   ]
  },
  {
   "cell_type": "code",
   "execution_count": 195,
   "metadata": {},
   "outputs": [
    {
     "output_type": "execute_result",
     "data": {
      "text/plain": [
       "                     top_tracks\n",
       "acousticness           0.038250\n",
       "danceability           0.655500\n",
       "duration_ms       204280.000000\n",
       "energy                 0.701500\n",
       "instrumentalness       0.000695\n",
       "key                    7.000000\n",
       "liveness               0.127500\n",
       "loudness              -5.165500\n",
       "speechiness            0.060100\n",
       "tempo                120.641500\n",
       "valence                0.542000"
      ],
      "text/html": "<div>\n<style scoped>\n    .dataframe tbody tr th:only-of-type {\n        vertical-align: middle;\n    }\n\n    .dataframe tbody tr th {\n        vertical-align: top;\n    }\n\n    .dataframe thead th {\n        text-align: right;\n    }\n</style>\n<table border=\"1\" class=\"dataframe\">\n  <thead>\n    <tr style=\"text-align: right;\">\n      <th></th>\n      <th>top_tracks</th>\n    </tr>\n  </thead>\n  <tbody>\n    <tr>\n      <th>acousticness</th>\n      <td>0.038250</td>\n    </tr>\n    <tr>\n      <th>danceability</th>\n      <td>0.655500</td>\n    </tr>\n    <tr>\n      <th>duration_ms</th>\n      <td>204280.000000</td>\n    </tr>\n    <tr>\n      <th>energy</th>\n      <td>0.701500</td>\n    </tr>\n    <tr>\n      <th>instrumentalness</th>\n      <td>0.000695</td>\n    </tr>\n    <tr>\n      <th>key</th>\n      <td>7.000000</td>\n    </tr>\n    <tr>\n      <th>liveness</th>\n      <td>0.127500</td>\n    </tr>\n    <tr>\n      <th>loudness</th>\n      <td>-5.165500</td>\n    </tr>\n    <tr>\n      <th>speechiness</th>\n      <td>0.060100</td>\n    </tr>\n    <tr>\n      <th>tempo</th>\n      <td>120.641500</td>\n    </tr>\n    <tr>\n      <th>valence</th>\n      <td>0.542000</td>\n    </tr>\n  </tbody>\n</table>\n</div>"
     },
     "metadata": {},
     "execution_count": 195
    }
   ],
   "source": [
    "# Turns my favorite track data (Y_data) into a DataFrame with audio features averaged\n",
    "# maybe change mean to median\n",
    "instrumental_mean = top_tracks_df['instrumentalness'].mean()\n",
    "Y_data = pd.DataFrame(top_tracks_df.median(), columns=['top_tracks']).drop('mode')\n",
    "Y_data.loc['instrumentalness'] = instrumental_mean\n",
    "Y_data"
   ]
  },
  {
   "cell_type": "code",
   "execution_count": 196,
   "metadata": {},
   "outputs": [
    {
     "output_type": "execute_result",
     "data": {
      "text/plain": [
       "                        importance\n",
       "37i9dQZF1DWZd79rJ6a7lp    0.353991\n",
       "37i9dQZF1DX4bSrsRWE9cd    0.108516\n",
       "37i9dQZF1DX6xOPeSOGone    0.083970\n",
       "37i9dQZF1DX1BGjF5N5O7F    0.082857\n",
       "37i9dQZF1DX5Ejj0EkURtP    0.059033\n",
       "37i9dQZF1DWSRc3WJklgBs    0.058453\n",
       "37i9dQZF1DX4WYpdgoIcn6    0.058306\n",
       "37i9dQZF1DX843Qf4lrFtZ    0.055326\n",
       "37i9dQZF1DWY4xHQp97fN6    0.050435\n",
       "37i9dQZF1DX0QKpU3cGsyb    0.036293\n",
       "37i9dQZF1DX1aA8os1ylFZ    0.032312\n",
       "37i9dQZF1DX2yvmlOdMYzV    0.020508"
      ],
      "text/html": "<div>\n<style scoped>\n    .dataframe tbody tr th:only-of-type {\n        vertical-align: middle;\n    }\n\n    .dataframe tbody tr th {\n        vertical-align: top;\n    }\n\n    .dataframe thead th {\n        text-align: right;\n    }\n</style>\n<table border=\"1\" class=\"dataframe\">\n  <thead>\n    <tr style=\"text-align: right;\">\n      <th></th>\n      <th>importance</th>\n    </tr>\n  </thead>\n  <tbody>\n    <tr>\n      <th>37i9dQZF1DWZd79rJ6a7lp</th>\n      <td>0.353991</td>\n    </tr>\n    <tr>\n      <th>37i9dQZF1DX4bSrsRWE9cd</th>\n      <td>0.108516</td>\n    </tr>\n    <tr>\n      <th>37i9dQZF1DX6xOPeSOGone</th>\n      <td>0.083970</td>\n    </tr>\n    <tr>\n      <th>37i9dQZF1DX1BGjF5N5O7F</th>\n      <td>0.082857</td>\n    </tr>\n    <tr>\n      <th>37i9dQZF1DX5Ejj0EkURtP</th>\n      <td>0.059033</td>\n    </tr>\n    <tr>\n      <th>37i9dQZF1DWSRc3WJklgBs</th>\n      <td>0.058453</td>\n    </tr>\n    <tr>\n      <th>37i9dQZF1DX4WYpdgoIcn6</th>\n      <td>0.058306</td>\n    </tr>\n    <tr>\n      <th>37i9dQZF1DX843Qf4lrFtZ</th>\n      <td>0.055326</td>\n    </tr>\n    <tr>\n      <th>37i9dQZF1DWY4xHQp97fN6</th>\n      <td>0.050435</td>\n    </tr>\n    <tr>\n      <th>37i9dQZF1DX0QKpU3cGsyb</th>\n      <td>0.036293</td>\n    </tr>\n    <tr>\n      <th>37i9dQZF1DX1aA8os1ylFZ</th>\n      <td>0.032312</td>\n    </tr>\n    <tr>\n      <th>37i9dQZF1DX2yvmlOdMYzV</th>\n      <td>0.020508</td>\n    </tr>\n  </tbody>\n</table>\n</div>"
     },
     "metadata": {},
     "execution_count": 196
    }
   ],
   "source": [
    "# Model for predicting playlist of \"best-fit\" using feature_importances_\n",
    "from sklearn.ensemble import RandomForestRegressor\n",
    "\n",
    "model = RandomForestRegressor(random_state=44, max_depth=5, max_features=8, oob_score=True)\n",
    "model.fit(X_data, Y_data['top_tracks'])\n",
    "pl_rank = model.feature_importances_\n",
    "pl_importances = pd.DataFrame(pl_rank, index = X_data.columns, columns=['importance']).sort_values('importance',                                        ascending=False)\n",
    "\n",
    "pl_importances"
   ]
  },
  {
   "cell_type": "code",
   "execution_count": 197,
   "metadata": {},
   "outputs": [],
   "source": [
    "pl_t3 = pl_importances.index[0:3]\n",
    "frames = []\n",
    "for i in range(len(pl_t3)):\n",
    "    frame = get_audio_features(sp, pl_t3[i])\n",
    "    frames.append(frame)\n",
    "    \n",
    "recommended_pl = pd.concat(frames)"
   ]
  },
  {
   "cell_type": "code",
   "execution_count": 198,
   "metadata": {},
   "outputs": [
    {
     "output_type": "execute_result",
     "data": {
      "text/plain": [
       "                                     track_id  danceability  acousticness  \\\n",
       "track_name                                                                  \n",
       "Viento Estelar         0f5IlhiVWUUq4SGHyrRxIt         0.141         0.965   \n",
       "Beautiful Imagination  5LEHlRPjGcZ5RdagAwXpHS         0.102         0.797   \n",
       "Nepenthe               0kKOC50fPTnqmrYvtJInsT         0.133         0.993   \n",
       "Lenitivo               6PEwEkL4lzRbGMGH7j7kBB         0.183         0.987   \n",
       "Campus                 2PUoynqedBx15JbPYxzA5v         0.145         0.878   \n",
       "\n",
       "                        energy   tempo  instrumentalness  loudness  liveness  \\\n",
       "track_name                                                                     \n",
       "Viento Estelar         0.04050  59.418             0.966   -29.013    0.0983   \n",
       "Beautiful Imagination  0.03330  89.605             0.927   -34.177    0.1110   \n",
       "Nepenthe               0.00512  67.818             0.851   -33.295    0.0954   \n",
       "Lenitivo               0.01230  72.183             0.785   -34.571    0.0869   \n",
       "Campus                 0.01150  72.120             0.855   -28.292    0.1220   \n",
       "\n",
       "                       duration_ms  key  valence  speechiness  \n",
       "track_name                                                     \n",
       "Viento Estelar              185943    3   0.0378       0.0382  \n",
       "Beautiful Imagination       143053    3   0.0591       0.0476  \n",
       "Nepenthe                    151750    9   0.0495       0.0380  \n",
       "Lenitivo                    180625    9   0.0636       0.0409  \n",
       "Campus                      219474    0   0.0320       0.0421  "
      ],
      "text/html": "<div>\n<style scoped>\n    .dataframe tbody tr th:only-of-type {\n        vertical-align: middle;\n    }\n\n    .dataframe tbody tr th {\n        vertical-align: top;\n    }\n\n    .dataframe thead th {\n        text-align: right;\n    }\n</style>\n<table border=\"1\" class=\"dataframe\">\n  <thead>\n    <tr style=\"text-align: right;\">\n      <th></th>\n      <th>track_id</th>\n      <th>danceability</th>\n      <th>acousticness</th>\n      <th>energy</th>\n      <th>tempo</th>\n      <th>instrumentalness</th>\n      <th>loudness</th>\n      <th>liveness</th>\n      <th>duration_ms</th>\n      <th>key</th>\n      <th>valence</th>\n      <th>speechiness</th>\n    </tr>\n    <tr>\n      <th>track_name</th>\n      <th></th>\n      <th></th>\n      <th></th>\n      <th></th>\n      <th></th>\n      <th></th>\n      <th></th>\n      <th></th>\n      <th></th>\n      <th></th>\n      <th></th>\n      <th></th>\n    </tr>\n  </thead>\n  <tbody>\n    <tr>\n      <th>Viento Estelar</th>\n      <td>0f5IlhiVWUUq4SGHyrRxIt</td>\n      <td>0.141</td>\n      <td>0.965</td>\n      <td>0.04050</td>\n      <td>59.418</td>\n      <td>0.966</td>\n      <td>-29.013</td>\n      <td>0.0983</td>\n      <td>185943</td>\n      <td>3</td>\n      <td>0.0378</td>\n      <td>0.0382</td>\n    </tr>\n    <tr>\n      <th>Beautiful Imagination</th>\n      <td>5LEHlRPjGcZ5RdagAwXpHS</td>\n      <td>0.102</td>\n      <td>0.797</td>\n      <td>0.03330</td>\n      <td>89.605</td>\n      <td>0.927</td>\n      <td>-34.177</td>\n      <td>0.1110</td>\n      <td>143053</td>\n      <td>3</td>\n      <td>0.0591</td>\n      <td>0.0476</td>\n    </tr>\n    <tr>\n      <th>Nepenthe</th>\n      <td>0kKOC50fPTnqmrYvtJInsT</td>\n      <td>0.133</td>\n      <td>0.993</td>\n      <td>0.00512</td>\n      <td>67.818</td>\n      <td>0.851</td>\n      <td>-33.295</td>\n      <td>0.0954</td>\n      <td>151750</td>\n      <td>9</td>\n      <td>0.0495</td>\n      <td>0.0380</td>\n    </tr>\n    <tr>\n      <th>Lenitivo</th>\n      <td>6PEwEkL4lzRbGMGH7j7kBB</td>\n      <td>0.183</td>\n      <td>0.987</td>\n      <td>0.01230</td>\n      <td>72.183</td>\n      <td>0.785</td>\n      <td>-34.571</td>\n      <td>0.0869</td>\n      <td>180625</td>\n      <td>9</td>\n      <td>0.0636</td>\n      <td>0.0409</td>\n    </tr>\n    <tr>\n      <th>Campus</th>\n      <td>2PUoynqedBx15JbPYxzA5v</td>\n      <td>0.145</td>\n      <td>0.878</td>\n      <td>0.01150</td>\n      <td>72.120</td>\n      <td>0.855</td>\n      <td>-28.292</td>\n      <td>0.1220</td>\n      <td>219474</td>\n      <td>0</td>\n      <td>0.0320</td>\n      <td>0.0421</td>\n    </tr>\n  </tbody>\n</table>\n</div>"
     },
     "metadata": {},
     "execution_count": 198
    }
   ],
   "source": [
    "recommended_pl.head()"
   ]
  },
  {
   "cell_type": "code",
   "execution_count": 199,
   "metadata": {},
   "outputs": [
    {
     "output_type": "execute_result",
     "data": {
      "text/plain": [
       "                        acousticness  danceability  duration_ms   energy  \\\n",
       "track_id                                                                   \n",
       "0f5IlhiVWUUq4SGHyrRxIt         0.965         0.141       185943  0.04050   \n",
       "5LEHlRPjGcZ5RdagAwXpHS         0.797         0.102       143053  0.03330   \n",
       "0kKOC50fPTnqmrYvtJInsT         0.993         0.133       151750  0.00512   \n",
       "6PEwEkL4lzRbGMGH7j7kBB         0.987         0.183       180625  0.01230   \n",
       "2PUoynqedBx15JbPYxzA5v         0.878         0.145       219474  0.01150   \n",
       "\n",
       "                        instrumentalness  key  liveness  loudness  \\\n",
       "track_id                                                            \n",
       "0f5IlhiVWUUq4SGHyrRxIt             0.966    3    0.0983   -29.013   \n",
       "5LEHlRPjGcZ5RdagAwXpHS             0.927    3    0.1110   -34.177   \n",
       "0kKOC50fPTnqmrYvtJInsT             0.851    9    0.0954   -33.295   \n",
       "6PEwEkL4lzRbGMGH7j7kBB             0.785    9    0.0869   -34.571   \n",
       "2PUoynqedBx15JbPYxzA5v             0.855    0    0.1220   -28.292   \n",
       "\n",
       "                        speechiness   tempo  valence  \n",
       "track_id                                              \n",
       "0f5IlhiVWUUq4SGHyrRxIt       0.0382  59.418   0.0378  \n",
       "5LEHlRPjGcZ5RdagAwXpHS       0.0476  89.605   0.0591  \n",
       "0kKOC50fPTnqmrYvtJInsT       0.0380  67.818   0.0495  \n",
       "6PEwEkL4lzRbGMGH7j7kBB       0.0409  72.183   0.0636  \n",
       "2PUoynqedBx15JbPYxzA5v       0.0421  72.120   0.0320  "
      ],
      "text/html": "<div>\n<style scoped>\n    .dataframe tbody tr th:only-of-type {\n        vertical-align: middle;\n    }\n\n    .dataframe tbody tr th {\n        vertical-align: top;\n    }\n\n    .dataframe thead th {\n        text-align: right;\n    }\n</style>\n<table border=\"1\" class=\"dataframe\">\n  <thead>\n    <tr style=\"text-align: right;\">\n      <th></th>\n      <th>acousticness</th>\n      <th>danceability</th>\n      <th>duration_ms</th>\n      <th>energy</th>\n      <th>instrumentalness</th>\n      <th>key</th>\n      <th>liveness</th>\n      <th>loudness</th>\n      <th>speechiness</th>\n      <th>tempo</th>\n      <th>valence</th>\n    </tr>\n    <tr>\n      <th>track_id</th>\n      <th></th>\n      <th></th>\n      <th></th>\n      <th></th>\n      <th></th>\n      <th></th>\n      <th></th>\n      <th></th>\n      <th></th>\n      <th></th>\n      <th></th>\n    </tr>\n  </thead>\n  <tbody>\n    <tr>\n      <th>0f5IlhiVWUUq4SGHyrRxIt</th>\n      <td>0.965</td>\n      <td>0.141</td>\n      <td>185943</td>\n      <td>0.04050</td>\n      <td>0.966</td>\n      <td>3</td>\n      <td>0.0983</td>\n      <td>-29.013</td>\n      <td>0.0382</td>\n      <td>59.418</td>\n      <td>0.0378</td>\n    </tr>\n    <tr>\n      <th>5LEHlRPjGcZ5RdagAwXpHS</th>\n      <td>0.797</td>\n      <td>0.102</td>\n      <td>143053</td>\n      <td>0.03330</td>\n      <td>0.927</td>\n      <td>3</td>\n      <td>0.1110</td>\n      <td>-34.177</td>\n      <td>0.0476</td>\n      <td>89.605</td>\n      <td>0.0591</td>\n    </tr>\n    <tr>\n      <th>0kKOC50fPTnqmrYvtJInsT</th>\n      <td>0.993</td>\n      <td>0.133</td>\n      <td>151750</td>\n      <td>0.00512</td>\n      <td>0.851</td>\n      <td>9</td>\n      <td>0.0954</td>\n      <td>-33.295</td>\n      <td>0.0380</td>\n      <td>67.818</td>\n      <td>0.0495</td>\n    </tr>\n    <tr>\n      <th>6PEwEkL4lzRbGMGH7j7kBB</th>\n      <td>0.987</td>\n      <td>0.183</td>\n      <td>180625</td>\n      <td>0.01230</td>\n      <td>0.785</td>\n      <td>9</td>\n      <td>0.0869</td>\n      <td>-34.571</td>\n      <td>0.0409</td>\n      <td>72.183</td>\n      <td>0.0636</td>\n    </tr>\n    <tr>\n      <th>2PUoynqedBx15JbPYxzA5v</th>\n      <td>0.878</td>\n      <td>0.145</td>\n      <td>219474</td>\n      <td>0.01150</td>\n      <td>0.855</td>\n      <td>0</td>\n      <td>0.1220</td>\n      <td>-28.292</td>\n      <td>0.0421</td>\n      <td>72.120</td>\n      <td>0.0320</td>\n    </tr>\n  </tbody>\n</table>\n</div>"
     },
     "metadata": {},
     "execution_count": 199
    }
   ],
   "source": [
    "pl_rec = recommended_pl.set_index('track_id')\n",
    "pl_rec.sort_index( axis=1, level=None, ascending=True, inplace=True, kind='quicksort')\n",
    "\n",
    "pl_rec.head()"
   ]
  },
  {
   "cell_type": "code",
   "execution_count": 200,
   "metadata": {},
   "outputs": [
    {
     "output_type": "execute_result",
     "data": {
      "text/plain": [
       "(11,)"
      ]
     },
     "metadata": {},
     "execution_count": 200
    }
   ],
   "source": [
    "Y_data_sorted = Y_data.sort_index( axis=0, level=None, ascending=True, inplace=False, kind='quicksort').squeeze(1)\n",
    "\n",
    "Y_data_sorted.shape"
   ]
  },
  {
   "cell_type": "code",
   "execution_count": 201,
   "metadata": {},
   "outputs": [
    {
     "output_type": "execute_result",
     "data": {
      "text/plain": [
       "acousticness             0.038250\n",
       "danceability             0.655500\n",
       "duration_ms         204280.000000\n",
       "energy                   0.701500\n",
       "instrumentalness         0.000695\n",
       "key                      7.000000\n",
       "liveness                 0.127500\n",
       "loudness                -5.165500\n",
       "speechiness              0.060100\n",
       "tempo                  120.641500\n",
       "valence                  0.542000\n",
       "Name: top_tracks, dtype: float64"
      ]
     },
     "metadata": {},
     "execution_count": 201
    }
   ],
   "source": [
    "Y_data_sorted"
   ]
  },
  {
   "cell_type": "code",
   "execution_count": 202,
   "metadata": {},
   "outputs": [
    {
     "output_type": "execute_result",
     "data": {
      "text/plain": [
       "                        acousticness  danceability  duration_ms    energy  \\\n",
       "track_id                                                                    \n",
       "0f5IlhiVWUUq4SGHyrRxIt     24.228758     -0.784897    -0.089764 -0.942267   \n",
       "5LEHlRPjGcZ5RdagAwXpHS     19.836601     -0.844394    -0.299721 -0.952530   \n",
       "0kKOC50fPTnqmrYvtJInsT     24.960784     -0.797101    -0.257147 -0.992701   \n",
       "6PEwEkL4lzRbGMGH7j7kBB     24.803922     -0.720824    -0.115797 -0.982466   \n",
       "2PUoynqedBx15JbPYxzA5v     21.954248     -0.778795     0.074378 -0.983607   \n",
       "\n",
       "                        instrumentalness       key  liveness  loudness  \\\n",
       "track_id                                                                 \n",
       "0f5IlhiVWUUq4SGHyrRxIt       1389.262521 -0.571429 -0.229020  4.616688   \n",
       "5LEHlRPjGcZ5RdagAwXpHS       1333.133910 -0.571429 -0.129412  5.616397   \n",
       "0kKOC50fPTnqmrYvtJInsT       1223.755078  0.285714 -0.251765  5.445649   \n",
       "6PEwEkL4lzRbGMGH7j7kBB       1128.768197  0.285714 -0.318431  5.692673   \n",
       "2PUoynqedBx15JbPYxzA5v       1229.511858 -1.000000 -0.043137  4.477108   \n",
       "\n",
       "                        speechiness     tempo   valence  \n",
       "track_id                                                 \n",
       "0f5IlhiVWUUq4SGHyrRxIt    -0.364393 -0.507483 -0.930258  \n",
       "5LEHlRPjGcZ5RdagAwXpHS    -0.207987 -0.257262 -0.890959  \n",
       "0kKOC50fPTnqmrYvtJInsT    -0.367720 -0.437855 -0.908672  \n",
       "6PEwEkL4lzRbGMGH7j7kBB    -0.319468 -0.401674 -0.882657  \n",
       "2PUoynqedBx15JbPYxzA5v    -0.299501 -0.402196 -0.940959  "
      ],
      "text/html": "<div>\n<style scoped>\n    .dataframe tbody tr th:only-of-type {\n        vertical-align: middle;\n    }\n\n    .dataframe tbody tr th {\n        vertical-align: top;\n    }\n\n    .dataframe thead th {\n        text-align: right;\n    }\n</style>\n<table border=\"1\" class=\"dataframe\">\n  <thead>\n    <tr style=\"text-align: right;\">\n      <th></th>\n      <th>acousticness</th>\n      <th>danceability</th>\n      <th>duration_ms</th>\n      <th>energy</th>\n      <th>instrumentalness</th>\n      <th>key</th>\n      <th>liveness</th>\n      <th>loudness</th>\n      <th>speechiness</th>\n      <th>tempo</th>\n      <th>valence</th>\n    </tr>\n    <tr>\n      <th>track_id</th>\n      <th></th>\n      <th></th>\n      <th></th>\n      <th></th>\n      <th></th>\n      <th></th>\n      <th></th>\n      <th></th>\n      <th></th>\n      <th></th>\n      <th></th>\n    </tr>\n  </thead>\n  <tbody>\n    <tr>\n      <th>0f5IlhiVWUUq4SGHyrRxIt</th>\n      <td>24.228758</td>\n      <td>-0.784897</td>\n      <td>-0.089764</td>\n      <td>-0.942267</td>\n      <td>1389.262521</td>\n      <td>-0.571429</td>\n      <td>-0.229020</td>\n      <td>4.616688</td>\n      <td>-0.364393</td>\n      <td>-0.507483</td>\n      <td>-0.930258</td>\n    </tr>\n    <tr>\n      <th>5LEHlRPjGcZ5RdagAwXpHS</th>\n      <td>19.836601</td>\n      <td>-0.844394</td>\n      <td>-0.299721</td>\n      <td>-0.952530</td>\n      <td>1333.133910</td>\n      <td>-0.571429</td>\n      <td>-0.129412</td>\n      <td>5.616397</td>\n      <td>-0.207987</td>\n      <td>-0.257262</td>\n      <td>-0.890959</td>\n    </tr>\n    <tr>\n      <th>0kKOC50fPTnqmrYvtJInsT</th>\n      <td>24.960784</td>\n      <td>-0.797101</td>\n      <td>-0.257147</td>\n      <td>-0.992701</td>\n      <td>1223.755078</td>\n      <td>0.285714</td>\n      <td>-0.251765</td>\n      <td>5.445649</td>\n      <td>-0.367720</td>\n      <td>-0.437855</td>\n      <td>-0.908672</td>\n    </tr>\n    <tr>\n      <th>6PEwEkL4lzRbGMGH7j7kBB</th>\n      <td>24.803922</td>\n      <td>-0.720824</td>\n      <td>-0.115797</td>\n      <td>-0.982466</td>\n      <td>1128.768197</td>\n      <td>0.285714</td>\n      <td>-0.318431</td>\n      <td>5.692673</td>\n      <td>-0.319468</td>\n      <td>-0.401674</td>\n      <td>-0.882657</td>\n    </tr>\n    <tr>\n      <th>2PUoynqedBx15JbPYxzA5v</th>\n      <td>21.954248</td>\n      <td>-0.778795</td>\n      <td>0.074378</td>\n      <td>-0.983607</td>\n      <td>1229.511858</td>\n      <td>-1.000000</td>\n      <td>-0.043137</td>\n      <td>4.477108</td>\n      <td>-0.299501</td>\n      <td>-0.402196</td>\n      <td>-0.940959</td>\n    </tr>\n  </tbody>\n</table>\n</div>"
     },
     "metadata": {},
     "execution_count": 202
    }
   ],
   "source": [
    "df_main_var = pl_rec.subtract(Y_data_sorted, axis=1)\n",
    "df_main_var = df_main_var.divide(Y_data_sorted, axis=1) \n",
    "\n",
    "df_main_var.head()"
   ]
  },
  {
   "cell_type": "code",
   "execution_count": 203,
   "metadata": {},
   "outputs": [],
   "source": [
    "df_main_var['variation'] = df_main_var.sum(axis=1)\n",
    "\n",
    "df_main_var['variation'] = df_main_var['variation'].abs()"
   ]
  },
  {
   "cell_type": "code",
   "execution_count": 204,
   "metadata": {},
   "outputs": [
    {
     "output_type": "execute_result",
     "data": {
      "text/plain": [
       "                        acousticness  danceability  duration_ms    energy  \\\n",
       "track_id                                                                    \n",
       "0f5IlhiVWUUq4SGHyrRxIt     24.228758     -0.784897    -0.089764 -0.942267   \n",
       "5LEHlRPjGcZ5RdagAwXpHS     19.836601     -0.844394    -0.299721 -0.952530   \n",
       "0kKOC50fPTnqmrYvtJInsT     24.960784     -0.797101    -0.257147 -0.992701   \n",
       "6PEwEkL4lzRbGMGH7j7kBB     24.803922     -0.720824    -0.115797 -0.982466   \n",
       "2PUoynqedBx15JbPYxzA5v     21.954248     -0.778795     0.074378 -0.983607   \n",
       "...                              ...           ...          ...       ...   \n",
       "1uKzAldJYlwje9HstlwTie     16.176471     -0.437071    -0.161088 -0.579473   \n",
       "0ZjTS5zoXFR2w9QMRweDhs      6.163399     -0.014493     0.074863 -0.111903   \n",
       "4UmoMxbpiaXTJcKnjyUiRv      7.261438     -0.058734     0.544155 -0.103350   \n",
       "7gozgbG5EBTukCFWToTRA5     -0.636601     -0.138063     0.358332  0.089095   \n",
       "608xszaAxVh4m7NcKJiAbF      0.576471     -0.000763     0.427874 -0.136137   \n",
       "\n",
       "                        instrumentalness       key  liveness  loudness  \\\n",
       "track_id                                                                 \n",
       "0f5IlhiVWUUq4SGHyrRxIt       1389.262521 -0.571429 -0.229020  4.616688   \n",
       "5LEHlRPjGcZ5RdagAwXpHS       1333.133910 -0.571429 -0.129412  5.616397   \n",
       "0kKOC50fPTnqmrYvtJInsT       1223.755078  0.285714 -0.251765  5.445649   \n",
       "6PEwEkL4lzRbGMGH7j7kBB       1128.768197  0.285714 -0.318431  5.692673   \n",
       "2PUoynqedBx15JbPYxzA5v       1229.511858 -1.000000 -0.043137  4.477108   \n",
       "...                                  ...       ...       ...       ...   \n",
       "1uKzAldJYlwje9HstlwTie         -0.977836 -0.428571 -0.160784  1.473913   \n",
       "0ZjTS5zoXFR2w9QMRweDhs         -1.000000  0.142857 -0.325490  0.707482   \n",
       "4UmoMxbpiaXTJcKnjyUiRv         -0.938259  0.142857  0.270588  0.090117   \n",
       "7gozgbG5EBTukCFWToTRA5          6.023272 -0.857143 -0.380392  0.825574   \n",
       "608xszaAxVh4m7NcKJiAbF        112.552498  0.000000 -0.406275  1.010454   \n",
       "\n",
       "                        speechiness     tempo   valence    variation  \n",
       "track_id                                                              \n",
       "0f5IlhiVWUUq4SGHyrRxIt    -0.364393 -0.507483 -0.930258  1413.688457  \n",
       "5LEHlRPjGcZ5RdagAwXpHS    -0.207987 -0.257262 -0.890959  1354.433215  \n",
       "0kKOC50fPTnqmrYvtJInsT    -0.367720 -0.437855 -0.908672  1250.434264  \n",
       "6PEwEkL4lzRbGMGH7j7kBB    -0.319468 -0.401674 -0.882657  1155.809190  \n",
       "2PUoynqedBx15JbPYxzA5v    -0.299501 -0.402196 -0.940959  1251.569398  \n",
       "...                             ...       ...       ...          ...  \n",
       "1uKzAldJYlwje9HstlwTie    -0.415973 -0.235537 -0.610701    13.643350  \n",
       "0ZjTS5zoXFR2w9QMRweDhs    -0.439268  0.000079  0.804428     6.001954  \n",
       "4UmoMxbpiaXTJcKnjyUiRv    -0.550749 -0.031925 -0.276753     6.349387  \n",
       "7gozgbG5EBTukCFWToTRA5    -0.415973 -0.163712  0.265683     4.970070  \n",
       "608xszaAxVh4m7NcKJiAbF    -0.525790 -0.087702  0.411439   113.822069  \n",
       "\n",
       "[275 rows x 12 columns]"
      ],
      "text/html": "<div>\n<style scoped>\n    .dataframe tbody tr th:only-of-type {\n        vertical-align: middle;\n    }\n\n    .dataframe tbody tr th {\n        vertical-align: top;\n    }\n\n    .dataframe thead th {\n        text-align: right;\n    }\n</style>\n<table border=\"1\" class=\"dataframe\">\n  <thead>\n    <tr style=\"text-align: right;\">\n      <th></th>\n      <th>acousticness</th>\n      <th>danceability</th>\n      <th>duration_ms</th>\n      <th>energy</th>\n      <th>instrumentalness</th>\n      <th>key</th>\n      <th>liveness</th>\n      <th>loudness</th>\n      <th>speechiness</th>\n      <th>tempo</th>\n      <th>valence</th>\n      <th>variation</th>\n    </tr>\n    <tr>\n      <th>track_id</th>\n      <th></th>\n      <th></th>\n      <th></th>\n      <th></th>\n      <th></th>\n      <th></th>\n      <th></th>\n      <th></th>\n      <th></th>\n      <th></th>\n      <th></th>\n      <th></th>\n    </tr>\n  </thead>\n  <tbody>\n    <tr>\n      <th>0f5IlhiVWUUq4SGHyrRxIt</th>\n      <td>24.228758</td>\n      <td>-0.784897</td>\n      <td>-0.089764</td>\n      <td>-0.942267</td>\n      <td>1389.262521</td>\n      <td>-0.571429</td>\n      <td>-0.229020</td>\n      <td>4.616688</td>\n      <td>-0.364393</td>\n      <td>-0.507483</td>\n      <td>-0.930258</td>\n      <td>1413.688457</td>\n    </tr>\n    <tr>\n      <th>5LEHlRPjGcZ5RdagAwXpHS</th>\n      <td>19.836601</td>\n      <td>-0.844394</td>\n      <td>-0.299721</td>\n      <td>-0.952530</td>\n      <td>1333.133910</td>\n      <td>-0.571429</td>\n      <td>-0.129412</td>\n      <td>5.616397</td>\n      <td>-0.207987</td>\n      <td>-0.257262</td>\n      <td>-0.890959</td>\n      <td>1354.433215</td>\n    </tr>\n    <tr>\n      <th>0kKOC50fPTnqmrYvtJInsT</th>\n      <td>24.960784</td>\n      <td>-0.797101</td>\n      <td>-0.257147</td>\n      <td>-0.992701</td>\n      <td>1223.755078</td>\n      <td>0.285714</td>\n      <td>-0.251765</td>\n      <td>5.445649</td>\n      <td>-0.367720</td>\n      <td>-0.437855</td>\n      <td>-0.908672</td>\n      <td>1250.434264</td>\n    </tr>\n    <tr>\n      <th>6PEwEkL4lzRbGMGH7j7kBB</th>\n      <td>24.803922</td>\n      <td>-0.720824</td>\n      <td>-0.115797</td>\n      <td>-0.982466</td>\n      <td>1128.768197</td>\n      <td>0.285714</td>\n      <td>-0.318431</td>\n      <td>5.692673</td>\n      <td>-0.319468</td>\n      <td>-0.401674</td>\n      <td>-0.882657</td>\n      <td>1155.809190</td>\n    </tr>\n    <tr>\n      <th>2PUoynqedBx15JbPYxzA5v</th>\n      <td>21.954248</td>\n      <td>-0.778795</td>\n      <td>0.074378</td>\n      <td>-0.983607</td>\n      <td>1229.511858</td>\n      <td>-1.000000</td>\n      <td>-0.043137</td>\n      <td>4.477108</td>\n      <td>-0.299501</td>\n      <td>-0.402196</td>\n      <td>-0.940959</td>\n      <td>1251.569398</td>\n    </tr>\n    <tr>\n      <th>...</th>\n      <td>...</td>\n      <td>...</td>\n      <td>...</td>\n      <td>...</td>\n      <td>...</td>\n      <td>...</td>\n      <td>...</td>\n      <td>...</td>\n      <td>...</td>\n      <td>...</td>\n      <td>...</td>\n      <td>...</td>\n    </tr>\n    <tr>\n      <th>1uKzAldJYlwje9HstlwTie</th>\n      <td>16.176471</td>\n      <td>-0.437071</td>\n      <td>-0.161088</td>\n      <td>-0.579473</td>\n      <td>-0.977836</td>\n      <td>-0.428571</td>\n      <td>-0.160784</td>\n      <td>1.473913</td>\n      <td>-0.415973</td>\n      <td>-0.235537</td>\n      <td>-0.610701</td>\n      <td>13.643350</td>\n    </tr>\n    <tr>\n      <th>0ZjTS5zoXFR2w9QMRweDhs</th>\n      <td>6.163399</td>\n      <td>-0.014493</td>\n      <td>0.074863</td>\n      <td>-0.111903</td>\n      <td>-1.000000</td>\n      <td>0.142857</td>\n      <td>-0.325490</td>\n      <td>0.707482</td>\n      <td>-0.439268</td>\n      <td>0.000079</td>\n      <td>0.804428</td>\n      <td>6.001954</td>\n    </tr>\n    <tr>\n      <th>4UmoMxbpiaXTJcKnjyUiRv</th>\n      <td>7.261438</td>\n      <td>-0.058734</td>\n      <td>0.544155</td>\n      <td>-0.103350</td>\n      <td>-0.938259</td>\n      <td>0.142857</td>\n      <td>0.270588</td>\n      <td>0.090117</td>\n      <td>-0.550749</td>\n      <td>-0.031925</td>\n      <td>-0.276753</td>\n      <td>6.349387</td>\n    </tr>\n    <tr>\n      <th>7gozgbG5EBTukCFWToTRA5</th>\n      <td>-0.636601</td>\n      <td>-0.138063</td>\n      <td>0.358332</td>\n      <td>0.089095</td>\n      <td>6.023272</td>\n      <td>-0.857143</td>\n      <td>-0.380392</td>\n      <td>0.825574</td>\n      <td>-0.415973</td>\n      <td>-0.163712</td>\n      <td>0.265683</td>\n      <td>4.970070</td>\n    </tr>\n    <tr>\n      <th>608xszaAxVh4m7NcKJiAbF</th>\n      <td>0.576471</td>\n      <td>-0.000763</td>\n      <td>0.427874</td>\n      <td>-0.136137</td>\n      <td>112.552498</td>\n      <td>0.000000</td>\n      <td>-0.406275</td>\n      <td>1.010454</td>\n      <td>-0.525790</td>\n      <td>-0.087702</td>\n      <td>0.411439</td>\n      <td>113.822069</td>\n    </tr>\n  </tbody>\n</table>\n<p>275 rows × 12 columns</p>\n</div>"
     },
     "metadata": {},
     "execution_count": 204
    }
   ],
   "source": [
    "df_main_var"
   ]
  },
  {
   "cell_type": "code",
   "execution_count": 205,
   "metadata": {},
   "outputs": [
    {
     "output_type": "execute_result",
     "data": {
      "text/plain": [
       "                        acousticness  danceability  duration_ms    energy  \\\n",
       "track_id                                                                    \n",
       "3d9DChrdc6BOeFsbrZ3Is0      0.505882     -0.147216     0.293847 -0.508197   \n",
       "172Tyy70R4Cc1JWarP9DNU     -0.589542     -0.096873     0.419552 -0.399857   \n",
       "0LJKGUTtdzcLW9ZcUxkRXR      0.487582     -0.330282     0.705830  0.063435   \n",
       "3Dfy8YIxq89i84t108TvMi      0.751634     -0.099924     0.698453  0.059159   \n",
       "2hKdd3qO7cWr2Jo0Bcs0MA      3.000000     -0.266209     0.272435 -0.090520   \n",
       "0815caqt2Lytro5EIzMufT      1.980392     -0.299771    -0.043014 -0.391304   \n",
       "0l5TpsCL1ObiTEsHeWA0by      1.094118     -0.363844     0.306897 -0.183179   \n",
       "2CpMHblH2jRF9NqtaW8MKZ      1.128105     -0.626240     0.150710  0.019244   \n",
       "064SVQsmWl5EF0zahmzkQk      0.597386      0.035850    -0.027022 -0.211689   \n",
       "1eyq8cjUQ2daFthW2PC2GM      1.033987     -0.209764     0.263560 -0.166073   \n",
       "3adQpYatYOsgAKr853t4mZ      0.333333     -0.011442     0.047910 -0.181753   \n",
       "5zDVyVBJoE0NVUmYcyvTny      1.339869     -0.232647     0.817114 -0.151818   \n",
       "1SKPmfSYaPsETbRHaiA18G      0.568627     -0.316552     0.160892 -0.052031   \n",
       "0KTfZWEWivacSuZSjUe7JS     -0.946667      0.020595     0.103520  0.244476   \n",
       "4LOgi2TAAoKU9ImfzRrCPO      0.542484     -0.589626     0.191306 -0.184604   \n",
       "1WeoeHh0TSzsApyJ6Q8OOK      0.620915     -0.214340     0.125318 -0.605132   \n",
       "7lGKEWMXVWWTt3X71Bv44I      3.653595     -0.406560    -0.052541 -0.052031   \n",
       "4IoYz8XqqdowINzfRrFnhi     -0.511111     -0.484363     0.183929  0.144690   \n",
       "49kjlZP49LMD1MrrcvXDET     -0.113725     -0.408085     0.235755 -0.097648   \n",
       "1VCo8IjwPT2xtZPWX4esyY     -0.712418      0.086194     0.229034 -0.217391   \n",
       "6Ep2XErOa5SCBGzARBpCr4      2.555556      0.107551     0.380326  0.221668   \n",
       "6vrUTGn5p8IrfTZ0J6sIVM     -0.965229     -0.556064     0.419165  0.126158   \n",
       "5GicVH0OTGMTR5bwYoXDwo     -0.179085     -0.167048     0.245413 -0.077691   \n",
       "3U8UHbqKeR0jlkg8Qlwunr     -0.252288     -0.499619     0.357876  0.034925   \n",
       "32lF1rsInDTdK6Av3KdfaY      3.444444     -0.052632     0.472357  0.284391   \n",
       "5WwqdeavrQrbeAMDxGawse      3.052288     -0.377574     0.442985 -0.315752   \n",
       "6ORqU0bHbVCRjXm9AjyHyZ      3.784314     -0.275362    -0.248742 -0.384177   \n",
       "4rcHWl68ai6KvpXlc8vbnE      0.356863     -0.533181    -0.019517  0.029223   \n",
       "1bCMeYi91d4TH2Z5tJMW0c     -0.288889     -0.260107     0.268651 -0.244476   \n",
       "6RuXciU0JM95YCmWQok4z8      0.688889     -0.238749     0.269106 -0.295795   \n",
       "\n",
       "                        instrumentalness       key  liveness  loudness  \\\n",
       "track_id                                                                 \n",
       "3d9DChrdc6BOeFsbrZ3Is0         -0.848885 -0.428571  0.105882  1.612719   \n",
       "172Tyy70R4Cc1JWarP9DNU          0.741426 -0.714286  0.466667  1.333559   \n",
       "0LJKGUTtdzcLW9ZcUxkRXR         -1.000000 -0.428571 -0.239216  0.579518   \n",
       "3Dfy8YIxq89i84t108TvMi          0.338451 -1.000000 -0.335686  0.370245   \n",
       "2hKdd3qO7cWr2Jo0Bcs0MA         -1.000000 -1.000000  0.207843  0.134837   \n",
       "0815caqt2Lytro5EIzMufT         -1.000000  0.000000  0.317647  0.497241   \n",
       "0l5TpsCL1ObiTEsHeWA0by         -1.000000  0.571429 -0.337255  0.419030   \n",
       "2CpMHblH2jRF9NqtaW8MKZ         -1.000000  0.000000  1.674510  0.198722   \n",
       "064SVQsmWl5EF0zahmzkQk         -0.989695 -0.571429  0.090196  1.843287   \n",
       "1eyq8cjUQ2daFthW2PC2GM         -0.996503 -0.285714  1.431373  0.642629   \n",
       "3adQpYatYOsgAKr853t4mZ         -1.000000 -0.285714 -0.058824  1.152744   \n",
       "5zDVyVBJoE0NVUmYcyvTny         -0.996416  0.000000  0.160784  0.816475   \n",
       "1SKPmfSYaPsETbRHaiA18G         -0.963301  0.285714 -0.350588 -0.186332   \n",
       "0KTfZWEWivacSuZSjUe7JS         -1.000000  0.142857  0.074510 -0.164650   \n",
       "4LOgi2TAAoKU9ImfzRrCPO         -0.998129  0.285714 -0.035294  0.425031   \n",
       "1WeoeHh0TSzsApyJ6Q8OOK         -1.000000  0.428571  1.023529  2.455619   \n",
       "7lGKEWMXVWWTt3X71Bv44I          0.053491 -1.000000 -0.090196  0.194270   \n",
       "4IoYz8XqqdowINzfRrFnhi         -1.000000  0.142857  0.066667  0.047720   \n",
       "49kjlZP49LMD1MrrcvXDET         -1.000000  0.285714 -0.184314 -0.076759   \n",
       "1VCo8IjwPT2xtZPWX4esyY         -1.000000 -0.285714 -0.074510  0.836027   \n",
       "6Ep2XErOa5SCBGzARBpCr4         -0.640201 -0.714286 -0.279216  0.182267   \n",
       "6vrUTGn5p8IrfTZ0J6sIVM         -0.991926  0.571429 -0.363922  0.100184   \n",
       "5GicVH0OTGMTR5bwYoXDwo         -1.000000 -0.285714 -0.536471  0.267254   \n",
       "3U8UHbqKeR0jlkg8Qlwunr         -0.074598 -0.571429  0.309804 -0.238215   \n",
       "32lF1rsInDTdK6Av3KdfaY         -1.000000 -0.714286 -0.313725  0.044623   \n",
       "5WwqdeavrQrbeAMDxGawse         -0.973807  0.285714 -0.312157  1.132804   \n",
       "6ORqU0bHbVCRjXm9AjyHyZ         -1.000000  0.000000  0.262745  0.518536   \n",
       "4rcHWl68ai6KvpXlc8vbnE         -1.000000 -1.000000 -0.082353  0.154390   \n",
       "1bCMeYi91d4TH2Z5tJMW0c         -1.000000 -0.428571  0.184314  0.860614   \n",
       "6RuXciU0JM95YCmWQok4z8         -1.000000 -0.714286  0.427451  0.174910   \n",
       "\n",
       "                        speechiness     tempo   valence  variation  \n",
       "track_id                                                            \n",
       "3d9DChrdc6BOeFsbrZ3Is0    -0.236273 -0.298906 -0.154982   0.104699  \n",
       "172Tyy70R4Cc1JWarP9DNU    -0.544093 -0.038590 -0.472325   0.105638  \n",
       "0LJKGUTtdzcLW9ZcUxkRXR    -0.500832  0.445630  0.047970   0.168935  \n",
       "3Dfy8YIxq89i84t108TvMi    -0.422629  0.075832 -0.239852   0.195683  \n",
       "2hKdd3qO7cWr2Jo0Bcs0MA    -0.540765 -0.344637 -0.083026   0.289958  \n",
       "0815caqt2Lytro5EIzMufT    -0.555740  0.159651 -0.346863   0.318237  \n",
       "0l5TpsCL1ObiTEsHeWA0by    -0.535774  0.073917 -0.464945   0.419605  \n",
       "2CpMHblH2jRF9NqtaW8MKZ    -0.381032 -0.378091 -0.322878   0.463050  \n",
       "064SVQsmWl5EF0zahmzkQk    -0.474210 -0.095908  0.745387   0.942154  \n",
       "1eyq8cjUQ2daFthW2PC2GM    -0.535774  0.201892 -0.424354   0.955259  \n",
       "3adQpYatYOsgAKr853t4mZ     0.763727  0.299138  0.027675   1.086795  \n",
       "5zDVyVBJoE0NVUmYcyvTny    -0.510815  0.061815 -0.156827   1.147535  \n",
       "1SKPmfSYaPsETbRHaiA18G    -0.567388  0.425745 -0.439114   1.434328  \n",
       "0KTfZWEWivacSuZSjUe7JS    -0.178037 -0.270326  0.525830   1.447891  \n",
       "4LOgi2TAAoKU9ImfzRrCPO    -0.537438 -0.421178 -0.328413   1.650147  \n",
       "1WeoeHh0TSzsApyJ6Q8OOK    -0.575707 -0.318916 -0.238007   1.701851  \n",
       "7lGKEWMXVWWTt3X71Bv44I     0.071547 -0.029729 -0.632841   1.709005  \n",
       "4IoYz8XqqdowINzfRrFnhi    -0.312812  0.259882 -0.261993   1.724534  \n",
       "49kjlZP49LMD1MrrcvXDET    -0.542429  0.441850 -0.297048   1.756689  \n",
       "1VCo8IjwPT2xtZPWX4esyY    -0.577371 -0.089186  0.018450   1.786885  \n",
       "6Ep2XErOa5SCBGzARBpCr4    -0.402662  0.086525  0.300738   1.798266  \n",
       "6vrUTGn5p8IrfTZ0J6sIVM    -0.396007  0.290327 -0.053506   1.819390  \n",
       "5GicVH0OTGMTR5bwYoXDwo    -0.577371  0.399245  0.062731   1.848737  \n",
       "3U8UHbqKeR0jlkg8Qlwunr    -0.480865  0.116026 -0.612546   1.910928  \n",
       "32lF1rsInDTdK6Av3KdfaY    -0.497504 -0.055325  0.372694   1.985036  \n",
       "5WwqdeavrQrbeAMDxGawse    -0.557404  0.295939 -0.649446   2.023589  \n",
       "6ORqU0bHbVCRjXm9AjyHyZ    -0.497504 -0.215817  0.195572   2.139565  \n",
       "4rcHWl68ai6KvpXlc8vbnE    -0.434276  0.448357 -0.243542   2.324037  \n",
       "1bCMeYi91d4TH2Z5tJMW0c    -0.535774 -0.436595 -0.483395   2.364229  \n",
       "6RuXciU0JM95YCmWQok4z8    -0.560732 -0.361654 -0.761993   2.372852  "
      ],
      "text/html": "<div>\n<style scoped>\n    .dataframe tbody tr th:only-of-type {\n        vertical-align: middle;\n    }\n\n    .dataframe tbody tr th {\n        vertical-align: top;\n    }\n\n    .dataframe thead th {\n        text-align: right;\n    }\n</style>\n<table border=\"1\" class=\"dataframe\">\n  <thead>\n    <tr style=\"text-align: right;\">\n      <th></th>\n      <th>acousticness</th>\n      <th>danceability</th>\n      <th>duration_ms</th>\n      <th>energy</th>\n      <th>instrumentalness</th>\n      <th>key</th>\n      <th>liveness</th>\n      <th>loudness</th>\n      <th>speechiness</th>\n      <th>tempo</th>\n      <th>valence</th>\n      <th>variation</th>\n    </tr>\n    <tr>\n      <th>track_id</th>\n      <th></th>\n      <th></th>\n      <th></th>\n      <th></th>\n      <th></th>\n      <th></th>\n      <th></th>\n      <th></th>\n      <th></th>\n      <th></th>\n      <th></th>\n      <th></th>\n    </tr>\n  </thead>\n  <tbody>\n    <tr>\n      <th>3d9DChrdc6BOeFsbrZ3Is0</th>\n      <td>0.505882</td>\n      <td>-0.147216</td>\n      <td>0.293847</td>\n      <td>-0.508197</td>\n      <td>-0.848885</td>\n      <td>-0.428571</td>\n      <td>0.105882</td>\n      <td>1.612719</td>\n      <td>-0.236273</td>\n      <td>-0.298906</td>\n      <td>-0.154982</td>\n      <td>0.104699</td>\n    </tr>\n    <tr>\n      <th>172Tyy70R4Cc1JWarP9DNU</th>\n      <td>-0.589542</td>\n      <td>-0.096873</td>\n      <td>0.419552</td>\n      <td>-0.399857</td>\n      <td>0.741426</td>\n      <td>-0.714286</td>\n      <td>0.466667</td>\n      <td>1.333559</td>\n      <td>-0.544093</td>\n      <td>-0.038590</td>\n      <td>-0.472325</td>\n      <td>0.105638</td>\n    </tr>\n    <tr>\n      <th>0LJKGUTtdzcLW9ZcUxkRXR</th>\n      <td>0.487582</td>\n      <td>-0.330282</td>\n      <td>0.705830</td>\n      <td>0.063435</td>\n      <td>-1.000000</td>\n      <td>-0.428571</td>\n      <td>-0.239216</td>\n      <td>0.579518</td>\n      <td>-0.500832</td>\n      <td>0.445630</td>\n      <td>0.047970</td>\n      <td>0.168935</td>\n    </tr>\n    <tr>\n      <th>3Dfy8YIxq89i84t108TvMi</th>\n      <td>0.751634</td>\n      <td>-0.099924</td>\n      <td>0.698453</td>\n      <td>0.059159</td>\n      <td>0.338451</td>\n      <td>-1.000000</td>\n      <td>-0.335686</td>\n      <td>0.370245</td>\n      <td>-0.422629</td>\n      <td>0.075832</td>\n      <td>-0.239852</td>\n      <td>0.195683</td>\n    </tr>\n    <tr>\n      <th>2hKdd3qO7cWr2Jo0Bcs0MA</th>\n      <td>3.000000</td>\n      <td>-0.266209</td>\n      <td>0.272435</td>\n      <td>-0.090520</td>\n      <td>-1.000000</td>\n      <td>-1.000000</td>\n      <td>0.207843</td>\n      <td>0.134837</td>\n      <td>-0.540765</td>\n      <td>-0.344637</td>\n      <td>-0.083026</td>\n      <td>0.289958</td>\n    </tr>\n    <tr>\n      <th>0815caqt2Lytro5EIzMufT</th>\n      <td>1.980392</td>\n      <td>-0.299771</td>\n      <td>-0.043014</td>\n      <td>-0.391304</td>\n      <td>-1.000000</td>\n      <td>0.000000</td>\n      <td>0.317647</td>\n      <td>0.497241</td>\n      <td>-0.555740</td>\n      <td>0.159651</td>\n      <td>-0.346863</td>\n      <td>0.318237</td>\n    </tr>\n    <tr>\n      <th>0l5TpsCL1ObiTEsHeWA0by</th>\n      <td>1.094118</td>\n      <td>-0.363844</td>\n      <td>0.306897</td>\n      <td>-0.183179</td>\n      <td>-1.000000</td>\n      <td>0.571429</td>\n      <td>-0.337255</td>\n      <td>0.419030</td>\n      <td>-0.535774</td>\n      <td>0.073917</td>\n      <td>-0.464945</td>\n      <td>0.419605</td>\n    </tr>\n    <tr>\n      <th>2CpMHblH2jRF9NqtaW8MKZ</th>\n      <td>1.128105</td>\n      <td>-0.626240</td>\n      <td>0.150710</td>\n      <td>0.019244</td>\n      <td>-1.000000</td>\n      <td>0.000000</td>\n      <td>1.674510</td>\n      <td>0.198722</td>\n      <td>-0.381032</td>\n      <td>-0.378091</td>\n      <td>-0.322878</td>\n      <td>0.463050</td>\n    </tr>\n    <tr>\n      <th>064SVQsmWl5EF0zahmzkQk</th>\n      <td>0.597386</td>\n      <td>0.035850</td>\n      <td>-0.027022</td>\n      <td>-0.211689</td>\n      <td>-0.989695</td>\n      <td>-0.571429</td>\n      <td>0.090196</td>\n      <td>1.843287</td>\n      <td>-0.474210</td>\n      <td>-0.095908</td>\n      <td>0.745387</td>\n      <td>0.942154</td>\n    </tr>\n    <tr>\n      <th>1eyq8cjUQ2daFthW2PC2GM</th>\n      <td>1.033987</td>\n      <td>-0.209764</td>\n      <td>0.263560</td>\n      <td>-0.166073</td>\n      <td>-0.996503</td>\n      <td>-0.285714</td>\n      <td>1.431373</td>\n      <td>0.642629</td>\n      <td>-0.535774</td>\n      <td>0.201892</td>\n      <td>-0.424354</td>\n      <td>0.955259</td>\n    </tr>\n    <tr>\n      <th>3adQpYatYOsgAKr853t4mZ</th>\n      <td>0.333333</td>\n      <td>-0.011442</td>\n      <td>0.047910</td>\n      <td>-0.181753</td>\n      <td>-1.000000</td>\n      <td>-0.285714</td>\n      <td>-0.058824</td>\n      <td>1.152744</td>\n      <td>0.763727</td>\n      <td>0.299138</td>\n      <td>0.027675</td>\n      <td>1.086795</td>\n    </tr>\n    <tr>\n      <th>5zDVyVBJoE0NVUmYcyvTny</th>\n      <td>1.339869</td>\n      <td>-0.232647</td>\n      <td>0.817114</td>\n      <td>-0.151818</td>\n      <td>-0.996416</td>\n      <td>0.000000</td>\n      <td>0.160784</td>\n      <td>0.816475</td>\n      <td>-0.510815</td>\n      <td>0.061815</td>\n      <td>-0.156827</td>\n      <td>1.147535</td>\n    </tr>\n    <tr>\n      <th>1SKPmfSYaPsETbRHaiA18G</th>\n      <td>0.568627</td>\n      <td>-0.316552</td>\n      <td>0.160892</td>\n      <td>-0.052031</td>\n      <td>-0.963301</td>\n      <td>0.285714</td>\n      <td>-0.350588</td>\n      <td>-0.186332</td>\n      <td>-0.567388</td>\n      <td>0.425745</td>\n      <td>-0.439114</td>\n      <td>1.434328</td>\n    </tr>\n    <tr>\n      <th>0KTfZWEWivacSuZSjUe7JS</th>\n      <td>-0.946667</td>\n      <td>0.020595</td>\n      <td>0.103520</td>\n      <td>0.244476</td>\n      <td>-1.000000</td>\n      <td>0.142857</td>\n      <td>0.074510</td>\n      <td>-0.164650</td>\n      <td>-0.178037</td>\n      <td>-0.270326</td>\n      <td>0.525830</td>\n      <td>1.447891</td>\n    </tr>\n    <tr>\n      <th>4LOgi2TAAoKU9ImfzRrCPO</th>\n      <td>0.542484</td>\n      <td>-0.589626</td>\n      <td>0.191306</td>\n      <td>-0.184604</td>\n      <td>-0.998129</td>\n      <td>0.285714</td>\n      <td>-0.035294</td>\n      <td>0.425031</td>\n      <td>-0.537438</td>\n      <td>-0.421178</td>\n      <td>-0.328413</td>\n      <td>1.650147</td>\n    </tr>\n    <tr>\n      <th>1WeoeHh0TSzsApyJ6Q8OOK</th>\n      <td>0.620915</td>\n      <td>-0.214340</td>\n      <td>0.125318</td>\n      <td>-0.605132</td>\n      <td>-1.000000</td>\n      <td>0.428571</td>\n      <td>1.023529</td>\n      <td>2.455619</td>\n      <td>-0.575707</td>\n      <td>-0.318916</td>\n      <td>-0.238007</td>\n      <td>1.701851</td>\n    </tr>\n    <tr>\n      <th>7lGKEWMXVWWTt3X71Bv44I</th>\n      <td>3.653595</td>\n      <td>-0.406560</td>\n      <td>-0.052541</td>\n      <td>-0.052031</td>\n      <td>0.053491</td>\n      <td>-1.000000</td>\n      <td>-0.090196</td>\n      <td>0.194270</td>\n      <td>0.071547</td>\n      <td>-0.029729</td>\n      <td>-0.632841</td>\n      <td>1.709005</td>\n    </tr>\n    <tr>\n      <th>4IoYz8XqqdowINzfRrFnhi</th>\n      <td>-0.511111</td>\n      <td>-0.484363</td>\n      <td>0.183929</td>\n      <td>0.144690</td>\n      <td>-1.000000</td>\n      <td>0.142857</td>\n      <td>0.066667</td>\n      <td>0.047720</td>\n      <td>-0.312812</td>\n      <td>0.259882</td>\n      <td>-0.261993</td>\n      <td>1.724534</td>\n    </tr>\n    <tr>\n      <th>49kjlZP49LMD1MrrcvXDET</th>\n      <td>-0.113725</td>\n      <td>-0.408085</td>\n      <td>0.235755</td>\n      <td>-0.097648</td>\n      <td>-1.000000</td>\n      <td>0.285714</td>\n      <td>-0.184314</td>\n      <td>-0.076759</td>\n      <td>-0.542429</td>\n      <td>0.441850</td>\n      <td>-0.297048</td>\n      <td>1.756689</td>\n    </tr>\n    <tr>\n      <th>1VCo8IjwPT2xtZPWX4esyY</th>\n      <td>-0.712418</td>\n      <td>0.086194</td>\n      <td>0.229034</td>\n      <td>-0.217391</td>\n      <td>-1.000000</td>\n      <td>-0.285714</td>\n      <td>-0.074510</td>\n      <td>0.836027</td>\n      <td>-0.577371</td>\n      <td>-0.089186</td>\n      <td>0.018450</td>\n      <td>1.786885</td>\n    </tr>\n    <tr>\n      <th>6Ep2XErOa5SCBGzARBpCr4</th>\n      <td>2.555556</td>\n      <td>0.107551</td>\n      <td>0.380326</td>\n      <td>0.221668</td>\n      <td>-0.640201</td>\n      <td>-0.714286</td>\n      <td>-0.279216</td>\n      <td>0.182267</td>\n      <td>-0.402662</td>\n      <td>0.086525</td>\n      <td>0.300738</td>\n      <td>1.798266</td>\n    </tr>\n    <tr>\n      <th>6vrUTGn5p8IrfTZ0J6sIVM</th>\n      <td>-0.965229</td>\n      <td>-0.556064</td>\n      <td>0.419165</td>\n      <td>0.126158</td>\n      <td>-0.991926</td>\n      <td>0.571429</td>\n      <td>-0.363922</td>\n      <td>0.100184</td>\n      <td>-0.396007</td>\n      <td>0.290327</td>\n      <td>-0.053506</td>\n      <td>1.819390</td>\n    </tr>\n    <tr>\n      <th>5GicVH0OTGMTR5bwYoXDwo</th>\n      <td>-0.179085</td>\n      <td>-0.167048</td>\n      <td>0.245413</td>\n      <td>-0.077691</td>\n      <td>-1.000000</td>\n      <td>-0.285714</td>\n      <td>-0.536471</td>\n      <td>0.267254</td>\n      <td>-0.577371</td>\n      <td>0.399245</td>\n      <td>0.062731</td>\n      <td>1.848737</td>\n    </tr>\n    <tr>\n      <th>3U8UHbqKeR0jlkg8Qlwunr</th>\n      <td>-0.252288</td>\n      <td>-0.499619</td>\n      <td>0.357876</td>\n      <td>0.034925</td>\n      <td>-0.074598</td>\n      <td>-0.571429</td>\n      <td>0.309804</td>\n      <td>-0.238215</td>\n      <td>-0.480865</td>\n      <td>0.116026</td>\n      <td>-0.612546</td>\n      <td>1.910928</td>\n    </tr>\n    <tr>\n      <th>32lF1rsInDTdK6Av3KdfaY</th>\n      <td>3.444444</td>\n      <td>-0.052632</td>\n      <td>0.472357</td>\n      <td>0.284391</td>\n      <td>-1.000000</td>\n      <td>-0.714286</td>\n      <td>-0.313725</td>\n      <td>0.044623</td>\n      <td>-0.497504</td>\n      <td>-0.055325</td>\n      <td>0.372694</td>\n      <td>1.985036</td>\n    </tr>\n    <tr>\n      <th>5WwqdeavrQrbeAMDxGawse</th>\n      <td>3.052288</td>\n      <td>-0.377574</td>\n      <td>0.442985</td>\n      <td>-0.315752</td>\n      <td>-0.973807</td>\n      <td>0.285714</td>\n      <td>-0.312157</td>\n      <td>1.132804</td>\n      <td>-0.557404</td>\n      <td>0.295939</td>\n      <td>-0.649446</td>\n      <td>2.023589</td>\n    </tr>\n    <tr>\n      <th>6ORqU0bHbVCRjXm9AjyHyZ</th>\n      <td>3.784314</td>\n      <td>-0.275362</td>\n      <td>-0.248742</td>\n      <td>-0.384177</td>\n      <td>-1.000000</td>\n      <td>0.000000</td>\n      <td>0.262745</td>\n      <td>0.518536</td>\n      <td>-0.497504</td>\n      <td>-0.215817</td>\n      <td>0.195572</td>\n      <td>2.139565</td>\n    </tr>\n    <tr>\n      <th>4rcHWl68ai6KvpXlc8vbnE</th>\n      <td>0.356863</td>\n      <td>-0.533181</td>\n      <td>-0.019517</td>\n      <td>0.029223</td>\n      <td>-1.000000</td>\n      <td>-1.000000</td>\n      <td>-0.082353</td>\n      <td>0.154390</td>\n      <td>-0.434276</td>\n      <td>0.448357</td>\n      <td>-0.243542</td>\n      <td>2.324037</td>\n    </tr>\n    <tr>\n      <th>1bCMeYi91d4TH2Z5tJMW0c</th>\n      <td>-0.288889</td>\n      <td>-0.260107</td>\n      <td>0.268651</td>\n      <td>-0.244476</td>\n      <td>-1.000000</td>\n      <td>-0.428571</td>\n      <td>0.184314</td>\n      <td>0.860614</td>\n      <td>-0.535774</td>\n      <td>-0.436595</td>\n      <td>-0.483395</td>\n      <td>2.364229</td>\n    </tr>\n    <tr>\n      <th>6RuXciU0JM95YCmWQok4z8</th>\n      <td>0.688889</td>\n      <td>-0.238749</td>\n      <td>0.269106</td>\n      <td>-0.295795</td>\n      <td>-1.000000</td>\n      <td>-0.714286</td>\n      <td>0.427451</td>\n      <td>0.174910</td>\n      <td>-0.560732</td>\n      <td>-0.361654</td>\n      <td>-0.761993</td>\n      <td>2.372852</td>\n    </tr>\n  </tbody>\n</table>\n</div>"
     },
     "metadata": {},
     "execution_count": 205
    }
   ],
   "source": [
    "# Picking 30 least variated songs from df_main_var\n",
    "rec_songs = df_main_var.nsmallest(30,'variation')\n",
    "\n",
    "rec_songs"
   ]
  },
  {
   "cell_type": "code",
   "execution_count": 206,
   "metadata": {},
   "outputs": [],
   "source": [
    "# Creates custom playlist\n",
    "def custom_playlist(sp, username, playlist_name, playlist_description, isPublic):\n",
    "    pl_custom = sp.user_playlist_create(username, playlist_name, public=isPublic, collaborative=False, description=playlist_description)\n",
    "\n",
    "custom_playlist(sp, user_name, 'DJ_NumPy', 'Custom Playlist', False)"
   ]
  },
  {
   "cell_type": "code",
   "execution_count": 207,
   "metadata": {},
   "outputs": [],
   "source": [
    "custom_id = sp.user_playlists(user_name)['items'][0]['id']"
   ]
  },
  {
   "cell_type": "code",
   "execution_count": 208,
   "metadata": {},
   "outputs": [],
   "source": [
    "# Fills custom playlist with recommended tracks\n",
    "def fill_playlist(playlist_id):\n",
    "    # try:\n",
    "    #     sp.user_playlist_unfollow(user=user_name, playlist_id=custom_id)\n",
    "    # except:\n",
    "    #     sp.playlist_add_items(playlist_id, items= rec_songs.index[0:len(rec_songs.index)])\n",
    "    sp.playlist_add_items(playlist_id, items=rec_songs.index[0:len(rec_songs.index)])"
   ]
  },
  {
   "cell_type": "code",
   "execution_count": 209,
   "metadata": {},
   "outputs": [],
   "source": [
    "fill_playlist(custom_id)"
   ]
  },
  {
   "cell_type": "code",
   "execution_count": 174,
   "metadata": {},
   "outputs": [],
   "source": []
  },
  {
   "cell_type": "code",
   "execution_count": null,
   "metadata": {},
   "outputs": [],
   "source": []
  }
 ]
}