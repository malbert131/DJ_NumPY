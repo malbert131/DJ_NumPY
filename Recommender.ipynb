{
 "metadata": {
  "language_info": {
   "codemirror_mode": {
    "name": "ipython",
    "version": 3
   },
   "file_extension": ".py",
   "mimetype": "text/x-python",
   "name": "python",
   "nbconvert_exporter": "python",
   "pygments_lexer": "ipython3",
   "version": "3.9.1"
  },
  "orig_nbformat": 2,
  "kernelspec": {
   "name": "python3",
   "display_name": "Python 3.9.1 64-bit ('DJ_NumPy-RDDxY7Pi': pipenv)",
   "metadata": {
    "interpreter": {
     "hash": "abf4aac3bd47590b3c3ba9c20e5c9ff76a5d60f3d204cf7670d4141c0c3b4c10"
    }
   }
  }
 },
 "nbformat": 4,
 "nbformat_minor": 2,
 "cells": [
  {
   "cell_type": "code",
   "execution_count": 2,
   "metadata": {},
   "outputs": [],
   "source": [
    "from keys import client_id, client_secret, user_name\n",
    "import os\n",
    "import pandas as pd\n",
    "import numpy as np\n",
    "import json\n",
    "import matplotlib.pyplot as plt\n",
    "import seaborn as sns\n",
    "%config InlineBackend.figure_format ='retina'\n",
    "import spotipy\n",
    "import spotipy.util as util\n",
    "from spotipy.oauth2 import SpotifyClientCredentials\n",
    "from spotipy import oauth2\n",
    "import random\n",
    "from functools import reduce"
   ]
  },
  {
   "cell_type": "code",
   "execution_count": 3,
   "metadata": {},
   "outputs": [],
   "source": [
    "scope = 'user-library-read playlist-modify-public playlist-read-private user-read-recently-played app-remote-control user-top-read'\n",
    "\n",
    "redirect_uri = 'https://developer.spotify.com/dashboard/applications/0743a195f7654b5ab95560a95e89316a'\n",
    "\n",
    "client_credentials_manager = SpotifyClientCredentials(client_id=client_id, client_secret=client_secret)\n",
    "\n",
    "sp = spotipy.Spotify(client_credentials_manager=client_credentials_manager)\n",
    "\n",
    "token = util.prompt_for_user_token(user_name, scope, client_id, client_secret, redirect_uri)\n",
    "\n",
    "if token:\n",
    "    sp = spotipy.Spotify(auth=token)\n",
    "else:\n",
    "    print(\"NO TOKEN FOUND\")\n"
   ]
  },
  {
   "cell_type": "code",
   "execution_count": 4,
   "metadata": {},
   "outputs": [
    {
     "output_type": "execute_result",
     "data": {
      "text/plain": [
       "                                         id  acousticness  danceability  \\\n",
       "HOLIDAY              6zFMeegAMYQo0mt8rXtrli       0.12000         0.810   \n",
       "Death of a Bachelor  1BECwm5qkaBwlbfo4kpYx8       0.01370         0.462   \n",
       "Daylight             6Ed1q0X8oSKSm4IIhiQbYg       0.00488         0.528   \n",
       "Knock Knock          3uYm4MtU6jUQft2DtGqEoZ       0.03530         0.667   \n",
       "Don't Matter         7I6DceMT3utDOHjcYCbrr4       0.24400         0.798   \n",
       "\n",
       "                     duration_ms  energy  instrumentalness  key  liveness  \\\n",
       "HOLIDAY                   154998   0.511          0.000000    5    0.0832   \n",
       "Death of a Bachelor       203507   0.538          0.000000    0    0.4290   \n",
       "Daylight                  163906   0.749          0.000096    7    0.0949   \n",
       "Knock Knock               202807   0.922          0.000000    4    0.3640   \n",
       "Don't Matter              293053   0.443          0.000000    2    0.3260   \n",
       "\n",
       "                     loudness  mode  speechiness    tempo  valence  \n",
       "HOLIDAY                -6.924     0       0.1640  151.947    0.837  \n",
       "Death of a Bachelor    -5.527     1       0.0590  139.256    0.405  \n",
       "Daylight               -7.571     1       0.0479  163.944    0.729  \n",
       "Knock Knock            -4.857     0       0.1280  108.952    0.509  \n",
       "Don't Matter           -6.062     1       0.0403  125.232    0.354  "
      ],
      "text/html": "<div>\n<style scoped>\n    .dataframe tbody tr th:only-of-type {\n        vertical-align: middle;\n    }\n\n    .dataframe tbody tr th {\n        vertical-align: top;\n    }\n\n    .dataframe thead th {\n        text-align: right;\n    }\n</style>\n<table border=\"1\" class=\"dataframe\">\n  <thead>\n    <tr style=\"text-align: right;\">\n      <th></th>\n      <th>id</th>\n      <th>acousticness</th>\n      <th>danceability</th>\n      <th>duration_ms</th>\n      <th>energy</th>\n      <th>instrumentalness</th>\n      <th>key</th>\n      <th>liveness</th>\n      <th>loudness</th>\n      <th>mode</th>\n      <th>speechiness</th>\n      <th>tempo</th>\n      <th>valence</th>\n    </tr>\n  </thead>\n  <tbody>\n    <tr>\n      <th>HOLIDAY</th>\n      <td>6zFMeegAMYQo0mt8rXtrli</td>\n      <td>0.12000</td>\n      <td>0.810</td>\n      <td>154998</td>\n      <td>0.511</td>\n      <td>0.000000</td>\n      <td>5</td>\n      <td>0.0832</td>\n      <td>-6.924</td>\n      <td>0</td>\n      <td>0.1640</td>\n      <td>151.947</td>\n      <td>0.837</td>\n    </tr>\n    <tr>\n      <th>Death of a Bachelor</th>\n      <td>1BECwm5qkaBwlbfo4kpYx8</td>\n      <td>0.01370</td>\n      <td>0.462</td>\n      <td>203507</td>\n      <td>0.538</td>\n      <td>0.000000</td>\n      <td>0</td>\n      <td>0.4290</td>\n      <td>-5.527</td>\n      <td>1</td>\n      <td>0.0590</td>\n      <td>139.256</td>\n      <td>0.405</td>\n    </tr>\n    <tr>\n      <th>Daylight</th>\n      <td>6Ed1q0X8oSKSm4IIhiQbYg</td>\n      <td>0.00488</td>\n      <td>0.528</td>\n      <td>163906</td>\n      <td>0.749</td>\n      <td>0.000096</td>\n      <td>7</td>\n      <td>0.0949</td>\n      <td>-7.571</td>\n      <td>1</td>\n      <td>0.0479</td>\n      <td>163.944</td>\n      <td>0.729</td>\n    </tr>\n    <tr>\n      <th>Knock Knock</th>\n      <td>3uYm4MtU6jUQft2DtGqEoZ</td>\n      <td>0.03530</td>\n      <td>0.667</td>\n      <td>202807</td>\n      <td>0.922</td>\n      <td>0.000000</td>\n      <td>4</td>\n      <td>0.3640</td>\n      <td>-4.857</td>\n      <td>0</td>\n      <td>0.1280</td>\n      <td>108.952</td>\n      <td>0.509</td>\n    </tr>\n    <tr>\n      <th>Don't Matter</th>\n      <td>7I6DceMT3utDOHjcYCbrr4</td>\n      <td>0.24400</td>\n      <td>0.798</td>\n      <td>293053</td>\n      <td>0.443</td>\n      <td>0.000000</td>\n      <td>2</td>\n      <td>0.3260</td>\n      <td>-6.062</td>\n      <td>1</td>\n      <td>0.0403</td>\n      <td>125.232</td>\n      <td>0.354</td>\n    </tr>\n  </tbody>\n</table>\n</div>"
     },
     "metadata": {},
     "execution_count": 4
    }
   ],
   "source": [
    "user_top_tracks = sp.current_user_top_tracks(limit=50, offset=0, time_range='long_term')\n",
    "song_data = user_top_tracks[\"items\"]\n",
    "\n",
    "song_ids = []\n",
    "song_names = []\n",
    "\n",
    "for i in range(0, len(song_data)):\n",
    "    if song_data[i]['id'] != None:\n",
    "        song_ids.append(song_data[i]['id'])\n",
    "        song_names.append(song_data[i]['name'])\n",
    "\n",
    "song_features = []\n",
    "for i in range(0, len(song_ids)):\n",
    "    features = sp.audio_features(song_ids[i])\n",
    "    for song in features:\n",
    "        song_features.append(song)\n",
    "\n",
    "top_tracks_df = pd.DataFrame(song_features, index=song_names)\n",
    "top_tracks_df = top_tracks_df[[\"id\", \"acousticness\", \"danceability\", \"duration_ms\", \n",
    "                         \"energy\", \"instrumentalness\",  \"key\", \"liveness\",\n",
    "                         \"loudness\", \"mode\", \"speechiness\", \"tempo\", \"valence\"]]\n",
    "top_tracks_df.head()"
   ]
  },
  {
   "cell_type": "code",
   "execution_count": 5,
   "metadata": {},
   "outputs": [
    {
     "output_type": "stream",
     "name": "stdout",
     "text": [
      "<class 'pandas.core.frame.DataFrame'>\nIndex: 50 entries, HOLIDAY to Team\nData columns (total 13 columns):\n #   Column            Non-Null Count  Dtype  \n---  ------            --------------  -----  \n 0   id                50 non-null     object \n 1   acousticness      50 non-null     float64\n 2   danceability      50 non-null     float64\n 3   duration_ms       50 non-null     int64  \n 4   energy            50 non-null     float64\n 5   instrumentalness  50 non-null     float64\n 6   key               50 non-null     int64  \n 7   liveness          50 non-null     float64\n 8   loudness          50 non-null     float64\n 9   mode              50 non-null     int64  \n 10  speechiness       50 non-null     float64\n 11  tempo             50 non-null     float64\n 12  valence           50 non-null     float64\ndtypes: float64(9), int64(3), object(1)\nmemory usage: 5.5+ KB\n"
     ]
    }
   ],
   "source": [
    "top_tracks_df.info()"
   ]
  },
  {
   "cell_type": "code",
   "execution_count": 6,
   "metadata": {},
   "outputs": [],
   "source": [
    "featured_playlists = sp.featured_playlists(limit=50)\n",
    "# Creating data frame for playlists\n",
    "id = []\n",
    "name = []\n",
    "num_tracks = []\n",
    "items = featured_playlists['playlists']['items']\n",
    "for item in items:\n",
    "    id.append(item[\"id\"])\n",
    "    name.append(item[\"name\"])\n",
    "    num_tracks.append(item[\"tracks\"][\"total\"])\n",
    "\n",
    "df_pl_data = pd.DataFrame({\"id\":id, \"name\": name, \"num_tracks\": num_tracks})"
   ]
  },
  {
   "cell_type": "code",
   "execution_count": 7,
   "metadata": {},
   "outputs": [
    {
     "output_type": "execute_result",
     "data": {
      "text/plain": [
       "                        id                 name  num_tracks\n",
       "0   37i9dQZF1DWU0ScTcjJBdj       Relax & Unwind         100\n",
       "1   37i9dQZF1DWTwbZHrJRIgD        Happy Weekend          57\n",
       "2   37i9dQZF1DX4pUKG1kS0Ac     Guilty Pleasures         151\n",
       "3   37i9dQZF1DWYAcBZSAVhlf  Walking On Sunshine          80\n",
       "4   37i9dQZF1DWWBHeXOYZf74               POLLEN         139\n",
       "5   37i9dQZF1DX4o1oenSJRJd          All Out 00s         100\n",
       "6   37i9dQZF1DX4bSrsRWE9cd                Bliss          75\n",
       "7   37i9dQZF1DWZKuerrwoAGz      Happy Favorites         100\n",
       "8   37i9dQZF1DX4VvfRBFClxm        Acoustic Hits         100\n",
       "9   37i9dQZF1DX4MTfCb9IRyO     Summertime Blues          50\n",
       "10  37i9dQZF1DX4dyzvuaRJ0n                 mint          88"
      ],
      "text/html": "<div>\n<style scoped>\n    .dataframe tbody tr th:only-of-type {\n        vertical-align: middle;\n    }\n\n    .dataframe tbody tr th {\n        vertical-align: top;\n    }\n\n    .dataframe thead th {\n        text-align: right;\n    }\n</style>\n<table border=\"1\" class=\"dataframe\">\n  <thead>\n    <tr style=\"text-align: right;\">\n      <th></th>\n      <th>id</th>\n      <th>name</th>\n      <th>num_tracks</th>\n    </tr>\n  </thead>\n  <tbody>\n    <tr>\n      <th>0</th>\n      <td>37i9dQZF1DWU0ScTcjJBdj</td>\n      <td>Relax &amp; Unwind</td>\n      <td>100</td>\n    </tr>\n    <tr>\n      <th>1</th>\n      <td>37i9dQZF1DWTwbZHrJRIgD</td>\n      <td>Happy Weekend</td>\n      <td>57</td>\n    </tr>\n    <tr>\n      <th>2</th>\n      <td>37i9dQZF1DX4pUKG1kS0Ac</td>\n      <td>Guilty Pleasures</td>\n      <td>151</td>\n    </tr>\n    <tr>\n      <th>3</th>\n      <td>37i9dQZF1DWYAcBZSAVhlf</td>\n      <td>Walking On Sunshine</td>\n      <td>80</td>\n    </tr>\n    <tr>\n      <th>4</th>\n      <td>37i9dQZF1DWWBHeXOYZf74</td>\n      <td>POLLEN</td>\n      <td>139</td>\n    </tr>\n    <tr>\n      <th>5</th>\n      <td>37i9dQZF1DX4o1oenSJRJd</td>\n      <td>All Out 00s</td>\n      <td>100</td>\n    </tr>\n    <tr>\n      <th>6</th>\n      <td>37i9dQZF1DX4bSrsRWE9cd</td>\n      <td>Bliss</td>\n      <td>75</td>\n    </tr>\n    <tr>\n      <th>7</th>\n      <td>37i9dQZF1DWZKuerrwoAGz</td>\n      <td>Happy Favorites</td>\n      <td>100</td>\n    </tr>\n    <tr>\n      <th>8</th>\n      <td>37i9dQZF1DX4VvfRBFClxm</td>\n      <td>Acoustic Hits</td>\n      <td>100</td>\n    </tr>\n    <tr>\n      <th>9</th>\n      <td>37i9dQZF1DX4MTfCb9IRyO</td>\n      <td>Summertime Blues</td>\n      <td>50</td>\n    </tr>\n    <tr>\n      <th>10</th>\n      <td>37i9dQZF1DX4dyzvuaRJ0n</td>\n      <td>mint</td>\n      <td>88</td>\n    </tr>\n  </tbody>\n</table>\n</div>"
     },
     "metadata": {},
     "execution_count": 7
    }
   ],
   "source": [
    "df_pl_data"
   ]
  },
  {
   "cell_type": "code",
   "execution_count": 8,
   "metadata": {},
   "outputs": [],
   "source": [
    "# Returns Individual Tracks In Playlists\n",
    "def get_playlist_tracks(sp, playlist_id):\n",
    "    data_track = sp.playlist_tracks(playlist_id, fields=None, limit=100, offset=0, market=None)['items']\n",
    "    track_id = []\n",
    "    track_name = []\n",
    "    \n",
    "    for data in data_track:\n",
    "        track_id.append(data['track']['id'])\n",
    "        track_name.append(data['track']['name'])\n",
    "\n",
    "    return pd.DataFrame({\"track_id\":track_id, \"track_name\": track_name})"
   ]
  },
  {
   "cell_type": "code",
   "execution_count": 9,
   "metadata": {},
   "outputs": [
    {
     "output_type": "execute_result",
     "data": {
      "text/plain": [
       "                 track_id            track_name\n",
       "0  6FE2iI43OZnszFLuLtvvmg               Classic\n",
       "1  3DmW6y7wTEYHJZlLo1r6XJ                Shower\n",
       "2  4E5P1XyAFtrjpiIxkydly4                Replay\n",
       "3  3E7dfMvvCLUddWissuqMwr   Party In The U.S.A.\n",
       "4  1CQ2cMfrmFM1YdfmjENKVE  She Looks So Perfect"
      ],
      "text/html": "<div>\n<style scoped>\n    .dataframe tbody tr th:only-of-type {\n        vertical-align: middle;\n    }\n\n    .dataframe tbody tr th {\n        vertical-align: top;\n    }\n\n    .dataframe thead th {\n        text-align: right;\n    }\n</style>\n<table border=\"1\" class=\"dataframe\">\n  <thead>\n    <tr style=\"text-align: right;\">\n      <th></th>\n      <th>track_id</th>\n      <th>track_name</th>\n    </tr>\n  </thead>\n  <tbody>\n    <tr>\n      <th>0</th>\n      <td>6FE2iI43OZnszFLuLtvvmg</td>\n      <td>Classic</td>\n    </tr>\n    <tr>\n      <th>1</th>\n      <td>3DmW6y7wTEYHJZlLo1r6XJ</td>\n      <td>Shower</td>\n    </tr>\n    <tr>\n      <th>2</th>\n      <td>4E5P1XyAFtrjpiIxkydly4</td>\n      <td>Replay</td>\n    </tr>\n    <tr>\n      <th>3</th>\n      <td>3E7dfMvvCLUddWissuqMwr</td>\n      <td>Party In The U.S.A.</td>\n    </tr>\n    <tr>\n      <th>4</th>\n      <td>1CQ2cMfrmFM1YdfmjENKVE</td>\n      <td>She Looks So Perfect</td>\n    </tr>\n  </tbody>\n</table>\n</div>"
     },
     "metadata": {},
     "execution_count": 9
    }
   ],
   "source": [
    "get_playlist_tracks(sp, '37i9dQZF1DWZKuerrwoAGz').head()"
   ]
  },
  {
   "cell_type": "code",
   "execution_count": 10,
   "metadata": {},
   "outputs": [],
   "source": [
    "# Function for getting audio features of individual tracks\n",
    "def get_audio_features(sp, playlist_id):\n",
    "    playlist = get_playlist_tracks(sp, playlist_id)\n",
    "    audio_features = []\n",
    "    for i in range(len(playlist)):\n",
    "        song_data_id = playlist['track_id'][i]\n",
    "        audio_features.append(sp.audio_features(song_data_id))\n",
    "    features_array = []\n",
    "    for features in audio_features:\n",
    "        features = features[0]\n",
    "        features_array.append([features['danceability'],\n",
    "                              features['acousticness'],\n",
    "                              features['energy'], \n",
    "                              features['tempo'],\n",
    "                              features['instrumentalness'], \n",
    "                              features['loudness'],\n",
    "                              features['liveness'],\n",
    "                              features['duration_ms'],\n",
    "                              features['key'],\n",
    "                              features['valence'],\n",
    "                              features['speechiness']\n",
    "                             ])\n",
    "    df_audio_features = pd.DataFrame(features_array, columns=['danceability', 'acousticness', 'energy', 'tempo', 'instrumentalness', 'loudness', 'liveness', 'duration_ms', 'key', 'valence', 'speechiness'])\n",
    "    # DataFrame with audio features and playlist id/name\n",
    "    df_playlist_features = pd.concat([playlist, df_audio_features], axis=1)\n",
    "    df_playlist_features.set_index('track_name', inplace=True, drop=True)\n",
    "    return df_playlist_features"
   ]
  },
  {
   "cell_type": "code",
   "execution_count": 11,
   "metadata": {},
   "outputs": [
    {
     "output_type": "execute_result",
     "data": {
      "text/plain": [
       "                                                              track_id  \\\n",
       "track_name                                                               \n",
       "Beautiful Mistakes (feat. Megan Thee Stallion)  6fRxMU4LWwyaSSowV441IU   \n",
       "Peaches (feat. Daniel Caesar & Giveon)          4iJyoBOLtHqaGxP12qzhQI   \n",
       "deja vu                                         61KpQadow081I2AsbeLcsb   \n",
       "BED                                             7jXQUrVhEpXdymfFWNDnQW   \n",
       "Met Him Last Night (feat. Ariana Grande)        0BI0hfbmqybnd3TezrDME3   \n",
       "\n",
       "                                                danceability  acousticness  \\\n",
       "track_name                                                                   \n",
       "Beautiful Mistakes (feat. Megan Thee Stallion)         0.713        0.0377   \n",
       "Peaches (feat. Daniel Caesar & Giveon)                 0.677        0.3210   \n",
       "deja vu                                                0.439        0.5930   \n",
       "BED                                                    0.663        0.0134   \n",
       "Met Him Last Night (feat. Ariana Grande)               0.538        0.2200   \n",
       "\n",
       "                                                energy    tempo  \\\n",
       "track_name                                                        \n",
       "Beautiful Mistakes (feat. Megan Thee Stallion)   0.676   99.048   \n",
       "Peaches (feat. Daniel Caesar & Giveon)           0.696   90.030   \n",
       "deja vu                                          0.610  181.088   \n",
       "BED                                              0.783  123.986   \n",
       "Met Him Last Night (feat. Ariana Grande)         0.512  144.978   \n",
       "\n",
       "                                                instrumentalness  loudness  \\\n",
       "track_name                                                                   \n",
       "Beautiful Mistakes (feat. Megan Thee Stallion)          0.000000    -5.483   \n",
       "Peaches (feat. Daniel Caesar & Giveon)                  0.000000    -6.181   \n",
       "deja vu                                                 0.000011    -7.236   \n",
       "BED                                                     0.001790    -4.585   \n",
       "Met Him Last Night (feat. Ariana Grande)                0.000000    -4.548   \n",
       "\n",
       "                                                liveness  duration_ms  key  \\\n",
       "track_name                                                                   \n",
       "Beautiful Mistakes (feat. Megan Thee Stallion)     0.154       227395   10   \n",
       "Peaches (feat. Daniel Caesar & Giveon)             0.420       198082    0   \n",
       "deja vu                                            0.341       215508    9   \n",
       "BED                                                0.325       178088    6   \n",
       "Met Him Last Night (feat. Ariana Grande)           0.101       204632    4   \n",
       "\n",
       "                                                valence  speechiness  \n",
       "track_name                                                            \n",
       "Beautiful Mistakes (feat. Megan Thee Stallion)    0.721       0.0270  \n",
       "Peaches (feat. Daniel Caesar & Giveon)            0.464       0.1190  \n",
       "deja vu                                           0.172       0.1160  \n",
       "BED                                               0.622       0.0393  \n",
       "Met Him Last Night (feat. Ariana Grande)          0.120       0.0262  "
      ],
      "text/html": "<div>\n<style scoped>\n    .dataframe tbody tr th:only-of-type {\n        vertical-align: middle;\n    }\n\n    .dataframe tbody tr th {\n        vertical-align: top;\n    }\n\n    .dataframe thead th {\n        text-align: right;\n    }\n</style>\n<table border=\"1\" class=\"dataframe\">\n  <thead>\n    <tr style=\"text-align: right;\">\n      <th></th>\n      <th>track_id</th>\n      <th>danceability</th>\n      <th>acousticness</th>\n      <th>energy</th>\n      <th>tempo</th>\n      <th>instrumentalness</th>\n      <th>loudness</th>\n      <th>liveness</th>\n      <th>duration_ms</th>\n      <th>key</th>\n      <th>valence</th>\n      <th>speechiness</th>\n    </tr>\n    <tr>\n      <th>track_name</th>\n      <th></th>\n      <th></th>\n      <th></th>\n      <th></th>\n      <th></th>\n      <th></th>\n      <th></th>\n      <th></th>\n      <th></th>\n      <th></th>\n      <th></th>\n      <th></th>\n    </tr>\n  </thead>\n  <tbody>\n    <tr>\n      <th>Beautiful Mistakes (feat. Megan Thee Stallion)</th>\n      <td>6fRxMU4LWwyaSSowV441IU</td>\n      <td>0.713</td>\n      <td>0.0377</td>\n      <td>0.676</td>\n      <td>99.048</td>\n      <td>0.000000</td>\n      <td>-5.483</td>\n      <td>0.154</td>\n      <td>227395</td>\n      <td>10</td>\n      <td>0.721</td>\n      <td>0.0270</td>\n    </tr>\n    <tr>\n      <th>Peaches (feat. Daniel Caesar &amp; Giveon)</th>\n      <td>4iJyoBOLtHqaGxP12qzhQI</td>\n      <td>0.677</td>\n      <td>0.3210</td>\n      <td>0.696</td>\n      <td>90.030</td>\n      <td>0.000000</td>\n      <td>-6.181</td>\n      <td>0.420</td>\n      <td>198082</td>\n      <td>0</td>\n      <td>0.464</td>\n      <td>0.1190</td>\n    </tr>\n    <tr>\n      <th>deja vu</th>\n      <td>61KpQadow081I2AsbeLcsb</td>\n      <td>0.439</td>\n      <td>0.5930</td>\n      <td>0.610</td>\n      <td>181.088</td>\n      <td>0.000011</td>\n      <td>-7.236</td>\n      <td>0.341</td>\n      <td>215508</td>\n      <td>9</td>\n      <td>0.172</td>\n      <td>0.1160</td>\n    </tr>\n    <tr>\n      <th>BED</th>\n      <td>7jXQUrVhEpXdymfFWNDnQW</td>\n      <td>0.663</td>\n      <td>0.0134</td>\n      <td>0.783</td>\n      <td>123.986</td>\n      <td>0.001790</td>\n      <td>-4.585</td>\n      <td>0.325</td>\n      <td>178088</td>\n      <td>6</td>\n      <td>0.622</td>\n      <td>0.0393</td>\n    </tr>\n    <tr>\n      <th>Met Him Last Night (feat. Ariana Grande)</th>\n      <td>0BI0hfbmqybnd3TezrDME3</td>\n      <td>0.538</td>\n      <td>0.2200</td>\n      <td>0.512</td>\n      <td>144.978</td>\n      <td>0.000000</td>\n      <td>-4.548</td>\n      <td>0.101</td>\n      <td>204632</td>\n      <td>4</td>\n      <td>0.120</td>\n      <td>0.0262</td>\n    </tr>\n  </tbody>\n</table>\n</div>"
     },
     "metadata": {},
     "execution_count": 11
    }
   ],
   "source": [
    "get_audio_features(sp, '37i9dQZF1DXcRXFNfZr7Tp').head()"
   ]
  },
  {
   "cell_type": "code",
   "execution_count": 12,
   "metadata": {},
   "outputs": [],
   "source": [
    "# # Turning playlist data into DataFrames of audio features for each track using previous method\n",
    "\n",
    "# for i in range(0, len(df_pl_data['id'])):\n",
    "#     string_command = \"df_{} = get_audio_features(sp, df_pl_data['id'][i])\".format(df_pl_data['id'][i])\n",
    "#     print(\"Created: df_{}\".format(df_pl_data['id'][i]))\n",
    "#     exec(string_command)\n",
    "# df_37i9dQZF1DWU0ScTcjJBdj"
   ]
  },
  {
   "cell_type": "code",
   "execution_count": 13,
   "metadata": {},
   "outputs": [],
   "source": [
    "# Finding mean of audio features for each playlist\n",
    "def audio_features_mean(sp, playlist_id):\n",
    "    Playlist = get_audio_features(sp, playlist_id)\n",
    "    return pd.DataFrame(Playlist.mean(), columns= [playlist_id])"
   ]
  },
  {
   "cell_type": "code",
   "execution_count": 14,
   "metadata": {},
   "outputs": [
    {
     "output_type": "execute_result",
     "data": {
      "text/plain": [
       "                  37i9dQZF1DXbYM3nMM0oPk\n",
       "danceability                    0.709173\n",
       "acousticness                    0.181992\n",
       "energy                          0.645507\n",
       "tempo                         121.424267\n",
       "instrumentalness                0.008807\n",
       "loudness                       -5.947773\n",
       "liveness                        0.162463\n",
       "duration_ms                188870.400000\n",
       "key                             5.253333\n",
       "valence                         0.545632\n",
       "speechiness                     0.116663"
      ],
      "text/html": "<div>\n<style scoped>\n    .dataframe tbody tr th:only-of-type {\n        vertical-align: middle;\n    }\n\n    .dataframe tbody tr th {\n        vertical-align: top;\n    }\n\n    .dataframe thead th {\n        text-align: right;\n    }\n</style>\n<table border=\"1\" class=\"dataframe\">\n  <thead>\n    <tr style=\"text-align: right;\">\n      <th></th>\n      <th>37i9dQZF1DXbYM3nMM0oPk</th>\n    </tr>\n  </thead>\n  <tbody>\n    <tr>\n      <th>danceability</th>\n      <td>0.709173</td>\n    </tr>\n    <tr>\n      <th>acousticness</th>\n      <td>0.181992</td>\n    </tr>\n    <tr>\n      <th>energy</th>\n      <td>0.645507</td>\n    </tr>\n    <tr>\n      <th>tempo</th>\n      <td>121.424267</td>\n    </tr>\n    <tr>\n      <th>instrumentalness</th>\n      <td>0.008807</td>\n    </tr>\n    <tr>\n      <th>loudness</th>\n      <td>-5.947773</td>\n    </tr>\n    <tr>\n      <th>liveness</th>\n      <td>0.162463</td>\n    </tr>\n    <tr>\n      <th>duration_ms</th>\n      <td>188870.400000</td>\n    </tr>\n    <tr>\n      <th>key</th>\n      <td>5.253333</td>\n    </tr>\n    <tr>\n      <th>valence</th>\n      <td>0.545632</td>\n    </tr>\n    <tr>\n      <th>speechiness</th>\n      <td>0.116663</td>\n    </tr>\n  </tbody>\n</table>\n</div>"
     },
     "metadata": {},
     "execution_count": 14
    }
   ],
   "source": [
    "audio_features_mean(sp, '37i9dQZF1DXbYM3nMM0oPk')"
   ]
  },
  {
   "cell_type": "code",
   "execution_count": 15,
   "metadata": {},
   "outputs": [
    {
     "output_type": "error",
     "ename": "TypeError",
     "evalue": "'NoneType' object is not subscriptable",
     "traceback": [
      "\u001b[0;31m---------------------------------------------------------------------------\u001b[0m",
      "\u001b[0;31mTypeError\u001b[0m                                 Traceback (most recent call last)",
      "\u001b[0;32m<ipython-input-15-21d00eb44fe7>\u001b[0m in \u001b[0;36m<module>\u001b[0;34m\u001b[0m\n\u001b[1;32m      2\u001b[0m \u001b[0mprimary_df\u001b[0m \u001b[0;34m=\u001b[0m \u001b[0;34m[\u001b[0m\u001b[0;34m]\u001b[0m\u001b[0;34m\u001b[0m\u001b[0;34m\u001b[0m\u001b[0m\n\u001b[1;32m      3\u001b[0m \u001b[0;32mfor\u001b[0m \u001b[0mi\u001b[0m \u001b[0;32min\u001b[0m \u001b[0mrange\u001b[0m\u001b[0;34m(\u001b[0m\u001b[0mlen\u001b[0m\u001b[0;34m(\u001b[0m\u001b[0mdf_pl_data\u001b[0m\u001b[0;34m)\u001b[0m\u001b[0;34m)\u001b[0m\u001b[0;34m:\u001b[0m\u001b[0;34m\u001b[0m\u001b[0;34m\u001b[0m\u001b[0m\n\u001b[0;32m----> 4\u001b[0;31m     \u001b[0mprimary_df\u001b[0m\u001b[0;34m.\u001b[0m\u001b[0mappend\u001b[0m\u001b[0;34m(\u001b[0m\u001b[0maudio_features_mean\u001b[0m\u001b[0;34m(\u001b[0m\u001b[0msp\u001b[0m\u001b[0;34m,\u001b[0m \u001b[0mdf_pl_data\u001b[0m\u001b[0;34m[\u001b[0m\u001b[0;34m'id'\u001b[0m\u001b[0;34m]\u001b[0m\u001b[0;34m[\u001b[0m\u001b[0mi\u001b[0m\u001b[0;34m]\u001b[0m\u001b[0;34m)\u001b[0m\u001b[0;34m)\u001b[0m\u001b[0;34m\u001b[0m\u001b[0;34m\u001b[0m\u001b[0m\n\u001b[0m",
      "\u001b[0;32m<ipython-input-13-cc1559c0c7c6>\u001b[0m in \u001b[0;36maudio_features_mean\u001b[0;34m(sp, playlist_id)\u001b[0m\n\u001b[1;32m      1\u001b[0m \u001b[0;31m# Finding mean of audio features for each playlist\u001b[0m\u001b[0;34m\u001b[0m\u001b[0;34m\u001b[0m\u001b[0;34m\u001b[0m\u001b[0m\n\u001b[1;32m      2\u001b[0m \u001b[0;32mdef\u001b[0m \u001b[0maudio_features_mean\u001b[0m\u001b[0;34m(\u001b[0m\u001b[0msp\u001b[0m\u001b[0;34m,\u001b[0m \u001b[0mplaylist_id\u001b[0m\u001b[0;34m)\u001b[0m\u001b[0;34m:\u001b[0m\u001b[0;34m\u001b[0m\u001b[0;34m\u001b[0m\u001b[0m\n\u001b[0;32m----> 3\u001b[0;31m     \u001b[0mPlaylist\u001b[0m \u001b[0;34m=\u001b[0m \u001b[0mget_audio_features\u001b[0m\u001b[0;34m(\u001b[0m\u001b[0msp\u001b[0m\u001b[0;34m,\u001b[0m \u001b[0mplaylist_id\u001b[0m\u001b[0;34m)\u001b[0m\u001b[0;34m\u001b[0m\u001b[0;34m\u001b[0m\u001b[0m\n\u001b[0m\u001b[1;32m      4\u001b[0m     \u001b[0;32mreturn\u001b[0m \u001b[0mpd\u001b[0m\u001b[0;34m.\u001b[0m\u001b[0mDataFrame\u001b[0m\u001b[0;34m(\u001b[0m\u001b[0mPlaylist\u001b[0m\u001b[0;34m.\u001b[0m\u001b[0mmean\u001b[0m\u001b[0;34m(\u001b[0m\u001b[0;34m)\u001b[0m\u001b[0;34m,\u001b[0m \u001b[0mcolumns\u001b[0m\u001b[0;34m=\u001b[0m \u001b[0;34m[\u001b[0m\u001b[0mplaylist_id\u001b[0m\u001b[0;34m]\u001b[0m\u001b[0;34m)\u001b[0m\u001b[0;34m\u001b[0m\u001b[0;34m\u001b[0m\u001b[0m\n",
      "\u001b[0;32m<ipython-input-10-c9636b23fabd>\u001b[0m in \u001b[0;36mget_audio_features\u001b[0;34m(sp, playlist_id)\u001b[0m\n\u001b[1;32m      9\u001b[0m     \u001b[0;32mfor\u001b[0m \u001b[0mfeatures\u001b[0m \u001b[0;32min\u001b[0m \u001b[0maudio_features\u001b[0m\u001b[0;34m:\u001b[0m\u001b[0;34m\u001b[0m\u001b[0;34m\u001b[0m\u001b[0m\n\u001b[1;32m     10\u001b[0m         \u001b[0mfeatures\u001b[0m \u001b[0;34m=\u001b[0m \u001b[0mfeatures\u001b[0m\u001b[0;34m[\u001b[0m\u001b[0;36m0\u001b[0m\u001b[0;34m]\u001b[0m\u001b[0;34m\u001b[0m\u001b[0;34m\u001b[0m\u001b[0m\n\u001b[0;32m---> 11\u001b[0;31m         features_array.append([features['danceability'],\n\u001b[0m\u001b[1;32m     12\u001b[0m                               \u001b[0mfeatures\u001b[0m\u001b[0;34m[\u001b[0m\u001b[0;34m'acousticness'\u001b[0m\u001b[0;34m]\u001b[0m\u001b[0;34m,\u001b[0m\u001b[0;34m\u001b[0m\u001b[0;34m\u001b[0m\u001b[0m\n\u001b[1;32m     13\u001b[0m                               \u001b[0mfeatures\u001b[0m\u001b[0;34m[\u001b[0m\u001b[0;34m'energy'\u001b[0m\u001b[0;34m]\u001b[0m\u001b[0;34m,\u001b[0m\u001b[0;34m\u001b[0m\u001b[0;34m\u001b[0m\u001b[0m\n",
      "\u001b[0;31mTypeError\u001b[0m: 'NoneType' object is not subscriptable"
     ]
    }
   ],
   "source": [
    "# Merges average of audio features of each playlist into a single DataFrame\n",
    "primary_df = []\n",
    "for i in range(len(df_pl_data)):\n",
    "    primary_df.append(audio_features_mean(sp, df_pl_data['id'][i]))"
   ]
  },
  {
   "cell_type": "code",
   "execution_count": 45,
   "metadata": {},
   "outputs": [
    {
     "output_type": "execute_result",
     "data": {
      "text/plain": [
       "[                  37i9dQZF1DWU0ScTcjJBdj\n",
       " danceability                    0.521320\n",
       " acousticness                    0.695853\n",
       " energy                          0.363995\n",
       " tempo                         117.174500\n",
       " instrumentalness                0.074661\n",
       " loudness                      -11.082280\n",
       " liveness                        0.155497\n",
       " duration_ms                241161.370000\n",
       " key                             5.810000\n",
       " valence                         0.297808\n",
       " speechiness                     0.038116,\n",
       "                   37i9dQZF1DWTwbZHrJRIgD\n",
       " danceability                    0.682509\n",
       " acousticness                    0.281712\n",
       " energy                          0.677877\n",
       " tempo                         119.546456\n",
       " instrumentalness                0.027628\n",
       " loudness                       -7.268737\n",
       " liveness                        0.158749\n",
       " duration_ms                241177.192982\n",
       " key                             5.105263\n",
       " valence                         0.577068\n",
       " speechiness                     0.063614,\n",
       "                   37i9dQZF1DX4pUKG1kS0Ac\n",
       " danceability                    0.670200\n",
       " acousticness                    0.098756\n",
       " energy                          0.781580\n",
       " tempo                         122.607870\n",
       " instrumentalness                0.010865\n",
       " loudness                       -5.103840\n",
       " liveness                        0.176189\n",
       " duration_ms                219849.220000\n",
       " key                             5.280000\n",
       " valence                         0.689600\n",
       " speechiness                     0.088050,\n",
       "                   37i9dQZF1DWYAcBZSAVhlf\n",
       " danceability                    0.709537\n",
       " acousticness                    0.171681\n",
       " energy                          0.783838\n",
       " tempo                         124.145737\n",
       " instrumentalness                0.025119\n",
       " loudness                       -8.675512\n",
       " liveness                        0.194721\n",
       " duration_ms                243473.900000\n",
       " key                             4.875000\n",
       " valence                         0.818263\n",
       " speechiness                     0.059009,\n",
       "                   37i9dQZF1DWWBHeXOYZf74\n",
       " danceability                    0.658740\n",
       " acousticness                    0.271123\n",
       " energy                          0.595230\n",
       " tempo                         116.348440\n",
       " instrumentalness                0.099894\n",
       " loudness                       -8.161440\n",
       " liveness                        0.185388\n",
       " duration_ms                208252.740000\n",
       " key                             5.570000\n",
       " valence                         0.508524\n",
       " speechiness                     0.148469,\n",
       "                   37i9dQZF1DX4o1oenSJRJd\n",
       " danceability                    0.698180\n",
       " acousticness                    0.096046\n",
       " energy                          0.753570\n",
       " tempo                         121.188730\n",
       " instrumentalness                0.018002\n",
       " loudness                       -5.191770\n",
       " liveness                        0.177294\n",
       " duration_ms                230006.420000\n",
       " key                             5.390000\n",
       " valence                         0.638300\n",
       " speechiness                     0.092260,\n",
       "                   37i9dQZF1DX4bSrsRWE9cd\n",
       " danceability                    0.493147\n",
       " acousticness                    0.816849\n",
       " energy                          0.235191\n",
       " tempo                         118.281827\n",
       " instrumentalness                0.162121\n",
       " loudness                      -14.750040\n",
       " liveness                        0.132576\n",
       " duration_ms                231474.000000\n",
       " key                             3.813333\n",
       " valence                         0.249524\n",
       " speechiness                     0.038636,\n",
       "                   37i9dQZF1DWZKuerrwoAGz\n",
       " danceability                    0.698110\n",
       " acousticness                    0.090534\n",
       " energy                          0.783260\n",
       " tempo                         118.099400\n",
       " instrumentalness                0.004267\n",
       " loudness                       -4.660960\n",
       " liveness                        0.180894\n",
       " duration_ms                214034.980000\n",
       " key                             5.210000\n",
       " valence                         0.660010\n",
       " speechiness                     0.073470,\n",
       "                   37i9dQZF1DX4VvfRBFClxm\n",
       " danceability                    0.577720\n",
       " acousticness                    0.656251\n",
       " energy                          0.369526\n",
       " tempo                         117.764690\n",
       " instrumentalness                0.001867\n",
       " loudness                       -8.558720\n",
       " liveness                        0.139820\n",
       " duration_ms                211450.860000\n",
       " key                             5.310000\n",
       " valence                         0.416764\n",
       " speechiness                     0.045146,\n",
       "                   37i9dQZF1DX4MTfCb9IRyO\n",
       " danceability                    0.593440\n",
       " acousticness                    0.506314\n",
       " energy                          0.494940\n",
       " tempo                         114.266500\n",
       " instrumentalness                0.086893\n",
       " loudness                      -10.999140\n",
       " liveness                        0.189042\n",
       " duration_ms                219416.400000\n",
       " key                             5.400000\n",
       " valence                         0.741960\n",
       " speechiness                     0.049852]"
      ]
     },
     "metadata": {},
     "execution_count": 45
    }
   ],
   "source": [
    "primary_df"
   ]
  },
  {
   "cell_type": "code",
   "execution_count": 18,
   "metadata": {},
   "outputs": [
    {
     "output_type": "execute_result",
     "data": {
      "text/plain": [
       "                  37i9dQZF1DWU0ScTcjJBdj  37i9dQZF1DWTwbZHrJRIgD  \\\n",
       "danceability                    0.521320                0.682509   \n",
       "acousticness                    0.695853                0.281712   \n",
       "energy                          0.363995                0.677877   \n",
       "tempo                         117.174500              119.546456   \n",
       "instrumentalness                0.074661                0.027628   \n",
       "loudness                      -11.082280               -7.268737   \n",
       "liveness                        0.155497                0.158749   \n",
       "duration_ms                241161.370000           241177.192982   \n",
       "key                             5.810000                5.105263   \n",
       "valence                         0.297808                0.577068   \n",
       "speechiness                     0.038116                0.063614   \n",
       "\n",
       "                  37i9dQZF1DX4pUKG1kS0Ac  37i9dQZF1DWYAcBZSAVhlf  \\\n",
       "danceability                    0.670200                0.709537   \n",
       "acousticness                    0.098756                0.171681   \n",
       "energy                          0.781580                0.783838   \n",
       "tempo                         122.607870              124.145737   \n",
       "instrumentalness                0.010865                0.025119   \n",
       "loudness                       -5.103840               -8.675512   \n",
       "liveness                        0.176189                0.194721   \n",
       "duration_ms                219849.220000           243473.900000   \n",
       "key                             5.280000                4.875000   \n",
       "valence                         0.689600                0.818263   \n",
       "speechiness                     0.088050                0.059009   \n",
       "\n",
       "                  37i9dQZF1DWWBHeXOYZf74  37i9dQZF1DX4o1oenSJRJd  \\\n",
       "danceability                    0.658740                0.698180   \n",
       "acousticness                    0.271123                0.096046   \n",
       "energy                          0.595230                0.753570   \n",
       "tempo                         116.348440              121.188730   \n",
       "instrumentalness                0.099894                0.018002   \n",
       "loudness                       -8.161440               -5.191770   \n",
       "liveness                        0.185388                0.177294   \n",
       "duration_ms                208252.740000           230006.420000   \n",
       "key                             5.570000                5.390000   \n",
       "valence                         0.508524                0.638300   \n",
       "speechiness                     0.148469                0.092260   \n",
       "\n",
       "                  37i9dQZF1DX4bSrsRWE9cd  37i9dQZF1DWZKuerrwoAGz  \\\n",
       "danceability                    0.493147                0.698110   \n",
       "acousticness                    0.816849                0.090534   \n",
       "energy                          0.235191                0.783260   \n",
       "tempo                         118.281827              118.099400   \n",
       "instrumentalness                0.162121                0.004267   \n",
       "loudness                      -14.750040               -4.660960   \n",
       "liveness                        0.132576                0.180894   \n",
       "duration_ms                231474.000000           214034.980000   \n",
       "key                             3.813333                5.210000   \n",
       "valence                         0.249524                0.660010   \n",
       "speechiness                     0.038636                0.073470   \n",
       "\n",
       "                  37i9dQZF1DX4VvfRBFClxm  37i9dQZF1DX4MTfCb9IRyO  \n",
       "danceability                    0.577720                0.593440  \n",
       "acousticness                    0.656251                0.506314  \n",
       "energy                          0.369526                0.494940  \n",
       "tempo                         117.764690              114.266500  \n",
       "instrumentalness                0.001867                0.086893  \n",
       "loudness                       -8.558720              -10.999140  \n",
       "liveness                        0.139820                0.189042  \n",
       "duration_ms                211450.860000           219416.400000  \n",
       "key                             5.310000                5.400000  \n",
       "valence                         0.416764                0.741960  \n",
       "speechiness                     0.045146                0.049852  "
      ],
      "text/html": "<div>\n<style scoped>\n    .dataframe tbody tr th:only-of-type {\n        vertical-align: middle;\n    }\n\n    .dataframe tbody tr th {\n        vertical-align: top;\n    }\n\n    .dataframe thead th {\n        text-align: right;\n    }\n</style>\n<table border=\"1\" class=\"dataframe\">\n  <thead>\n    <tr style=\"text-align: right;\">\n      <th></th>\n      <th>37i9dQZF1DWU0ScTcjJBdj</th>\n      <th>37i9dQZF1DWTwbZHrJRIgD</th>\n      <th>37i9dQZF1DX4pUKG1kS0Ac</th>\n      <th>37i9dQZF1DWYAcBZSAVhlf</th>\n      <th>37i9dQZF1DWWBHeXOYZf74</th>\n      <th>37i9dQZF1DX4o1oenSJRJd</th>\n      <th>37i9dQZF1DX4bSrsRWE9cd</th>\n      <th>37i9dQZF1DWZKuerrwoAGz</th>\n      <th>37i9dQZF1DX4VvfRBFClxm</th>\n      <th>37i9dQZF1DX4MTfCb9IRyO</th>\n    </tr>\n  </thead>\n  <tbody>\n    <tr>\n      <th>danceability</th>\n      <td>0.521320</td>\n      <td>0.682509</td>\n      <td>0.670200</td>\n      <td>0.709537</td>\n      <td>0.658740</td>\n      <td>0.698180</td>\n      <td>0.493147</td>\n      <td>0.698110</td>\n      <td>0.577720</td>\n      <td>0.593440</td>\n    </tr>\n    <tr>\n      <th>acousticness</th>\n      <td>0.695853</td>\n      <td>0.281712</td>\n      <td>0.098756</td>\n      <td>0.171681</td>\n      <td>0.271123</td>\n      <td>0.096046</td>\n      <td>0.816849</td>\n      <td>0.090534</td>\n      <td>0.656251</td>\n      <td>0.506314</td>\n    </tr>\n    <tr>\n      <th>energy</th>\n      <td>0.363995</td>\n      <td>0.677877</td>\n      <td>0.781580</td>\n      <td>0.783838</td>\n      <td>0.595230</td>\n      <td>0.753570</td>\n      <td>0.235191</td>\n      <td>0.783260</td>\n      <td>0.369526</td>\n      <td>0.494940</td>\n    </tr>\n    <tr>\n      <th>tempo</th>\n      <td>117.174500</td>\n      <td>119.546456</td>\n      <td>122.607870</td>\n      <td>124.145737</td>\n      <td>116.348440</td>\n      <td>121.188730</td>\n      <td>118.281827</td>\n      <td>118.099400</td>\n      <td>117.764690</td>\n      <td>114.266500</td>\n    </tr>\n    <tr>\n      <th>instrumentalness</th>\n      <td>0.074661</td>\n      <td>0.027628</td>\n      <td>0.010865</td>\n      <td>0.025119</td>\n      <td>0.099894</td>\n      <td>0.018002</td>\n      <td>0.162121</td>\n      <td>0.004267</td>\n      <td>0.001867</td>\n      <td>0.086893</td>\n    </tr>\n    <tr>\n      <th>loudness</th>\n      <td>-11.082280</td>\n      <td>-7.268737</td>\n      <td>-5.103840</td>\n      <td>-8.675512</td>\n      <td>-8.161440</td>\n      <td>-5.191770</td>\n      <td>-14.750040</td>\n      <td>-4.660960</td>\n      <td>-8.558720</td>\n      <td>-10.999140</td>\n    </tr>\n    <tr>\n      <th>liveness</th>\n      <td>0.155497</td>\n      <td>0.158749</td>\n      <td>0.176189</td>\n      <td>0.194721</td>\n      <td>0.185388</td>\n      <td>0.177294</td>\n      <td>0.132576</td>\n      <td>0.180894</td>\n      <td>0.139820</td>\n      <td>0.189042</td>\n    </tr>\n    <tr>\n      <th>duration_ms</th>\n      <td>241161.370000</td>\n      <td>241177.192982</td>\n      <td>219849.220000</td>\n      <td>243473.900000</td>\n      <td>208252.740000</td>\n      <td>230006.420000</td>\n      <td>231474.000000</td>\n      <td>214034.980000</td>\n      <td>211450.860000</td>\n      <td>219416.400000</td>\n    </tr>\n    <tr>\n      <th>key</th>\n      <td>5.810000</td>\n      <td>5.105263</td>\n      <td>5.280000</td>\n      <td>4.875000</td>\n      <td>5.570000</td>\n      <td>5.390000</td>\n      <td>3.813333</td>\n      <td>5.210000</td>\n      <td>5.310000</td>\n      <td>5.400000</td>\n    </tr>\n    <tr>\n      <th>valence</th>\n      <td>0.297808</td>\n      <td>0.577068</td>\n      <td>0.689600</td>\n      <td>0.818263</td>\n      <td>0.508524</td>\n      <td>0.638300</td>\n      <td>0.249524</td>\n      <td>0.660010</td>\n      <td>0.416764</td>\n      <td>0.741960</td>\n    </tr>\n    <tr>\n      <th>speechiness</th>\n      <td>0.038116</td>\n      <td>0.063614</td>\n      <td>0.088050</td>\n      <td>0.059009</td>\n      <td>0.148469</td>\n      <td>0.092260</td>\n      <td>0.038636</td>\n      <td>0.073470</td>\n      <td>0.045146</td>\n      <td>0.049852</td>\n    </tr>\n  </tbody>\n</table>\n</div>"
     },
     "metadata": {},
     "execution_count": 18
    }
   ],
   "source": [
    "# Turns playlist feature mean data into correctly formatted DataFrame\n",
    "X_data = reduce(lambda left,right: pd.merge(left,right, left_index=True, right_index=True), primary_df)\n",
    "X_data"
   ]
  },
  {
   "cell_type": "code",
   "execution_count": 112,
   "metadata": {},
   "outputs": [
    {
     "output_type": "execute_result",
     "data": {
      "text/plain": [
       "                     top_tracks\n",
       "acousticness           0.128677\n",
       "danceability           0.646100\n",
       "duration_ms       212794.200000\n",
       "energy                 0.700260\n",
       "instrumentalness       0.000695\n",
       "key                    5.660000\n",
       "liveness               0.197508\n",
       "loudness              -5.582480\n",
       "speechiness            0.095180\n",
       "tempo                120.883060\n",
       "valence                0.539028"
      ],
      "text/html": "<div>\n<style scoped>\n    .dataframe tbody tr th:only-of-type {\n        vertical-align: middle;\n    }\n\n    .dataframe tbody tr th {\n        vertical-align: top;\n    }\n\n    .dataframe thead th {\n        text-align: right;\n    }\n</style>\n<table border=\"1\" class=\"dataframe\">\n  <thead>\n    <tr style=\"text-align: right;\">\n      <th></th>\n      <th>top_tracks</th>\n    </tr>\n  </thead>\n  <tbody>\n    <tr>\n      <th>acousticness</th>\n      <td>0.128677</td>\n    </tr>\n    <tr>\n      <th>danceability</th>\n      <td>0.646100</td>\n    </tr>\n    <tr>\n      <th>duration_ms</th>\n      <td>212794.200000</td>\n    </tr>\n    <tr>\n      <th>energy</th>\n      <td>0.700260</td>\n    </tr>\n    <tr>\n      <th>instrumentalness</th>\n      <td>0.000695</td>\n    </tr>\n    <tr>\n      <th>key</th>\n      <td>5.660000</td>\n    </tr>\n    <tr>\n      <th>liveness</th>\n      <td>0.197508</td>\n    </tr>\n    <tr>\n      <th>loudness</th>\n      <td>-5.582480</td>\n    </tr>\n    <tr>\n      <th>speechiness</th>\n      <td>0.095180</td>\n    </tr>\n    <tr>\n      <th>tempo</th>\n      <td>120.883060</td>\n    </tr>\n    <tr>\n      <th>valence</th>\n      <td>0.539028</td>\n    </tr>\n  </tbody>\n</table>\n</div>"
     },
     "metadata": {},
     "execution_count": 112
    }
   ],
   "source": [
    "# Turns my favorite track data (Y_data) into a DataFrame with audio features averaged\n",
    "# maybe change mean to median\n",
    "Y_data = pd.DataFrame(top_tracks_df.mean(), columns=['top_tracks']).drop('mode')\n",
    "Y_data"
   ]
  },
  {
   "cell_type": "code",
   "execution_count": 113,
   "metadata": {},
   "outputs": [
    {
     "output_type": "execute_result",
     "data": {
      "text/plain": [
       "                        importance\n",
       "37i9dQZF1DWZKuerrwoAGz    0.171081\n",
       "37i9dQZF1DX4pUKG1kS0Ac    0.141617\n",
       "37i9dQZF1DX4o1oenSJRJd    0.136754\n",
       "37i9dQZF1DX4bSrsRWE9cd    0.120058\n",
       "37i9dQZF1DX4MTfCb9IRyO    0.090351\n",
       "37i9dQZF1DX4VvfRBFClxm    0.084128\n",
       "37i9dQZF1DWYAcBZSAVhlf    0.077545\n",
       "37i9dQZF1DWWBHeXOYZf74    0.073358\n",
       "37i9dQZF1DWU0ScTcjJBdj    0.063436\n",
       "37i9dQZF1DWTwbZHrJRIgD    0.041672"
      ],
      "text/html": "<div>\n<style scoped>\n    .dataframe tbody tr th:only-of-type {\n        vertical-align: middle;\n    }\n\n    .dataframe tbody tr th {\n        vertical-align: top;\n    }\n\n    .dataframe thead th {\n        text-align: right;\n    }\n</style>\n<table border=\"1\" class=\"dataframe\">\n  <thead>\n    <tr style=\"text-align: right;\">\n      <th></th>\n      <th>importance</th>\n    </tr>\n  </thead>\n  <tbody>\n    <tr>\n      <th>37i9dQZF1DWZKuerrwoAGz</th>\n      <td>0.171081</td>\n    </tr>\n    <tr>\n      <th>37i9dQZF1DX4pUKG1kS0Ac</th>\n      <td>0.141617</td>\n    </tr>\n    <tr>\n      <th>37i9dQZF1DX4o1oenSJRJd</th>\n      <td>0.136754</td>\n    </tr>\n    <tr>\n      <th>37i9dQZF1DX4bSrsRWE9cd</th>\n      <td>0.120058</td>\n    </tr>\n    <tr>\n      <th>37i9dQZF1DX4MTfCb9IRyO</th>\n      <td>0.090351</td>\n    </tr>\n    <tr>\n      <th>37i9dQZF1DX4VvfRBFClxm</th>\n      <td>0.084128</td>\n    </tr>\n    <tr>\n      <th>37i9dQZF1DWYAcBZSAVhlf</th>\n      <td>0.077545</td>\n    </tr>\n    <tr>\n      <th>37i9dQZF1DWWBHeXOYZf74</th>\n      <td>0.073358</td>\n    </tr>\n    <tr>\n      <th>37i9dQZF1DWU0ScTcjJBdj</th>\n      <td>0.063436</td>\n    </tr>\n    <tr>\n      <th>37i9dQZF1DWTwbZHrJRIgD</th>\n      <td>0.041672</td>\n    </tr>\n  </tbody>\n</table>\n</div>"
     },
     "metadata": {},
     "execution_count": 113
    }
   ],
   "source": [
    "# Model for predicting playlist of \"best-fit\" using feature_importances_\n",
    "from sklearn.ensemble import RandomForestRegressor\n",
    "\n",
    "model = RandomForestRegressor(random_state=44, max_depth=5, max_features=8, oob_score=True)\n",
    "model.fit(X_data, Y_data['top_tracks'])\n",
    "pl_rank = model.feature_importances_\n",
    "pl_importances = pd.DataFrame(pl_rank, index = X_data.columns, columns=['importance']).sort_values('importance',                                        ascending=False)\n",
    "\n",
    "pl_importances"
   ]
  },
  {
   "cell_type": "code",
   "execution_count": 114,
   "metadata": {},
   "outputs": [],
   "source": [
    "pl_t3 = pl_importances.index[0:3]\n",
    "frames = []\n",
    "for i in range(len(pl_t3)):\n",
    "    frame = get_audio_features(sp, pl_t3[i])\n",
    "    frames.append(frame)\n",
    "    \n",
    "recommended_pl = pd.concat(frames)"
   ]
  },
  {
   "cell_type": "code",
   "execution_count": 115,
   "metadata": {},
   "outputs": [
    {
     "output_type": "execute_result",
     "data": {
      "text/plain": [
       "                                    track_id  danceability  acousticness  \\\n",
       "track_name                                                                 \n",
       "Classic               6FE2iI43OZnszFLuLtvvmg         0.720      0.038400   \n",
       "Shower                3DmW6y7wTEYHJZlLo1r6XJ         0.699      0.031700   \n",
       "Replay                4E5P1XyAFtrjpiIxkydly4         0.706      0.173000   \n",
       "Party In The U.S.A.   3E7dfMvvCLUddWissuqMwr         0.652      0.001120   \n",
       "She Looks So Perfect  1CQ2cMfrmFM1YdfmjENKVE         0.494      0.000569   \n",
       "\n",
       "                      energy    tempo  instrumentalness  loudness  liveness  \\\n",
       "track_name                                                                    \n",
       "Classic                0.791  102.071          0.000000    -4.689    0.1570   \n",
       "Shower                 0.529  119.987          0.000036    -7.548    0.2850   \n",
       "Replay                 0.751   91.031          0.000000    -6.323    0.1680   \n",
       "Party In The U.S.A.    0.698   96.021          0.000115    -4.667    0.0886   \n",
       "She Looks So Perfect   0.951  160.025          0.000000    -4.237    0.3270   \n",
       "\n",
       "                      duration_ms  key  valence  speechiness  \n",
       "track_name                                                    \n",
       "Classic                    175427    1    0.756       0.1240  \n",
       "Shower                     206167    2    0.121       0.0487  \n",
       "Replay                     182307    9    0.195       0.0708  \n",
       "Party In The U.S.A.        202067   10    0.470       0.0420  \n",
       "She Looks So Perfect       202496    9    0.441       0.1320  "
      ],
      "text/html": "<div>\n<style scoped>\n    .dataframe tbody tr th:only-of-type {\n        vertical-align: middle;\n    }\n\n    .dataframe tbody tr th {\n        vertical-align: top;\n    }\n\n    .dataframe thead th {\n        text-align: right;\n    }\n</style>\n<table border=\"1\" class=\"dataframe\">\n  <thead>\n    <tr style=\"text-align: right;\">\n      <th></th>\n      <th>track_id</th>\n      <th>danceability</th>\n      <th>acousticness</th>\n      <th>energy</th>\n      <th>tempo</th>\n      <th>instrumentalness</th>\n      <th>loudness</th>\n      <th>liveness</th>\n      <th>duration_ms</th>\n      <th>key</th>\n      <th>valence</th>\n      <th>speechiness</th>\n    </tr>\n    <tr>\n      <th>track_name</th>\n      <th></th>\n      <th></th>\n      <th></th>\n      <th></th>\n      <th></th>\n      <th></th>\n      <th></th>\n      <th></th>\n      <th></th>\n      <th></th>\n      <th></th>\n      <th></th>\n    </tr>\n  </thead>\n  <tbody>\n    <tr>\n      <th>Classic</th>\n      <td>6FE2iI43OZnszFLuLtvvmg</td>\n      <td>0.720</td>\n      <td>0.038400</td>\n      <td>0.791</td>\n      <td>102.071</td>\n      <td>0.000000</td>\n      <td>-4.689</td>\n      <td>0.1570</td>\n      <td>175427</td>\n      <td>1</td>\n      <td>0.756</td>\n      <td>0.1240</td>\n    </tr>\n    <tr>\n      <th>Shower</th>\n      <td>3DmW6y7wTEYHJZlLo1r6XJ</td>\n      <td>0.699</td>\n      <td>0.031700</td>\n      <td>0.529</td>\n      <td>119.987</td>\n      <td>0.000036</td>\n      <td>-7.548</td>\n      <td>0.2850</td>\n      <td>206167</td>\n      <td>2</td>\n      <td>0.121</td>\n      <td>0.0487</td>\n    </tr>\n    <tr>\n      <th>Replay</th>\n      <td>4E5P1XyAFtrjpiIxkydly4</td>\n      <td>0.706</td>\n      <td>0.173000</td>\n      <td>0.751</td>\n      <td>91.031</td>\n      <td>0.000000</td>\n      <td>-6.323</td>\n      <td>0.1680</td>\n      <td>182307</td>\n      <td>9</td>\n      <td>0.195</td>\n      <td>0.0708</td>\n    </tr>\n    <tr>\n      <th>Party In The U.S.A.</th>\n      <td>3E7dfMvvCLUddWissuqMwr</td>\n      <td>0.652</td>\n      <td>0.001120</td>\n      <td>0.698</td>\n      <td>96.021</td>\n      <td>0.000115</td>\n      <td>-4.667</td>\n      <td>0.0886</td>\n      <td>202067</td>\n      <td>10</td>\n      <td>0.470</td>\n      <td>0.0420</td>\n    </tr>\n    <tr>\n      <th>She Looks So Perfect</th>\n      <td>1CQ2cMfrmFM1YdfmjENKVE</td>\n      <td>0.494</td>\n      <td>0.000569</td>\n      <td>0.951</td>\n      <td>160.025</td>\n      <td>0.000000</td>\n      <td>-4.237</td>\n      <td>0.3270</td>\n      <td>202496</td>\n      <td>9</td>\n      <td>0.441</td>\n      <td>0.1320</td>\n    </tr>\n  </tbody>\n</table>\n</div>"
     },
     "metadata": {},
     "execution_count": 115
    }
   ],
   "source": [
    "recommended_pl.head()"
   ]
  },
  {
   "cell_type": "code",
   "execution_count": 116,
   "metadata": {},
   "outputs": [
    {
     "output_type": "execute_result",
     "data": {
      "text/plain": [
       "                        acousticness  danceability  duration_ms  energy  \\\n",
       "track_id                                                                  \n",
       "6FE2iI43OZnszFLuLtvvmg      0.038400         0.720       175427   0.791   \n",
       "3DmW6y7wTEYHJZlLo1r6XJ      0.031700         0.699       206167   0.529   \n",
       "4E5P1XyAFtrjpiIxkydly4      0.173000         0.706       182307   0.751   \n",
       "3E7dfMvvCLUddWissuqMwr      0.001120         0.652       202067   0.698   \n",
       "1CQ2cMfrmFM1YdfmjENKVE      0.000569         0.494       202496   0.951   \n",
       "\n",
       "                        instrumentalness  key  liveness  loudness  \\\n",
       "track_id                                                            \n",
       "6FE2iI43OZnszFLuLtvvmg          0.000000    1    0.1570    -4.689   \n",
       "3DmW6y7wTEYHJZlLo1r6XJ          0.000036    2    0.2850    -7.548   \n",
       "4E5P1XyAFtrjpiIxkydly4          0.000000    9    0.1680    -6.323   \n",
       "3E7dfMvvCLUddWissuqMwr          0.000115   10    0.0886    -4.667   \n",
       "1CQ2cMfrmFM1YdfmjENKVE          0.000000    9    0.3270    -4.237   \n",
       "\n",
       "                        speechiness    tempo  valence  \n",
       "track_id                                               \n",
       "6FE2iI43OZnszFLuLtvvmg       0.1240  102.071    0.756  \n",
       "3DmW6y7wTEYHJZlLo1r6XJ       0.0487  119.987    0.121  \n",
       "4E5P1XyAFtrjpiIxkydly4       0.0708   91.031    0.195  \n",
       "3E7dfMvvCLUddWissuqMwr       0.0420   96.021    0.470  \n",
       "1CQ2cMfrmFM1YdfmjENKVE       0.1320  160.025    0.441  "
      ],
      "text/html": "<div>\n<style scoped>\n    .dataframe tbody tr th:only-of-type {\n        vertical-align: middle;\n    }\n\n    .dataframe tbody tr th {\n        vertical-align: top;\n    }\n\n    .dataframe thead th {\n        text-align: right;\n    }\n</style>\n<table border=\"1\" class=\"dataframe\">\n  <thead>\n    <tr style=\"text-align: right;\">\n      <th></th>\n      <th>acousticness</th>\n      <th>danceability</th>\n      <th>duration_ms</th>\n      <th>energy</th>\n      <th>instrumentalness</th>\n      <th>key</th>\n      <th>liveness</th>\n      <th>loudness</th>\n      <th>speechiness</th>\n      <th>tempo</th>\n      <th>valence</th>\n    </tr>\n    <tr>\n      <th>track_id</th>\n      <th></th>\n      <th></th>\n      <th></th>\n      <th></th>\n      <th></th>\n      <th></th>\n      <th></th>\n      <th></th>\n      <th></th>\n      <th></th>\n      <th></th>\n    </tr>\n  </thead>\n  <tbody>\n    <tr>\n      <th>6FE2iI43OZnszFLuLtvvmg</th>\n      <td>0.038400</td>\n      <td>0.720</td>\n      <td>175427</td>\n      <td>0.791</td>\n      <td>0.000000</td>\n      <td>1</td>\n      <td>0.1570</td>\n      <td>-4.689</td>\n      <td>0.1240</td>\n      <td>102.071</td>\n      <td>0.756</td>\n    </tr>\n    <tr>\n      <th>3DmW6y7wTEYHJZlLo1r6XJ</th>\n      <td>0.031700</td>\n      <td>0.699</td>\n      <td>206167</td>\n      <td>0.529</td>\n      <td>0.000036</td>\n      <td>2</td>\n      <td>0.2850</td>\n      <td>-7.548</td>\n      <td>0.0487</td>\n      <td>119.987</td>\n      <td>0.121</td>\n    </tr>\n    <tr>\n      <th>4E5P1XyAFtrjpiIxkydly4</th>\n      <td>0.173000</td>\n      <td>0.706</td>\n      <td>182307</td>\n      <td>0.751</td>\n      <td>0.000000</td>\n      <td>9</td>\n      <td>0.1680</td>\n      <td>-6.323</td>\n      <td>0.0708</td>\n      <td>91.031</td>\n      <td>0.195</td>\n    </tr>\n    <tr>\n      <th>3E7dfMvvCLUddWissuqMwr</th>\n      <td>0.001120</td>\n      <td>0.652</td>\n      <td>202067</td>\n      <td>0.698</td>\n      <td>0.000115</td>\n      <td>10</td>\n      <td>0.0886</td>\n      <td>-4.667</td>\n      <td>0.0420</td>\n      <td>96.021</td>\n      <td>0.470</td>\n    </tr>\n    <tr>\n      <th>1CQ2cMfrmFM1YdfmjENKVE</th>\n      <td>0.000569</td>\n      <td>0.494</td>\n      <td>202496</td>\n      <td>0.951</td>\n      <td>0.000000</td>\n      <td>9</td>\n      <td>0.3270</td>\n      <td>-4.237</td>\n      <td>0.1320</td>\n      <td>160.025</td>\n      <td>0.441</td>\n    </tr>\n  </tbody>\n</table>\n</div>"
     },
     "metadata": {},
     "execution_count": 116
    }
   ],
   "source": [
    "pl_rec = recommended_pl.set_index('track_id')\n",
    "pl_rec.sort_index( axis=1, level=None, ascending=True, inplace=True, kind='quicksort')\n",
    "\n",
    "pl_rec.head()"
   ]
  },
  {
   "cell_type": "code",
   "execution_count": 117,
   "metadata": {},
   "outputs": [
    {
     "output_type": "execute_result",
     "data": {
      "text/plain": [
       "(11,)"
      ]
     },
     "metadata": {},
     "execution_count": 117
    }
   ],
   "source": [
    "Y_data_sorted = Y_data.sort_index( axis=0, level=None, ascending=True, inplace=False, kind='quicksort').squeeze(1)\n",
    "\n",
    "Y_data_sorted.shape"
   ]
  },
  {
   "cell_type": "code",
   "execution_count": 118,
   "metadata": {},
   "outputs": [
    {
     "output_type": "execute_result",
     "data": {
      "text/plain": [
       "acousticness             0.128677\n",
       "danceability             0.646100\n",
       "duration_ms         212794.200000\n",
       "energy                   0.700260\n",
       "instrumentalness         0.000695\n",
       "key                      5.660000\n",
       "liveness                 0.197508\n",
       "loudness                -5.582480\n",
       "speechiness              0.095180\n",
       "tempo                  120.883060\n",
       "valence                  0.539028\n",
       "Name: top_tracks, dtype: float64"
      ]
     },
     "metadata": {},
     "execution_count": 118
    }
   ],
   "source": [
    "Y_data_sorted"
   ]
  },
  {
   "cell_type": "code",
   "execution_count": 120,
   "metadata": {},
   "outputs": [
    {
     "output_type": "execute_result",
     "data": {
      "text/plain": [
       "                        acousticness  danceability  duration_ms    energy  \\\n",
       "track_id                                                                    \n",
       "6FE2iI43OZnszFLuLtvvmg     -0.701577      0.114379    -0.175603  0.129580   \n",
       "3DmW6y7wTEYHJZlLo1r6XJ     -0.753646      0.081876    -0.031144 -0.244566   \n",
       "4E5P1XyAFtrjpiIxkydly4      0.344456      0.092710    -0.143271  0.072459   \n",
       "3E7dfMvvCLUddWissuqMwr     -0.991296      0.009132    -0.050411 -0.003227   \n",
       "1CQ2cMfrmFM1YdfmjENKVE     -0.995578     -0.235412    -0.048395  0.358067   \n",
       "\n",
       "                        instrumentalness       key  liveness  loudness  \\\n",
       "track_id                                                                 \n",
       "6FE2iI43OZnszFLuLtvvmg         -1.000000 -0.823322 -0.205095 -0.160051   \n",
       "3DmW6y7wTEYHJZlLo1r6XJ         -0.948333 -0.646643  0.442980  0.352087   \n",
       "4E5P1XyAFtrjpiIxkydly4         -1.000000  0.590106 -0.149402  0.132651   \n",
       "3E7dfMvvCLUddWissuqMwr         -0.834493  0.766784 -0.551411 -0.163992   \n",
       "1CQ2cMfrmFM1YdfmjENKVE         -1.000000  0.590106  0.655629 -0.241018   \n",
       "\n",
       "                        speechiness     tempo   valence  \n",
       "track_id                                                 \n",
       "6FE2iI43OZnszFLuLtvvmg     0.302795 -0.155622  0.402525  \n",
       "3DmW6y7wTEYHJZlLo1r6XJ    -0.488338 -0.007413 -0.775522  \n",
       "4E5P1XyAFtrjpiIxkydly4    -0.256146 -0.246950 -0.638238  \n",
       "3E7dfMvvCLUddWissuqMwr    -0.558731 -0.205670 -0.128060  \n",
       "1CQ2cMfrmFM1YdfmjENKVE     0.386846  0.323800 -0.181861  "
      ],
      "text/html": "<div>\n<style scoped>\n    .dataframe tbody tr th:only-of-type {\n        vertical-align: middle;\n    }\n\n    .dataframe tbody tr th {\n        vertical-align: top;\n    }\n\n    .dataframe thead th {\n        text-align: right;\n    }\n</style>\n<table border=\"1\" class=\"dataframe\">\n  <thead>\n    <tr style=\"text-align: right;\">\n      <th></th>\n      <th>acousticness</th>\n      <th>danceability</th>\n      <th>duration_ms</th>\n      <th>energy</th>\n      <th>instrumentalness</th>\n      <th>key</th>\n      <th>liveness</th>\n      <th>loudness</th>\n      <th>speechiness</th>\n      <th>tempo</th>\n      <th>valence</th>\n    </tr>\n    <tr>\n      <th>track_id</th>\n      <th></th>\n      <th></th>\n      <th></th>\n      <th></th>\n      <th></th>\n      <th></th>\n      <th></th>\n      <th></th>\n      <th></th>\n      <th></th>\n      <th></th>\n    </tr>\n  </thead>\n  <tbody>\n    <tr>\n      <th>6FE2iI43OZnszFLuLtvvmg</th>\n      <td>-0.701577</td>\n      <td>0.114379</td>\n      <td>-0.175603</td>\n      <td>0.129580</td>\n      <td>-1.000000</td>\n      <td>-0.823322</td>\n      <td>-0.205095</td>\n      <td>-0.160051</td>\n      <td>0.302795</td>\n      <td>-0.155622</td>\n      <td>0.402525</td>\n    </tr>\n    <tr>\n      <th>3DmW6y7wTEYHJZlLo1r6XJ</th>\n      <td>-0.753646</td>\n      <td>0.081876</td>\n      <td>-0.031144</td>\n      <td>-0.244566</td>\n      <td>-0.948333</td>\n      <td>-0.646643</td>\n      <td>0.442980</td>\n      <td>0.352087</td>\n      <td>-0.488338</td>\n      <td>-0.007413</td>\n      <td>-0.775522</td>\n    </tr>\n    <tr>\n      <th>4E5P1XyAFtrjpiIxkydly4</th>\n      <td>0.344456</td>\n      <td>0.092710</td>\n      <td>-0.143271</td>\n      <td>0.072459</td>\n      <td>-1.000000</td>\n      <td>0.590106</td>\n      <td>-0.149402</td>\n      <td>0.132651</td>\n      <td>-0.256146</td>\n      <td>-0.246950</td>\n      <td>-0.638238</td>\n    </tr>\n    <tr>\n      <th>3E7dfMvvCLUddWissuqMwr</th>\n      <td>-0.991296</td>\n      <td>0.009132</td>\n      <td>-0.050411</td>\n      <td>-0.003227</td>\n      <td>-0.834493</td>\n      <td>0.766784</td>\n      <td>-0.551411</td>\n      <td>-0.163992</td>\n      <td>-0.558731</td>\n      <td>-0.205670</td>\n      <td>-0.128060</td>\n    </tr>\n    <tr>\n      <th>1CQ2cMfrmFM1YdfmjENKVE</th>\n      <td>-0.995578</td>\n      <td>-0.235412</td>\n      <td>-0.048395</td>\n      <td>0.358067</td>\n      <td>-1.000000</td>\n      <td>0.590106</td>\n      <td>0.655629</td>\n      <td>-0.241018</td>\n      <td>0.386846</td>\n      <td>0.323800</td>\n      <td>-0.181861</td>\n    </tr>\n  </tbody>\n</table>\n</div>"
     },
     "metadata": {},
     "execution_count": 120
    }
   ],
   "source": [
    "df_main_var = pl_rec.subtract(Y_data_sorted, axis=1)\n",
    "df_main_var = df_main_var.divide(Y_data_sorted, axis=1) \n",
    "\n",
    "df_main_var.head()"
   ]
  },
  {
   "cell_type": "code",
   "execution_count": 121,
   "metadata": {},
   "outputs": [],
   "source": [
    "df_main_var['variation'] = df_main_var.sum(axis=1)\n",
    "\n",
    "df_main_var['variation'] = df_main_var['variation'].abs()"
   ]
  },
  {
   "cell_type": "code",
   "execution_count": 122,
   "metadata": {},
   "outputs": [
    {
     "output_type": "execute_result",
     "data": {
      "text/plain": [
       "                        acousticness  danceability  duration_ms    energy  \\\n",
       "track_id                                                                    \n",
       "6FE2iI43OZnszFLuLtvvmg     -0.701577      0.114379    -0.175603  0.129580   \n",
       "3DmW6y7wTEYHJZlLo1r6XJ     -0.753646      0.081876    -0.031144 -0.244566   \n",
       "4E5P1XyAFtrjpiIxkydly4      0.344456      0.092710    -0.143271  0.072459   \n",
       "3E7dfMvvCLUddWissuqMwr     -0.991296      0.009132    -0.050411 -0.003227   \n",
       "1CQ2cMfrmFM1YdfmjENKVE     -0.995578     -0.235412    -0.048395  0.358067   \n",
       "...                              ...           ...          ...       ...   \n",
       "6SKwQghsR8AISlxhcwyA9R      1.580113     -0.040396     0.081420  0.188130   \n",
       "6TrNRd98WksT9Kkmx9uj6R     -0.994692     -0.060517     0.086369  0.118156   \n",
       "2yiZyjMEByt9sJBZWnWaDR     -0.846126     -0.116236    -0.061817  0.242396   \n",
       "6jEZLz3YpnEBRpVkv35AmP      1.580113      0.326420    -0.094900  0.143861   \n",
       "4SRqDmPxYX0pUb5B5ut2Ri      0.911770     -0.300418    -0.026350 -0.180304   \n",
       "\n",
       "                        instrumentalness       key  liveness  loudness  \\\n",
       "track_id                                                                 \n",
       "6FE2iI43OZnszFLuLtvvmg         -1.000000 -0.823322 -0.205095 -0.160051   \n",
       "3DmW6y7wTEYHJZlLo1r6XJ         -0.948333 -0.646643  0.442980  0.352087   \n",
       "4E5P1XyAFtrjpiIxkydly4         -1.000000  0.590106 -0.149402  0.132651   \n",
       "3E7dfMvvCLUddWissuqMwr         -0.834493  0.766784 -0.551411 -0.163992   \n",
       "1CQ2cMfrmFM1YdfmjENKVE         -1.000000  0.590106  0.655629 -0.241018   \n",
       "...                                  ...       ...       ...       ...   \n",
       "6SKwQghsR8AISlxhcwyA9R         -1.000000  0.766784 -0.473439 -0.131569   \n",
       "6TrNRd98WksT9Kkmx9uj6R         -1.000000  0.236749 -0.656723 -0.210029   \n",
       "2yiZyjMEByt9sJBZWnWaDR         -0.990501  0.413428 -0.714442 -0.305506   \n",
       "6jEZLz3YpnEBRpVkv35AmP         -0.998273 -1.000000 -0.600523  0.164178   \n",
       "4SRqDmPxYX0pUb5B5ut2Ri         -1.000000  0.060071 -0.043077  0.493243   \n",
       "\n",
       "                        speechiness     tempo   valence  variation  \n",
       "track_id                                                            \n",
       "6FE2iI43OZnszFLuLtvvmg     0.302795 -0.155622  0.402525   2.271991  \n",
       "3DmW6y7wTEYHJZlLo1r6XJ    -0.488338 -0.007413 -0.775522   3.018662  \n",
       "4E5P1XyAFtrjpiIxkydly4    -0.256146 -0.246950 -0.638238   1.201624  \n",
       "3E7dfMvvCLUddWissuqMwr    -0.558731 -0.205670 -0.128060   2.711374  \n",
       "1CQ2cMfrmFM1YdfmjENKVE     0.386846  0.323800 -0.181861   0.387816  \n",
       "...                             ...       ...       ...        ...  \n",
       "6SKwQghsR8AISlxhcwyA9R    -0.621769  0.198894 -0.107653   0.440516  \n",
       "6TrNRd98WksT9Kkmx9uj6R    -0.582896 -0.063789 -0.194847   3.322218  \n",
       "2yiZyjMEByt9sJBZWnWaDR    -0.326539  0.428786  0.508270   1.768287  \n",
       "6jEZLz3YpnEBRpVkv35AmP    -0.350704 -0.205770  0.396959   0.638638  \n",
       "4SRqDmPxYX0pUb5B5ut2Ri     2.256987 -0.232390  0.076011   2.015542  \n",
       "\n",
       "[300 rows x 12 columns]"
      ],
      "text/html": "<div>\n<style scoped>\n    .dataframe tbody tr th:only-of-type {\n        vertical-align: middle;\n    }\n\n    .dataframe tbody tr th {\n        vertical-align: top;\n    }\n\n    .dataframe thead th {\n        text-align: right;\n    }\n</style>\n<table border=\"1\" class=\"dataframe\">\n  <thead>\n    <tr style=\"text-align: right;\">\n      <th></th>\n      <th>acousticness</th>\n      <th>danceability</th>\n      <th>duration_ms</th>\n      <th>energy</th>\n      <th>instrumentalness</th>\n      <th>key</th>\n      <th>liveness</th>\n      <th>loudness</th>\n      <th>speechiness</th>\n      <th>tempo</th>\n      <th>valence</th>\n      <th>variation</th>\n    </tr>\n    <tr>\n      <th>track_id</th>\n      <th></th>\n      <th></th>\n      <th></th>\n      <th></th>\n      <th></th>\n      <th></th>\n      <th></th>\n      <th></th>\n      <th></th>\n      <th></th>\n      <th></th>\n      <th></th>\n    </tr>\n  </thead>\n  <tbody>\n    <tr>\n      <th>6FE2iI43OZnszFLuLtvvmg</th>\n      <td>-0.701577</td>\n      <td>0.114379</td>\n      <td>-0.175603</td>\n      <td>0.129580</td>\n      <td>-1.000000</td>\n      <td>-0.823322</td>\n      <td>-0.205095</td>\n      <td>-0.160051</td>\n      <td>0.302795</td>\n      <td>-0.155622</td>\n      <td>0.402525</td>\n      <td>2.271991</td>\n    </tr>\n    <tr>\n      <th>3DmW6y7wTEYHJZlLo1r6XJ</th>\n      <td>-0.753646</td>\n      <td>0.081876</td>\n      <td>-0.031144</td>\n      <td>-0.244566</td>\n      <td>-0.948333</td>\n      <td>-0.646643</td>\n      <td>0.442980</td>\n      <td>0.352087</td>\n      <td>-0.488338</td>\n      <td>-0.007413</td>\n      <td>-0.775522</td>\n      <td>3.018662</td>\n    </tr>\n    <tr>\n      <th>4E5P1XyAFtrjpiIxkydly4</th>\n      <td>0.344456</td>\n      <td>0.092710</td>\n      <td>-0.143271</td>\n      <td>0.072459</td>\n      <td>-1.000000</td>\n      <td>0.590106</td>\n      <td>-0.149402</td>\n      <td>0.132651</td>\n      <td>-0.256146</td>\n      <td>-0.246950</td>\n      <td>-0.638238</td>\n      <td>1.201624</td>\n    </tr>\n    <tr>\n      <th>3E7dfMvvCLUddWissuqMwr</th>\n      <td>-0.991296</td>\n      <td>0.009132</td>\n      <td>-0.050411</td>\n      <td>-0.003227</td>\n      <td>-0.834493</td>\n      <td>0.766784</td>\n      <td>-0.551411</td>\n      <td>-0.163992</td>\n      <td>-0.558731</td>\n      <td>-0.205670</td>\n      <td>-0.128060</td>\n      <td>2.711374</td>\n    </tr>\n    <tr>\n      <th>1CQ2cMfrmFM1YdfmjENKVE</th>\n      <td>-0.995578</td>\n      <td>-0.235412</td>\n      <td>-0.048395</td>\n      <td>0.358067</td>\n      <td>-1.000000</td>\n      <td>0.590106</td>\n      <td>0.655629</td>\n      <td>-0.241018</td>\n      <td>0.386846</td>\n      <td>0.323800</td>\n      <td>-0.181861</td>\n      <td>0.387816</td>\n    </tr>\n    <tr>\n      <th>...</th>\n      <td>...</td>\n      <td>...</td>\n      <td>...</td>\n      <td>...</td>\n      <td>...</td>\n      <td>...</td>\n      <td>...</td>\n      <td>...</td>\n      <td>...</td>\n      <td>...</td>\n      <td>...</td>\n      <td>...</td>\n    </tr>\n    <tr>\n      <th>6SKwQghsR8AISlxhcwyA9R</th>\n      <td>1.580113</td>\n      <td>-0.040396</td>\n      <td>0.081420</td>\n      <td>0.188130</td>\n      <td>-1.000000</td>\n      <td>0.766784</td>\n      <td>-0.473439</td>\n      <td>-0.131569</td>\n      <td>-0.621769</td>\n      <td>0.198894</td>\n      <td>-0.107653</td>\n      <td>0.440516</td>\n    </tr>\n    <tr>\n      <th>6TrNRd98WksT9Kkmx9uj6R</th>\n      <td>-0.994692</td>\n      <td>-0.060517</td>\n      <td>0.086369</td>\n      <td>0.118156</td>\n      <td>-1.000000</td>\n      <td>0.236749</td>\n      <td>-0.656723</td>\n      <td>-0.210029</td>\n      <td>-0.582896</td>\n      <td>-0.063789</td>\n      <td>-0.194847</td>\n      <td>3.322218</td>\n    </tr>\n    <tr>\n      <th>2yiZyjMEByt9sJBZWnWaDR</th>\n      <td>-0.846126</td>\n      <td>-0.116236</td>\n      <td>-0.061817</td>\n      <td>0.242396</td>\n      <td>-0.990501</td>\n      <td>0.413428</td>\n      <td>-0.714442</td>\n      <td>-0.305506</td>\n      <td>-0.326539</td>\n      <td>0.428786</td>\n      <td>0.508270</td>\n      <td>1.768287</td>\n    </tr>\n    <tr>\n      <th>6jEZLz3YpnEBRpVkv35AmP</th>\n      <td>1.580113</td>\n      <td>0.326420</td>\n      <td>-0.094900</td>\n      <td>0.143861</td>\n      <td>-0.998273</td>\n      <td>-1.000000</td>\n      <td>-0.600523</td>\n      <td>0.164178</td>\n      <td>-0.350704</td>\n      <td>-0.205770</td>\n      <td>0.396959</td>\n      <td>0.638638</td>\n    </tr>\n    <tr>\n      <th>4SRqDmPxYX0pUb5B5ut2Ri</th>\n      <td>0.911770</td>\n      <td>-0.300418</td>\n      <td>-0.026350</td>\n      <td>-0.180304</td>\n      <td>-1.000000</td>\n      <td>0.060071</td>\n      <td>-0.043077</td>\n      <td>0.493243</td>\n      <td>2.256987</td>\n      <td>-0.232390</td>\n      <td>0.076011</td>\n      <td>2.015542</td>\n    </tr>\n  </tbody>\n</table>\n<p>300 rows × 12 columns</p>\n</div>"
     },
     "metadata": {},
     "execution_count": 122
    }
   ],
   "source": [
    "df_main_var"
   ]
  },
  {
   "cell_type": "code",
   "execution_count": 128,
   "metadata": {},
   "outputs": [
    {
     "output_type": "execute_result",
     "data": {
      "text/plain": [
       "                        acousticness  danceability  duration_ms    energy  \\\n",
       "track_id                                                                    \n",
       "4EWCNWgDS8707fNSZ1oaA5     -0.599772      0.222721    -0.008432 -0.076057   \n",
       "7sruBwHu4S0DIo8RXKxsAY     -0.935031      0.218078    -0.092081  0.290949   \n",
       "2gam98EZKrF9XuOkU13ApN     -0.557806      0.250580     0.138626  0.385200   \n",
       "4ofwffwvvnbSkrMSCKQDaC      1.222627      0.040087    -0.054077  0.049610   \n",
       "3s4U7OHV7gnj42VV72eSZ6      0.258971      0.236651     0.070673 -0.163168   \n",
       "4TsmezEQVSZNNPv5RJ65Ov     -0.998795      0.205696     0.160558 -0.086054   \n",
       "4TsmezEQVSZNNPv5RJ65Ov     -0.998795      0.205696     0.160558 -0.086054   \n",
       "3OWcWJz1c0pIc6L3IDDhpP     -0.926016     -0.089924     0.532875  0.252392   \n",
       "5lDriBxJd22IhOH9zTcFrV     -0.997311     -0.280297    -0.089952  0.362351   \n",
       "41on8RwRh22IHcChAN2gm8      0.328914      0.125213     0.338067  0.041042   \n",
       "22UDw8rSfLbUsaAGTXQ4Z8      0.328914      0.125213     0.338067  0.041042   \n",
       "0Hf4aIJpsN4Os2f0y0VqWl     -0.696914      0.041634     0.078540  0.082455   \n",
       "25FTMokYEbEWHEdss5JLZS      1.688913     -0.032657     0.135684  0.213835   \n",
       "3Fzlg5r1IjhLk2qRw667od     -0.515063     -0.021823     0.093512  0.222403   \n",
       "127uq83uGFapbddqiMUKky     -0.400823      0.258319    -0.079613 -0.104618   \n",
       "7uYroF9RRrhRJBrigRvB6H      0.251199      0.259867     0.209305  0.153857   \n",
       "2Cd9iWfcOpGDHLz6tVA3G4     -0.951273      0.185575    -0.047779  0.246680   \n",
       "2Cd9iWfcOpGDHLz6tVA3G4     -0.951273      0.185575    -0.047779  0.246680   \n",
       "455AfCsOhhLPRc68sE01D8     -0.990286      0.004488     0.084367  0.163853   \n",
       "4MflGTO2ZTcSQ12bWcyRgI     -0.748206      0.163907    -0.063588  0.106732   \n",
       "4MflGTO2ZTcSQ12bWcyRgI     -0.748206      0.163907    -0.063588  0.106732   \n",
       "5ZdzNVOmCSp5HFLk0EgvJS     -0.997334     -0.274106    -0.089952  0.363779   \n",
       "1Je1IMUlBXcx1Fz0WE7oPT     -0.215086      0.188670    -0.186881  0.233827   \n",
       "0afhq8XCExXpqazXczTSve     -0.428800     -0.034205    -0.197220  0.250964   \n",
       "4YOlZCfnPBfy1ixfSRp07T      0.235656     -0.102306     0.076660  0.071031   \n",
       "60jzFy6Nn4M0iD1d94oteF     -0.121829     -0.128618     0.047585  0.071031   \n",
       "3oHNJECGN3bBoGXejlw2b1     -0.990286      0.009132     0.084301  0.159569   \n",
       "0puf9yIluy9W0vpMEUoAnN      1.020570      0.092710    -0.063005  0.122440   \n",
       "7H6ev70Weq6DdpZyyTmUXk      1.121599      0.103544     0.275096 -0.031788   \n",
       "79cuOz3SPQTuFrp8WgftAu      1.960913      0.326420    -0.062756  0.142433   \n",
       "\n",
       "                        instrumentalness       key  liveness  loudness  \\\n",
       "track_id                                                                 \n",
       "4EWCNWgDS8707fNSZ1oaA5         -1.000000  0.766784  0.255645  0.071746   \n",
       "7sruBwHu4S0DIo8RXKxsAY          0.496763  0.413428 -0.593434 -0.196952   \n",
       "2gam98EZKrF9XuOkU13ApN         -0.911777  0.766784 -0.220285  0.092346   \n",
       "4ofwffwvvnbSkrMSCKQDaC         -1.000000 -0.116608  0.225267 -0.152169   \n",
       "3s4U7OHV7gnj42VV72eSZ6         -0.997078  0.943463 -0.022824  0.206453   \n",
       "4TsmezEQVSZNNPv5RJ65Ov          0.108180  0.236749 -0.488628  0.507395   \n",
       "4TsmezEQVSZNNPv5RJ65Ov          0.108180  0.236749 -0.488628  0.507395   \n",
       "3OWcWJz1c0pIc6L3IDDhpP         -1.000000  0.413428 -0.134212 -0.143750   \n",
       "5lDriBxJd22IhOH9zTcFrV         -0.992257  0.766784  1.901148 -0.238510   \n",
       "41on8RwRh22IHcChAN2gm8         -1.000000 -1.000000 -0.645584 -0.464396   \n",
       "22UDw8rSfLbUsaAGTXQ4Z8         -1.000000 -1.000000 -0.645584 -0.464396   \n",
       "0Hf4aIJpsN4Os2f0y0VqWl         -1.000000  0.236749  0.726512 -0.349393   \n",
       "25FTMokYEbEWHEdss5JLZS         -0.664668 -0.293286 -0.119023 -0.300669   \n",
       "3Fzlg5r1IjhLk2qRw667od         -1.000000  0.766784  0.756891 -0.379666   \n",
       "127uq83uGFapbddqiMUKky         -0.113456  0.943463 -0.336736 -0.101116   \n",
       "7uYroF9RRrhRJBrigRvB6H         -1.000000  0.236749 -0.688114 -0.098250   \n",
       "2Cd9iWfcOpGDHLz6tVA3G4         -1.000000  0.943463 -0.613180  0.143040   \n",
       "2Cd9iWfcOpGDHLz6tVA3G4         -1.000000  0.943463 -0.613180  0.143040   \n",
       "455AfCsOhhLPRc68sE01D8         -0.937971 -0.469965  2.397331 -0.320015   \n",
       "4MflGTO2ZTcSQ12bWcyRgI         -1.000000  0.590106  0.777143  0.305692   \n",
       "4MflGTO2ZTcSQ12bWcyRgI         -1.000000  0.590106  0.777143  0.305692   \n",
       "5ZdzNVOmCSp5HFLk0EgvJS         -0.998057  0.766784  1.774571 -0.238152   \n",
       "1Je1IMUlBXcx1Fz0WE7oPT         -1.000000  0.943463 -0.179780  0.100765   \n",
       "0afhq8XCExXpqazXczTSve         -1.000000  0.590106  0.655629 -0.395609   \n",
       "4YOlZCfnPBfy1ixfSRp07T         -1.000000 -0.293286  0.387286 -0.208058   \n",
       "60jzFy6Nn4M0iD1d94oteF         -1.000000  0.943463 -0.601029 -0.194623   \n",
       "3oHNJECGN3bBoGXejlw2b1         -0.956680 -0.469965  2.377078 -0.319836   \n",
       "0puf9yIluy9W0vpMEUoAnN         -1.000000 -1.000000  0.923973 -0.387906   \n",
       "7H6ev70Weq6DdpZyyTmUXk         -1.000000 -0.116608 -0.245600 -0.368560   \n",
       "79cuOz3SPQTuFrp8WgftAu         -1.000000 -0.646643 -0.537740 -0.277203   \n",
       "\n",
       "                        speechiness     tempo   valence  variation  \n",
       "track_id                                                            \n",
       "4EWCNWgDS8707fNSZ1oaA5     0.428872 -0.272032  0.213295   0.002771  \n",
       "7sruBwHu4S0DIo8RXKxsAY    -0.291868 -0.089790  0.769852   0.010086  \n",
       "2gam98EZKrF9XuOkU13ApN    -0.468376 -0.054226  0.610306   0.031372  \n",
       "4ofwffwvvnbSkrMSCKQDaC    -0.519857 -0.042537  0.398814   0.051157  \n",
       "3s4U7OHV7gnj42VV72eSZ6    -0.603908  0.000719  0.018500   0.051550  \n",
       "4TsmezEQVSZNNPv5RJ65Ov     0.670519 -0.180870 -0.076115   0.058635  \n",
       "4TsmezEQVSZNNPv5RJ65Ov     0.670519 -0.180870 -0.076115   0.058635  \n",
       "3OWcWJz1c0pIc6L3IDDhpP     0.681025  0.283596  0.196598   0.066012  \n",
       "5lDriBxJd22IhOH9zTcFrV    -0.537718  0.189993 -0.150322   0.066091  \n",
       "41on8RwRh22IHcChAN2gm8     2.425089 -0.024413 -0.050142   0.073791  \n",
       "22UDw8rSfLbUsaAGTXQ4Z8     2.425089 -0.024413 -0.050142   0.073791  \n",
       "0Hf4aIJpsN4Os2f0y0VqWl     0.660013  0.124690  0.005514   0.090200  \n",
       "25FTMokYEbEWHEdss5JLZS    -0.479933 -0.216921  0.174336   0.105611  \n",
       "3Fzlg5r1IjhLk2qRw667od    -0.634377 -0.012293  0.608451   0.115182  \n",
       "127uq83uGFapbddqiMUKky    -0.489389  0.075510  0.486008   0.137550  \n",
       "7uYroF9RRrhRJBrigRvB6H     0.628493 -0.174276  0.369131   0.147961  \n",
       "2Cd9iWfcOpGDHLz6tVA3G4     0.502416  0.050503  0.378407   0.162148  \n",
       "2Cd9iWfcOpGDHLz6tVA3G4     0.502416  0.050503  0.378407   0.162148  \n",
       "455AfCsOhhLPRc68sE01D8    -0.563984  0.042578  0.419221   0.170382  \n",
       "4MflGTO2ZTcSQ12bWcyRgI    -0.426350  0.009356  0.103839   0.181370  \n",
       "4MflGTO2ZTcSQ12bWcyRgI    -0.426350  0.009356  0.103839   0.181370  \n",
       "5ZdzNVOmCSp5HFLk0EgvJS    -0.546123  0.190018 -0.142902   0.191474  \n",
       "1Je1IMUlBXcx1Fz0WE7oPT    -0.659592 -0.089963  0.652975   0.211602  \n",
       "0afhq8XCExXpqazXczTSve     0.050641 -0.173226  0.448904   0.232816  \n",
       "4YOlZCfnPBfy1ixfSRp07T     1.038243 -0.280809  0.350579   0.274996  \n",
       "60jzFy6Nn4M0iD1d94oteF     0.334314  0.438630  0.506415   0.295339  \n",
       "3oHNJECGN3bBoGXejlw2b1    -0.570288  0.042520  0.335738   0.298717  \n",
       "0puf9yIluy9W0vpMEUoAnN    -0.043917  0.241100  0.393249   0.299214  \n",
       "7H6ev70Weq6DdpZyyTmUXk     0.071654  0.141674  0.361710   0.312720  \n",
       "79cuOz3SPQTuFrp8WgftAu    -0.387476  0.009207  0.792115   0.319268  "
      ],
      "text/html": "<div>\n<style scoped>\n    .dataframe tbody tr th:only-of-type {\n        vertical-align: middle;\n    }\n\n    .dataframe tbody tr th {\n        vertical-align: top;\n    }\n\n    .dataframe thead th {\n        text-align: right;\n    }\n</style>\n<table border=\"1\" class=\"dataframe\">\n  <thead>\n    <tr style=\"text-align: right;\">\n      <th></th>\n      <th>acousticness</th>\n      <th>danceability</th>\n      <th>duration_ms</th>\n      <th>energy</th>\n      <th>instrumentalness</th>\n      <th>key</th>\n      <th>liveness</th>\n      <th>loudness</th>\n      <th>speechiness</th>\n      <th>tempo</th>\n      <th>valence</th>\n      <th>variation</th>\n    </tr>\n    <tr>\n      <th>track_id</th>\n      <th></th>\n      <th></th>\n      <th></th>\n      <th></th>\n      <th></th>\n      <th></th>\n      <th></th>\n      <th></th>\n      <th></th>\n      <th></th>\n      <th></th>\n      <th></th>\n    </tr>\n  </thead>\n  <tbody>\n    <tr>\n      <th>4EWCNWgDS8707fNSZ1oaA5</th>\n      <td>-0.599772</td>\n      <td>0.222721</td>\n      <td>-0.008432</td>\n      <td>-0.076057</td>\n      <td>-1.000000</td>\n      <td>0.766784</td>\n      <td>0.255645</td>\n      <td>0.071746</td>\n      <td>0.428872</td>\n      <td>-0.272032</td>\n      <td>0.213295</td>\n      <td>0.002771</td>\n    </tr>\n    <tr>\n      <th>7sruBwHu4S0DIo8RXKxsAY</th>\n      <td>-0.935031</td>\n      <td>0.218078</td>\n      <td>-0.092081</td>\n      <td>0.290949</td>\n      <td>0.496763</td>\n      <td>0.413428</td>\n      <td>-0.593434</td>\n      <td>-0.196952</td>\n      <td>-0.291868</td>\n      <td>-0.089790</td>\n      <td>0.769852</td>\n      <td>0.010086</td>\n    </tr>\n    <tr>\n      <th>2gam98EZKrF9XuOkU13ApN</th>\n      <td>-0.557806</td>\n      <td>0.250580</td>\n      <td>0.138626</td>\n      <td>0.385200</td>\n      <td>-0.911777</td>\n      <td>0.766784</td>\n      <td>-0.220285</td>\n      <td>0.092346</td>\n      <td>-0.468376</td>\n      <td>-0.054226</td>\n      <td>0.610306</td>\n      <td>0.031372</td>\n    </tr>\n    <tr>\n      <th>4ofwffwvvnbSkrMSCKQDaC</th>\n      <td>1.222627</td>\n      <td>0.040087</td>\n      <td>-0.054077</td>\n      <td>0.049610</td>\n      <td>-1.000000</td>\n      <td>-0.116608</td>\n      <td>0.225267</td>\n      <td>-0.152169</td>\n      <td>-0.519857</td>\n      <td>-0.042537</td>\n      <td>0.398814</td>\n      <td>0.051157</td>\n    </tr>\n    <tr>\n      <th>3s4U7OHV7gnj42VV72eSZ6</th>\n      <td>0.258971</td>\n      <td>0.236651</td>\n      <td>0.070673</td>\n      <td>-0.163168</td>\n      <td>-0.997078</td>\n      <td>0.943463</td>\n      <td>-0.022824</td>\n      <td>0.206453</td>\n      <td>-0.603908</td>\n      <td>0.000719</td>\n      <td>0.018500</td>\n      <td>0.051550</td>\n    </tr>\n    <tr>\n      <th>4TsmezEQVSZNNPv5RJ65Ov</th>\n      <td>-0.998795</td>\n      <td>0.205696</td>\n      <td>0.160558</td>\n      <td>-0.086054</td>\n      <td>0.108180</td>\n      <td>0.236749</td>\n      <td>-0.488628</td>\n      <td>0.507395</td>\n      <td>0.670519</td>\n      <td>-0.180870</td>\n      <td>-0.076115</td>\n      <td>0.058635</td>\n    </tr>\n    <tr>\n      <th>4TsmezEQVSZNNPv5RJ65Ov</th>\n      <td>-0.998795</td>\n      <td>0.205696</td>\n      <td>0.160558</td>\n      <td>-0.086054</td>\n      <td>0.108180</td>\n      <td>0.236749</td>\n      <td>-0.488628</td>\n      <td>0.507395</td>\n      <td>0.670519</td>\n      <td>-0.180870</td>\n      <td>-0.076115</td>\n      <td>0.058635</td>\n    </tr>\n    <tr>\n      <th>3OWcWJz1c0pIc6L3IDDhpP</th>\n      <td>-0.926016</td>\n      <td>-0.089924</td>\n      <td>0.532875</td>\n      <td>0.252392</td>\n      <td>-1.000000</td>\n      <td>0.413428</td>\n      <td>-0.134212</td>\n      <td>-0.143750</td>\n      <td>0.681025</td>\n      <td>0.283596</td>\n      <td>0.196598</td>\n      <td>0.066012</td>\n    </tr>\n    <tr>\n      <th>5lDriBxJd22IhOH9zTcFrV</th>\n      <td>-0.997311</td>\n      <td>-0.280297</td>\n      <td>-0.089952</td>\n      <td>0.362351</td>\n      <td>-0.992257</td>\n      <td>0.766784</td>\n      <td>1.901148</td>\n      <td>-0.238510</td>\n      <td>-0.537718</td>\n      <td>0.189993</td>\n      <td>-0.150322</td>\n      <td>0.066091</td>\n    </tr>\n    <tr>\n      <th>41on8RwRh22IHcChAN2gm8</th>\n      <td>0.328914</td>\n      <td>0.125213</td>\n      <td>0.338067</td>\n      <td>0.041042</td>\n      <td>-1.000000</td>\n      <td>-1.000000</td>\n      <td>-0.645584</td>\n      <td>-0.464396</td>\n      <td>2.425089</td>\n      <td>-0.024413</td>\n      <td>-0.050142</td>\n      <td>0.073791</td>\n    </tr>\n    <tr>\n      <th>22UDw8rSfLbUsaAGTXQ4Z8</th>\n      <td>0.328914</td>\n      <td>0.125213</td>\n      <td>0.338067</td>\n      <td>0.041042</td>\n      <td>-1.000000</td>\n      <td>-1.000000</td>\n      <td>-0.645584</td>\n      <td>-0.464396</td>\n      <td>2.425089</td>\n      <td>-0.024413</td>\n      <td>-0.050142</td>\n      <td>0.073791</td>\n    </tr>\n    <tr>\n      <th>0Hf4aIJpsN4Os2f0y0VqWl</th>\n      <td>-0.696914</td>\n      <td>0.041634</td>\n      <td>0.078540</td>\n      <td>0.082455</td>\n      <td>-1.000000</td>\n      <td>0.236749</td>\n      <td>0.726512</td>\n      <td>-0.349393</td>\n      <td>0.660013</td>\n      <td>0.124690</td>\n      <td>0.005514</td>\n      <td>0.090200</td>\n    </tr>\n    <tr>\n      <th>25FTMokYEbEWHEdss5JLZS</th>\n      <td>1.688913</td>\n      <td>-0.032657</td>\n      <td>0.135684</td>\n      <td>0.213835</td>\n      <td>-0.664668</td>\n      <td>-0.293286</td>\n      <td>-0.119023</td>\n      <td>-0.300669</td>\n      <td>-0.479933</td>\n      <td>-0.216921</td>\n      <td>0.174336</td>\n      <td>0.105611</td>\n    </tr>\n    <tr>\n      <th>3Fzlg5r1IjhLk2qRw667od</th>\n      <td>-0.515063</td>\n      <td>-0.021823</td>\n      <td>0.093512</td>\n      <td>0.222403</td>\n      <td>-1.000000</td>\n      <td>0.766784</td>\n      <td>0.756891</td>\n      <td>-0.379666</td>\n      <td>-0.634377</td>\n      <td>-0.012293</td>\n      <td>0.608451</td>\n      <td>0.115182</td>\n    </tr>\n    <tr>\n      <th>127uq83uGFapbddqiMUKky</th>\n      <td>-0.400823</td>\n      <td>0.258319</td>\n      <td>-0.079613</td>\n      <td>-0.104618</td>\n      <td>-0.113456</td>\n      <td>0.943463</td>\n      <td>-0.336736</td>\n      <td>-0.101116</td>\n      <td>-0.489389</td>\n      <td>0.075510</td>\n      <td>0.486008</td>\n      <td>0.137550</td>\n    </tr>\n    <tr>\n      <th>7uYroF9RRrhRJBrigRvB6H</th>\n      <td>0.251199</td>\n      <td>0.259867</td>\n      <td>0.209305</td>\n      <td>0.153857</td>\n      <td>-1.000000</td>\n      <td>0.236749</td>\n      <td>-0.688114</td>\n      <td>-0.098250</td>\n      <td>0.628493</td>\n      <td>-0.174276</td>\n      <td>0.369131</td>\n      <td>0.147961</td>\n    </tr>\n    <tr>\n      <th>2Cd9iWfcOpGDHLz6tVA3G4</th>\n      <td>-0.951273</td>\n      <td>0.185575</td>\n      <td>-0.047779</td>\n      <td>0.246680</td>\n      <td>-1.000000</td>\n      <td>0.943463</td>\n      <td>-0.613180</td>\n      <td>0.143040</td>\n      <td>0.502416</td>\n      <td>0.050503</td>\n      <td>0.378407</td>\n      <td>0.162148</td>\n    </tr>\n    <tr>\n      <th>2Cd9iWfcOpGDHLz6tVA3G4</th>\n      <td>-0.951273</td>\n      <td>0.185575</td>\n      <td>-0.047779</td>\n      <td>0.246680</td>\n      <td>-1.000000</td>\n      <td>0.943463</td>\n      <td>-0.613180</td>\n      <td>0.143040</td>\n      <td>0.502416</td>\n      <td>0.050503</td>\n      <td>0.378407</td>\n      <td>0.162148</td>\n    </tr>\n    <tr>\n      <th>455AfCsOhhLPRc68sE01D8</th>\n      <td>-0.990286</td>\n      <td>0.004488</td>\n      <td>0.084367</td>\n      <td>0.163853</td>\n      <td>-0.937971</td>\n      <td>-0.469965</td>\n      <td>2.397331</td>\n      <td>-0.320015</td>\n      <td>-0.563984</td>\n      <td>0.042578</td>\n      <td>0.419221</td>\n      <td>0.170382</td>\n    </tr>\n    <tr>\n      <th>4MflGTO2ZTcSQ12bWcyRgI</th>\n      <td>-0.748206</td>\n      <td>0.163907</td>\n      <td>-0.063588</td>\n      <td>0.106732</td>\n      <td>-1.000000</td>\n      <td>0.590106</td>\n      <td>0.777143</td>\n      <td>0.305692</td>\n      <td>-0.426350</td>\n      <td>0.009356</td>\n      <td>0.103839</td>\n      <td>0.181370</td>\n    </tr>\n    <tr>\n      <th>4MflGTO2ZTcSQ12bWcyRgI</th>\n      <td>-0.748206</td>\n      <td>0.163907</td>\n      <td>-0.063588</td>\n      <td>0.106732</td>\n      <td>-1.000000</td>\n      <td>0.590106</td>\n      <td>0.777143</td>\n      <td>0.305692</td>\n      <td>-0.426350</td>\n      <td>0.009356</td>\n      <td>0.103839</td>\n      <td>0.181370</td>\n    </tr>\n    <tr>\n      <th>5ZdzNVOmCSp5HFLk0EgvJS</th>\n      <td>-0.997334</td>\n      <td>-0.274106</td>\n      <td>-0.089952</td>\n      <td>0.363779</td>\n      <td>-0.998057</td>\n      <td>0.766784</td>\n      <td>1.774571</td>\n      <td>-0.238152</td>\n      <td>-0.546123</td>\n      <td>0.190018</td>\n      <td>-0.142902</td>\n      <td>0.191474</td>\n    </tr>\n    <tr>\n      <th>1Je1IMUlBXcx1Fz0WE7oPT</th>\n      <td>-0.215086</td>\n      <td>0.188670</td>\n      <td>-0.186881</td>\n      <td>0.233827</td>\n      <td>-1.000000</td>\n      <td>0.943463</td>\n      <td>-0.179780</td>\n      <td>0.100765</td>\n      <td>-0.659592</td>\n      <td>-0.089963</td>\n      <td>0.652975</td>\n      <td>0.211602</td>\n    </tr>\n    <tr>\n      <th>0afhq8XCExXpqazXczTSve</th>\n      <td>-0.428800</td>\n      <td>-0.034205</td>\n      <td>-0.197220</td>\n      <td>0.250964</td>\n      <td>-1.000000</td>\n      <td>0.590106</td>\n      <td>0.655629</td>\n      <td>-0.395609</td>\n      <td>0.050641</td>\n      <td>-0.173226</td>\n      <td>0.448904</td>\n      <td>0.232816</td>\n    </tr>\n    <tr>\n      <th>4YOlZCfnPBfy1ixfSRp07T</th>\n      <td>0.235656</td>\n      <td>-0.102306</td>\n      <td>0.076660</td>\n      <td>0.071031</td>\n      <td>-1.000000</td>\n      <td>-0.293286</td>\n      <td>0.387286</td>\n      <td>-0.208058</td>\n      <td>1.038243</td>\n      <td>-0.280809</td>\n      <td>0.350579</td>\n      <td>0.274996</td>\n    </tr>\n    <tr>\n      <th>60jzFy6Nn4M0iD1d94oteF</th>\n      <td>-0.121829</td>\n      <td>-0.128618</td>\n      <td>0.047585</td>\n      <td>0.071031</td>\n      <td>-1.000000</td>\n      <td>0.943463</td>\n      <td>-0.601029</td>\n      <td>-0.194623</td>\n      <td>0.334314</td>\n      <td>0.438630</td>\n      <td>0.506415</td>\n      <td>0.295339</td>\n    </tr>\n    <tr>\n      <th>3oHNJECGN3bBoGXejlw2b1</th>\n      <td>-0.990286</td>\n      <td>0.009132</td>\n      <td>0.084301</td>\n      <td>0.159569</td>\n      <td>-0.956680</td>\n      <td>-0.469965</td>\n      <td>2.377078</td>\n      <td>-0.319836</td>\n      <td>-0.570288</td>\n      <td>0.042520</td>\n      <td>0.335738</td>\n      <td>0.298717</td>\n    </tr>\n    <tr>\n      <th>0puf9yIluy9W0vpMEUoAnN</th>\n      <td>1.020570</td>\n      <td>0.092710</td>\n      <td>-0.063005</td>\n      <td>0.122440</td>\n      <td>-1.000000</td>\n      <td>-1.000000</td>\n      <td>0.923973</td>\n      <td>-0.387906</td>\n      <td>-0.043917</td>\n      <td>0.241100</td>\n      <td>0.393249</td>\n      <td>0.299214</td>\n    </tr>\n    <tr>\n      <th>7H6ev70Weq6DdpZyyTmUXk</th>\n      <td>1.121599</td>\n      <td>0.103544</td>\n      <td>0.275096</td>\n      <td>-0.031788</td>\n      <td>-1.000000</td>\n      <td>-0.116608</td>\n      <td>-0.245600</td>\n      <td>-0.368560</td>\n      <td>0.071654</td>\n      <td>0.141674</td>\n      <td>0.361710</td>\n      <td>0.312720</td>\n    </tr>\n    <tr>\n      <th>79cuOz3SPQTuFrp8WgftAu</th>\n      <td>1.960913</td>\n      <td>0.326420</td>\n      <td>-0.062756</td>\n      <td>0.142433</td>\n      <td>-1.000000</td>\n      <td>-0.646643</td>\n      <td>-0.537740</td>\n      <td>-0.277203</td>\n      <td>-0.387476</td>\n      <td>0.009207</td>\n      <td>0.792115</td>\n      <td>0.319268</td>\n    </tr>\n  </tbody>\n</table>\n</div>"
     },
     "metadata": {},
     "execution_count": 128
    }
   ],
   "source": [
    "# Picking 30 least variated songs from df_main_var\n",
    "rec_songs = df_main_var.nsmallest(30,'variation')\n",
    "\n",
    "rec_songs"
   ]
  },
  {
   "cell_type": "code",
   "execution_count": null,
   "metadata": {},
   "outputs": [],
   "source": []
  }
 ]
}