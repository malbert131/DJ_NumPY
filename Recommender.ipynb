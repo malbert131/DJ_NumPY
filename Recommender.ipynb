{
 "metadata": {
  "language_info": {
   "codemirror_mode": {
    "name": "ipython",
    "version": 3
   },
   "file_extension": ".py",
   "mimetype": "text/x-python",
   "name": "python",
   "nbconvert_exporter": "python",
   "pygments_lexer": "ipython3",
   "version": "3.9.1"
  },
  "orig_nbformat": 2,
  "kernelspec": {
   "name": "python3",
   "display_name": "Python 3.9.1 64-bit ('DJ_NumPy-RDDxY7Pi': pipenv)",
   "metadata": {
    "interpreter": {
     "hash": "abf4aac3bd47590b3c3ba9c20e5c9ff76a5d60f3d204cf7670d4141c0c3b4c10"
    }
   }
  }
 },
 "nbformat": 4,
 "nbformat_minor": 2,
 "cells": [
  {
   "cell_type": "code",
   "execution_count": 130,
   "metadata": {},
   "outputs": [],
   "source": [
    "from keys import client_id, client_secret, user_name\n",
    "import os\n",
    "import pandas as pd\n",
    "import numpy as np\n",
    "import json\n",
    "import matplotlib.pyplot as plt\n",
    "import seaborn as sns\n",
    "%config InlineBackend.figure_format ='retina'\n",
    "import spotipy\n",
    "import spotipy.util as util\n",
    "from spotipy.oauth2 import SpotifyClientCredentials\n",
    "from spotipy import oauth2\n",
    "import random\n",
    "from functools import reduce"
   ]
  },
  {
   "cell_type": "code",
   "execution_count": 131,
   "metadata": {},
   "outputs": [],
   "source": [
    "scope = 'user-library-read playlist-modify-public playlist-read-private user-read-recently-played app-remote-control user-top-read'\n",
    "\n",
    "redirect_uri = 'https://developer.spotify.com/dashboard/applications/0743a195f7654b5ab95560a95e89316a'\n",
    "\n",
    "client_credentials_manager = SpotifyClientCredentials(client_id=client_id, client_secret=client_secret)\n",
    "\n",
    "sp = spotipy.Spotify(client_credentials_manager=client_credentials_manager)\n",
    "\n",
    "token = util.prompt_for_user_token(user_name, scope, client_id, client_secret, redirect_uri)\n",
    "\n",
    "if token:\n",
    "    sp = spotipy.Spotify(auth=token)\n",
    "else:\n",
    "    print(\"NO TOKEN FOUND\")\n"
   ]
  },
  {
   "cell_type": "code",
   "execution_count": 132,
   "metadata": {},
   "outputs": [
    {
     "output_type": "execute_result",
     "data": {
      "text/plain": [
       "                                         id  acousticness  danceability  \\\n",
       "HOLIDAY              6zFMeegAMYQo0mt8rXtrli       0.12000         0.810   \n",
       "Death of a Bachelor  1BECwm5qkaBwlbfo4kpYx8       0.01370         0.462   \n",
       "Daylight             6Ed1q0X8oSKSm4IIhiQbYg       0.00488         0.528   \n",
       "Knock Knock          3uYm4MtU6jUQft2DtGqEoZ       0.03530         0.667   \n",
       "Don't Matter         7I6DceMT3utDOHjcYCbrr4       0.24400         0.798   \n",
       "\n",
       "                     duration_ms  energy  instrumentalness  key  liveness  \\\n",
       "HOLIDAY                   154998   0.511          0.000000    5    0.0832   \n",
       "Death of a Bachelor       203507   0.538          0.000000    0    0.4290   \n",
       "Daylight                  163906   0.749          0.000096    7    0.0949   \n",
       "Knock Knock               202807   0.922          0.000000    4    0.3640   \n",
       "Don't Matter              293053   0.443          0.000000    2    0.3260   \n",
       "\n",
       "                     loudness  mode  speechiness    tempo  valence  \n",
       "HOLIDAY                -6.924     0       0.1640  151.947    0.837  \n",
       "Death of a Bachelor    -5.527     1       0.0590  139.256    0.405  \n",
       "Daylight               -7.571     1       0.0479  163.944    0.729  \n",
       "Knock Knock            -4.857     0       0.1280  108.952    0.509  \n",
       "Don't Matter           -6.062     1       0.0403  125.232    0.354  "
      ],
      "text/html": "<div>\n<style scoped>\n    .dataframe tbody tr th:only-of-type {\n        vertical-align: middle;\n    }\n\n    .dataframe tbody tr th {\n        vertical-align: top;\n    }\n\n    .dataframe thead th {\n        text-align: right;\n    }\n</style>\n<table border=\"1\" class=\"dataframe\">\n  <thead>\n    <tr style=\"text-align: right;\">\n      <th></th>\n      <th>id</th>\n      <th>acousticness</th>\n      <th>danceability</th>\n      <th>duration_ms</th>\n      <th>energy</th>\n      <th>instrumentalness</th>\n      <th>key</th>\n      <th>liveness</th>\n      <th>loudness</th>\n      <th>mode</th>\n      <th>speechiness</th>\n      <th>tempo</th>\n      <th>valence</th>\n    </tr>\n  </thead>\n  <tbody>\n    <tr>\n      <th>HOLIDAY</th>\n      <td>6zFMeegAMYQo0mt8rXtrli</td>\n      <td>0.12000</td>\n      <td>0.810</td>\n      <td>154998</td>\n      <td>0.511</td>\n      <td>0.000000</td>\n      <td>5</td>\n      <td>0.0832</td>\n      <td>-6.924</td>\n      <td>0</td>\n      <td>0.1640</td>\n      <td>151.947</td>\n      <td>0.837</td>\n    </tr>\n    <tr>\n      <th>Death of a Bachelor</th>\n      <td>1BECwm5qkaBwlbfo4kpYx8</td>\n      <td>0.01370</td>\n      <td>0.462</td>\n      <td>203507</td>\n      <td>0.538</td>\n      <td>0.000000</td>\n      <td>0</td>\n      <td>0.4290</td>\n      <td>-5.527</td>\n      <td>1</td>\n      <td>0.0590</td>\n      <td>139.256</td>\n      <td>0.405</td>\n    </tr>\n    <tr>\n      <th>Daylight</th>\n      <td>6Ed1q0X8oSKSm4IIhiQbYg</td>\n      <td>0.00488</td>\n      <td>0.528</td>\n      <td>163906</td>\n      <td>0.749</td>\n      <td>0.000096</td>\n      <td>7</td>\n      <td>0.0949</td>\n      <td>-7.571</td>\n      <td>1</td>\n      <td>0.0479</td>\n      <td>163.944</td>\n      <td>0.729</td>\n    </tr>\n    <tr>\n      <th>Knock Knock</th>\n      <td>3uYm4MtU6jUQft2DtGqEoZ</td>\n      <td>0.03530</td>\n      <td>0.667</td>\n      <td>202807</td>\n      <td>0.922</td>\n      <td>0.000000</td>\n      <td>4</td>\n      <td>0.3640</td>\n      <td>-4.857</td>\n      <td>0</td>\n      <td>0.1280</td>\n      <td>108.952</td>\n      <td>0.509</td>\n    </tr>\n    <tr>\n      <th>Don't Matter</th>\n      <td>7I6DceMT3utDOHjcYCbrr4</td>\n      <td>0.24400</td>\n      <td>0.798</td>\n      <td>293053</td>\n      <td>0.443</td>\n      <td>0.000000</td>\n      <td>2</td>\n      <td>0.3260</td>\n      <td>-6.062</td>\n      <td>1</td>\n      <td>0.0403</td>\n      <td>125.232</td>\n      <td>0.354</td>\n    </tr>\n  </tbody>\n</table>\n</div>"
     },
     "metadata": {},
     "execution_count": 132
    }
   ],
   "source": [
    "user_top_tracks = sp.current_user_top_tracks(limit=50, offset=0, time_range='long_term')\n",
    "song_data = user_top_tracks[\"items\"]\n",
    "\n",
    "song_ids = []\n",
    "song_names = []\n",
    "\n",
    "for i in range(0, len(song_data)):\n",
    "    if song_data[i]['id'] != None:\n",
    "        song_ids.append(song_data[i]['id'])\n",
    "        song_names.append(song_data[i]['name'])\n",
    "\n",
    "song_features = []\n",
    "for i in range(0, len(song_ids)):\n",
    "    features = sp.audio_features(song_ids[i])\n",
    "    for song in features:\n",
    "        song_features.append(song)\n",
    "\n",
    "top_tracks_df = pd.DataFrame(song_features, index=song_names)\n",
    "top_tracks_df = top_tracks_df[[\"id\", \"acousticness\", \"danceability\", \"duration_ms\", \n",
    "                         \"energy\", \"instrumentalness\",  \"key\", \"liveness\",\n",
    "                         \"loudness\", \"mode\", \"speechiness\", \"tempo\", \"valence\"]]\n",
    "top_tracks_df.head()"
   ]
  },
  {
   "cell_type": "code",
   "execution_count": 133,
   "metadata": {},
   "outputs": [
    {
     "output_type": "stream",
     "name": "stdout",
     "text": [
      "<class 'pandas.core.frame.DataFrame'>\nIndex: 50 entries, HOLIDAY to Team\nData columns (total 13 columns):\n #   Column            Non-Null Count  Dtype  \n---  ------            --------------  -----  \n 0   id                50 non-null     object \n 1   acousticness      50 non-null     float64\n 2   danceability      50 non-null     float64\n 3   duration_ms       50 non-null     int64  \n 4   energy            50 non-null     float64\n 5   instrumentalness  50 non-null     float64\n 6   key               50 non-null     int64  \n 7   liveness          50 non-null     float64\n 8   loudness          50 non-null     float64\n 9   mode              50 non-null     int64  \n 10  speechiness       50 non-null     float64\n 11  tempo             50 non-null     float64\n 12  valence           50 non-null     float64\ndtypes: float64(9), int64(3), object(1)\nmemory usage: 5.5+ KB\n"
     ]
    }
   ],
   "source": [
    "top_tracks_df.info()"
   ]
  },
  {
   "cell_type": "code",
   "execution_count": 134,
   "metadata": {},
   "outputs": [],
   "source": [
    "featured_playlists = sp.featured_playlists(limit=50)\n",
    "# Creating data frame for playlists\n",
    "id = []\n",
    "name = []\n",
    "num_tracks = []\n",
    "items = featured_playlists['playlists']['items']\n",
    "for item in items:\n",
    "    id.append(item[\"id\"])\n",
    "    name.append(item[\"name\"])\n",
    "    num_tracks.append(item[\"tracks\"][\"total\"])\n",
    "\n",
    "df_pl_data = pd.DataFrame({\"id\":id, \"name\": name, \"num_tracks\": num_tracks})"
   ]
  },
  {
   "cell_type": "code",
   "execution_count": 135,
   "metadata": {},
   "outputs": [
    {
     "output_type": "execute_result",
     "data": {
      "text/plain": [
       "                        id                 name  num_tracks\n",
       "0   37i9dQZF1DWU0ScTcjJBdj       Relax & Unwind         100\n",
       "1   37i9dQZF1DWTwbZHrJRIgD        Happy Weekend          57\n",
       "2   37i9dQZF1DX4pUKG1kS0Ac     Guilty Pleasures         151\n",
       "3   37i9dQZF1DWYAcBZSAVhlf  Walking On Sunshine          80\n",
       "4   37i9dQZF1DWWBHeXOYZf74               POLLEN         139\n",
       "5   37i9dQZF1DX4o1oenSJRJd          All Out 00s         100\n",
       "6   37i9dQZF1DX4bSrsRWE9cd                Bliss          75\n",
       "7   37i9dQZF1DWZKuerrwoAGz      Happy Favorites         100\n",
       "8   37i9dQZF1DX4VvfRBFClxm        Acoustic Hits         100\n",
       "9   37i9dQZF1DX4MTfCb9IRyO     Summertime Blues          50\n",
       "10  37i9dQZF1DX4dyzvuaRJ0n                 mint          88"
      ],
      "text/html": "<div>\n<style scoped>\n    .dataframe tbody tr th:only-of-type {\n        vertical-align: middle;\n    }\n\n    .dataframe tbody tr th {\n        vertical-align: top;\n    }\n\n    .dataframe thead th {\n        text-align: right;\n    }\n</style>\n<table border=\"1\" class=\"dataframe\">\n  <thead>\n    <tr style=\"text-align: right;\">\n      <th></th>\n      <th>id</th>\n      <th>name</th>\n      <th>num_tracks</th>\n    </tr>\n  </thead>\n  <tbody>\n    <tr>\n      <th>0</th>\n      <td>37i9dQZF1DWU0ScTcjJBdj</td>\n      <td>Relax &amp; Unwind</td>\n      <td>100</td>\n    </tr>\n    <tr>\n      <th>1</th>\n      <td>37i9dQZF1DWTwbZHrJRIgD</td>\n      <td>Happy Weekend</td>\n      <td>57</td>\n    </tr>\n    <tr>\n      <th>2</th>\n      <td>37i9dQZF1DX4pUKG1kS0Ac</td>\n      <td>Guilty Pleasures</td>\n      <td>151</td>\n    </tr>\n    <tr>\n      <th>3</th>\n      <td>37i9dQZF1DWYAcBZSAVhlf</td>\n      <td>Walking On Sunshine</td>\n      <td>80</td>\n    </tr>\n    <tr>\n      <th>4</th>\n      <td>37i9dQZF1DWWBHeXOYZf74</td>\n      <td>POLLEN</td>\n      <td>139</td>\n    </tr>\n    <tr>\n      <th>5</th>\n      <td>37i9dQZF1DX4o1oenSJRJd</td>\n      <td>All Out 00s</td>\n      <td>100</td>\n    </tr>\n    <tr>\n      <th>6</th>\n      <td>37i9dQZF1DX4bSrsRWE9cd</td>\n      <td>Bliss</td>\n      <td>75</td>\n    </tr>\n    <tr>\n      <th>7</th>\n      <td>37i9dQZF1DWZKuerrwoAGz</td>\n      <td>Happy Favorites</td>\n      <td>100</td>\n    </tr>\n    <tr>\n      <th>8</th>\n      <td>37i9dQZF1DX4VvfRBFClxm</td>\n      <td>Acoustic Hits</td>\n      <td>100</td>\n    </tr>\n    <tr>\n      <th>9</th>\n      <td>37i9dQZF1DX4MTfCb9IRyO</td>\n      <td>Summertime Blues</td>\n      <td>50</td>\n    </tr>\n    <tr>\n      <th>10</th>\n      <td>37i9dQZF1DX4dyzvuaRJ0n</td>\n      <td>mint</td>\n      <td>88</td>\n    </tr>\n  </tbody>\n</table>\n</div>"
     },
     "metadata": {},
     "execution_count": 135
    }
   ],
   "source": [
    "df_pl_data"
   ]
  },
  {
   "cell_type": "code",
   "execution_count": 136,
   "metadata": {},
   "outputs": [],
   "source": [
    "# Returns Individual Tracks In Playlists\n",
    "def get_playlist_tracks(sp, playlist_id):\n",
    "    data_track = sp.playlist_tracks(playlist_id, fields=None, limit=100, offset=0, market=None)['items']\n",
    "    track_id = []\n",
    "    track_name = []\n",
    "    \n",
    "    for data in data_track:\n",
    "        track_id.append(data['track']['id'])\n",
    "        track_name.append(data['track']['name'])\n",
    "\n",
    "    return pd.DataFrame({\"track_id\":track_id, \"track_name\": track_name})"
   ]
  },
  {
   "cell_type": "code",
   "execution_count": 137,
   "metadata": {},
   "outputs": [
    {
     "output_type": "execute_result",
     "data": {
      "text/plain": [
       "                 track_id            track_name\n",
       "0  6FE2iI43OZnszFLuLtvvmg               Classic\n",
       "1  3DmW6y7wTEYHJZlLo1r6XJ                Shower\n",
       "2  4E5P1XyAFtrjpiIxkydly4                Replay\n",
       "3  3E7dfMvvCLUddWissuqMwr   Party In The U.S.A.\n",
       "4  1CQ2cMfrmFM1YdfmjENKVE  She Looks So Perfect"
      ],
      "text/html": "<div>\n<style scoped>\n    .dataframe tbody tr th:only-of-type {\n        vertical-align: middle;\n    }\n\n    .dataframe tbody tr th {\n        vertical-align: top;\n    }\n\n    .dataframe thead th {\n        text-align: right;\n    }\n</style>\n<table border=\"1\" class=\"dataframe\">\n  <thead>\n    <tr style=\"text-align: right;\">\n      <th></th>\n      <th>track_id</th>\n      <th>track_name</th>\n    </tr>\n  </thead>\n  <tbody>\n    <tr>\n      <th>0</th>\n      <td>6FE2iI43OZnszFLuLtvvmg</td>\n      <td>Classic</td>\n    </tr>\n    <tr>\n      <th>1</th>\n      <td>3DmW6y7wTEYHJZlLo1r6XJ</td>\n      <td>Shower</td>\n    </tr>\n    <tr>\n      <th>2</th>\n      <td>4E5P1XyAFtrjpiIxkydly4</td>\n      <td>Replay</td>\n    </tr>\n    <tr>\n      <th>3</th>\n      <td>3E7dfMvvCLUddWissuqMwr</td>\n      <td>Party In The U.S.A.</td>\n    </tr>\n    <tr>\n      <th>4</th>\n      <td>1CQ2cMfrmFM1YdfmjENKVE</td>\n      <td>She Looks So Perfect</td>\n    </tr>\n  </tbody>\n</table>\n</div>"
     },
     "metadata": {},
     "execution_count": 137
    }
   ],
   "source": [
    "get_playlist_tracks(sp, '37i9dQZF1DWZKuerrwoAGz').head()"
   ]
  },
  {
   "cell_type": "code",
   "execution_count": 138,
   "metadata": {},
   "outputs": [],
   "source": [
    "# Function for getting audio features of individual tracks\n",
    "def get_audio_features(sp, playlist_id):\n",
    "    playlist = get_playlist_tracks(sp, playlist_id)\n",
    "    audio_features = []\n",
    "    for i in range(len(playlist)):\n",
    "        song_data_id = playlist['track_id'][i]\n",
    "        audio_features.append(sp.audio_features(song_data_id))\n",
    "    features_array = []\n",
    "    for features in audio_features:\n",
    "        features = features[0]\n",
    "        features_array.append([features['danceability'],\n",
    "                              features['acousticness'],\n",
    "                              features['energy'], \n",
    "                              features['tempo'],\n",
    "                              features['instrumentalness'], \n",
    "                              features['loudness'],\n",
    "                              features['liveness'],\n",
    "                              features['duration_ms'],\n",
    "                              features['key'],\n",
    "                              features['valence'],\n",
    "                              features['speechiness']\n",
    "                             ])\n",
    "    df_audio_features = pd.DataFrame(features_array, columns=['danceability', 'acousticness', 'energy', 'tempo', 'instrumentalness', 'loudness', 'liveness', 'duration_ms', 'key', 'valence', 'speechiness'])\n",
    "    # DataFrame with audio features and playlist id/name\n",
    "    df_playlist_features = pd.concat([playlist, df_audio_features], axis=1)\n",
    "    df_playlist_features.set_index('track_name', inplace=True, drop=True)\n",
    "    return df_playlist_features"
   ]
  },
  {
   "cell_type": "code",
   "execution_count": 139,
   "metadata": {},
   "outputs": [
    {
     "output_type": "execute_result",
     "data": {
      "text/plain": [
       "                                                              track_id  \\\n",
       "track_name                                                               \n",
       "Beautiful Mistakes (feat. Megan Thee Stallion)  6fRxMU4LWwyaSSowV441IU   \n",
       "Peaches (feat. Daniel Caesar & Giveon)          4iJyoBOLtHqaGxP12qzhQI   \n",
       "deja vu                                         61KpQadow081I2AsbeLcsb   \n",
       "BED                                             7jXQUrVhEpXdymfFWNDnQW   \n",
       "Met Him Last Night (feat. Ariana Grande)        0BI0hfbmqybnd3TezrDME3   \n",
       "\n",
       "                                                danceability  acousticness  \\\n",
       "track_name                                                                   \n",
       "Beautiful Mistakes (feat. Megan Thee Stallion)         0.713        0.0377   \n",
       "Peaches (feat. Daniel Caesar & Giveon)                 0.677        0.3210   \n",
       "deja vu                                                0.439        0.5930   \n",
       "BED                                                    0.663        0.0134   \n",
       "Met Him Last Night (feat. Ariana Grande)               0.538        0.2200   \n",
       "\n",
       "                                                energy    tempo  \\\n",
       "track_name                                                        \n",
       "Beautiful Mistakes (feat. Megan Thee Stallion)   0.676   99.048   \n",
       "Peaches (feat. Daniel Caesar & Giveon)           0.696   90.030   \n",
       "deja vu                                          0.610  181.088   \n",
       "BED                                              0.783  123.986   \n",
       "Met Him Last Night (feat. Ariana Grande)         0.512  144.978   \n",
       "\n",
       "                                                instrumentalness  loudness  \\\n",
       "track_name                                                                   \n",
       "Beautiful Mistakes (feat. Megan Thee Stallion)          0.000000    -5.483   \n",
       "Peaches (feat. Daniel Caesar & Giveon)                  0.000000    -6.181   \n",
       "deja vu                                                 0.000011    -7.236   \n",
       "BED                                                     0.001790    -4.585   \n",
       "Met Him Last Night (feat. Ariana Grande)                0.000000    -4.548   \n",
       "\n",
       "                                                liveness  duration_ms  key  \\\n",
       "track_name                                                                   \n",
       "Beautiful Mistakes (feat. Megan Thee Stallion)     0.154       227395   10   \n",
       "Peaches (feat. Daniel Caesar & Giveon)             0.420       198082    0   \n",
       "deja vu                                            0.341       215508    9   \n",
       "BED                                                0.325       178088    6   \n",
       "Met Him Last Night (feat. Ariana Grande)           0.101       204632    4   \n",
       "\n",
       "                                                valence  speechiness  \n",
       "track_name                                                            \n",
       "Beautiful Mistakes (feat. Megan Thee Stallion)    0.721       0.0270  \n",
       "Peaches (feat. Daniel Caesar & Giveon)            0.464       0.1190  \n",
       "deja vu                                           0.172       0.1160  \n",
       "BED                                               0.622       0.0393  \n",
       "Met Him Last Night (feat. Ariana Grande)          0.120       0.0262  "
      ],
      "text/html": "<div>\n<style scoped>\n    .dataframe tbody tr th:only-of-type {\n        vertical-align: middle;\n    }\n\n    .dataframe tbody tr th {\n        vertical-align: top;\n    }\n\n    .dataframe thead th {\n        text-align: right;\n    }\n</style>\n<table border=\"1\" class=\"dataframe\">\n  <thead>\n    <tr style=\"text-align: right;\">\n      <th></th>\n      <th>track_id</th>\n      <th>danceability</th>\n      <th>acousticness</th>\n      <th>energy</th>\n      <th>tempo</th>\n      <th>instrumentalness</th>\n      <th>loudness</th>\n      <th>liveness</th>\n      <th>duration_ms</th>\n      <th>key</th>\n      <th>valence</th>\n      <th>speechiness</th>\n    </tr>\n    <tr>\n      <th>track_name</th>\n      <th></th>\n      <th></th>\n      <th></th>\n      <th></th>\n      <th></th>\n      <th></th>\n      <th></th>\n      <th></th>\n      <th></th>\n      <th></th>\n      <th></th>\n      <th></th>\n    </tr>\n  </thead>\n  <tbody>\n    <tr>\n      <th>Beautiful Mistakes (feat. Megan Thee Stallion)</th>\n      <td>6fRxMU4LWwyaSSowV441IU</td>\n      <td>0.713</td>\n      <td>0.0377</td>\n      <td>0.676</td>\n      <td>99.048</td>\n      <td>0.000000</td>\n      <td>-5.483</td>\n      <td>0.154</td>\n      <td>227395</td>\n      <td>10</td>\n      <td>0.721</td>\n      <td>0.0270</td>\n    </tr>\n    <tr>\n      <th>Peaches (feat. Daniel Caesar &amp; Giveon)</th>\n      <td>4iJyoBOLtHqaGxP12qzhQI</td>\n      <td>0.677</td>\n      <td>0.3210</td>\n      <td>0.696</td>\n      <td>90.030</td>\n      <td>0.000000</td>\n      <td>-6.181</td>\n      <td>0.420</td>\n      <td>198082</td>\n      <td>0</td>\n      <td>0.464</td>\n      <td>0.1190</td>\n    </tr>\n    <tr>\n      <th>deja vu</th>\n      <td>61KpQadow081I2AsbeLcsb</td>\n      <td>0.439</td>\n      <td>0.5930</td>\n      <td>0.610</td>\n      <td>181.088</td>\n      <td>0.000011</td>\n      <td>-7.236</td>\n      <td>0.341</td>\n      <td>215508</td>\n      <td>9</td>\n      <td>0.172</td>\n      <td>0.1160</td>\n    </tr>\n    <tr>\n      <th>BED</th>\n      <td>7jXQUrVhEpXdymfFWNDnQW</td>\n      <td>0.663</td>\n      <td>0.0134</td>\n      <td>0.783</td>\n      <td>123.986</td>\n      <td>0.001790</td>\n      <td>-4.585</td>\n      <td>0.325</td>\n      <td>178088</td>\n      <td>6</td>\n      <td>0.622</td>\n      <td>0.0393</td>\n    </tr>\n    <tr>\n      <th>Met Him Last Night (feat. Ariana Grande)</th>\n      <td>0BI0hfbmqybnd3TezrDME3</td>\n      <td>0.538</td>\n      <td>0.2200</td>\n      <td>0.512</td>\n      <td>144.978</td>\n      <td>0.000000</td>\n      <td>-4.548</td>\n      <td>0.101</td>\n      <td>204632</td>\n      <td>4</td>\n      <td>0.120</td>\n      <td>0.0262</td>\n    </tr>\n  </tbody>\n</table>\n</div>"
     },
     "metadata": {},
     "execution_count": 139
    }
   ],
   "source": [
    "get_audio_features(sp, '37i9dQZF1DXcRXFNfZr7Tp').head()"
   ]
  },
  {
   "cell_type": "code",
   "execution_count": 140,
   "metadata": {},
   "outputs": [],
   "source": [
    "# # Turning playlist data into DataFrames of audio features for each track using previous method\n",
    "\n",
    "# for i in range(0, len(df_pl_data['id'])):\n",
    "#     string_command = \"df_{} = get_audio_features(sp, df_pl_data['id'][i])\".format(df_pl_data['id'][i])\n",
    "#     print(\"Created: df_{}\".format(df_pl_data['id'][i]))\n",
    "#     exec(string_command)\n",
    "# df_37i9dQZF1DWU0ScTcjJBdj"
   ]
  },
  {
   "cell_type": "code",
   "execution_count": 141,
   "metadata": {},
   "outputs": [],
   "source": [
    "# Finding mean of audio features for each playlist\n",
    "def audio_features_mean(sp, playlist_id):\n",
    "    Playlist = get_audio_features(sp, playlist_id)\n",
    "    return pd.DataFrame(Playlist.mean(), columns= [playlist_id])"
   ]
  },
  {
   "cell_type": "code",
   "execution_count": 142,
   "metadata": {},
   "outputs": [
    {
     "output_type": "execute_result",
     "data": {
      "text/plain": [
       "                  37i9dQZF1DXbYM3nMM0oPk\n",
       "danceability                    0.709173\n",
       "acousticness                    0.181992\n",
       "energy                          0.645507\n",
       "tempo                         121.424267\n",
       "instrumentalness                0.008807\n",
       "loudness                       -5.947773\n",
       "liveness                        0.162463\n",
       "duration_ms                188870.400000\n",
       "key                             5.253333\n",
       "valence                         0.545632\n",
       "speechiness                     0.116663"
      ],
      "text/html": "<div>\n<style scoped>\n    .dataframe tbody tr th:only-of-type {\n        vertical-align: middle;\n    }\n\n    .dataframe tbody tr th {\n        vertical-align: top;\n    }\n\n    .dataframe thead th {\n        text-align: right;\n    }\n</style>\n<table border=\"1\" class=\"dataframe\">\n  <thead>\n    <tr style=\"text-align: right;\">\n      <th></th>\n      <th>37i9dQZF1DXbYM3nMM0oPk</th>\n    </tr>\n  </thead>\n  <tbody>\n    <tr>\n      <th>danceability</th>\n      <td>0.709173</td>\n    </tr>\n    <tr>\n      <th>acousticness</th>\n      <td>0.181992</td>\n    </tr>\n    <tr>\n      <th>energy</th>\n      <td>0.645507</td>\n    </tr>\n    <tr>\n      <th>tempo</th>\n      <td>121.424267</td>\n    </tr>\n    <tr>\n      <th>instrumentalness</th>\n      <td>0.008807</td>\n    </tr>\n    <tr>\n      <th>loudness</th>\n      <td>-5.947773</td>\n    </tr>\n    <tr>\n      <th>liveness</th>\n      <td>0.162463</td>\n    </tr>\n    <tr>\n      <th>duration_ms</th>\n      <td>188870.400000</td>\n    </tr>\n    <tr>\n      <th>key</th>\n      <td>5.253333</td>\n    </tr>\n    <tr>\n      <th>valence</th>\n      <td>0.545632</td>\n    </tr>\n    <tr>\n      <th>speechiness</th>\n      <td>0.116663</td>\n    </tr>\n  </tbody>\n</table>\n</div>"
     },
     "metadata": {},
     "execution_count": 142
    }
   ],
   "source": [
    "audio_features_mean(sp, '37i9dQZF1DXbYM3nMM0oPk')"
   ]
  },
  {
   "cell_type": "code",
   "execution_count": 143,
   "metadata": {},
   "outputs": [
    {
     "output_type": "error",
     "ename": "TypeError",
     "evalue": "'NoneType' object is not subscriptable",
     "traceback": [
      "\u001b[0;31m---------------------------------------------------------------------------\u001b[0m",
      "\u001b[0;31mTypeError\u001b[0m                                 Traceback (most recent call last)",
      "\u001b[0;32m<ipython-input-143-21d00eb44fe7>\u001b[0m in \u001b[0;36m<module>\u001b[0;34m\u001b[0m\n\u001b[1;32m      2\u001b[0m \u001b[0mprimary_df\u001b[0m \u001b[0;34m=\u001b[0m \u001b[0;34m[\u001b[0m\u001b[0;34m]\u001b[0m\u001b[0;34m\u001b[0m\u001b[0;34m\u001b[0m\u001b[0m\n\u001b[1;32m      3\u001b[0m \u001b[0;32mfor\u001b[0m \u001b[0mi\u001b[0m \u001b[0;32min\u001b[0m \u001b[0mrange\u001b[0m\u001b[0;34m(\u001b[0m\u001b[0mlen\u001b[0m\u001b[0;34m(\u001b[0m\u001b[0mdf_pl_data\u001b[0m\u001b[0;34m)\u001b[0m\u001b[0;34m)\u001b[0m\u001b[0;34m:\u001b[0m\u001b[0;34m\u001b[0m\u001b[0;34m\u001b[0m\u001b[0m\n\u001b[0;32m----> 4\u001b[0;31m     \u001b[0mprimary_df\u001b[0m\u001b[0;34m.\u001b[0m\u001b[0mappend\u001b[0m\u001b[0;34m(\u001b[0m\u001b[0maudio_features_mean\u001b[0m\u001b[0;34m(\u001b[0m\u001b[0msp\u001b[0m\u001b[0;34m,\u001b[0m \u001b[0mdf_pl_data\u001b[0m\u001b[0;34m[\u001b[0m\u001b[0;34m'id'\u001b[0m\u001b[0;34m]\u001b[0m\u001b[0;34m[\u001b[0m\u001b[0mi\u001b[0m\u001b[0;34m]\u001b[0m\u001b[0;34m)\u001b[0m\u001b[0;34m)\u001b[0m\u001b[0;34m\u001b[0m\u001b[0;34m\u001b[0m\u001b[0m\n\u001b[0m",
      "\u001b[0;32m<ipython-input-141-cc1559c0c7c6>\u001b[0m in \u001b[0;36maudio_features_mean\u001b[0;34m(sp, playlist_id)\u001b[0m\n\u001b[1;32m      1\u001b[0m \u001b[0;31m# Finding mean of audio features for each playlist\u001b[0m\u001b[0;34m\u001b[0m\u001b[0;34m\u001b[0m\u001b[0;34m\u001b[0m\u001b[0m\n\u001b[1;32m      2\u001b[0m \u001b[0;32mdef\u001b[0m \u001b[0maudio_features_mean\u001b[0m\u001b[0;34m(\u001b[0m\u001b[0msp\u001b[0m\u001b[0;34m,\u001b[0m \u001b[0mplaylist_id\u001b[0m\u001b[0;34m)\u001b[0m\u001b[0;34m:\u001b[0m\u001b[0;34m\u001b[0m\u001b[0;34m\u001b[0m\u001b[0m\n\u001b[0;32m----> 3\u001b[0;31m     \u001b[0mPlaylist\u001b[0m \u001b[0;34m=\u001b[0m \u001b[0mget_audio_features\u001b[0m\u001b[0;34m(\u001b[0m\u001b[0msp\u001b[0m\u001b[0;34m,\u001b[0m \u001b[0mplaylist_id\u001b[0m\u001b[0;34m)\u001b[0m\u001b[0;34m\u001b[0m\u001b[0;34m\u001b[0m\u001b[0m\n\u001b[0m\u001b[1;32m      4\u001b[0m     \u001b[0;32mreturn\u001b[0m \u001b[0mpd\u001b[0m\u001b[0;34m.\u001b[0m\u001b[0mDataFrame\u001b[0m\u001b[0;34m(\u001b[0m\u001b[0mPlaylist\u001b[0m\u001b[0;34m.\u001b[0m\u001b[0mmean\u001b[0m\u001b[0;34m(\u001b[0m\u001b[0;34m)\u001b[0m\u001b[0;34m,\u001b[0m \u001b[0mcolumns\u001b[0m\u001b[0;34m=\u001b[0m \u001b[0;34m[\u001b[0m\u001b[0mplaylist_id\u001b[0m\u001b[0;34m]\u001b[0m\u001b[0;34m)\u001b[0m\u001b[0;34m\u001b[0m\u001b[0;34m\u001b[0m\u001b[0m\n",
      "\u001b[0;32m<ipython-input-138-c9636b23fabd>\u001b[0m in \u001b[0;36mget_audio_features\u001b[0;34m(sp, playlist_id)\u001b[0m\n\u001b[1;32m      9\u001b[0m     \u001b[0;32mfor\u001b[0m \u001b[0mfeatures\u001b[0m \u001b[0;32min\u001b[0m \u001b[0maudio_features\u001b[0m\u001b[0;34m:\u001b[0m\u001b[0;34m\u001b[0m\u001b[0;34m\u001b[0m\u001b[0m\n\u001b[1;32m     10\u001b[0m         \u001b[0mfeatures\u001b[0m \u001b[0;34m=\u001b[0m \u001b[0mfeatures\u001b[0m\u001b[0;34m[\u001b[0m\u001b[0;36m0\u001b[0m\u001b[0;34m]\u001b[0m\u001b[0;34m\u001b[0m\u001b[0;34m\u001b[0m\u001b[0m\n\u001b[0;32m---> 11\u001b[0;31m         features_array.append([features['danceability'],\n\u001b[0m\u001b[1;32m     12\u001b[0m                               \u001b[0mfeatures\u001b[0m\u001b[0;34m[\u001b[0m\u001b[0;34m'acousticness'\u001b[0m\u001b[0;34m]\u001b[0m\u001b[0;34m,\u001b[0m\u001b[0;34m\u001b[0m\u001b[0;34m\u001b[0m\u001b[0m\n\u001b[1;32m     13\u001b[0m                               \u001b[0mfeatures\u001b[0m\u001b[0;34m[\u001b[0m\u001b[0;34m'energy'\u001b[0m\u001b[0;34m]\u001b[0m\u001b[0;34m,\u001b[0m\u001b[0;34m\u001b[0m\u001b[0;34m\u001b[0m\u001b[0m\n",
      "\u001b[0;31mTypeError\u001b[0m: 'NoneType' object is not subscriptable"
     ]
    }
   ],
   "source": [
    "# Merges average of audio features of each playlist into a single DataFrame\n",
    "primary_df = []\n",
    "for i in range(len(df_pl_data)):\n",
    "    primary_df.append(audio_features_mean(sp, df_pl_data['id'][i]))"
   ]
  },
  {
   "cell_type": "code",
   "execution_count": 45,
   "metadata": {},
   "outputs": [
    {
     "output_type": "execute_result",
     "data": {
      "text/plain": [
       "[                  37i9dQZF1DWU0ScTcjJBdj\n",
       " danceability                    0.521320\n",
       " acousticness                    0.695853\n",
       " energy                          0.363995\n",
       " tempo                         117.174500\n",
       " instrumentalness                0.074661\n",
       " loudness                      -11.082280\n",
       " liveness                        0.155497\n",
       " duration_ms                241161.370000\n",
       " key                             5.810000\n",
       " valence                         0.297808\n",
       " speechiness                     0.038116,\n",
       "                   37i9dQZF1DWTwbZHrJRIgD\n",
       " danceability                    0.682509\n",
       " acousticness                    0.281712\n",
       " energy                          0.677877\n",
       " tempo                         119.546456\n",
       " instrumentalness                0.027628\n",
       " loudness                       -7.268737\n",
       " liveness                        0.158749\n",
       " duration_ms                241177.192982\n",
       " key                             5.105263\n",
       " valence                         0.577068\n",
       " speechiness                     0.063614,\n",
       "                   37i9dQZF1DX4pUKG1kS0Ac\n",
       " danceability                    0.670200\n",
       " acousticness                    0.098756\n",
       " energy                          0.781580\n",
       " tempo                         122.607870\n",
       " instrumentalness                0.010865\n",
       " loudness                       -5.103840\n",
       " liveness                        0.176189\n",
       " duration_ms                219849.220000\n",
       " key                             5.280000\n",
       " valence                         0.689600\n",
       " speechiness                     0.088050,\n",
       "                   37i9dQZF1DWYAcBZSAVhlf\n",
       " danceability                    0.709537\n",
       " acousticness                    0.171681\n",
       " energy                          0.783838\n",
       " tempo                         124.145737\n",
       " instrumentalness                0.025119\n",
       " loudness                       -8.675512\n",
       " liveness                        0.194721\n",
       " duration_ms                243473.900000\n",
       " key                             4.875000\n",
       " valence                         0.818263\n",
       " speechiness                     0.059009,\n",
       "                   37i9dQZF1DWWBHeXOYZf74\n",
       " danceability                    0.658740\n",
       " acousticness                    0.271123\n",
       " energy                          0.595230\n",
       " tempo                         116.348440\n",
       " instrumentalness                0.099894\n",
       " loudness                       -8.161440\n",
       " liveness                        0.185388\n",
       " duration_ms                208252.740000\n",
       " key                             5.570000\n",
       " valence                         0.508524\n",
       " speechiness                     0.148469,\n",
       "                   37i9dQZF1DX4o1oenSJRJd\n",
       " danceability                    0.698180\n",
       " acousticness                    0.096046\n",
       " energy                          0.753570\n",
       " tempo                         121.188730\n",
       " instrumentalness                0.018002\n",
       " loudness                       -5.191770\n",
       " liveness                        0.177294\n",
       " duration_ms                230006.420000\n",
       " key                             5.390000\n",
       " valence                         0.638300\n",
       " speechiness                     0.092260,\n",
       "                   37i9dQZF1DX4bSrsRWE9cd\n",
       " danceability                    0.493147\n",
       " acousticness                    0.816849\n",
       " energy                          0.235191\n",
       " tempo                         118.281827\n",
       " instrumentalness                0.162121\n",
       " loudness                      -14.750040\n",
       " liveness                        0.132576\n",
       " duration_ms                231474.000000\n",
       " key                             3.813333\n",
       " valence                         0.249524\n",
       " speechiness                     0.038636,\n",
       "                   37i9dQZF1DWZKuerrwoAGz\n",
       " danceability                    0.698110\n",
       " acousticness                    0.090534\n",
       " energy                          0.783260\n",
       " tempo                         118.099400\n",
       " instrumentalness                0.004267\n",
       " loudness                       -4.660960\n",
       " liveness                        0.180894\n",
       " duration_ms                214034.980000\n",
       " key                             5.210000\n",
       " valence                         0.660010\n",
       " speechiness                     0.073470,\n",
       "                   37i9dQZF1DX4VvfRBFClxm\n",
       " danceability                    0.577720\n",
       " acousticness                    0.656251\n",
       " energy                          0.369526\n",
       " tempo                         117.764690\n",
       " instrumentalness                0.001867\n",
       " loudness                       -8.558720\n",
       " liveness                        0.139820\n",
       " duration_ms                211450.860000\n",
       " key                             5.310000\n",
       " valence                         0.416764\n",
       " speechiness                     0.045146,\n",
       "                   37i9dQZF1DX4MTfCb9IRyO\n",
       " danceability                    0.593440\n",
       " acousticness                    0.506314\n",
       " energy                          0.494940\n",
       " tempo                         114.266500\n",
       " instrumentalness                0.086893\n",
       " loudness                      -10.999140\n",
       " liveness                        0.189042\n",
       " duration_ms                219416.400000\n",
       " key                             5.400000\n",
       " valence                         0.741960\n",
       " speechiness                     0.049852]"
      ]
     },
     "metadata": {},
     "execution_count": 45
    }
   ],
   "source": [
    "primary_df"
   ]
  },
  {
   "cell_type": "code",
   "execution_count": 49,
   "metadata": {},
   "outputs": [
    {
     "output_type": "execute_result",
     "data": {
      "text/plain": [
       "                  37i9dQZF1DWU0ScTcjJBdj  37i9dQZF1DWTwbZHrJRIgD  \\\n",
       "danceability                    0.521320                0.682509   \n",
       "acousticness                    0.695853                0.281712   \n",
       "energy                          0.363995                0.677877   \n",
       "tempo                         117.174500              119.546456   \n",
       "instrumentalness                0.074661                0.027628   \n",
       "loudness                      -11.082280               -7.268737   \n",
       "liveness                        0.155497                0.158749   \n",
       "duration_ms                241161.370000           241177.192982   \n",
       "key                             5.810000                5.105263   \n",
       "valence                         0.297808                0.577068   \n",
       "speechiness                     0.038116                0.063614   \n",
       "\n",
       "                  37i9dQZF1DX4pUKG1kS0Ac  37i9dQZF1DWYAcBZSAVhlf  \\\n",
       "danceability                    0.670200                0.709537   \n",
       "acousticness                    0.098756                0.171681   \n",
       "energy                          0.781580                0.783838   \n",
       "tempo                         122.607870              124.145737   \n",
       "instrumentalness                0.010865                0.025119   \n",
       "loudness                       -5.103840               -8.675512   \n",
       "liveness                        0.176189                0.194721   \n",
       "duration_ms                219849.220000           243473.900000   \n",
       "key                             5.280000                4.875000   \n",
       "valence                         0.689600                0.818263   \n",
       "speechiness                     0.088050                0.059009   \n",
       "\n",
       "                  37i9dQZF1DWWBHeXOYZf74  37i9dQZF1DX4o1oenSJRJd  \\\n",
       "danceability                    0.658740                0.698180   \n",
       "acousticness                    0.271123                0.096046   \n",
       "energy                          0.595230                0.753570   \n",
       "tempo                         116.348440              121.188730   \n",
       "instrumentalness                0.099894                0.018002   \n",
       "loudness                       -8.161440               -5.191770   \n",
       "liveness                        0.185388                0.177294   \n",
       "duration_ms                208252.740000           230006.420000   \n",
       "key                             5.570000                5.390000   \n",
       "valence                         0.508524                0.638300   \n",
       "speechiness                     0.148469                0.092260   \n",
       "\n",
       "                  37i9dQZF1DX4bSrsRWE9cd  37i9dQZF1DWZKuerrwoAGz  \\\n",
       "danceability                    0.493147                0.698110   \n",
       "acousticness                    0.816849                0.090534   \n",
       "energy                          0.235191                0.783260   \n",
       "tempo                         118.281827              118.099400   \n",
       "instrumentalness                0.162121                0.004267   \n",
       "loudness                      -14.750040               -4.660960   \n",
       "liveness                        0.132576                0.180894   \n",
       "duration_ms                231474.000000           214034.980000   \n",
       "key                             3.813333                5.210000   \n",
       "valence                         0.249524                0.660010   \n",
       "speechiness                     0.038636                0.073470   \n",
       "\n",
       "                  37i9dQZF1DX4VvfRBFClxm  37i9dQZF1DX4MTfCb9IRyO  \n",
       "danceability                    0.577720                0.593440  \n",
       "acousticness                    0.656251                0.506314  \n",
       "energy                          0.369526                0.494940  \n",
       "tempo                         117.764690              114.266500  \n",
       "instrumentalness                0.001867                0.086893  \n",
       "loudness                       -8.558720              -10.999140  \n",
       "liveness                        0.139820                0.189042  \n",
       "duration_ms                211450.860000           219416.400000  \n",
       "key                             5.310000                5.400000  \n",
       "valence                         0.416764                0.741960  \n",
       "speechiness                     0.045146                0.049852  "
      ],
      "text/html": "<div>\n<style scoped>\n    .dataframe tbody tr th:only-of-type {\n        vertical-align: middle;\n    }\n\n    .dataframe tbody tr th {\n        vertical-align: top;\n    }\n\n    .dataframe thead th {\n        text-align: right;\n    }\n</style>\n<table border=\"1\" class=\"dataframe\">\n  <thead>\n    <tr style=\"text-align: right;\">\n      <th></th>\n      <th>37i9dQZF1DWU0ScTcjJBdj</th>\n      <th>37i9dQZF1DWTwbZHrJRIgD</th>\n      <th>37i9dQZF1DX4pUKG1kS0Ac</th>\n      <th>37i9dQZF1DWYAcBZSAVhlf</th>\n      <th>37i9dQZF1DWWBHeXOYZf74</th>\n      <th>37i9dQZF1DX4o1oenSJRJd</th>\n      <th>37i9dQZF1DX4bSrsRWE9cd</th>\n      <th>37i9dQZF1DWZKuerrwoAGz</th>\n      <th>37i9dQZF1DX4VvfRBFClxm</th>\n      <th>37i9dQZF1DX4MTfCb9IRyO</th>\n    </tr>\n  </thead>\n  <tbody>\n    <tr>\n      <th>danceability</th>\n      <td>0.521320</td>\n      <td>0.682509</td>\n      <td>0.670200</td>\n      <td>0.709537</td>\n      <td>0.658740</td>\n      <td>0.698180</td>\n      <td>0.493147</td>\n      <td>0.698110</td>\n      <td>0.577720</td>\n      <td>0.593440</td>\n    </tr>\n    <tr>\n      <th>acousticness</th>\n      <td>0.695853</td>\n      <td>0.281712</td>\n      <td>0.098756</td>\n      <td>0.171681</td>\n      <td>0.271123</td>\n      <td>0.096046</td>\n      <td>0.816849</td>\n      <td>0.090534</td>\n      <td>0.656251</td>\n      <td>0.506314</td>\n    </tr>\n    <tr>\n      <th>energy</th>\n      <td>0.363995</td>\n      <td>0.677877</td>\n      <td>0.781580</td>\n      <td>0.783838</td>\n      <td>0.595230</td>\n      <td>0.753570</td>\n      <td>0.235191</td>\n      <td>0.783260</td>\n      <td>0.369526</td>\n      <td>0.494940</td>\n    </tr>\n    <tr>\n      <th>tempo</th>\n      <td>117.174500</td>\n      <td>119.546456</td>\n      <td>122.607870</td>\n      <td>124.145737</td>\n      <td>116.348440</td>\n      <td>121.188730</td>\n      <td>118.281827</td>\n      <td>118.099400</td>\n      <td>117.764690</td>\n      <td>114.266500</td>\n    </tr>\n    <tr>\n      <th>instrumentalness</th>\n      <td>0.074661</td>\n      <td>0.027628</td>\n      <td>0.010865</td>\n      <td>0.025119</td>\n      <td>0.099894</td>\n      <td>0.018002</td>\n      <td>0.162121</td>\n      <td>0.004267</td>\n      <td>0.001867</td>\n      <td>0.086893</td>\n    </tr>\n    <tr>\n      <th>loudness</th>\n      <td>-11.082280</td>\n      <td>-7.268737</td>\n      <td>-5.103840</td>\n      <td>-8.675512</td>\n      <td>-8.161440</td>\n      <td>-5.191770</td>\n      <td>-14.750040</td>\n      <td>-4.660960</td>\n      <td>-8.558720</td>\n      <td>-10.999140</td>\n    </tr>\n    <tr>\n      <th>liveness</th>\n      <td>0.155497</td>\n      <td>0.158749</td>\n      <td>0.176189</td>\n      <td>0.194721</td>\n      <td>0.185388</td>\n      <td>0.177294</td>\n      <td>0.132576</td>\n      <td>0.180894</td>\n      <td>0.139820</td>\n      <td>0.189042</td>\n    </tr>\n    <tr>\n      <th>duration_ms</th>\n      <td>241161.370000</td>\n      <td>241177.192982</td>\n      <td>219849.220000</td>\n      <td>243473.900000</td>\n      <td>208252.740000</td>\n      <td>230006.420000</td>\n      <td>231474.000000</td>\n      <td>214034.980000</td>\n      <td>211450.860000</td>\n      <td>219416.400000</td>\n    </tr>\n    <tr>\n      <th>key</th>\n      <td>5.810000</td>\n      <td>5.105263</td>\n      <td>5.280000</td>\n      <td>4.875000</td>\n      <td>5.570000</td>\n      <td>5.390000</td>\n      <td>3.813333</td>\n      <td>5.210000</td>\n      <td>5.310000</td>\n      <td>5.400000</td>\n    </tr>\n    <tr>\n      <th>valence</th>\n      <td>0.297808</td>\n      <td>0.577068</td>\n      <td>0.689600</td>\n      <td>0.818263</td>\n      <td>0.508524</td>\n      <td>0.638300</td>\n      <td>0.249524</td>\n      <td>0.660010</td>\n      <td>0.416764</td>\n      <td>0.741960</td>\n    </tr>\n    <tr>\n      <th>speechiness</th>\n      <td>0.038116</td>\n      <td>0.063614</td>\n      <td>0.088050</td>\n      <td>0.059009</td>\n      <td>0.148469</td>\n      <td>0.092260</td>\n      <td>0.038636</td>\n      <td>0.073470</td>\n      <td>0.045146</td>\n      <td>0.049852</td>\n    </tr>\n  </tbody>\n</table>\n</div>"
     },
     "metadata": {},
     "execution_count": 49
    }
   ],
   "source": [
    "# Turns playlist feature mean data into correctly formatted DataFrame\n",
    "X_data = reduce(lambda left,right: pd.merge(left,right, left_index=True, right_index=True), primary_df)\n",
    "X_data"
   ]
  },
  {
   "cell_type": "code",
   "execution_count": 21,
   "metadata": {},
   "outputs": [
    {
     "output_type": "execute_result",
     "data": {
      "text/plain": [
       "                    top_tracks\n",
       "acousticness           0.03825\n",
       "danceability           0.65550\n",
       "duration_ms       204280.00000\n",
       "energy                 0.70150\n",
       "instrumentalness       0.00000\n",
       "key                    7.00000\n",
       "liveness               0.12750\n",
       "loudness              -5.16550\n",
       "speechiness            0.06010\n",
       "tempo                120.64150\n",
       "valence                0.54200"
      ],
      "text/html": "<div>\n<style scoped>\n    .dataframe tbody tr th:only-of-type {\n        vertical-align: middle;\n    }\n\n    .dataframe tbody tr th {\n        vertical-align: top;\n    }\n\n    .dataframe thead th {\n        text-align: right;\n    }\n</style>\n<table border=\"1\" class=\"dataframe\">\n  <thead>\n    <tr style=\"text-align: right;\">\n      <th></th>\n      <th>top_tracks</th>\n    </tr>\n  </thead>\n  <tbody>\n    <tr>\n      <th>acousticness</th>\n      <td>0.03825</td>\n    </tr>\n    <tr>\n      <th>danceability</th>\n      <td>0.65550</td>\n    </tr>\n    <tr>\n      <th>duration_ms</th>\n      <td>204280.00000</td>\n    </tr>\n    <tr>\n      <th>energy</th>\n      <td>0.70150</td>\n    </tr>\n    <tr>\n      <th>instrumentalness</th>\n      <td>0.00000</td>\n    </tr>\n    <tr>\n      <th>key</th>\n      <td>7.00000</td>\n    </tr>\n    <tr>\n      <th>liveness</th>\n      <td>0.12750</td>\n    </tr>\n    <tr>\n      <th>loudness</th>\n      <td>-5.16550</td>\n    </tr>\n    <tr>\n      <th>speechiness</th>\n      <td>0.06010</td>\n    </tr>\n    <tr>\n      <th>tempo</th>\n      <td>120.64150</td>\n    </tr>\n    <tr>\n      <th>valence</th>\n      <td>0.54200</td>\n    </tr>\n  </tbody>\n</table>\n</div>"
     },
     "metadata": {},
     "execution_count": 21
    }
   ],
   "source": [
    "# Turns my favorite track data (Y_data) into a DataFrame with audio features averaged\n",
    "# maybe change mean to median\n",
    "Y_data = pd.DataFrame(top_tracks_df.median(), columns=['top_tracks']).drop('mode')\n",
    "Y_data"
   ]
  },
  {
   "cell_type": "code",
   "execution_count": 128,
   "metadata": {},
   "outputs": [
    {
     "output_type": "execute_result",
     "data": {
      "text/plain": [
       "                        importance\n",
       "37i9dQZF1DWZKuerrwoAGz    0.171458\n",
       "37i9dQZF1DX4pUKG1kS0Ac    0.146059\n",
       "37i9dQZF1DX4o1oenSJRJd    0.126806\n",
       "37i9dQZF1DX4bSrsRWE9cd    0.119544\n",
       "37i9dQZF1DX4MTfCb9IRyO    0.089318\n",
       "37i9dQZF1DX4VvfRBFClxm    0.084949\n",
       "37i9dQZF1DWYAcBZSAVhlf    0.078111\n",
       "37i9dQZF1DWWBHeXOYZf74    0.075053\n",
       "37i9dQZF1DWU0ScTcjJBdj    0.067547\n",
       "37i9dQZF1DWTwbZHrJRIgD    0.041154"
      ],
      "text/html": "<div>\n<style scoped>\n    .dataframe tbody tr th:only-of-type {\n        vertical-align: middle;\n    }\n\n    .dataframe tbody tr th {\n        vertical-align: top;\n    }\n\n    .dataframe thead th {\n        text-align: right;\n    }\n</style>\n<table border=\"1\" class=\"dataframe\">\n  <thead>\n    <tr style=\"text-align: right;\">\n      <th></th>\n      <th>importance</th>\n    </tr>\n  </thead>\n  <tbody>\n    <tr>\n      <th>37i9dQZF1DWZKuerrwoAGz</th>\n      <td>0.171458</td>\n    </tr>\n    <tr>\n      <th>37i9dQZF1DX4pUKG1kS0Ac</th>\n      <td>0.146059</td>\n    </tr>\n    <tr>\n      <th>37i9dQZF1DX4o1oenSJRJd</th>\n      <td>0.126806</td>\n    </tr>\n    <tr>\n      <th>37i9dQZF1DX4bSrsRWE9cd</th>\n      <td>0.119544</td>\n    </tr>\n    <tr>\n      <th>37i9dQZF1DX4MTfCb9IRyO</th>\n      <td>0.089318</td>\n    </tr>\n    <tr>\n      <th>37i9dQZF1DX4VvfRBFClxm</th>\n      <td>0.084949</td>\n    </tr>\n    <tr>\n      <th>37i9dQZF1DWYAcBZSAVhlf</th>\n      <td>0.078111</td>\n    </tr>\n    <tr>\n      <th>37i9dQZF1DWWBHeXOYZf74</th>\n      <td>0.075053</td>\n    </tr>\n    <tr>\n      <th>37i9dQZF1DWU0ScTcjJBdj</th>\n      <td>0.067547</td>\n    </tr>\n    <tr>\n      <th>37i9dQZF1DWTwbZHrJRIgD</th>\n      <td>0.041154</td>\n    </tr>\n  </tbody>\n</table>\n</div>"
     },
     "metadata": {},
     "execution_count": 128
    }
   ],
   "source": [
    "# Model for predicting playlist of \"best-fit\" using feature_importances_\n",
    "from sklearn.ensemble import RandomForestRegressor\n",
    "\n",
    "model = RandomForestRegressor(random_state=44, max_depth=5, max_features=8, oob_score=True)\n",
    "model.fit(X_data, Y_data['top_tracks'])\n",
    "pl_rank = model.feature_importances_\n",
    "pl_importances = pd.DataFrame(pl_rank, index = X_data.columns, columns=['importance']).sort_values('importance',                                        ascending=False)\n",
    "\n",
    "pl_importances"
   ]
  },
  {
   "cell_type": "code",
   "execution_count": 129,
   "metadata": {},
   "outputs": [
    {
     "output_type": "stream",
     "name": "stderr",
     "text": [
      "HTTP Error for GET to https://api.spotify.com/v1/playlists/37i9dQZF1DWZKuerrwoAGz/tracks returned 401 due to The access token expired\n"
     ]
    },
    {
     "output_type": "error",
     "ename": "SpotifyException",
     "evalue": "http status: 401, code:-1 - https://api.spotify.com/v1/playlists/37i9dQZF1DWZKuerrwoAGz/tracks?limit=100&offset=0&additional_types=track:\n The access token expired, reason: None",
     "traceback": [
      "\u001b[0;31m---------------------------------------------------------------------------\u001b[0m",
      "\u001b[0;31mHTTPError\u001b[0m                                 Traceback (most recent call last)",
      "\u001b[0;32m~/.local/share/virtualenvs/DJ_NumPy-RDDxY7Pi/lib/python3.9/site-packages/spotipy/client.py\u001b[0m in \u001b[0;36m_internal_call\u001b[0;34m(self, method, url, payload, params)\u001b[0m\n\u001b[1;32m    244\u001b[0m \u001b[0;34m\u001b[0m\u001b[0m\n\u001b[0;32m--> 245\u001b[0;31m             \u001b[0mresponse\u001b[0m\u001b[0;34m.\u001b[0m\u001b[0mraise_for_status\u001b[0m\u001b[0;34m(\u001b[0m\u001b[0;34m)\u001b[0m\u001b[0;34m\u001b[0m\u001b[0;34m\u001b[0m\u001b[0m\n\u001b[0m\u001b[1;32m    246\u001b[0m             \u001b[0mresults\u001b[0m \u001b[0;34m=\u001b[0m \u001b[0mresponse\u001b[0m\u001b[0;34m.\u001b[0m\u001b[0mjson\u001b[0m\u001b[0;34m(\u001b[0m\u001b[0;34m)\u001b[0m\u001b[0;34m\u001b[0m\u001b[0;34m\u001b[0m\u001b[0m\n",
      "\u001b[0;32m~/.local/share/virtualenvs/DJ_NumPy-RDDxY7Pi/lib/python3.9/site-packages/requests/models.py\u001b[0m in \u001b[0;36mraise_for_status\u001b[0;34m(self)\u001b[0m\n\u001b[1;32m    942\u001b[0m         \u001b[0;32mif\u001b[0m \u001b[0mhttp_error_msg\u001b[0m\u001b[0;34m:\u001b[0m\u001b[0;34m\u001b[0m\u001b[0;34m\u001b[0m\u001b[0m\n\u001b[0;32m--> 943\u001b[0;31m             \u001b[0;32mraise\u001b[0m \u001b[0mHTTPError\u001b[0m\u001b[0;34m(\u001b[0m\u001b[0mhttp_error_msg\u001b[0m\u001b[0;34m,\u001b[0m \u001b[0mresponse\u001b[0m\u001b[0;34m=\u001b[0m\u001b[0mself\u001b[0m\u001b[0;34m)\u001b[0m\u001b[0;34m\u001b[0m\u001b[0;34m\u001b[0m\u001b[0m\n\u001b[0m\u001b[1;32m    944\u001b[0m \u001b[0;34m\u001b[0m\u001b[0m\n",
      "\u001b[0;31mHTTPError\u001b[0m: 401 Client Error: Unauthorized for url: https://api.spotify.com/v1/playlists/37i9dQZF1DWZKuerrwoAGz/tracks?limit=100&offset=0&additional_types=track",
      "\nDuring handling of the above exception, another exception occurred:\n",
      "\u001b[0;31mSpotifyException\u001b[0m                          Traceback (most recent call last)",
      "\u001b[0;32m<ipython-input-129-69c4d8cdf272>\u001b[0m in \u001b[0;36m<module>\u001b[0;34m\u001b[0m\n\u001b[1;32m      2\u001b[0m \u001b[0mframes\u001b[0m \u001b[0;34m=\u001b[0m \u001b[0;34m[\u001b[0m\u001b[0;34m]\u001b[0m\u001b[0;34m\u001b[0m\u001b[0;34m\u001b[0m\u001b[0m\n\u001b[1;32m      3\u001b[0m \u001b[0;32mfor\u001b[0m \u001b[0mi\u001b[0m \u001b[0;32min\u001b[0m \u001b[0mrange\u001b[0m\u001b[0;34m(\u001b[0m\u001b[0mlen\u001b[0m\u001b[0;34m(\u001b[0m\u001b[0mpl_t3\u001b[0m\u001b[0;34m)\u001b[0m\u001b[0;34m)\u001b[0m\u001b[0;34m:\u001b[0m\u001b[0;34m\u001b[0m\u001b[0;34m\u001b[0m\u001b[0m\n\u001b[0;32m----> 4\u001b[0;31m     \u001b[0mframe\u001b[0m \u001b[0;34m=\u001b[0m \u001b[0mget_audio_features\u001b[0m\u001b[0;34m(\u001b[0m\u001b[0msp\u001b[0m\u001b[0;34m,\u001b[0m \u001b[0mpl_t3\u001b[0m\u001b[0;34m[\u001b[0m\u001b[0mi\u001b[0m\u001b[0;34m]\u001b[0m\u001b[0;34m)\u001b[0m\u001b[0;34m\u001b[0m\u001b[0;34m\u001b[0m\u001b[0m\n\u001b[0m\u001b[1;32m      5\u001b[0m     \u001b[0mprint\u001b[0m\u001b[0;34m(\u001b[0m\u001b[0mlen\u001b[0m\u001b[0;34m(\u001b[0m\u001b[0mframe\u001b[0m\u001b[0;34m)\u001b[0m\u001b[0;34m)\u001b[0m\u001b[0;34m\u001b[0m\u001b[0;34m\u001b[0m\u001b[0m\n\u001b[1;32m      6\u001b[0m     \u001b[0mframes\u001b[0m\u001b[0;34m.\u001b[0m\u001b[0mappend\u001b[0m\u001b[0;34m(\u001b[0m\u001b[0mframe\u001b[0m\u001b[0;34m)\u001b[0m\u001b[0;34m\u001b[0m\u001b[0;34m\u001b[0m\u001b[0m\n",
      "\u001b[0;32m<ipython-input-58-c9636b23fabd>\u001b[0m in \u001b[0;36mget_audio_features\u001b[0;34m(sp, playlist_id)\u001b[0m\n\u001b[1;32m      1\u001b[0m \u001b[0;31m# Function for getting audio features of individual tracks\u001b[0m\u001b[0;34m\u001b[0m\u001b[0;34m\u001b[0m\u001b[0;34m\u001b[0m\u001b[0m\n\u001b[1;32m      2\u001b[0m \u001b[0;32mdef\u001b[0m \u001b[0mget_audio_features\u001b[0m\u001b[0;34m(\u001b[0m\u001b[0msp\u001b[0m\u001b[0;34m,\u001b[0m \u001b[0mplaylist_id\u001b[0m\u001b[0;34m)\u001b[0m\u001b[0;34m:\u001b[0m\u001b[0;34m\u001b[0m\u001b[0;34m\u001b[0m\u001b[0m\n\u001b[0;32m----> 3\u001b[0;31m     \u001b[0mplaylist\u001b[0m \u001b[0;34m=\u001b[0m \u001b[0mget_playlist_tracks\u001b[0m\u001b[0;34m(\u001b[0m\u001b[0msp\u001b[0m\u001b[0;34m,\u001b[0m \u001b[0mplaylist_id\u001b[0m\u001b[0;34m)\u001b[0m\u001b[0;34m\u001b[0m\u001b[0;34m\u001b[0m\u001b[0m\n\u001b[0m\u001b[1;32m      4\u001b[0m     \u001b[0maudio_features\u001b[0m \u001b[0;34m=\u001b[0m \u001b[0;34m[\u001b[0m\u001b[0;34m]\u001b[0m\u001b[0;34m\u001b[0m\u001b[0;34m\u001b[0m\u001b[0m\n\u001b[1;32m      5\u001b[0m     \u001b[0;32mfor\u001b[0m \u001b[0mi\u001b[0m \u001b[0;32min\u001b[0m \u001b[0mrange\u001b[0m\u001b[0;34m(\u001b[0m\u001b[0mlen\u001b[0m\u001b[0;34m(\u001b[0m\u001b[0mplaylist\u001b[0m\u001b[0;34m)\u001b[0m\u001b[0;34m)\u001b[0m\u001b[0;34m:\u001b[0m\u001b[0;34m\u001b[0m\u001b[0;34m\u001b[0m\u001b[0m\n",
      "\u001b[0;32m<ipython-input-70-a5cfcf705db0>\u001b[0m in \u001b[0;36mget_playlist_tracks\u001b[0;34m(sp, playlist_id)\u001b[0m\n\u001b[1;32m      1\u001b[0m \u001b[0;31m# Returns Individual Tracks In Playlists\u001b[0m\u001b[0;34m\u001b[0m\u001b[0;34m\u001b[0m\u001b[0;34m\u001b[0m\u001b[0m\n\u001b[1;32m      2\u001b[0m \u001b[0;32mdef\u001b[0m \u001b[0mget_playlist_tracks\u001b[0m\u001b[0;34m(\u001b[0m\u001b[0msp\u001b[0m\u001b[0;34m,\u001b[0m \u001b[0mplaylist_id\u001b[0m\u001b[0;34m)\u001b[0m\u001b[0;34m:\u001b[0m\u001b[0;34m\u001b[0m\u001b[0;34m\u001b[0m\u001b[0m\n\u001b[0;32m----> 3\u001b[0;31m     \u001b[0mdata_track\u001b[0m \u001b[0;34m=\u001b[0m \u001b[0msp\u001b[0m\u001b[0;34m.\u001b[0m\u001b[0mplaylist_tracks\u001b[0m\u001b[0;34m(\u001b[0m\u001b[0mplaylist_id\u001b[0m\u001b[0;34m,\u001b[0m \u001b[0mfields\u001b[0m\u001b[0;34m=\u001b[0m\u001b[0;32mNone\u001b[0m\u001b[0;34m,\u001b[0m \u001b[0mlimit\u001b[0m\u001b[0;34m=\u001b[0m\u001b[0;36m100\u001b[0m\u001b[0;34m,\u001b[0m \u001b[0moffset\u001b[0m\u001b[0;34m=\u001b[0m\u001b[0;36m0\u001b[0m\u001b[0;34m,\u001b[0m \u001b[0mmarket\u001b[0m\u001b[0;34m=\u001b[0m\u001b[0;32mNone\u001b[0m\u001b[0;34m)\u001b[0m\u001b[0;34m[\u001b[0m\u001b[0;34m'items'\u001b[0m\u001b[0;34m]\u001b[0m\u001b[0;34m\u001b[0m\u001b[0;34m\u001b[0m\u001b[0m\n\u001b[0m\u001b[1;32m      4\u001b[0m     \u001b[0mtrack_id\u001b[0m \u001b[0;34m=\u001b[0m \u001b[0;34m[\u001b[0m\u001b[0;34m]\u001b[0m\u001b[0;34m\u001b[0m\u001b[0;34m\u001b[0m\u001b[0m\n\u001b[1;32m      5\u001b[0m     \u001b[0mtrack_name\u001b[0m \u001b[0;34m=\u001b[0m \u001b[0;34m[\u001b[0m\u001b[0;34m]\u001b[0m\u001b[0;34m\u001b[0m\u001b[0;34m\u001b[0m\u001b[0m\n",
      "\u001b[0;32m~/.local/share/virtualenvs/DJ_NumPy-RDDxY7Pi/lib/python3.9/site-packages/spotipy/client.py\u001b[0m in \u001b[0;36mplaylist_tracks\u001b[0;34m(self, playlist_id, fields, limit, offset, market, additional_types)\u001b[0m\n\u001b[1;32m    641\u001b[0m             \u001b[0mDeprecationWarning\u001b[0m\u001b[0;34m,\u001b[0m\u001b[0;34m\u001b[0m\u001b[0;34m\u001b[0m\u001b[0m\n\u001b[1;32m    642\u001b[0m         )\n\u001b[0;32m--> 643\u001b[0;31m         return self.playlist_items(playlist_id, fields, limit, offset,\n\u001b[0m\u001b[1;32m    644\u001b[0m                                    market, additional_types)\n\u001b[1;32m    645\u001b[0m \u001b[0;34m\u001b[0m\u001b[0m\n",
      "\u001b[0;32m~/.local/share/virtualenvs/DJ_NumPy-RDDxY7Pi/lib/python3.9/site-packages/spotipy/client.py\u001b[0m in \u001b[0;36mplaylist_items\u001b[0;34m(self, playlist_id, fields, limit, offset, market, additional_types)\u001b[0m\n\u001b[1;32m    665\u001b[0m         \"\"\"\n\u001b[1;32m    666\u001b[0m         \u001b[0mplid\u001b[0m \u001b[0;34m=\u001b[0m \u001b[0mself\u001b[0m\u001b[0;34m.\u001b[0m\u001b[0m_get_id\u001b[0m\u001b[0;34m(\u001b[0m\u001b[0;34m\"playlist\"\u001b[0m\u001b[0;34m,\u001b[0m \u001b[0mplaylist_id\u001b[0m\u001b[0;34m)\u001b[0m\u001b[0;34m\u001b[0m\u001b[0;34m\u001b[0m\u001b[0m\n\u001b[0;32m--> 667\u001b[0;31m         return self._get(\n\u001b[0m\u001b[1;32m    668\u001b[0m             \u001b[0;34m\"playlists/%s/tracks\"\u001b[0m \u001b[0;34m%\u001b[0m \u001b[0;34m(\u001b[0m\u001b[0mplid\u001b[0m\u001b[0;34m)\u001b[0m\u001b[0;34m,\u001b[0m\u001b[0;34m\u001b[0m\u001b[0;34m\u001b[0m\u001b[0m\n\u001b[1;32m    669\u001b[0m             \u001b[0mlimit\u001b[0m\u001b[0;34m=\u001b[0m\u001b[0mlimit\u001b[0m\u001b[0;34m,\u001b[0m\u001b[0;34m\u001b[0m\u001b[0;34m\u001b[0m\u001b[0m\n",
      "\u001b[0;32m~/.local/share/virtualenvs/DJ_NumPy-RDDxY7Pi/lib/python3.9/site-packages/spotipy/client.py\u001b[0m in \u001b[0;36m_get\u001b[0;34m(self, url, args, payload, **kwargs)\u001b[0m\n\u001b[1;32m    289\u001b[0m             \u001b[0mkwargs\u001b[0m\u001b[0;34m.\u001b[0m\u001b[0mupdate\u001b[0m\u001b[0;34m(\u001b[0m\u001b[0margs\u001b[0m\u001b[0;34m)\u001b[0m\u001b[0;34m\u001b[0m\u001b[0;34m\u001b[0m\u001b[0m\n\u001b[1;32m    290\u001b[0m \u001b[0;34m\u001b[0m\u001b[0m\n\u001b[0;32m--> 291\u001b[0;31m         \u001b[0;32mreturn\u001b[0m \u001b[0mself\u001b[0m\u001b[0;34m.\u001b[0m\u001b[0m_internal_call\u001b[0m\u001b[0;34m(\u001b[0m\u001b[0;34m\"GET\"\u001b[0m\u001b[0;34m,\u001b[0m \u001b[0murl\u001b[0m\u001b[0;34m,\u001b[0m \u001b[0mpayload\u001b[0m\u001b[0;34m,\u001b[0m \u001b[0mkwargs\u001b[0m\u001b[0;34m)\u001b[0m\u001b[0;34m\u001b[0m\u001b[0;34m\u001b[0m\u001b[0m\n\u001b[0m\u001b[1;32m    292\u001b[0m \u001b[0;34m\u001b[0m\u001b[0m\n\u001b[1;32m    293\u001b[0m     \u001b[0;32mdef\u001b[0m \u001b[0m_post\u001b[0m\u001b[0;34m(\u001b[0m\u001b[0mself\u001b[0m\u001b[0;34m,\u001b[0m \u001b[0murl\u001b[0m\u001b[0;34m,\u001b[0m \u001b[0margs\u001b[0m\u001b[0;34m=\u001b[0m\u001b[0;32mNone\u001b[0m\u001b[0;34m,\u001b[0m \u001b[0mpayload\u001b[0m\u001b[0;34m=\u001b[0m\u001b[0;32mNone\u001b[0m\u001b[0;34m,\u001b[0m \u001b[0;34m**\u001b[0m\u001b[0mkwargs\u001b[0m\u001b[0;34m)\u001b[0m\u001b[0;34m:\u001b[0m\u001b[0;34m\u001b[0m\u001b[0;34m\u001b[0m\u001b[0m\n",
      "\u001b[0;32m~/.local/share/virtualenvs/DJ_NumPy-RDDxY7Pi/lib/python3.9/site-packages/spotipy/client.py\u001b[0m in \u001b[0;36m_internal_call\u001b[0;34m(self, method, url, payload, params)\u001b[0m\n\u001b[1;32m    259\u001b[0m                          method, url, response.status_code, msg)\n\u001b[1;32m    260\u001b[0m \u001b[0;34m\u001b[0m\u001b[0m\n\u001b[0;32m--> 261\u001b[0;31m             raise SpotifyException(\n\u001b[0m\u001b[1;32m    262\u001b[0m                 \u001b[0mresponse\u001b[0m\u001b[0;34m.\u001b[0m\u001b[0mstatus_code\u001b[0m\u001b[0;34m,\u001b[0m\u001b[0;34m\u001b[0m\u001b[0;34m\u001b[0m\u001b[0m\n\u001b[1;32m    263\u001b[0m                 \u001b[0;34m-\u001b[0m\u001b[0;36m1\u001b[0m\u001b[0;34m,\u001b[0m\u001b[0;34m\u001b[0m\u001b[0;34m\u001b[0m\u001b[0m\n",
      "\u001b[0;31mSpotifyException\u001b[0m: http status: 401, code:-1 - https://api.spotify.com/v1/playlists/37i9dQZF1DWZKuerrwoAGz/tracks?limit=100&offset=0&additional_types=track:\n The access token expired, reason: None"
     ]
    }
   ],
   "source": [
    "pl_t3 = pl_importances.index[0:3]\n",
    "frames = []\n",
    "for i in range(len(pl_t3)):\n",
    "    frame = get_audio_features(sp, pl_t3[i])\n",
    "    print(len(frame))\n",
    "    frames.append(frame)\n",
    "recommended_pl = pd.concat(frames)\n",
    "recommended_pl"
   ]
  },
  {
   "cell_type": "code",
   "execution_count": null,
   "metadata": {},
   "outputs": [],
   "source": []
  }
 ]
}