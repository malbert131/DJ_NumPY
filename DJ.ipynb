{
 "metadata": {
  "language_info": {
   "codemirror_mode": {
    "name": "ipython",
    "version": 3
   },
   "file_extension": ".py",
   "mimetype": "text/x-python",
   "name": "python",
   "nbconvert_exporter": "python",
   "pygments_lexer": "ipython3",
   "version": "3.9.1"
  },
  "orig_nbformat": 2,
  "kernelspec": {
   "name": "python3",
   "display_name": "Python 3.9.1 64-bit ('DJ_NumPy-RDDxY7Pi': pipenv)",
   "metadata": {
    "interpreter": {
     "hash": "abf4aac3bd47590b3c3ba9c20e5c9ff76a5d60f3d204cf7670d4141c0c3b4c10"
    }
   }
  }
 },
 "nbformat": 4,
 "nbformat_minor": 2,
 "cells": [
  {
   "cell_type": "code",
   "execution_count": 18,
   "metadata": {},
   "outputs": [],
   "source": [
    "from keys import client_id\n",
    "from keys import client_secret\n",
    "from keys import user_name\n",
    "import spotipy\n",
    "from spotipy.oauth2 import SpotifyClientCredentials\n",
    "import spotipy.util as util\n",
    "\n",
    "scope = 'user-library-read playlist-modify-public playlist-read-private user-read-recently-played app-remote-control user-top-read'\n",
    "\n",
    "redirect_uri = 'https://developer.spotify.com/dashboard/applications/0743a195f7654b5ab95560a95e89316a'\n",
    "\n",
    "client_credentials_manager = SpotifyClientCredentials(client_id=client_id, client_secret=client_secret)\n",
    "\n",
    "sp = spotipy.Spotify(client_credentials_manager=client_credentials_manager)\n",
    "\n",
    "token = util.prompt_for_user_token(user_name, scope, client_id, client_secret, redirect_uri)\n",
    "\n",
    "if token:\n",
    "    sp = spotipy.Spotify(auth=token)\n",
    "else:\n",
    "    print(\"NO TOKEN FOUND\")"
   ]
  },
  {
   "cell_type": "code",
   "execution_count": 33,
   "metadata": {
    "tags": []
   },
   "outputs": [],
   "source": [
    "import pandas as pd \n",
    "\n",
    "user_top_tracks = sp.current_user_top_tracks(limit=50, offset=0, time_range='long_term')\n",
    "song_data = user_top_tracks[\"items\"]\n",
    "\n",
    "song_ids = []\n",
    "song_names = []\n",
    "\n",
    "for i in range(0, len(song_data)):\n",
    "    if song_data[i]['id'] != None:\n",
    "        song_ids.append(song_data[i]['id'])\n",
    "        song_names.append(song_data[i]['name'])\n",
    "\n",
    "song_features = []\n",
    "for i in range(0, len(song_ids)):\n",
    "    features = sp.audio_features(song_ids[i])\n",
    "    for song in features:\n",
    "        song_features.append(song)\n",
    "\n",
    "top_tracks_df = pd.DataFrame(features, index=song_names)\n",
    "top_tracks_df = top_tracks_df[[\"id\", \"acousticness\", \"danceability\", \"duration_ms\", \n",
    "                         \"energy\", \"instrumentalness\",  \"key\", \"liveness\",\n",
    "                         \"loudness\", \"mode\", \"speechiness\", \"tempo\", \"valence\"]]\n"
   ]
  },
  {
   "cell_type": "code",
   "execution_count": 35,
   "metadata": {},
   "outputs": [
    {
     "output_type": "execute_result",
     "data": {
      "text/plain": [
       "                                         id  acousticness  danceability  \\\n",
       "HOLIDAY              15jRg8Ejs7X3JEHw38TSN3         0.167          0.69   \n",
       "Death of a Bachelor  15jRg8Ejs7X3JEHw38TSN3         0.167          0.69   \n",
       "Daylight             15jRg8Ejs7X3JEHw38TSN3         0.167          0.69   \n",
       "Knock Knock          15jRg8Ejs7X3JEHw38TSN3         0.167          0.69   \n",
       "Don't Matter         15jRg8Ejs7X3JEHw38TSN3         0.167          0.69   \n",
       "\n",
       "                     duration_ms  energy  instrumentalness  key  liveness  \\\n",
       "HOLIDAY                   193059   0.578                 0    6     0.305   \n",
       "Death of a Bachelor       193059   0.578                 0    6     0.305   \n",
       "Daylight                  193059   0.578                 0    6     0.305   \n",
       "Knock Knock               193059   0.578                 0    6     0.305   \n",
       "Don't Matter              193059   0.578                 0    6     0.305   \n",
       "\n",
       "                     loudness  mode  speechiness   tempo  valence  \n",
       "HOLIDAY                -7.436     1       0.0929  99.961    0.416  \n",
       "Death of a Bachelor    -7.436     1       0.0929  99.961    0.416  \n",
       "Daylight               -7.436     1       0.0929  99.961    0.416  \n",
       "Knock Knock            -7.436     1       0.0929  99.961    0.416  \n",
       "Don't Matter           -7.436     1       0.0929  99.961    0.416  "
      ],
      "text/html": "<div>\n<style scoped>\n    .dataframe tbody tr th:only-of-type {\n        vertical-align: middle;\n    }\n\n    .dataframe tbody tr th {\n        vertical-align: top;\n    }\n\n    .dataframe thead th {\n        text-align: right;\n    }\n</style>\n<table border=\"1\" class=\"dataframe\">\n  <thead>\n    <tr style=\"text-align: right;\">\n      <th></th>\n      <th>id</th>\n      <th>acousticness</th>\n      <th>danceability</th>\n      <th>duration_ms</th>\n      <th>energy</th>\n      <th>instrumentalness</th>\n      <th>key</th>\n      <th>liveness</th>\n      <th>loudness</th>\n      <th>mode</th>\n      <th>speechiness</th>\n      <th>tempo</th>\n      <th>valence</th>\n    </tr>\n  </thead>\n  <tbody>\n    <tr>\n      <th>HOLIDAY</th>\n      <td>15jRg8Ejs7X3JEHw38TSN3</td>\n      <td>0.167</td>\n      <td>0.69</td>\n      <td>193059</td>\n      <td>0.578</td>\n      <td>0</td>\n      <td>6</td>\n      <td>0.305</td>\n      <td>-7.436</td>\n      <td>1</td>\n      <td>0.0929</td>\n      <td>99.961</td>\n      <td>0.416</td>\n    </tr>\n    <tr>\n      <th>Death of a Bachelor</th>\n      <td>15jRg8Ejs7X3JEHw38TSN3</td>\n      <td>0.167</td>\n      <td>0.69</td>\n      <td>193059</td>\n      <td>0.578</td>\n      <td>0</td>\n      <td>6</td>\n      <td>0.305</td>\n      <td>-7.436</td>\n      <td>1</td>\n      <td>0.0929</td>\n      <td>99.961</td>\n      <td>0.416</td>\n    </tr>\n    <tr>\n      <th>Daylight</th>\n      <td>15jRg8Ejs7X3JEHw38TSN3</td>\n      <td>0.167</td>\n      <td>0.69</td>\n      <td>193059</td>\n      <td>0.578</td>\n      <td>0</td>\n      <td>6</td>\n      <td>0.305</td>\n      <td>-7.436</td>\n      <td>1</td>\n      <td>0.0929</td>\n      <td>99.961</td>\n      <td>0.416</td>\n    </tr>\n    <tr>\n      <th>Knock Knock</th>\n      <td>15jRg8Ejs7X3JEHw38TSN3</td>\n      <td>0.167</td>\n      <td>0.69</td>\n      <td>193059</td>\n      <td>0.578</td>\n      <td>0</td>\n      <td>6</td>\n      <td>0.305</td>\n      <td>-7.436</td>\n      <td>1</td>\n      <td>0.0929</td>\n      <td>99.961</td>\n      <td>0.416</td>\n    </tr>\n    <tr>\n      <th>Don't Matter</th>\n      <td>15jRg8Ejs7X3JEHw38TSN3</td>\n      <td>0.167</td>\n      <td>0.69</td>\n      <td>193059</td>\n      <td>0.578</td>\n      <td>0</td>\n      <td>6</td>\n      <td>0.305</td>\n      <td>-7.436</td>\n      <td>1</td>\n      <td>0.0929</td>\n      <td>99.961</td>\n      <td>0.416</td>\n    </tr>\n  </tbody>\n</table>\n</div>"
     },
     "metadata": {},
     "execution_count": 35
    }
   ],
   "source": [
    "top_tracks_df.head()"
   ]
  },
  {
   "cell_type": "code",
   "execution_count": 41,
   "metadata": {},
   "outputs": [
    {
     "output_type": "execute_result",
     "data": {
      "text/plain": [
       "(50, 394)"
      ]
     },
     "metadata": {},
     "execution_count": 41
    }
   ],
   "source": [
    "#Vectorizes the song names\n",
    "from sklearn.feature_extraction.text import TfidfVectorizer\n",
    "\n",
    "vectorizer = TfidfVectorizer(sublinear_tf=True, ngram_range=(1, 6), max_features=10000)\n",
    "X_names_sparse = vectorizer.fit_transform(song_names)\n",
    "X_names_sparse.shape\n"
   ]
  },
  {
   "cell_type": "code",
   "execution_count": null,
   "metadata": {},
   "outputs": [],
   "source": []
  }
 ]
}