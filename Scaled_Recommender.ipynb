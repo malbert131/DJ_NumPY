{
 "metadata": {
  "language_info": {
   "codemirror_mode": {
    "name": "ipython",
    "version": 3
   },
   "file_extension": ".py",
   "mimetype": "text/x-python",
   "name": "python",
   "nbconvert_exporter": "python",
   "pygments_lexer": "ipython3",
   "version": "3.9.1"
  },
  "orig_nbformat": 2,
  "kernelspec": {
   "name": "python391jvsc74a57bd0abf4aac3bd47590b3c3ba9c20e5c9ff76a5d60f3d204cf7670d4141c0c3b4c10",
   "display_name": "Python 3.9.1 64-bit ('DJ_NumPy-RDDxY7Pi': pipenv)"
  }
 },
 "nbformat": 4,
 "nbformat_minor": 2,
 "cells": [
  {
   "cell_type": "code",
   "execution_count": 60,
   "metadata": {},
   "outputs": [],
   "source": [
    "from keys import client_id, client_secret, user_name\n",
    "import os\n",
    "import pandas as pd\n",
    "import numpy as np\n",
    "import json\n",
    "import matplotlib.pyplot as plt\n",
    "import seaborn as sns\n",
    "%config InlineBackend.figure_format ='retina'\n",
    "import spotipy\n",
    "import spotipy.util as util\n",
    "from spotipy.oauth2 import SpotifyClientCredentials\n",
    "from spotipy import oauth2\n",
    "import random\n",
    "from functools import reduce"
   ]
  },
  {
   "cell_type": "code",
   "execution_count": 61,
   "metadata": {},
   "outputs": [],
   "source": [
    "scope = 'user-library-read playlist-modify-public playlist-modify-private playlist-read-private user-read-recently-played app-remote-control user-top-read'\n",
    "\n",
    "redirect_uri = 'https://developer.spotify.com/dashboard/applications/0743a195f7654b5ab95560a95e89316a'\n",
    "\n",
    "client_credentials_manager = SpotifyClientCredentials(client_id=client_id, client_secret=client_secret)\n",
    "\n",
    "sp = spotipy.Spotify(client_credentials_manager=client_credentials_manager)\n",
    "\n",
    "token = util.prompt_for_user_token(user_name, scope, client_id, client_secret, redirect_uri)\n",
    "\n",
    "if token:\n",
    "    sp = spotipy.Spotify(auth=token)\n",
    "else:\n",
    "    print(\"NO TOKEN FOUND\")\n"
   ]
  },
  {
   "cell_type": "code",
   "execution_count": 62,
   "metadata": {},
   "outputs": [
    {
     "output_type": "execute_result",
     "data": {
      "text/plain": [
       "                                         id  acousticness  danceability  \\\n",
       "HOLIDAY              6zFMeegAMYQo0mt8rXtrli       0.12000         0.810   \n",
       "Death of a Bachelor  1BECwm5qkaBwlbfo4kpYx8       0.01370         0.462   \n",
       "Daylight             6Ed1q0X8oSKSm4IIhiQbYg       0.00488         0.528   \n",
       "Knock Knock          3uYm4MtU6jUQft2DtGqEoZ       0.03530         0.667   \n",
       "Don't Matter         7I6DceMT3utDOHjcYCbrr4       0.24400         0.798   \n",
       "\n",
       "                     duration_ms  energy  instrumentalness  key  liveness  \\\n",
       "HOLIDAY                   154998   0.511          0.000000    5    0.0832   \n",
       "Death of a Bachelor       203507   0.538          0.000000    0    0.4290   \n",
       "Daylight                  163906   0.749          0.000096    7    0.0949   \n",
       "Knock Knock               202807   0.922          0.000000    4    0.3640   \n",
       "Don't Matter              293053   0.443          0.000000    2    0.3260   \n",
       "\n",
       "                     loudness  mode  speechiness    tempo  valence  \n",
       "HOLIDAY                -6.924     0       0.1640  151.947    0.837  \n",
       "Death of a Bachelor    -5.527     1       0.0590  139.256    0.405  \n",
       "Daylight               -7.571     1       0.0479  163.944    0.729  \n",
       "Knock Knock            -4.857     0       0.1280  108.952    0.509  \n",
       "Don't Matter           -6.062     1       0.0403  125.232    0.354  "
      ],
      "text/html": "<div>\n<style scoped>\n    .dataframe tbody tr th:only-of-type {\n        vertical-align: middle;\n    }\n\n    .dataframe tbody tr th {\n        vertical-align: top;\n    }\n\n    .dataframe thead th {\n        text-align: right;\n    }\n</style>\n<table border=\"1\" class=\"dataframe\">\n  <thead>\n    <tr style=\"text-align: right;\">\n      <th></th>\n      <th>id</th>\n      <th>acousticness</th>\n      <th>danceability</th>\n      <th>duration_ms</th>\n      <th>energy</th>\n      <th>instrumentalness</th>\n      <th>key</th>\n      <th>liveness</th>\n      <th>loudness</th>\n      <th>mode</th>\n      <th>speechiness</th>\n      <th>tempo</th>\n      <th>valence</th>\n    </tr>\n  </thead>\n  <tbody>\n    <tr>\n      <th>HOLIDAY</th>\n      <td>6zFMeegAMYQo0mt8rXtrli</td>\n      <td>0.12000</td>\n      <td>0.810</td>\n      <td>154998</td>\n      <td>0.511</td>\n      <td>0.000000</td>\n      <td>5</td>\n      <td>0.0832</td>\n      <td>-6.924</td>\n      <td>0</td>\n      <td>0.1640</td>\n      <td>151.947</td>\n      <td>0.837</td>\n    </tr>\n    <tr>\n      <th>Death of a Bachelor</th>\n      <td>1BECwm5qkaBwlbfo4kpYx8</td>\n      <td>0.01370</td>\n      <td>0.462</td>\n      <td>203507</td>\n      <td>0.538</td>\n      <td>0.000000</td>\n      <td>0</td>\n      <td>0.4290</td>\n      <td>-5.527</td>\n      <td>1</td>\n      <td>0.0590</td>\n      <td>139.256</td>\n      <td>0.405</td>\n    </tr>\n    <tr>\n      <th>Daylight</th>\n      <td>6Ed1q0X8oSKSm4IIhiQbYg</td>\n      <td>0.00488</td>\n      <td>0.528</td>\n      <td>163906</td>\n      <td>0.749</td>\n      <td>0.000096</td>\n      <td>7</td>\n      <td>0.0949</td>\n      <td>-7.571</td>\n      <td>1</td>\n      <td>0.0479</td>\n      <td>163.944</td>\n      <td>0.729</td>\n    </tr>\n    <tr>\n      <th>Knock Knock</th>\n      <td>3uYm4MtU6jUQft2DtGqEoZ</td>\n      <td>0.03530</td>\n      <td>0.667</td>\n      <td>202807</td>\n      <td>0.922</td>\n      <td>0.000000</td>\n      <td>4</td>\n      <td>0.3640</td>\n      <td>-4.857</td>\n      <td>0</td>\n      <td>0.1280</td>\n      <td>108.952</td>\n      <td>0.509</td>\n    </tr>\n    <tr>\n      <th>Don't Matter</th>\n      <td>7I6DceMT3utDOHjcYCbrr4</td>\n      <td>0.24400</td>\n      <td>0.798</td>\n      <td>293053</td>\n      <td>0.443</td>\n      <td>0.000000</td>\n      <td>2</td>\n      <td>0.3260</td>\n      <td>-6.062</td>\n      <td>1</td>\n      <td>0.0403</td>\n      <td>125.232</td>\n      <td>0.354</td>\n    </tr>\n  </tbody>\n</table>\n</div>"
     },
     "metadata": {},
     "execution_count": 62
    }
   ],
   "source": [
    "user_top_tracks = sp.current_user_top_tracks(limit=50, offset=0, time_range='long_term')\n",
    "song_data = user_top_tracks[\"items\"]\n",
    "\n",
    "song_ids = []\n",
    "song_names = []\n",
    "\n",
    "for i in range(0, len(song_data)):\n",
    "    if song_data[i]['id'] != None:\n",
    "        song_ids.append(song_data[i]['id'])\n",
    "        song_names.append(song_data[i]['name'])\n",
    "\n",
    "song_features = []\n",
    "for i in range(0, len(song_ids)):\n",
    "    features = sp.audio_features(song_ids[i])\n",
    "    for song in features:\n",
    "        song_features.append(song)\n",
    "\n",
    "top_tracks_df = pd.DataFrame(song_features, index=song_names)\n",
    "top_tracks_df = top_tracks_df[[\"id\", \"acousticness\", \"danceability\", \"duration_ms\", \n",
    "                         \"energy\", \"instrumentalness\",  \"key\", \"liveness\",\n",
    "                         \"loudness\", \"mode\", \"speechiness\", \"tempo\", \"valence\"]]\n",
    "top_tracks_df.head()"
   ]
  },
  {
   "cell_type": "code",
   "execution_count": 63,
   "metadata": {},
   "outputs": [],
   "source": [
    "featured_playlists = sp.featured_playlists(limit=50)\n",
    "# Creating data frame for playlists\n",
    "id = []\n",
    "name = []\n",
    "num_tracks = []\n",
    "items = featured_playlists['playlists']['items']\n",
    "for item in items:\n",
    "    id.append(item[\"id\"])\n",
    "    name.append(item[\"name\"])\n",
    "    num_tracks.append(item[\"tracks\"][\"total\"])\n",
    "\n",
    "df_pl_data = pd.DataFrame({\"id\":id, \"name\": name, \"num_tracks\": num_tracks})"
   ]
  },
  {
   "cell_type": "code",
   "execution_count": 64,
   "metadata": {},
   "outputs": [],
   "source": [
    "# Gathering playlists Categories\n",
    "categories = sp.categories(limit=50)['categories']['items']\n",
    "category_id = []\n",
    "category_name = []\n",
    "for item in categories:\n",
    "    category_id.append(item['id'])\n",
    "    category_name.append(item['name'])\n",
    "categories_2 = sp.categories(limit=50, offset=50)['categories']['items']\n",
    "for item in categories_2:\n",
    "    category_id.append(item['id'])\n",
    "    category_name.append(item['name'])"
   ]
  },
  {
   "cell_type": "code",
   "execution_count": 65,
   "metadata": {},
   "outputs": [
    {
     "output_type": "execute_result",
     "data": {
      "text/plain": [
       "                    Name                   id\n",
       "0              Top Lists             toplists\n",
       "1                Hip Hop               hiphop\n",
       "2                    Pop                  pop\n",
       "3                Country              country\n",
       "4                   Rock                 rock\n",
       "5                   Mood                 mood\n",
       "6                Workout              workout\n",
       "7                  Latin                latin\n",
       "8                    R&B                  rnb\n",
       "9        Stop Asian Hate  aapi_heritage_month\n",
       "10      Dance/Electronic            edm_dance\n",
       "11                 Indie            indie_alt\n",
       "12                 Focus                focus\n",
       "13                 EQUAL                equal\n",
       "14                Gaming               gaming\n",
       "15                 Chill                chill\n",
       "16             Christian        inspirational\n",
       "17                 Party                party\n",
       "18               Decades              decades\n",
       "19               Romance              romance\n",
       "20          Instrumental         instrumental\n",
       "21           Alternative          alternative\n",
       "22              Wellness             wellness\n",
       "23            In the car           in_the_car\n",
       "24              theLINER     shows_with_music\n",
       "25                 Pride                pride\n",
       "26                 Sleep                sleep\n",
       "27             Classical            classical\n",
       "28                  Jazz                 jazz\n",
       "29       Folk & Acoustic                roots\n",
       "30                  Soul                 soul\n",
       "31  Black History Is Now    blackhistorymonth\n",
       "32       Spotify Singles             sessions\n",
       "33               At Home              at_home\n",
       "34      Cooking & Dining               dinner\n",
       "35                 K-Pop                 kpop\n",
       "36                  Punk                 punk\n",
       "37      Regional Mexican     regional_mexican\n",
       "38                Sports               sports\n",
       "39           Pop culture           popculture\n",
       "40                 Blues                blues\n",
       "41                  Arab                 arab\n",
       "42                  Desi                 desi\n",
       "43                 RADAR                radar\n",
       "44  Joe Rogan Experience          jre_podcast\n",
       "45                 Anime                anime\n",
       "46           Tastemakers           thirdparty\n",
       "47                  Afro                 afro\n",
       "48                Comedy               comedy\n",
       "49                 Metal                metal\n",
       "50                  Arab                 arab\n",
       "51                  Desi                 desi\n",
       "52                Travel               travel\n",
       "53               Student              student\n",
       "54  Black History Is Now    blackhistorymonth\n",
       "55                 Pride                pride"
      ],
      "text/html": "<div>\n<style scoped>\n    .dataframe tbody tr th:only-of-type {\n        vertical-align: middle;\n    }\n\n    .dataframe tbody tr th {\n        vertical-align: top;\n    }\n\n    .dataframe thead th {\n        text-align: right;\n    }\n</style>\n<table border=\"1\" class=\"dataframe\">\n  <thead>\n    <tr style=\"text-align: right;\">\n      <th></th>\n      <th>Name</th>\n      <th>id</th>\n    </tr>\n  </thead>\n  <tbody>\n    <tr>\n      <th>0</th>\n      <td>Top Lists</td>\n      <td>toplists</td>\n    </tr>\n    <tr>\n      <th>1</th>\n      <td>Hip Hop</td>\n      <td>hiphop</td>\n    </tr>\n    <tr>\n      <th>2</th>\n      <td>Pop</td>\n      <td>pop</td>\n    </tr>\n    <tr>\n      <th>3</th>\n      <td>Country</td>\n      <td>country</td>\n    </tr>\n    <tr>\n      <th>4</th>\n      <td>Rock</td>\n      <td>rock</td>\n    </tr>\n    <tr>\n      <th>5</th>\n      <td>Mood</td>\n      <td>mood</td>\n    </tr>\n    <tr>\n      <th>6</th>\n      <td>Workout</td>\n      <td>workout</td>\n    </tr>\n    <tr>\n      <th>7</th>\n      <td>Latin</td>\n      <td>latin</td>\n    </tr>\n    <tr>\n      <th>8</th>\n      <td>R&amp;B</td>\n      <td>rnb</td>\n    </tr>\n    <tr>\n      <th>9</th>\n      <td>Stop Asian Hate</td>\n      <td>aapi_heritage_month</td>\n    </tr>\n    <tr>\n      <th>10</th>\n      <td>Dance/Electronic</td>\n      <td>edm_dance</td>\n    </tr>\n    <tr>\n      <th>11</th>\n      <td>Indie</td>\n      <td>indie_alt</td>\n    </tr>\n    <tr>\n      <th>12</th>\n      <td>Focus</td>\n      <td>focus</td>\n    </tr>\n    <tr>\n      <th>13</th>\n      <td>EQUAL</td>\n      <td>equal</td>\n    </tr>\n    <tr>\n      <th>14</th>\n      <td>Gaming</td>\n      <td>gaming</td>\n    </tr>\n    <tr>\n      <th>15</th>\n      <td>Chill</td>\n      <td>chill</td>\n    </tr>\n    <tr>\n      <th>16</th>\n      <td>Christian</td>\n      <td>inspirational</td>\n    </tr>\n    <tr>\n      <th>17</th>\n      <td>Party</td>\n      <td>party</td>\n    </tr>\n    <tr>\n      <th>18</th>\n      <td>Decades</td>\n      <td>decades</td>\n    </tr>\n    <tr>\n      <th>19</th>\n      <td>Romance</td>\n      <td>romance</td>\n    </tr>\n    <tr>\n      <th>20</th>\n      <td>Instrumental</td>\n      <td>instrumental</td>\n    </tr>\n    <tr>\n      <th>21</th>\n      <td>Alternative</td>\n      <td>alternative</td>\n    </tr>\n    <tr>\n      <th>22</th>\n      <td>Wellness</td>\n      <td>wellness</td>\n    </tr>\n    <tr>\n      <th>23</th>\n      <td>In the car</td>\n      <td>in_the_car</td>\n    </tr>\n    <tr>\n      <th>24</th>\n      <td>theLINER</td>\n      <td>shows_with_music</td>\n    </tr>\n    <tr>\n      <th>25</th>\n      <td>Pride</td>\n      <td>pride</td>\n    </tr>\n    <tr>\n      <th>26</th>\n      <td>Sleep</td>\n      <td>sleep</td>\n    </tr>\n    <tr>\n      <th>27</th>\n      <td>Classical</td>\n      <td>classical</td>\n    </tr>\n    <tr>\n      <th>28</th>\n      <td>Jazz</td>\n      <td>jazz</td>\n    </tr>\n    <tr>\n      <th>29</th>\n      <td>Folk &amp; Acoustic</td>\n      <td>roots</td>\n    </tr>\n    <tr>\n      <th>30</th>\n      <td>Soul</td>\n      <td>soul</td>\n    </tr>\n    <tr>\n      <th>31</th>\n      <td>Black History Is Now</td>\n      <td>blackhistorymonth</td>\n    </tr>\n    <tr>\n      <th>32</th>\n      <td>Spotify Singles</td>\n      <td>sessions</td>\n    </tr>\n    <tr>\n      <th>33</th>\n      <td>At Home</td>\n      <td>at_home</td>\n    </tr>\n    <tr>\n      <th>34</th>\n      <td>Cooking &amp; Dining</td>\n      <td>dinner</td>\n    </tr>\n    <tr>\n      <th>35</th>\n      <td>K-Pop</td>\n      <td>kpop</td>\n    </tr>\n    <tr>\n      <th>36</th>\n      <td>Punk</td>\n      <td>punk</td>\n    </tr>\n    <tr>\n      <th>37</th>\n      <td>Regional Mexican</td>\n      <td>regional_mexican</td>\n    </tr>\n    <tr>\n      <th>38</th>\n      <td>Sports</td>\n      <td>sports</td>\n    </tr>\n    <tr>\n      <th>39</th>\n      <td>Pop culture</td>\n      <td>popculture</td>\n    </tr>\n    <tr>\n      <th>40</th>\n      <td>Blues</td>\n      <td>blues</td>\n    </tr>\n    <tr>\n      <th>41</th>\n      <td>Arab</td>\n      <td>arab</td>\n    </tr>\n    <tr>\n      <th>42</th>\n      <td>Desi</td>\n      <td>desi</td>\n    </tr>\n    <tr>\n      <th>43</th>\n      <td>RADAR</td>\n      <td>radar</td>\n    </tr>\n    <tr>\n      <th>44</th>\n      <td>Joe Rogan Experience</td>\n      <td>jre_podcast</td>\n    </tr>\n    <tr>\n      <th>45</th>\n      <td>Anime</td>\n      <td>anime</td>\n    </tr>\n    <tr>\n      <th>46</th>\n      <td>Tastemakers</td>\n      <td>thirdparty</td>\n    </tr>\n    <tr>\n      <th>47</th>\n      <td>Afro</td>\n      <td>afro</td>\n    </tr>\n    <tr>\n      <th>48</th>\n      <td>Comedy</td>\n      <td>comedy</td>\n    </tr>\n    <tr>\n      <th>49</th>\n      <td>Metal</td>\n      <td>metal</td>\n    </tr>\n    <tr>\n      <th>50</th>\n      <td>Arab</td>\n      <td>arab</td>\n    </tr>\n    <tr>\n      <th>51</th>\n      <td>Desi</td>\n      <td>desi</td>\n    </tr>\n    <tr>\n      <th>52</th>\n      <td>Travel</td>\n      <td>travel</td>\n    </tr>\n    <tr>\n      <th>53</th>\n      <td>Student</td>\n      <td>student</td>\n    </tr>\n    <tr>\n      <th>54</th>\n      <td>Black History Is Now</td>\n      <td>blackhistorymonth</td>\n    </tr>\n    <tr>\n      <th>55</th>\n      <td>Pride</td>\n      <td>pride</td>\n    </tr>\n  </tbody>\n</table>\n</div>"
     },
     "metadata": {},
     "execution_count": 65
    }
   ],
   "source": [
    "# Creating category dataframe\n",
    "data_category = {'Name': category_name,\n",
    "                 'id': category_id}\n",
    "category_df = pd.DataFrame(data_category)\n",
    "\n",
    "category_df"
   ]
  },
  {
   "cell_type": "code",
   "execution_count": 95,
   "metadata": {},
   "outputs": [
    {
     "output_type": "execute_result",
     "data": {
      "text/plain": [
       "976"
      ]
     },
     "metadata": {},
     "execution_count": 95
    }
   ],
   "source": [
    "# Extracting playlists from categories\n",
    "sp.category_playlists('toplists')['playlists']['items'][0]\n",
    "category_pl_id = []\n",
    "category_pl_name = []\n",
    "category_pl_num_tracks = []\n",
    "for pl_id in category_id:\n",
    "    PL = sp.category_playlists(pl_id)['playlists']['items']\n",
    "    for i in range(len(PL)):\n",
    "        category_pl_id.append(PL[i]['id'])\n",
    "        category_pl_name.append(PL[i]['name'])\n",
    "        category_pl_num_tracks.append(PL[i]['tracks']['total'])"
   ]
  },
  {
   "cell_type": "code",
   "execution_count": 67,
   "metadata": {},
   "outputs": [],
   "source": [
    "# Converting category playlist data into a DataFrame\n",
    "category_pl_data = {'id': category_pl_id,\n",
    "                    'name': category_pl_name,\n",
    "                    'num_tracks': category_pl_num_tracks}\n",
    "\n",
    "category_pl_df = pd.DataFrame(category_pl_data)"
   ]
  },
  {
   "cell_type": "code",
   "execution_count": 96,
   "metadata": {},
   "outputs": [
    {
     "output_type": "execute_result",
     "data": {
      "text/plain": [
       "84187"
      ]
     },
     "metadata": {},
     "execution_count": 96
    }
   ],
   "source": [
    "category_pl_df['num_tracks'].sum()"
   ]
  },
  {
   "cell_type": "code",
   "execution_count": 69,
   "metadata": {},
   "outputs": [
    {
     "output_type": "execute_result",
     "data": {
      "text/plain": [
       "                        id                 name  num_tracks\n",
       "0   37i9dQZF1DXbYM3nMM0oPk         Mega Hit Mix          75\n",
       "1   37i9dQZF1DXatMjChPKgBk         Dinner Music         150\n",
       "2   37i9dQZF1DWYgsiQBNyGuA          Soulful Day          80\n",
       "3   37i9dQZF1DWYWddJiPzbvb         Comfort Zone         150\n",
       "4   37i9dQZF1DWZd79rJ6a7lp                Sleep         186\n",
       "5   37i9dQZF1DWZ0OzPeadl0h      Lush + Ethereal          99\n",
       "6   37i9dQZF1DWStLt4f1zJ6I   Songs For Sleeping          99\n",
       "7   37i9dQZF1DX0QKpU3cGsyb         Bedroom Jams          70\n",
       "8   37i9dQZF1DWU0ScTcjJBdj       Relax & Unwind         100\n",
       "9   37i9dQZF1DWTwnEm1IYyoj        Soft Pop Hits         241\n",
       "10  37i9dQZF1DXcxvFzl58uP7          Bedroom Pop         115\n",
       "11  37i9dQZF1DX79Y9Kr2M2tM  Chill + Atmospheric          99"
      ],
      "text/html": "<div>\n<style scoped>\n    .dataframe tbody tr th:only-of-type {\n        vertical-align: middle;\n    }\n\n    .dataframe tbody tr th {\n        vertical-align: top;\n    }\n\n    .dataframe thead th {\n        text-align: right;\n    }\n</style>\n<table border=\"1\" class=\"dataframe\">\n  <thead>\n    <tr style=\"text-align: right;\">\n      <th></th>\n      <th>id</th>\n      <th>name</th>\n      <th>num_tracks</th>\n    </tr>\n  </thead>\n  <tbody>\n    <tr>\n      <th>0</th>\n      <td>37i9dQZF1DXbYM3nMM0oPk</td>\n      <td>Mega Hit Mix</td>\n      <td>75</td>\n    </tr>\n    <tr>\n      <th>1</th>\n      <td>37i9dQZF1DXatMjChPKgBk</td>\n      <td>Dinner Music</td>\n      <td>150</td>\n    </tr>\n    <tr>\n      <th>2</th>\n      <td>37i9dQZF1DWYgsiQBNyGuA</td>\n      <td>Soulful Day</td>\n      <td>80</td>\n    </tr>\n    <tr>\n      <th>3</th>\n      <td>37i9dQZF1DWYWddJiPzbvb</td>\n      <td>Comfort Zone</td>\n      <td>150</td>\n    </tr>\n    <tr>\n      <th>4</th>\n      <td>37i9dQZF1DWZd79rJ6a7lp</td>\n      <td>Sleep</td>\n      <td>186</td>\n    </tr>\n    <tr>\n      <th>5</th>\n      <td>37i9dQZF1DWZ0OzPeadl0h</td>\n      <td>Lush + Ethereal</td>\n      <td>99</td>\n    </tr>\n    <tr>\n      <th>6</th>\n      <td>37i9dQZF1DWStLt4f1zJ6I</td>\n      <td>Songs For Sleeping</td>\n      <td>99</td>\n    </tr>\n    <tr>\n      <th>7</th>\n      <td>37i9dQZF1DX0QKpU3cGsyb</td>\n      <td>Bedroom Jams</td>\n      <td>70</td>\n    </tr>\n    <tr>\n      <th>8</th>\n      <td>37i9dQZF1DWU0ScTcjJBdj</td>\n      <td>Relax &amp; Unwind</td>\n      <td>100</td>\n    </tr>\n    <tr>\n      <th>9</th>\n      <td>37i9dQZF1DWTwnEm1IYyoj</td>\n      <td>Soft Pop Hits</td>\n      <td>241</td>\n    </tr>\n    <tr>\n      <th>10</th>\n      <td>37i9dQZF1DXcxvFzl58uP7</td>\n      <td>Bedroom Pop</td>\n      <td>115</td>\n    </tr>\n    <tr>\n      <th>11</th>\n      <td>37i9dQZF1DX79Y9Kr2M2tM</td>\n      <td>Chill + Atmospheric</td>\n      <td>99</td>\n    </tr>\n  </tbody>\n</table>\n</div>"
     },
     "metadata": {},
     "execution_count": 69
    }
   ],
   "source": [
    "df_pl_data"
   ]
  },
  {
   "cell_type": "code",
   "execution_count": 70,
   "metadata": {},
   "outputs": [],
   "source": [
    "# Returns Individual Tracks In Playlists\n",
    "def get_playlist_tracks(sp, playlist_id):\n",
    "    data_track = sp.playlist_tracks(playlist_id, fields=None, limit=100, offset=0, market=None)['items']\n",
    "    track_id = []\n",
    "    track_name = []\n",
    "    \n",
    "    for data in data_track:\n",
    "        track_id.append(data['track']['id'])\n",
    "        track_name.append(data['track']['name'])\n",
    "\n",
    "    return pd.DataFrame({\"track_id\":track_id, \"track_name\": track_name})"
   ]
  },
  {
   "cell_type": "code",
   "execution_count": 71,
   "metadata": {},
   "outputs": [
    {
     "output_type": "execute_result",
     "data": {
      "text/plain": [
       "                 track_id            track_name\n",
       "0  6FE2iI43OZnszFLuLtvvmg               Classic\n",
       "1  3DmW6y7wTEYHJZlLo1r6XJ                Shower\n",
       "2  3E7dfMvvCLUddWissuqMwr   Party In The U.S.A.\n",
       "3  4E5P1XyAFtrjpiIxkydly4                Replay\n",
       "4  1CQ2cMfrmFM1YdfmjENKVE  She Looks So Perfect"
      ],
      "text/html": "<div>\n<style scoped>\n    .dataframe tbody tr th:only-of-type {\n        vertical-align: middle;\n    }\n\n    .dataframe tbody tr th {\n        vertical-align: top;\n    }\n\n    .dataframe thead th {\n        text-align: right;\n    }\n</style>\n<table border=\"1\" class=\"dataframe\">\n  <thead>\n    <tr style=\"text-align: right;\">\n      <th></th>\n      <th>track_id</th>\n      <th>track_name</th>\n    </tr>\n  </thead>\n  <tbody>\n    <tr>\n      <th>0</th>\n      <td>6FE2iI43OZnszFLuLtvvmg</td>\n      <td>Classic</td>\n    </tr>\n    <tr>\n      <th>1</th>\n      <td>3DmW6y7wTEYHJZlLo1r6XJ</td>\n      <td>Shower</td>\n    </tr>\n    <tr>\n      <th>2</th>\n      <td>3E7dfMvvCLUddWissuqMwr</td>\n      <td>Party In The U.S.A.</td>\n    </tr>\n    <tr>\n      <th>3</th>\n      <td>4E5P1XyAFtrjpiIxkydly4</td>\n      <td>Replay</td>\n    </tr>\n    <tr>\n      <th>4</th>\n      <td>1CQ2cMfrmFM1YdfmjENKVE</td>\n      <td>She Looks So Perfect</td>\n    </tr>\n  </tbody>\n</table>\n</div>"
     },
     "metadata": {},
     "execution_count": 71
    }
   ],
   "source": [
    "get_playlist_tracks(sp, '37i9dQZF1DWZKuerrwoAGz').head()"
   ]
  },
  {
   "cell_type": "code",
   "execution_count": 72,
   "metadata": {},
   "outputs": [],
   "source": [
    "# Function for getting audio features of individual tracks\n",
    "def get_audio_features(sp, playlist_id):\n",
    "    playlist = get_playlist_tracks(sp, playlist_id)\n",
    "    audio_features = []\n",
    "    for i in range(len(playlist)):\n",
    "        song_data_id = playlist['track_id'][i]\n",
    "        audio_features.append(sp.audio_features(song_data_id))\n",
    "    features_array = []\n",
    "    for features in audio_features:\n",
    "        features = features[0]\n",
    "        features_array.append([features['danceability'],\n",
    "                              features['acousticness'],\n",
    "                              features['energy'], \n",
    "                              features['tempo'],\n",
    "                              features['instrumentalness'], \n",
    "                              features['loudness'],\n",
    "                              features['liveness'],\n",
    "                              features['duration_ms'],\n",
    "                              features['key'],\n",
    "                              features['valence'],\n",
    "                              features['speechiness']\n",
    "                             ])\n",
    "    df_audio_features = pd.DataFrame(features_array, columns=['danceability', 'acousticness', 'energy', 'tempo', 'instrumentalness', 'loudness', 'liveness', 'duration_ms', 'key', 'valence', 'speechiness'])\n",
    "    # DataFrame with audio features and playlist id/name\n",
    "    df_playlist_features = pd.concat([playlist, df_audio_features], axis=1)\n",
    "    df_playlist_features.set_index('track_name', inplace=True, drop=True)\n",
    "    return df_playlist_features"
   ]
  },
  {
   "cell_type": "code",
   "execution_count": 73,
   "metadata": {},
   "outputs": [
    {
     "output_type": "execute_result",
     "data": {
      "text/plain": [
       "                                                              track_id  \\\n",
       "track_name                                                               \n",
       "Beautiful Mistakes (feat. Megan Thee Stallion)  6fRxMU4LWwyaSSowV441IU   \n",
       "Met Him Last Night (feat. Ariana Grande)        0BI0hfbmqybnd3TezrDME3   \n",
       "BED                                             7jXQUrVhEpXdymfFWNDnQW   \n",
       "Peaches (feat. Daniel Caesar & Giveon)          4iJyoBOLtHqaGxP12qzhQI   \n",
       "deja vu                                         61KpQadow081I2AsbeLcsb   \n",
       "\n",
       "                                                danceability  acousticness  \\\n",
       "track_name                                                                   \n",
       "Beautiful Mistakes (feat. Megan Thee Stallion)         0.713        0.0377   \n",
       "Met Him Last Night (feat. Ariana Grande)               0.538        0.2200   \n",
       "BED                                                    0.663        0.0134   \n",
       "Peaches (feat. Daniel Caesar & Giveon)                 0.677        0.3210   \n",
       "deja vu                                                0.439        0.5930   \n",
       "\n",
       "                                                energy    tempo  \\\n",
       "track_name                                                        \n",
       "Beautiful Mistakes (feat. Megan Thee Stallion)   0.676   99.048   \n",
       "Met Him Last Night (feat. Ariana Grande)         0.512  144.978   \n",
       "BED                                              0.783  123.986   \n",
       "Peaches (feat. Daniel Caesar & Giveon)           0.696   90.030   \n",
       "deja vu                                          0.610  181.088   \n",
       "\n",
       "                                                instrumentalness  loudness  \\\n",
       "track_name                                                                   \n",
       "Beautiful Mistakes (feat. Megan Thee Stallion)          0.000000    -5.483   \n",
       "Met Him Last Night (feat. Ariana Grande)                0.000000    -4.548   \n",
       "BED                                                     0.001790    -4.585   \n",
       "Peaches (feat. Daniel Caesar & Giveon)                  0.000000    -6.181   \n",
       "deja vu                                                 0.000011    -7.236   \n",
       "\n",
       "                                                liveness  duration_ms  key  \\\n",
       "track_name                                                                   \n",
       "Beautiful Mistakes (feat. Megan Thee Stallion)     0.154       227395   10   \n",
       "Met Him Last Night (feat. Ariana Grande)           0.101       204632    4   \n",
       "BED                                                0.325       178088    6   \n",
       "Peaches (feat. Daniel Caesar & Giveon)             0.420       198082    0   \n",
       "deja vu                                            0.341       215508    9   \n",
       "\n",
       "                                                valence  speechiness  \n",
       "track_name                                                            \n",
       "Beautiful Mistakes (feat. Megan Thee Stallion)    0.721       0.0270  \n",
       "Met Him Last Night (feat. Ariana Grande)          0.120       0.0262  \n",
       "BED                                               0.622       0.0393  \n",
       "Peaches (feat. Daniel Caesar & Giveon)            0.464       0.1190  \n",
       "deja vu                                           0.172       0.1160  "
      ],
      "text/html": "<div>\n<style scoped>\n    .dataframe tbody tr th:only-of-type {\n        vertical-align: middle;\n    }\n\n    .dataframe tbody tr th {\n        vertical-align: top;\n    }\n\n    .dataframe thead th {\n        text-align: right;\n    }\n</style>\n<table border=\"1\" class=\"dataframe\">\n  <thead>\n    <tr style=\"text-align: right;\">\n      <th></th>\n      <th>track_id</th>\n      <th>danceability</th>\n      <th>acousticness</th>\n      <th>energy</th>\n      <th>tempo</th>\n      <th>instrumentalness</th>\n      <th>loudness</th>\n      <th>liveness</th>\n      <th>duration_ms</th>\n      <th>key</th>\n      <th>valence</th>\n      <th>speechiness</th>\n    </tr>\n    <tr>\n      <th>track_name</th>\n      <th></th>\n      <th></th>\n      <th></th>\n      <th></th>\n      <th></th>\n      <th></th>\n      <th></th>\n      <th></th>\n      <th></th>\n      <th></th>\n      <th></th>\n      <th></th>\n    </tr>\n  </thead>\n  <tbody>\n    <tr>\n      <th>Beautiful Mistakes (feat. Megan Thee Stallion)</th>\n      <td>6fRxMU4LWwyaSSowV441IU</td>\n      <td>0.713</td>\n      <td>0.0377</td>\n      <td>0.676</td>\n      <td>99.048</td>\n      <td>0.000000</td>\n      <td>-5.483</td>\n      <td>0.154</td>\n      <td>227395</td>\n      <td>10</td>\n      <td>0.721</td>\n      <td>0.0270</td>\n    </tr>\n    <tr>\n      <th>Met Him Last Night (feat. Ariana Grande)</th>\n      <td>0BI0hfbmqybnd3TezrDME3</td>\n      <td>0.538</td>\n      <td>0.2200</td>\n      <td>0.512</td>\n      <td>144.978</td>\n      <td>0.000000</td>\n      <td>-4.548</td>\n      <td>0.101</td>\n      <td>204632</td>\n      <td>4</td>\n      <td>0.120</td>\n      <td>0.0262</td>\n    </tr>\n    <tr>\n      <th>BED</th>\n      <td>7jXQUrVhEpXdymfFWNDnQW</td>\n      <td>0.663</td>\n      <td>0.0134</td>\n      <td>0.783</td>\n      <td>123.986</td>\n      <td>0.001790</td>\n      <td>-4.585</td>\n      <td>0.325</td>\n      <td>178088</td>\n      <td>6</td>\n      <td>0.622</td>\n      <td>0.0393</td>\n    </tr>\n    <tr>\n      <th>Peaches (feat. Daniel Caesar &amp; Giveon)</th>\n      <td>4iJyoBOLtHqaGxP12qzhQI</td>\n      <td>0.677</td>\n      <td>0.3210</td>\n      <td>0.696</td>\n      <td>90.030</td>\n      <td>0.000000</td>\n      <td>-6.181</td>\n      <td>0.420</td>\n      <td>198082</td>\n      <td>0</td>\n      <td>0.464</td>\n      <td>0.1190</td>\n    </tr>\n    <tr>\n      <th>deja vu</th>\n      <td>61KpQadow081I2AsbeLcsb</td>\n      <td>0.439</td>\n      <td>0.5930</td>\n      <td>0.610</td>\n      <td>181.088</td>\n      <td>0.000011</td>\n      <td>-7.236</td>\n      <td>0.341</td>\n      <td>215508</td>\n      <td>9</td>\n      <td>0.172</td>\n      <td>0.1160</td>\n    </tr>\n  </tbody>\n</table>\n</div>"
     },
     "metadata": {},
     "execution_count": 73
    }
   ],
   "source": [
    "get_audio_features(sp, '37i9dQZF1DXcRXFNfZr7Tp').head()"
   ]
  },
  {
   "cell_type": "code",
   "execution_count": 74,
   "metadata": {},
   "outputs": [],
   "source": [
    "# Finding mean of audio features for each playlist\n",
    "def audio_features_mean(sp, playlist_id):\n",
    "    Playlist = get_audio_features(sp, playlist_id)\n",
    "    return pd.DataFrame(Playlist.mean(), columns= [playlist_id])"
   ]
  },
  {
   "cell_type": "code",
   "execution_count": 75,
   "metadata": {},
   "outputs": [
    {
     "output_type": "execute_result",
     "data": {
      "text/plain": [
       "                  37i9dQZF1DXbYM3nMM0oPk\n",
       "danceability                    0.709640\n",
       "acousticness                    0.178981\n",
       "energy                          0.647813\n",
       "tempo                         120.666040\n",
       "instrumentalness                0.008807\n",
       "loudness                       -5.957933\n",
       "liveness                        0.165035\n",
       "duration_ms                188330.800000\n",
       "key                             5.333333\n",
       "valence                         0.546085\n",
       "speechiness                     0.119236"
      ],
      "text/html": "<div>\n<style scoped>\n    .dataframe tbody tr th:only-of-type {\n        vertical-align: middle;\n    }\n\n    .dataframe tbody tr th {\n        vertical-align: top;\n    }\n\n    .dataframe thead th {\n        text-align: right;\n    }\n</style>\n<table border=\"1\" class=\"dataframe\">\n  <thead>\n    <tr style=\"text-align: right;\">\n      <th></th>\n      <th>37i9dQZF1DXbYM3nMM0oPk</th>\n    </tr>\n  </thead>\n  <tbody>\n    <tr>\n      <th>danceability</th>\n      <td>0.709640</td>\n    </tr>\n    <tr>\n      <th>acousticness</th>\n      <td>0.178981</td>\n    </tr>\n    <tr>\n      <th>energy</th>\n      <td>0.647813</td>\n    </tr>\n    <tr>\n      <th>tempo</th>\n      <td>120.666040</td>\n    </tr>\n    <tr>\n      <th>instrumentalness</th>\n      <td>0.008807</td>\n    </tr>\n    <tr>\n      <th>loudness</th>\n      <td>-5.957933</td>\n    </tr>\n    <tr>\n      <th>liveness</th>\n      <td>0.165035</td>\n    </tr>\n    <tr>\n      <th>duration_ms</th>\n      <td>188330.800000</td>\n    </tr>\n    <tr>\n      <th>key</th>\n      <td>5.333333</td>\n    </tr>\n    <tr>\n      <th>valence</th>\n      <td>0.546085</td>\n    </tr>\n    <tr>\n      <th>speechiness</th>\n      <td>0.119236</td>\n    </tr>\n  </tbody>\n</table>\n</div>"
     },
     "metadata": {},
     "execution_count": 75
    }
   ],
   "source": [
    "audio_features_mean(sp, '37i9dQZF1DXbYM3nMM0oPk')"
   ]
  },
  {
   "cell_type": "code",
   "execution_count": 76,
   "metadata": {},
   "outputs": [],
   "source": [
    "# Merges average of audio features of each playlist into a single DataFrame\n",
    "primary_df = []\n",
    "for i in range(len(df_pl_data)):\n",
    "    primary_df.append(audio_features_mean(sp, df_pl_data['id'][i]))"
   ]
  },
  {
   "cell_type": "code",
   "execution_count": 77,
   "metadata": {},
   "outputs": [
    {
     "output_type": "execute_result",
     "data": {
      "text/plain": [
       "[                  37i9dQZF1DXbYM3nMM0oPk\n",
       " danceability                    0.709640\n",
       " acousticness                    0.178981\n",
       " energy                          0.647813\n",
       " tempo                         120.666040\n",
       " instrumentalness                0.008807\n",
       " loudness                       -5.957933\n",
       " liveness                        0.165035\n",
       " duration_ms                188330.800000\n",
       " key                             5.333333\n",
       " valence                         0.546085\n",
       " speechiness                     0.119236,\n",
       "                   37i9dQZF1DXatMjChPKgBk\n",
       " danceability                    0.598160\n",
       " acousticness                    0.562616\n",
       " energy                          0.392099\n",
       " tempo                         110.214330\n",
       " instrumentalness                0.011643\n",
       " loudness                       -9.402780\n",
       " liveness                        0.142804\n",
       " duration_ms                209992.550000\n",
       " key                             4.640000\n",
       " valence                         0.400028\n",
       " speechiness                     0.050146,\n",
       "                   37i9dQZF1DWYgsiQBNyGuA\n",
       " danceability                    0.684975\n",
       " acousticness                    0.229380\n",
       " energy                          0.597813\n",
       " tempo                         112.002063\n",
       " instrumentalness                0.065591\n",
       " loudness                       -7.559575\n",
       " liveness                        0.157073\n",
       " duration_ms                248808.825000\n",
       " key                             5.962500\n",
       " valence                         0.666775\n",
       " speechiness                     0.072606,\n",
       "                   37i9dQZF1DWYWddJiPzbvb\n",
       " danceability                    0.648130\n",
       " acousticness                    0.324553\n",
       " energy                          0.556375\n",
       " tempo                         116.989920\n",
       " instrumentalness                0.013410\n",
       " loudness                       -6.694580\n",
       " liveness                        0.134165\n",
       " duration_ms                210468.610000\n",
       " key                             4.930000\n",
       " valence                         0.419360\n",
       " speechiness                     0.083104,\n",
       "                   37i9dQZF1DWZd79rJ6a7lp\n",
       " danceability                    0.160678\n",
       " acousticness                    0.944250\n",
       " energy                          0.032744\n",
       " tempo                          81.433500\n",
       " instrumentalness                0.883610\n",
       " loudness                      -31.683130\n",
       " liveness                        0.106823\n",
       " duration_ms                185802.540000\n",
       " key                             5.060000\n",
       " valence                         0.077998\n",
       " speechiness                     0.041315,\n",
       "                   37i9dQZF1DWZ0OzPeadl0h\n",
       " danceability                    0.501434\n",
       " acousticness                    0.722329\n",
       " energy                          0.334188\n",
       " tempo                         120.603465\n",
       " instrumentalness                0.166434\n",
       " loudness                      -12.259606\n",
       " liveness                        0.134213\n",
       " duration_ms                235180.070707\n",
       " key                             4.979798\n",
       " valence                         0.211603\n",
       " speechiness                     0.046678,\n",
       "                   37i9dQZF1DWStLt4f1zJ6I\n",
       " danceability                    0.419300\n",
       " acousticness                    0.953475\n",
       " energy                          0.078623\n",
       " tempo                         101.145232\n",
       " instrumentalness                0.922566\n",
       " loudness                      -23.431899\n",
       " liveness                        0.112460\n",
       " duration_ms                204477.262626\n",
       " key                             4.313131\n",
       " valence                         0.195108\n",
       " speechiness                     0.053126,\n",
       "                   37i9dQZF1DX0QKpU3cGsyb\n",
       " danceability                    0.624714\n",
       " acousticness                    0.330599\n",
       " energy                          0.515786\n",
       " tempo                         117.082914\n",
       " instrumentalness                0.003760\n",
       " loudness                       -8.000343\n",
       " liveness                        0.164307\n",
       " duration_ms                204737.700000\n",
       " key                             5.285714\n",
       " valence                         0.424427\n",
       " speechiness                     0.102944,\n",
       "                   37i9dQZF1DWU0ScTcjJBdj\n",
       " danceability                    0.521320\n",
       " acousticness                    0.695853\n",
       " energy                          0.363995\n",
       " tempo                         117.174500\n",
       " instrumentalness                0.074661\n",
       " loudness                      -11.082280\n",
       " liveness                        0.155497\n",
       " duration_ms                241161.370000\n",
       " key                             5.810000\n",
       " valence                         0.297808\n",
       " speechiness                     0.038116,\n",
       "                   37i9dQZF1DWTwnEm1IYyoj\n",
       " danceability                    0.606130\n",
       " acousticness                    0.358673\n",
       " energy                          0.554328\n",
       " tempo                         113.626660\n",
       " instrumentalness                0.009761\n",
       " loudness                       -6.714250\n",
       " liveness                        0.133532\n",
       " duration_ms                224676.710000\n",
       " key                             5.490000\n",
       " valence                         0.416086\n",
       " speechiness                     0.057889,\n",
       "                   37i9dQZF1DXcxvFzl58uP7\n",
       " danceability                    0.677370\n",
       " acousticness                    0.387600\n",
       " energy                          0.527340\n",
       " tempo                         118.548050\n",
       " instrumentalness                0.060106\n",
       " loudness                       -8.754250\n",
       " liveness                        0.179815\n",
       " duration_ms                177599.110000\n",
       " key                             4.810000\n",
       " valence                         0.545914\n",
       " speechiness                     0.085872,\n",
       "                   37i9dQZF1DX79Y9Kr2M2tM\n",
       " danceability                    0.474828\n",
       " acousticness                    0.731772\n",
       " energy                          0.328660\n",
       " tempo                         113.674929\n",
       " instrumentalness                0.219547\n",
       " loudness                      -12.737990\n",
       " liveness                        0.129309\n",
       " duration_ms                227599.242424\n",
       " key                             4.686869\n",
       " valence                         0.206508\n",
       " speechiness                     0.035442]"
      ]
     },
     "metadata": {},
     "execution_count": 77
    }
   ],
   "source": [
    "primary_df"
   ]
  },
  {
   "cell_type": "code",
   "execution_count": 78,
   "metadata": {},
   "outputs": [
    {
     "output_type": "execute_result",
     "data": {
      "text/plain": [
       "                  37i9dQZF1DXbYM3nMM0oPk  37i9dQZF1DXatMjChPKgBk  \\\n",
       "danceability                    0.709640                0.598160   \n",
       "acousticness                    0.178981                0.562616   \n",
       "energy                          0.647813                0.392099   \n",
       "tempo                         120.666040              110.214330   \n",
       "instrumentalness                0.008807                0.011643   \n",
       "loudness                       -5.957933               -9.402780   \n",
       "liveness                        0.165035                0.142804   \n",
       "duration_ms                188330.800000           209992.550000   \n",
       "key                             5.333333                4.640000   \n",
       "valence                         0.546085                0.400028   \n",
       "speechiness                     0.119236                0.050146   \n",
       "\n",
       "                  37i9dQZF1DWYgsiQBNyGuA  37i9dQZF1DWYWddJiPzbvb  \\\n",
       "danceability                    0.684975                0.648130   \n",
       "acousticness                    0.229380                0.324553   \n",
       "energy                          0.597813                0.556375   \n",
       "tempo                         112.002063              116.989920   \n",
       "instrumentalness                0.065591                0.013410   \n",
       "loudness                       -7.559575               -6.694580   \n",
       "liveness                        0.157073                0.134165   \n",
       "duration_ms                248808.825000           210468.610000   \n",
       "key                             5.962500                4.930000   \n",
       "valence                         0.666775                0.419360   \n",
       "speechiness                     0.072606                0.083104   \n",
       "\n",
       "                  37i9dQZF1DWZd79rJ6a7lp  37i9dQZF1DWZ0OzPeadl0h  \\\n",
       "danceability                    0.160678                0.501434   \n",
       "acousticness                    0.944250                0.722329   \n",
       "energy                          0.032744                0.334188   \n",
       "tempo                          81.433500              120.603465   \n",
       "instrumentalness                0.883610                0.166434   \n",
       "loudness                      -31.683130              -12.259606   \n",
       "liveness                        0.106823                0.134213   \n",
       "duration_ms                185802.540000           235180.070707   \n",
       "key                             5.060000                4.979798   \n",
       "valence                         0.077998                0.211603   \n",
       "speechiness                     0.041315                0.046678   \n",
       "\n",
       "                  37i9dQZF1DWStLt4f1zJ6I  37i9dQZF1DX0QKpU3cGsyb  \\\n",
       "danceability                    0.419300                0.624714   \n",
       "acousticness                    0.953475                0.330599   \n",
       "energy                          0.078623                0.515786   \n",
       "tempo                         101.145232              117.082914   \n",
       "instrumentalness                0.922566                0.003760   \n",
       "loudness                      -23.431899               -8.000343   \n",
       "liveness                        0.112460                0.164307   \n",
       "duration_ms                204477.262626           204737.700000   \n",
       "key                             4.313131                5.285714   \n",
       "valence                         0.195108                0.424427   \n",
       "speechiness                     0.053126                0.102944   \n",
       "\n",
       "                  37i9dQZF1DWU0ScTcjJBdj  37i9dQZF1DWTwnEm1IYyoj  \\\n",
       "danceability                    0.521320                0.606130   \n",
       "acousticness                    0.695853                0.358673   \n",
       "energy                          0.363995                0.554328   \n",
       "tempo                         117.174500              113.626660   \n",
       "instrumentalness                0.074661                0.009761   \n",
       "loudness                      -11.082280               -6.714250   \n",
       "liveness                        0.155497                0.133532   \n",
       "duration_ms                241161.370000           224676.710000   \n",
       "key                             5.810000                5.490000   \n",
       "valence                         0.297808                0.416086   \n",
       "speechiness                     0.038116                0.057889   \n",
       "\n",
       "                  37i9dQZF1DXcxvFzl58uP7  37i9dQZF1DX79Y9Kr2M2tM  \n",
       "danceability                    0.677370                0.474828  \n",
       "acousticness                    0.387600                0.731772  \n",
       "energy                          0.527340                0.328660  \n",
       "tempo                         118.548050              113.674929  \n",
       "instrumentalness                0.060106                0.219547  \n",
       "loudness                       -8.754250              -12.737990  \n",
       "liveness                        0.179815                0.129309  \n",
       "duration_ms                177599.110000           227599.242424  \n",
       "key                             4.810000                4.686869  \n",
       "valence                         0.545914                0.206508  \n",
       "speechiness                     0.085872                0.035442  "
      ],
      "text/html": "<div>\n<style scoped>\n    .dataframe tbody tr th:only-of-type {\n        vertical-align: middle;\n    }\n\n    .dataframe tbody tr th {\n        vertical-align: top;\n    }\n\n    .dataframe thead th {\n        text-align: right;\n    }\n</style>\n<table border=\"1\" class=\"dataframe\">\n  <thead>\n    <tr style=\"text-align: right;\">\n      <th></th>\n      <th>37i9dQZF1DXbYM3nMM0oPk</th>\n      <th>37i9dQZF1DXatMjChPKgBk</th>\n      <th>37i9dQZF1DWYgsiQBNyGuA</th>\n      <th>37i9dQZF1DWYWddJiPzbvb</th>\n      <th>37i9dQZF1DWZd79rJ6a7lp</th>\n      <th>37i9dQZF1DWZ0OzPeadl0h</th>\n      <th>37i9dQZF1DWStLt4f1zJ6I</th>\n      <th>37i9dQZF1DX0QKpU3cGsyb</th>\n      <th>37i9dQZF1DWU0ScTcjJBdj</th>\n      <th>37i9dQZF1DWTwnEm1IYyoj</th>\n      <th>37i9dQZF1DXcxvFzl58uP7</th>\n      <th>37i9dQZF1DX79Y9Kr2M2tM</th>\n    </tr>\n  </thead>\n  <tbody>\n    <tr>\n      <th>danceability</th>\n      <td>0.709640</td>\n      <td>0.598160</td>\n      <td>0.684975</td>\n      <td>0.648130</td>\n      <td>0.160678</td>\n      <td>0.501434</td>\n      <td>0.419300</td>\n      <td>0.624714</td>\n      <td>0.521320</td>\n      <td>0.606130</td>\n      <td>0.677370</td>\n      <td>0.474828</td>\n    </tr>\n    <tr>\n      <th>acousticness</th>\n      <td>0.178981</td>\n      <td>0.562616</td>\n      <td>0.229380</td>\n      <td>0.324553</td>\n      <td>0.944250</td>\n      <td>0.722329</td>\n      <td>0.953475</td>\n      <td>0.330599</td>\n      <td>0.695853</td>\n      <td>0.358673</td>\n      <td>0.387600</td>\n      <td>0.731772</td>\n    </tr>\n    <tr>\n      <th>energy</th>\n      <td>0.647813</td>\n      <td>0.392099</td>\n      <td>0.597813</td>\n      <td>0.556375</td>\n      <td>0.032744</td>\n      <td>0.334188</td>\n      <td>0.078623</td>\n      <td>0.515786</td>\n      <td>0.363995</td>\n      <td>0.554328</td>\n      <td>0.527340</td>\n      <td>0.328660</td>\n    </tr>\n    <tr>\n      <th>tempo</th>\n      <td>120.666040</td>\n      <td>110.214330</td>\n      <td>112.002063</td>\n      <td>116.989920</td>\n      <td>81.433500</td>\n      <td>120.603465</td>\n      <td>101.145232</td>\n      <td>117.082914</td>\n      <td>117.174500</td>\n      <td>113.626660</td>\n      <td>118.548050</td>\n      <td>113.674929</td>\n    </tr>\n    <tr>\n      <th>instrumentalness</th>\n      <td>0.008807</td>\n      <td>0.011643</td>\n      <td>0.065591</td>\n      <td>0.013410</td>\n      <td>0.883610</td>\n      <td>0.166434</td>\n      <td>0.922566</td>\n      <td>0.003760</td>\n      <td>0.074661</td>\n      <td>0.009761</td>\n      <td>0.060106</td>\n      <td>0.219547</td>\n    </tr>\n    <tr>\n      <th>loudness</th>\n      <td>-5.957933</td>\n      <td>-9.402780</td>\n      <td>-7.559575</td>\n      <td>-6.694580</td>\n      <td>-31.683130</td>\n      <td>-12.259606</td>\n      <td>-23.431899</td>\n      <td>-8.000343</td>\n      <td>-11.082280</td>\n      <td>-6.714250</td>\n      <td>-8.754250</td>\n      <td>-12.737990</td>\n    </tr>\n    <tr>\n      <th>liveness</th>\n      <td>0.165035</td>\n      <td>0.142804</td>\n      <td>0.157073</td>\n      <td>0.134165</td>\n      <td>0.106823</td>\n      <td>0.134213</td>\n      <td>0.112460</td>\n      <td>0.164307</td>\n      <td>0.155497</td>\n      <td>0.133532</td>\n      <td>0.179815</td>\n      <td>0.129309</td>\n    </tr>\n    <tr>\n      <th>duration_ms</th>\n      <td>188330.800000</td>\n      <td>209992.550000</td>\n      <td>248808.825000</td>\n      <td>210468.610000</td>\n      <td>185802.540000</td>\n      <td>235180.070707</td>\n      <td>204477.262626</td>\n      <td>204737.700000</td>\n      <td>241161.370000</td>\n      <td>224676.710000</td>\n      <td>177599.110000</td>\n      <td>227599.242424</td>\n    </tr>\n    <tr>\n      <th>key</th>\n      <td>5.333333</td>\n      <td>4.640000</td>\n      <td>5.962500</td>\n      <td>4.930000</td>\n      <td>5.060000</td>\n      <td>4.979798</td>\n      <td>4.313131</td>\n      <td>5.285714</td>\n      <td>5.810000</td>\n      <td>5.490000</td>\n      <td>4.810000</td>\n      <td>4.686869</td>\n    </tr>\n    <tr>\n      <th>valence</th>\n      <td>0.546085</td>\n      <td>0.400028</td>\n      <td>0.666775</td>\n      <td>0.419360</td>\n      <td>0.077998</td>\n      <td>0.211603</td>\n      <td>0.195108</td>\n      <td>0.424427</td>\n      <td>0.297808</td>\n      <td>0.416086</td>\n      <td>0.545914</td>\n      <td>0.206508</td>\n    </tr>\n    <tr>\n      <th>speechiness</th>\n      <td>0.119236</td>\n      <td>0.050146</td>\n      <td>0.072606</td>\n      <td>0.083104</td>\n      <td>0.041315</td>\n      <td>0.046678</td>\n      <td>0.053126</td>\n      <td>0.102944</td>\n      <td>0.038116</td>\n      <td>0.057889</td>\n      <td>0.085872</td>\n      <td>0.035442</td>\n    </tr>\n  </tbody>\n</table>\n</div>"
     },
     "metadata": {},
     "execution_count": 78
    }
   ],
   "source": [
    "# Turns playlist feature mean data into correctly formatted DataFrame\n",
    "X_data = reduce(lambda left,right: pd.merge(left,right, left_index=True, right_index=True), primary_df)\n",
    "X_data"
   ]
  },
  {
   "cell_type": "code",
   "execution_count": 79,
   "metadata": {},
   "outputs": [
    {
     "output_type": "execute_result",
     "data": {
      "text/plain": [
       "                     top_tracks\n",
       "acousticness           0.038250\n",
       "danceability           0.655500\n",
       "duration_ms       204280.000000\n",
       "energy                 0.701500\n",
       "instrumentalness       0.000695\n",
       "key                    7.000000\n",
       "liveness               0.127500\n",
       "loudness              -5.165500\n",
       "speechiness            0.060100\n",
       "tempo                120.641500\n",
       "valence                0.542000"
      ],
      "text/html": "<div>\n<style scoped>\n    .dataframe tbody tr th:only-of-type {\n        vertical-align: middle;\n    }\n\n    .dataframe tbody tr th {\n        vertical-align: top;\n    }\n\n    .dataframe thead th {\n        text-align: right;\n    }\n</style>\n<table border=\"1\" class=\"dataframe\">\n  <thead>\n    <tr style=\"text-align: right;\">\n      <th></th>\n      <th>top_tracks</th>\n    </tr>\n  </thead>\n  <tbody>\n    <tr>\n      <th>acousticness</th>\n      <td>0.038250</td>\n    </tr>\n    <tr>\n      <th>danceability</th>\n      <td>0.655500</td>\n    </tr>\n    <tr>\n      <th>duration_ms</th>\n      <td>204280.000000</td>\n    </tr>\n    <tr>\n      <th>energy</th>\n      <td>0.701500</td>\n    </tr>\n    <tr>\n      <th>instrumentalness</th>\n      <td>0.000695</td>\n    </tr>\n    <tr>\n      <th>key</th>\n      <td>7.000000</td>\n    </tr>\n    <tr>\n      <th>liveness</th>\n      <td>0.127500</td>\n    </tr>\n    <tr>\n      <th>loudness</th>\n      <td>-5.165500</td>\n    </tr>\n    <tr>\n      <th>speechiness</th>\n      <td>0.060100</td>\n    </tr>\n    <tr>\n      <th>tempo</th>\n      <td>120.641500</td>\n    </tr>\n    <tr>\n      <th>valence</th>\n      <td>0.542000</td>\n    </tr>\n  </tbody>\n</table>\n</div>"
     },
     "metadata": {},
     "execution_count": 79
    }
   ],
   "source": [
    "# Turns my favorite track data (Y_data) into a DataFrame with audio features averaged\n",
    "# maybe change mean to median\n",
    "instrumental_mean = top_tracks_df['instrumentalness'].mean()\n",
    "Y_data = pd.DataFrame(top_tracks_df.median(), columns=['top_tracks']).drop('mode')\n",
    "Y_data.loc['instrumentalness'] = instrumental_mean\n",
    "Y_data"
   ]
  },
  {
   "cell_type": "code",
   "execution_count": 80,
   "metadata": {},
   "outputs": [
    {
     "output_type": "execute_result",
     "data": {
      "text/plain": [
       "                        importance\n",
       "37i9dQZF1DWZd79rJ6a7lp    0.323325\n",
       "37i9dQZF1DWStLt4f1zJ6I    0.130319\n",
       "37i9dQZF1DWYgsiQBNyGuA    0.106142\n",
       "37i9dQZF1DXatMjChPKgBk    0.075573\n",
       "37i9dQZF1DWYWddJiPzbvb    0.071162\n",
       "37i9dQZF1DX79Y9Kr2M2tM    0.064198\n",
       "37i9dQZF1DX0QKpU3cGsyb    0.048261\n",
       "37i9dQZF1DXbYM3nMM0oPk    0.045988\n",
       "37i9dQZF1DWTwnEm1IYyoj    0.043980\n",
       "37i9dQZF1DWZ0OzPeadl0h    0.042593\n",
       "37i9dQZF1DXcxvFzl58uP7    0.029304\n",
       "37i9dQZF1DWU0ScTcjJBdj    0.019156"
      ],
      "text/html": "<div>\n<style scoped>\n    .dataframe tbody tr th:only-of-type {\n        vertical-align: middle;\n    }\n\n    .dataframe tbody tr th {\n        vertical-align: top;\n    }\n\n    .dataframe thead th {\n        text-align: right;\n    }\n</style>\n<table border=\"1\" class=\"dataframe\">\n  <thead>\n    <tr style=\"text-align: right;\">\n      <th></th>\n      <th>importance</th>\n    </tr>\n  </thead>\n  <tbody>\n    <tr>\n      <th>37i9dQZF1DWZd79rJ6a7lp</th>\n      <td>0.323325</td>\n    </tr>\n    <tr>\n      <th>37i9dQZF1DWStLt4f1zJ6I</th>\n      <td>0.130319</td>\n    </tr>\n    <tr>\n      <th>37i9dQZF1DWYgsiQBNyGuA</th>\n      <td>0.106142</td>\n    </tr>\n    <tr>\n      <th>37i9dQZF1DXatMjChPKgBk</th>\n      <td>0.075573</td>\n    </tr>\n    <tr>\n      <th>37i9dQZF1DWYWddJiPzbvb</th>\n      <td>0.071162</td>\n    </tr>\n    <tr>\n      <th>37i9dQZF1DX79Y9Kr2M2tM</th>\n      <td>0.064198</td>\n    </tr>\n    <tr>\n      <th>37i9dQZF1DX0QKpU3cGsyb</th>\n      <td>0.048261</td>\n    </tr>\n    <tr>\n      <th>37i9dQZF1DXbYM3nMM0oPk</th>\n      <td>0.045988</td>\n    </tr>\n    <tr>\n      <th>37i9dQZF1DWTwnEm1IYyoj</th>\n      <td>0.043980</td>\n    </tr>\n    <tr>\n      <th>37i9dQZF1DWZ0OzPeadl0h</th>\n      <td>0.042593</td>\n    </tr>\n    <tr>\n      <th>37i9dQZF1DXcxvFzl58uP7</th>\n      <td>0.029304</td>\n    </tr>\n    <tr>\n      <th>37i9dQZF1DWU0ScTcjJBdj</th>\n      <td>0.019156</td>\n    </tr>\n  </tbody>\n</table>\n</div>"
     },
     "metadata": {},
     "execution_count": 80
    }
   ],
   "source": [
    "# Model for predicting playlist of \"best-fit\" using feature_importances_\n",
    "from sklearn.ensemble import RandomForestRegressor\n",
    "\n",
    "model = RandomForestRegressor(random_state=44, max_depth=5, max_features=8, oob_score=True)\n",
    "model.fit(X_data, Y_data['top_tracks'])\n",
    "pl_rank = model.feature_importances_\n",
    "pl_importances = pd.DataFrame(pl_rank, index = X_data.columns, columns=['importance']).sort_values('importance',                                        ascending=False)\n",
    "\n",
    "pl_importances"
   ]
  },
  {
   "cell_type": "code",
   "execution_count": 81,
   "metadata": {},
   "outputs": [],
   "source": [
    "pl_t3 = pl_importances.index[0:3]\n",
    "frames = []\n",
    "for i in range(len(pl_t3)):\n",
    "    frame = get_audio_features(sp, pl_t3[i])\n",
    "    frames.append(frame)\n",
    "    \n",
    "recommended_pl = pd.concat(frames)"
   ]
  },
  {
   "cell_type": "code",
   "execution_count": 82,
   "metadata": {},
   "outputs": [
    {
     "output_type": "execute_result",
     "data": {
      "text/plain": [
       "                                     track_id  danceability  acousticness  \\\n",
       "track_name                                                                  \n",
       "Viento Estelar         0f5IlhiVWUUq4SGHyrRxIt         0.141         0.965   \n",
       "Beautiful Imagination  5LEHlRPjGcZ5RdagAwXpHS         0.102         0.797   \n",
       "Nepenthe               0kKOC50fPTnqmrYvtJInsT         0.133         0.993   \n",
       "Lenitivo               6PEwEkL4lzRbGMGH7j7kBB         0.183         0.987   \n",
       "Campus                 2PUoynqedBx15JbPYxzA5v         0.145         0.878   \n",
       "\n",
       "                        energy   tempo  instrumentalness  loudness  liveness  \\\n",
       "track_name                                                                     \n",
       "Viento Estelar         0.04050  59.418             0.966   -29.013    0.0983   \n",
       "Beautiful Imagination  0.03330  89.605             0.927   -34.177    0.1110   \n",
       "Nepenthe               0.00512  67.818             0.851   -33.295    0.0954   \n",
       "Lenitivo               0.01230  72.183             0.785   -34.571    0.0869   \n",
       "Campus                 0.01150  72.120             0.855   -28.292    0.1220   \n",
       "\n",
       "                       duration_ms  key  valence  speechiness  \n",
       "track_name                                                     \n",
       "Viento Estelar              185943    3   0.0378       0.0382  \n",
       "Beautiful Imagination       143053    3   0.0591       0.0476  \n",
       "Nepenthe                    151750    9   0.0495       0.0380  \n",
       "Lenitivo                    180625    9   0.0636       0.0409  \n",
       "Campus                      219474    0   0.0320       0.0421  "
      ],
      "text/html": "<div>\n<style scoped>\n    .dataframe tbody tr th:only-of-type {\n        vertical-align: middle;\n    }\n\n    .dataframe tbody tr th {\n        vertical-align: top;\n    }\n\n    .dataframe thead th {\n        text-align: right;\n    }\n</style>\n<table border=\"1\" class=\"dataframe\">\n  <thead>\n    <tr style=\"text-align: right;\">\n      <th></th>\n      <th>track_id</th>\n      <th>danceability</th>\n      <th>acousticness</th>\n      <th>energy</th>\n      <th>tempo</th>\n      <th>instrumentalness</th>\n      <th>loudness</th>\n      <th>liveness</th>\n      <th>duration_ms</th>\n      <th>key</th>\n      <th>valence</th>\n      <th>speechiness</th>\n    </tr>\n    <tr>\n      <th>track_name</th>\n      <th></th>\n      <th></th>\n      <th></th>\n      <th></th>\n      <th></th>\n      <th></th>\n      <th></th>\n      <th></th>\n      <th></th>\n      <th></th>\n      <th></th>\n      <th></th>\n    </tr>\n  </thead>\n  <tbody>\n    <tr>\n      <th>Viento Estelar</th>\n      <td>0f5IlhiVWUUq4SGHyrRxIt</td>\n      <td>0.141</td>\n      <td>0.965</td>\n      <td>0.04050</td>\n      <td>59.418</td>\n      <td>0.966</td>\n      <td>-29.013</td>\n      <td>0.0983</td>\n      <td>185943</td>\n      <td>3</td>\n      <td>0.0378</td>\n      <td>0.0382</td>\n    </tr>\n    <tr>\n      <th>Beautiful Imagination</th>\n      <td>5LEHlRPjGcZ5RdagAwXpHS</td>\n      <td>0.102</td>\n      <td>0.797</td>\n      <td>0.03330</td>\n      <td>89.605</td>\n      <td>0.927</td>\n      <td>-34.177</td>\n      <td>0.1110</td>\n      <td>143053</td>\n      <td>3</td>\n      <td>0.0591</td>\n      <td>0.0476</td>\n    </tr>\n    <tr>\n      <th>Nepenthe</th>\n      <td>0kKOC50fPTnqmrYvtJInsT</td>\n      <td>0.133</td>\n      <td>0.993</td>\n      <td>0.00512</td>\n      <td>67.818</td>\n      <td>0.851</td>\n      <td>-33.295</td>\n      <td>0.0954</td>\n      <td>151750</td>\n      <td>9</td>\n      <td>0.0495</td>\n      <td>0.0380</td>\n    </tr>\n    <tr>\n      <th>Lenitivo</th>\n      <td>6PEwEkL4lzRbGMGH7j7kBB</td>\n      <td>0.183</td>\n      <td>0.987</td>\n      <td>0.01230</td>\n      <td>72.183</td>\n      <td>0.785</td>\n      <td>-34.571</td>\n      <td>0.0869</td>\n      <td>180625</td>\n      <td>9</td>\n      <td>0.0636</td>\n      <td>0.0409</td>\n    </tr>\n    <tr>\n      <th>Campus</th>\n      <td>2PUoynqedBx15JbPYxzA5v</td>\n      <td>0.145</td>\n      <td>0.878</td>\n      <td>0.01150</td>\n      <td>72.120</td>\n      <td>0.855</td>\n      <td>-28.292</td>\n      <td>0.1220</td>\n      <td>219474</td>\n      <td>0</td>\n      <td>0.0320</td>\n      <td>0.0421</td>\n    </tr>\n  </tbody>\n</table>\n</div>"
     },
     "metadata": {},
     "execution_count": 82
    }
   ],
   "source": [
    "recommended_pl.head()"
   ]
  },
  {
   "cell_type": "code",
   "execution_count": 83,
   "metadata": {},
   "outputs": [
    {
     "output_type": "execute_result",
     "data": {
      "text/plain": [
       "                        acousticness  danceability  duration_ms   energy  \\\n",
       "track_id                                                                   \n",
       "0f5IlhiVWUUq4SGHyrRxIt         0.965         0.141       185943  0.04050   \n",
       "5LEHlRPjGcZ5RdagAwXpHS         0.797         0.102       143053  0.03330   \n",
       "0kKOC50fPTnqmrYvtJInsT         0.993         0.133       151750  0.00512   \n",
       "6PEwEkL4lzRbGMGH7j7kBB         0.987         0.183       180625  0.01230   \n",
       "2PUoynqedBx15JbPYxzA5v         0.878         0.145       219474  0.01150   \n",
       "\n",
       "                        instrumentalness  key  liveness  loudness  \\\n",
       "track_id                                                            \n",
       "0f5IlhiVWUUq4SGHyrRxIt             0.966    3    0.0983   -29.013   \n",
       "5LEHlRPjGcZ5RdagAwXpHS             0.927    3    0.1110   -34.177   \n",
       "0kKOC50fPTnqmrYvtJInsT             0.851    9    0.0954   -33.295   \n",
       "6PEwEkL4lzRbGMGH7j7kBB             0.785    9    0.0869   -34.571   \n",
       "2PUoynqedBx15JbPYxzA5v             0.855    0    0.1220   -28.292   \n",
       "\n",
       "                        speechiness   tempo  valence  \n",
       "track_id                                              \n",
       "0f5IlhiVWUUq4SGHyrRxIt       0.0382  59.418   0.0378  \n",
       "5LEHlRPjGcZ5RdagAwXpHS       0.0476  89.605   0.0591  \n",
       "0kKOC50fPTnqmrYvtJInsT       0.0380  67.818   0.0495  \n",
       "6PEwEkL4lzRbGMGH7j7kBB       0.0409  72.183   0.0636  \n",
       "2PUoynqedBx15JbPYxzA5v       0.0421  72.120   0.0320  "
      ],
      "text/html": "<div>\n<style scoped>\n    .dataframe tbody tr th:only-of-type {\n        vertical-align: middle;\n    }\n\n    .dataframe tbody tr th {\n        vertical-align: top;\n    }\n\n    .dataframe thead th {\n        text-align: right;\n    }\n</style>\n<table border=\"1\" class=\"dataframe\">\n  <thead>\n    <tr style=\"text-align: right;\">\n      <th></th>\n      <th>acousticness</th>\n      <th>danceability</th>\n      <th>duration_ms</th>\n      <th>energy</th>\n      <th>instrumentalness</th>\n      <th>key</th>\n      <th>liveness</th>\n      <th>loudness</th>\n      <th>speechiness</th>\n      <th>tempo</th>\n      <th>valence</th>\n    </tr>\n    <tr>\n      <th>track_id</th>\n      <th></th>\n      <th></th>\n      <th></th>\n      <th></th>\n      <th></th>\n      <th></th>\n      <th></th>\n      <th></th>\n      <th></th>\n      <th></th>\n      <th></th>\n    </tr>\n  </thead>\n  <tbody>\n    <tr>\n      <th>0f5IlhiVWUUq4SGHyrRxIt</th>\n      <td>0.965</td>\n      <td>0.141</td>\n      <td>185943</td>\n      <td>0.04050</td>\n      <td>0.966</td>\n      <td>3</td>\n      <td>0.0983</td>\n      <td>-29.013</td>\n      <td>0.0382</td>\n      <td>59.418</td>\n      <td>0.0378</td>\n    </tr>\n    <tr>\n      <th>5LEHlRPjGcZ5RdagAwXpHS</th>\n      <td>0.797</td>\n      <td>0.102</td>\n      <td>143053</td>\n      <td>0.03330</td>\n      <td>0.927</td>\n      <td>3</td>\n      <td>0.1110</td>\n      <td>-34.177</td>\n      <td>0.0476</td>\n      <td>89.605</td>\n      <td>0.0591</td>\n    </tr>\n    <tr>\n      <th>0kKOC50fPTnqmrYvtJInsT</th>\n      <td>0.993</td>\n      <td>0.133</td>\n      <td>151750</td>\n      <td>0.00512</td>\n      <td>0.851</td>\n      <td>9</td>\n      <td>0.0954</td>\n      <td>-33.295</td>\n      <td>0.0380</td>\n      <td>67.818</td>\n      <td>0.0495</td>\n    </tr>\n    <tr>\n      <th>6PEwEkL4lzRbGMGH7j7kBB</th>\n      <td>0.987</td>\n      <td>0.183</td>\n      <td>180625</td>\n      <td>0.01230</td>\n      <td>0.785</td>\n      <td>9</td>\n      <td>0.0869</td>\n      <td>-34.571</td>\n      <td>0.0409</td>\n      <td>72.183</td>\n      <td>0.0636</td>\n    </tr>\n    <tr>\n      <th>2PUoynqedBx15JbPYxzA5v</th>\n      <td>0.878</td>\n      <td>0.145</td>\n      <td>219474</td>\n      <td>0.01150</td>\n      <td>0.855</td>\n      <td>0</td>\n      <td>0.1220</td>\n      <td>-28.292</td>\n      <td>0.0421</td>\n      <td>72.120</td>\n      <td>0.0320</td>\n    </tr>\n  </tbody>\n</table>\n</div>"
     },
     "metadata": {},
     "execution_count": 83
    }
   ],
   "source": [
    "pl_rec = recommended_pl.set_index('track_id')\n",
    "pl_rec.sort_index( axis=1, level=None, ascending=True, inplace=True, kind='quicksort')\n",
    "\n",
    "pl_rec.head()"
   ]
  },
  {
   "cell_type": "code",
   "execution_count": 84,
   "metadata": {},
   "outputs": [
    {
     "output_type": "execute_result",
     "data": {
      "text/plain": [
       "(11,)"
      ]
     },
     "metadata": {},
     "execution_count": 84
    }
   ],
   "source": [
    "Y_data_sorted = Y_data.sort_index( axis=0, level=None, ascending=True, inplace=False, kind='quicksort').squeeze(1)\n",
    "\n",
    "Y_data_sorted.shape"
   ]
  },
  {
   "cell_type": "code",
   "execution_count": 85,
   "metadata": {},
   "outputs": [
    {
     "output_type": "execute_result",
     "data": {
      "text/plain": [
       "acousticness             0.038250\n",
       "danceability             0.655500\n",
       "duration_ms         204280.000000\n",
       "energy                   0.701500\n",
       "instrumentalness         0.000695\n",
       "key                      7.000000\n",
       "liveness                 0.127500\n",
       "loudness                -5.165500\n",
       "speechiness              0.060100\n",
       "tempo                  120.641500\n",
       "valence                  0.542000\n",
       "Name: top_tracks, dtype: float64"
      ]
     },
     "metadata": {},
     "execution_count": 85
    }
   ],
   "source": [
    "Y_data_sorted"
   ]
  },
  {
   "cell_type": "code",
   "execution_count": 86,
   "metadata": {},
   "outputs": [
    {
     "output_type": "execute_result",
     "data": {
      "text/plain": [
       "                        acousticness  danceability  duration_ms    energy  \\\n",
       "track_id                                                                    \n",
       "0f5IlhiVWUUq4SGHyrRxIt     24.228758     -0.784897    -0.089764 -0.942267   \n",
       "5LEHlRPjGcZ5RdagAwXpHS     19.836601     -0.844394    -0.299721 -0.952530   \n",
       "0kKOC50fPTnqmrYvtJInsT     24.960784     -0.797101    -0.257147 -0.992701   \n",
       "6PEwEkL4lzRbGMGH7j7kBB     24.803922     -0.720824    -0.115797 -0.982466   \n",
       "2PUoynqedBx15JbPYxzA5v     21.954248     -0.778795     0.074378 -0.983607   \n",
       "\n",
       "                        instrumentalness       key  liveness  loudness  \\\n",
       "track_id                                                                 \n",
       "0f5IlhiVWUUq4SGHyrRxIt       1389.262521 -0.571429 -0.229020  4.616688   \n",
       "5LEHlRPjGcZ5RdagAwXpHS       1333.133910 -0.571429 -0.129412  5.616397   \n",
       "0kKOC50fPTnqmrYvtJInsT       1223.755078  0.285714 -0.251765  5.445649   \n",
       "6PEwEkL4lzRbGMGH7j7kBB       1128.768197  0.285714 -0.318431  5.692673   \n",
       "2PUoynqedBx15JbPYxzA5v       1229.511858 -1.000000 -0.043137  4.477108   \n",
       "\n",
       "                        speechiness     tempo   valence  \n",
       "track_id                                                 \n",
       "0f5IlhiVWUUq4SGHyrRxIt    -0.364393 -0.507483 -0.930258  \n",
       "5LEHlRPjGcZ5RdagAwXpHS    -0.207987 -0.257262 -0.890959  \n",
       "0kKOC50fPTnqmrYvtJInsT    -0.367720 -0.437855 -0.908672  \n",
       "6PEwEkL4lzRbGMGH7j7kBB    -0.319468 -0.401674 -0.882657  \n",
       "2PUoynqedBx15JbPYxzA5v    -0.299501 -0.402196 -0.940959  "
      ],
      "text/html": "<div>\n<style scoped>\n    .dataframe tbody tr th:only-of-type {\n        vertical-align: middle;\n    }\n\n    .dataframe tbody tr th {\n        vertical-align: top;\n    }\n\n    .dataframe thead th {\n        text-align: right;\n    }\n</style>\n<table border=\"1\" class=\"dataframe\">\n  <thead>\n    <tr style=\"text-align: right;\">\n      <th></th>\n      <th>acousticness</th>\n      <th>danceability</th>\n      <th>duration_ms</th>\n      <th>energy</th>\n      <th>instrumentalness</th>\n      <th>key</th>\n      <th>liveness</th>\n      <th>loudness</th>\n      <th>speechiness</th>\n      <th>tempo</th>\n      <th>valence</th>\n    </tr>\n    <tr>\n      <th>track_id</th>\n      <th></th>\n      <th></th>\n      <th></th>\n      <th></th>\n      <th></th>\n      <th></th>\n      <th></th>\n      <th></th>\n      <th></th>\n      <th></th>\n      <th></th>\n    </tr>\n  </thead>\n  <tbody>\n    <tr>\n      <th>0f5IlhiVWUUq4SGHyrRxIt</th>\n      <td>24.228758</td>\n      <td>-0.784897</td>\n      <td>-0.089764</td>\n      <td>-0.942267</td>\n      <td>1389.262521</td>\n      <td>-0.571429</td>\n      <td>-0.229020</td>\n      <td>4.616688</td>\n      <td>-0.364393</td>\n      <td>-0.507483</td>\n      <td>-0.930258</td>\n    </tr>\n    <tr>\n      <th>5LEHlRPjGcZ5RdagAwXpHS</th>\n      <td>19.836601</td>\n      <td>-0.844394</td>\n      <td>-0.299721</td>\n      <td>-0.952530</td>\n      <td>1333.133910</td>\n      <td>-0.571429</td>\n      <td>-0.129412</td>\n      <td>5.616397</td>\n      <td>-0.207987</td>\n      <td>-0.257262</td>\n      <td>-0.890959</td>\n    </tr>\n    <tr>\n      <th>0kKOC50fPTnqmrYvtJInsT</th>\n      <td>24.960784</td>\n      <td>-0.797101</td>\n      <td>-0.257147</td>\n      <td>-0.992701</td>\n      <td>1223.755078</td>\n      <td>0.285714</td>\n      <td>-0.251765</td>\n      <td>5.445649</td>\n      <td>-0.367720</td>\n      <td>-0.437855</td>\n      <td>-0.908672</td>\n    </tr>\n    <tr>\n      <th>6PEwEkL4lzRbGMGH7j7kBB</th>\n      <td>24.803922</td>\n      <td>-0.720824</td>\n      <td>-0.115797</td>\n      <td>-0.982466</td>\n      <td>1128.768197</td>\n      <td>0.285714</td>\n      <td>-0.318431</td>\n      <td>5.692673</td>\n      <td>-0.319468</td>\n      <td>-0.401674</td>\n      <td>-0.882657</td>\n    </tr>\n    <tr>\n      <th>2PUoynqedBx15JbPYxzA5v</th>\n      <td>21.954248</td>\n      <td>-0.778795</td>\n      <td>0.074378</td>\n      <td>-0.983607</td>\n      <td>1229.511858</td>\n      <td>-1.000000</td>\n      <td>-0.043137</td>\n      <td>4.477108</td>\n      <td>-0.299501</td>\n      <td>-0.402196</td>\n      <td>-0.940959</td>\n    </tr>\n  </tbody>\n</table>\n</div>"
     },
     "metadata": {},
     "execution_count": 86
    }
   ],
   "source": [
    "df_main_var = pl_rec.subtract(Y_data_sorted, axis=1)\n",
    "df_main_var = df_main_var.divide(Y_data_sorted, axis=1) \n",
    "\n",
    "df_main_var.head()"
   ]
  },
  {
   "cell_type": "code",
   "execution_count": 87,
   "metadata": {},
   "outputs": [],
   "source": [
    "df_main_var['variation'] = df_main_var.sum(axis=1)\n",
    "\n",
    "df_main_var['variation'] = df_main_var['variation'].abs()"
   ]
  },
  {
   "cell_type": "code",
   "execution_count": 88,
   "metadata": {},
   "outputs": [
    {
     "output_type": "execute_result",
     "data": {
      "text/plain": [
       "                        acousticness  danceability  duration_ms    energy  \\\n",
       "track_id                                                                    \n",
       "0f5IlhiVWUUq4SGHyrRxIt     24.228758     -0.784897    -0.089764 -0.942267   \n",
       "5LEHlRPjGcZ5RdagAwXpHS     19.836601     -0.844394    -0.299721 -0.952530   \n",
       "0kKOC50fPTnqmrYvtJInsT     24.960784     -0.797101    -0.257147 -0.992701   \n",
       "6PEwEkL4lzRbGMGH7j7kBB     24.803922     -0.720824    -0.115797 -0.982466   \n",
       "2PUoynqedBx15JbPYxzA5v     21.954248     -0.778795     0.074378 -0.983607   \n",
       "...                              ...           ...          ...       ...   \n",
       "7a5xvCgoD8qFEQmO8Jjvtf      0.866667      0.090770    -0.008753 -0.144690   \n",
       "69YW4FrGpsjzt9lr517bUz     14.843137     -0.310450     0.102080 -0.205987   \n",
       "1emxi7e5EWFsJmwSKTuUDH      2.241830     -0.257056     0.207034 -0.291518   \n",
       "6h7oewjyzSKywtot8sHXj7     -0.667974      0.031274     0.323218 -0.294369   \n",
       "0WOgSnlW67lN5ZpXSvPmdi     11.784314      0.130435     0.297254 -0.029223   \n",
       "\n",
       "                        instrumentalness       key  liveness  loudness  \\\n",
       "track_id                                                                 \n",
       "0f5IlhiVWUUq4SGHyrRxIt       1389.262521 -0.571429 -0.229020  4.616688   \n",
       "5LEHlRPjGcZ5RdagAwXpHS       1333.133910 -0.571429 -0.129412  5.616397   \n",
       "0kKOC50fPTnqmrYvtJInsT       1223.755078  0.285714 -0.251765  5.445649   \n",
       "6PEwEkL4lzRbGMGH7j7kBB       1128.768197  0.285714 -0.318431  5.692673   \n",
       "2PUoynqedBx15JbPYxzA5v       1229.511858 -1.000000 -0.043137  4.477108   \n",
       "...                                  ...       ...       ...       ...   \n",
       "7a5xvCgoD8qFEQmO8Jjvtf          1.374672 -0.285714 -0.312941  0.496080   \n",
       "69YW4FrGpsjzt9lr517bUz         -1.000000  0.285714  1.219608  0.335592   \n",
       "1emxi7e5EWFsJmwSKTuUDH        239.345591 -0.428571 -0.145098  0.118188   \n",
       "6h7oewjyzSKywtot8sHXj7          0.427682  0.285714 -0.378824  1.033491   \n",
       "0WOgSnlW67lN5ZpXSvPmdi         32.389328 -1.000000  0.035294  0.606814   \n",
       "\n",
       "                        speechiness     tempo   valence    variation  \n",
       "track_id                                                              \n",
       "0f5IlhiVWUUq4SGHyrRxIt    -0.364393 -0.507483 -0.930258  1413.688457  \n",
       "5LEHlRPjGcZ5RdagAwXpHS    -0.207987 -0.257262 -0.890959  1354.433215  \n",
       "0kKOC50fPTnqmrYvtJInsT    -0.367720 -0.437855 -0.908672  1250.434264  \n",
       "6PEwEkL4lzRbGMGH7j7kBB    -0.319468 -0.401674 -0.882657  1155.809190  \n",
       "2PUoynqedBx15JbPYxzA5v    -0.299501 -0.402196 -0.940959  1251.569398  \n",
       "...                             ...       ...       ...          ...  \n",
       "7a5xvCgoD8qFEQmO8Jjvtf    -0.560732 -0.278946  0.420664     1.657077  \n",
       "69YW4FrGpsjzt9lr517bUz    -0.415973 -0.076918  0.254613    15.031416  \n",
       "1emxi7e5EWFsJmwSKTuUDH     0.064892  0.328871 -0.640221   240.543942  \n",
       "6h7oewjyzSKywtot8sHXj7    -0.500832  0.039725  0.678967     0.978073  \n",
       "0WOgSnlW67lN5ZpXSvPmdi     0.487521 -0.346179  0.208487    44.564045  \n",
       "\n",
       "[279 rows x 12 columns]"
      ],
      "text/html": "<div>\n<style scoped>\n    .dataframe tbody tr th:only-of-type {\n        vertical-align: middle;\n    }\n\n    .dataframe tbody tr th {\n        vertical-align: top;\n    }\n\n    .dataframe thead th {\n        text-align: right;\n    }\n</style>\n<table border=\"1\" class=\"dataframe\">\n  <thead>\n    <tr style=\"text-align: right;\">\n      <th></th>\n      <th>acousticness</th>\n      <th>danceability</th>\n      <th>duration_ms</th>\n      <th>energy</th>\n      <th>instrumentalness</th>\n      <th>key</th>\n      <th>liveness</th>\n      <th>loudness</th>\n      <th>speechiness</th>\n      <th>tempo</th>\n      <th>valence</th>\n      <th>variation</th>\n    </tr>\n    <tr>\n      <th>track_id</th>\n      <th></th>\n      <th></th>\n      <th></th>\n      <th></th>\n      <th></th>\n      <th></th>\n      <th></th>\n      <th></th>\n      <th></th>\n      <th></th>\n      <th></th>\n      <th></th>\n    </tr>\n  </thead>\n  <tbody>\n    <tr>\n      <th>0f5IlhiVWUUq4SGHyrRxIt</th>\n      <td>24.228758</td>\n      <td>-0.784897</td>\n      <td>-0.089764</td>\n      <td>-0.942267</td>\n      <td>1389.262521</td>\n      <td>-0.571429</td>\n      <td>-0.229020</td>\n      <td>4.616688</td>\n      <td>-0.364393</td>\n      <td>-0.507483</td>\n      <td>-0.930258</td>\n      <td>1413.688457</td>\n    </tr>\n    <tr>\n      <th>5LEHlRPjGcZ5RdagAwXpHS</th>\n      <td>19.836601</td>\n      <td>-0.844394</td>\n      <td>-0.299721</td>\n      <td>-0.952530</td>\n      <td>1333.133910</td>\n      <td>-0.571429</td>\n      <td>-0.129412</td>\n      <td>5.616397</td>\n      <td>-0.207987</td>\n      <td>-0.257262</td>\n      <td>-0.890959</td>\n      <td>1354.433215</td>\n    </tr>\n    <tr>\n      <th>0kKOC50fPTnqmrYvtJInsT</th>\n      <td>24.960784</td>\n      <td>-0.797101</td>\n      <td>-0.257147</td>\n      <td>-0.992701</td>\n      <td>1223.755078</td>\n      <td>0.285714</td>\n      <td>-0.251765</td>\n      <td>5.445649</td>\n      <td>-0.367720</td>\n      <td>-0.437855</td>\n      <td>-0.908672</td>\n      <td>1250.434264</td>\n    </tr>\n    <tr>\n      <th>6PEwEkL4lzRbGMGH7j7kBB</th>\n      <td>24.803922</td>\n      <td>-0.720824</td>\n      <td>-0.115797</td>\n      <td>-0.982466</td>\n      <td>1128.768197</td>\n      <td>0.285714</td>\n      <td>-0.318431</td>\n      <td>5.692673</td>\n      <td>-0.319468</td>\n      <td>-0.401674</td>\n      <td>-0.882657</td>\n      <td>1155.809190</td>\n    </tr>\n    <tr>\n      <th>2PUoynqedBx15JbPYxzA5v</th>\n      <td>21.954248</td>\n      <td>-0.778795</td>\n      <td>0.074378</td>\n      <td>-0.983607</td>\n      <td>1229.511858</td>\n      <td>-1.000000</td>\n      <td>-0.043137</td>\n      <td>4.477108</td>\n      <td>-0.299501</td>\n      <td>-0.402196</td>\n      <td>-0.940959</td>\n      <td>1251.569398</td>\n    </tr>\n    <tr>\n      <th>...</th>\n      <td>...</td>\n      <td>...</td>\n      <td>...</td>\n      <td>...</td>\n      <td>...</td>\n      <td>...</td>\n      <td>...</td>\n      <td>...</td>\n      <td>...</td>\n      <td>...</td>\n      <td>...</td>\n      <td>...</td>\n    </tr>\n    <tr>\n      <th>7a5xvCgoD8qFEQmO8Jjvtf</th>\n      <td>0.866667</td>\n      <td>0.090770</td>\n      <td>-0.008753</td>\n      <td>-0.144690</td>\n      <td>1.374672</td>\n      <td>-0.285714</td>\n      <td>-0.312941</td>\n      <td>0.496080</td>\n      <td>-0.560732</td>\n      <td>-0.278946</td>\n      <td>0.420664</td>\n      <td>1.657077</td>\n    </tr>\n    <tr>\n      <th>69YW4FrGpsjzt9lr517bUz</th>\n      <td>14.843137</td>\n      <td>-0.310450</td>\n      <td>0.102080</td>\n      <td>-0.205987</td>\n      <td>-1.000000</td>\n      <td>0.285714</td>\n      <td>1.219608</td>\n      <td>0.335592</td>\n      <td>-0.415973</td>\n      <td>-0.076918</td>\n      <td>0.254613</td>\n      <td>15.031416</td>\n    </tr>\n    <tr>\n      <th>1emxi7e5EWFsJmwSKTuUDH</th>\n      <td>2.241830</td>\n      <td>-0.257056</td>\n      <td>0.207034</td>\n      <td>-0.291518</td>\n      <td>239.345591</td>\n      <td>-0.428571</td>\n      <td>-0.145098</td>\n      <td>0.118188</td>\n      <td>0.064892</td>\n      <td>0.328871</td>\n      <td>-0.640221</td>\n      <td>240.543942</td>\n    </tr>\n    <tr>\n      <th>6h7oewjyzSKywtot8sHXj7</th>\n      <td>-0.667974</td>\n      <td>0.031274</td>\n      <td>0.323218</td>\n      <td>-0.294369</td>\n      <td>0.427682</td>\n      <td>0.285714</td>\n      <td>-0.378824</td>\n      <td>1.033491</td>\n      <td>-0.500832</td>\n      <td>0.039725</td>\n      <td>0.678967</td>\n      <td>0.978073</td>\n    </tr>\n    <tr>\n      <th>0WOgSnlW67lN5ZpXSvPmdi</th>\n      <td>11.784314</td>\n      <td>0.130435</td>\n      <td>0.297254</td>\n      <td>-0.029223</td>\n      <td>32.389328</td>\n      <td>-1.000000</td>\n      <td>0.035294</td>\n      <td>0.606814</td>\n      <td>0.487521</td>\n      <td>-0.346179</td>\n      <td>0.208487</td>\n      <td>44.564045</td>\n    </tr>\n  </tbody>\n</table>\n<p>279 rows × 12 columns</p>\n</div>"
     },
     "metadata": {},
     "execution_count": 88
    }
   ],
   "source": [
    "df_main_var"
   ]
  },
  {
   "cell_type": "code",
   "execution_count": 89,
   "metadata": {},
   "outputs": [
    {
     "output_type": "execute_result",
     "data": {
      "text/plain": [
       "                        acousticness  danceability  duration_ms    energy  \\\n",
       "track_id                                                                    \n",
       "6GXbpne1EKdVlYhFazWFs4      0.539869      0.231121    -0.153794 -0.101924   \n",
       "1HwgiZluTgktb8SOFqcKkh      0.430065     -0.005339     0.478167 -0.016393   \n",
       "5PMKzsUsTpZZGsCcJBuhP2      0.050980      0.302822     0.193132 -0.225944   \n",
       "1tdarjaWSw6cxpFdLNANuQ     -0.205229     -0.116705     0.134913  0.036351   \n",
       "6IvKGL3DMPRPjJi8pz059W     -0.301961     -0.411137     0.677829  0.194583   \n",
       "57Sue0eOgweOlVxc6g2yCo      1.640523     -0.443173     0.483586 -0.218817   \n",
       "3zYQ1KXzqBWRsxIqdVMoYF      0.283660      0.087719    -0.132563  0.140413   \n",
       "1uyj6ycPIp7i907LsGbUmA      0.484967      0.022121     0.320281 -0.099073   \n",
       "6h7oewjyzSKywtot8sHXj7     -0.667974      0.031274     0.323218 -0.294369   \n",
       "1JkhKUXAoNivi87ipmV3rp     -0.748497      0.131960     0.108151  0.037776   \n",
       "2RtvkLz5tmOXlzz918It6E      1.486275      0.128909     0.474251 -0.488239   \n",
       "6FXis8xolZr1w66kY27zbs      1.606536      0.051106     0.025000  0.097648   \n",
       "14VwBAL1qSlG4ovOSYUQF4      0.014379      0.041953     0.436264 -0.221668   \n",
       "7a5xvCgoD8qFEQmO8Jjvtf      0.866667      0.090770    -0.008753 -0.144690   \n",
       "6kUfA51KpIMGdKYrzWLkbn     -0.456209     -0.141114     0.025259 -0.140413   \n",
       "3TkNsftUBh8dwwLUHpmYNC      0.508497      0.086194     0.221720 -0.063435   \n",
       "0tjjWJfZyceooAGlRfZTh1     -0.087582      0.318078     0.373605 -0.136137   \n",
       "6iNHWlOLt4NuDi9iSvtznO      3.915033     -0.267735     0.259972  0.070563   \n",
       "0Gs5zsjp7Rp2i41yMgNxCf      3.941176      0.051106     0.157955 -0.070563   \n",
       "6gUbpcQmFvDUbe7a213wlr      4.124183      0.095347     0.089030 -0.050606   \n",
       "2agIeYLyjyxLwQV09f2NCA      4.516340     -0.264683    -0.018063 -0.009266   \n",
       "0YfwVbEYw31UiVCllyoTaG      4.464052     -0.057208     0.050387  0.017819   \n",
       "1UXQhuCOj5ksuFbceRAdPo      3.810458      0.057208    -0.048693 -0.151818   \n",
       "7vVIj8Tm1wCawjvwVZdeLD     -0.150327     -0.246377     0.450950 -0.271561   \n",
       "1mz6oqRktdmNN6KfqJY9Op      5.274510     -0.302822     0.086024 -0.161796   \n",
       "2fE4MbwX3QGMzNaMjGVhtw      4.516340      0.139588     0.313751 -0.432644   \n",
       "58xH2AxeyFjJ1o7vWKqUrt      1.013072      0.429443     0.263951 -0.260157   \n",
       "36Pk18O34Y8aL4noAMONYz      2.529412     -0.263158     0.305135 -0.217391   \n",
       "1FqOGWc280BYbpRwLiPn4P      5.745098      0.075515     0.222308  0.223093   \n",
       "0edULMXqdv4qV7CcJ6Obvd      5.980392      0.025172     0.198551 -0.224519   \n",
       "\n",
       "                        instrumentalness       key  liveness  loudness  \\\n",
       "track_id                                                                 \n",
       "6GXbpne1EKdVlYhFazWFs4         -0.815783  0.285714 -0.184314  0.626367   \n",
       "1HwgiZluTgktb8SOFqcKkh         -0.972655  0.285714 -0.496471  0.026038   \n",
       "5PMKzsUsTpZZGsCcJBuhP2         -0.917534  0.142857 -0.671373  0.193689   \n",
       "1tdarjaWSw6cxpFdLNANuQ         -0.971360  0.428571  0.349020 -0.056819   \n",
       "6IvKGL3DMPRPjJi8pz059W         -0.909762 -0.714286  1.133333  0.433550   \n",
       "57Sue0eOgweOlVxc6g2yCo         -1.000000  0.428571 -0.683137  0.808150   \n",
       "3zYQ1KXzqBWRsxIqdVMoYF         -0.885440  0.000000 -0.277647  0.149550   \n",
       "1uyj6ycPIp7i907LsGbUmA         -0.752458  0.000000 -0.699608  0.538476   \n",
       "6h7oewjyzSKywtot8sHXj7          0.427682  0.285714 -0.378824  1.033491   \n",
       "1JkhKUXAoNivi87ipmV3rp         -0.946318  0.428571  0.050980  0.282741   \n",
       "2RtvkLz5tmOXlzz918It6E         -1.000000  0.428571  0.011765  0.608557   \n",
       "6FXis8xolZr1w66kY27zbs         -0.929192  0.285714 -0.269020  0.126900   \n",
       "14VwBAL1qSlG4ovOSYUQF4         -0.756776 -0.714286 -0.503529  0.758978   \n",
       "7a5xvCgoD8qFEQmO8Jjvtf          1.374672 -0.285714 -0.312941  0.496080   \n",
       "6kUfA51KpIMGdKYrzWLkbn         -0.936963  0.000000  0.325490  0.560352   \n",
       "3TkNsftUBh8dwwLUHpmYNC         -1.000000  0.428571  0.835294  0.139870   \n",
       "0tjjWJfZyceooAGlRfZTh1          1.633727 -0.285714  0.184314  0.938244   \n",
       "6iNHWlOLt4NuDi9iSvtznO         -0.975678 -0.857143  0.278431  0.103862   \n",
       "0Gs5zsjp7Rp2i41yMgNxCf         -1.000000 -0.857143 -0.721569  0.253702   \n",
       "6gUbpcQmFvDUbe7a213wlr         -1.000000 -1.000000  1.439216  0.045785   \n",
       "2agIeYLyjyxLwQV09f2NCA         -1.000000  0.142857 -0.027451  0.086826   \n",
       "0YfwVbEYw31UiVCllyoTaG         -0.181098 -0.285714 -0.451765  0.264737   \n",
       "1UXQhuCOj5ksuFbceRAdPo         -1.000000  0.000000  1.101961  0.426387   \n",
       "7vVIj8Tm1wCawjvwVZdeLD         -1.000000 -0.428571  4.027451  1.333559   \n",
       "1mz6oqRktdmNN6KfqJY9Op         -1.000000  0.428571 -0.043137  0.154777   \n",
       "2fE4MbwX3QGMzNaMjGVhtw         -0.997956 -0.285714 -0.113725  1.503533   \n",
       "58xH2AxeyFjJ1o7vWKqUrt         -0.117773  0.571429  1.439216  0.915400   \n",
       "36Pk18O34Y8aL4noAMONYz         -1.000000  0.428571  0.490196  0.268415   \n",
       "1FqOGWc280BYbpRwLiPn4P         -1.000000 -0.285714  0.545098 -0.094183   \n",
       "0edULMXqdv4qV7CcJ6Obvd         -1.000000 -0.857143  1.870588  0.274417   \n",
       "\n",
       "                        speechiness     tempo   valence  variation  \n",
       "track_id                                                            \n",
       "6GXbpne1EKdVlYhFazWFs4    -0.234609  0.060738 -0.254613   0.001227  \n",
       "1HwgiZluTgktb8SOFqcKkh    -0.158070 -0.237020  0.618081   0.047883  \n",
       "5PMKzsUsTpZZGsCcJBuhP2     0.404326 -0.145966  0.601476   0.071534  \n",
       "1tdarjaWSw6cxpFdLNANuQ    -0.447587  0.414049  0.632841   0.198045  \n",
       "6IvKGL3DMPRPjJi8pz059W     0.021631  0.417108 -0.195572   0.345316  \n",
       "57Sue0eOgweOlVxc6g2yCo    -0.339434 -0.154901 -0.142066   0.379302  \n",
       "3zYQ1KXzqBWRsxIqdVMoYF    -0.419301  0.159982  0.501845   0.391781  \n",
       "1uyj6ycPIp7i907LsGbUmA     0.896839 -0.252173  0.483395   0.942766  \n",
       "6h7oewjyzSKywtot8sHXj7    -0.500832  0.039725  0.678967   0.978073  \n",
       "1JkhKUXAoNivi87ipmV3rp    -0.475874 -0.204171  0.285978   1.048701  \n",
       "2RtvkLz5tmOXlzz918It6E    -0.231281  0.045660 -0.304428   1.160039  \n",
       "6FXis8xolZr1w66kY27zbs     0.086522 -0.187311  0.309963   1.203867  \n",
       "14VwBAL1qSlG4ovOSYUQF4    -0.627288 -0.253839  0.356089   1.469724  \n",
       "7a5xvCgoD8qFEQmO8Jjvtf    -0.560732 -0.278946  0.420664   1.657077  \n",
       "6kUfA51KpIMGdKYrzWLkbn    -0.502496 -0.216008 -0.326568   1.808669  \n",
       "3TkNsftUBh8dwwLUHpmYNC     1.479201 -0.187734 -0.193727   2.254451  \n",
       "0tjjWJfZyceooAGlRfZTh1     0.064892 -0.013805  0.011070   3.000691  \n",
       "6iNHWlOLt4NuDi9iSvtznO    -0.362729  0.470232  0.455720   3.090529  \n",
       "0Gs5zsjp7Rp2i41yMgNxCf     1.645591 -0.245724  0.295203   3.449735  \n",
       "6gUbpcQmFvDUbe7a213wlr    -0.507488 -0.111740  0.595941   3.719667  \n",
       "2agIeYLyjyxLwQV09f2NCA     0.896839 -0.197730 -0.068266   4.057402  \n",
       "0YfwVbEYw31UiVCllyoTaG     0.247920 -0.247423  0.247232   4.068939  \n",
       "1UXQhuCOj5ksuFbceRAdPo    -0.103161 -0.167774  0.385609   4.310176  \n",
       "7vVIj8Tm1wCawjvwVZdeLD     0.372712  0.394669 -0.066421   4.416085  \n",
       "1mz6oqRktdmNN6KfqJY9Op    -0.239601  0.407998  0.038745   4.643269  \n",
       "2fE4MbwX3QGMzNaMjGVhtw     0.236273 -0.022716 -0.210332   4.646396  \n",
       "58xH2AxeyFjJ1o7vWKqUrt     0.262895  0.052722  0.509225   5.079423  \n",
       "36Pk18O34Y8aL4noAMONYz     3.026622 -0.295665  0.276753   5.548890  \n",
       "1FqOGWc280BYbpRwLiPn4P    -0.404326 -0.103302  0.632841   5.556428  \n",
       "0edULMXqdv4qV7CcJ6Obvd    -0.159734 -0.245658 -0.182657   5.679410  "
      ],
      "text/html": "<div>\n<style scoped>\n    .dataframe tbody tr th:only-of-type {\n        vertical-align: middle;\n    }\n\n    .dataframe tbody tr th {\n        vertical-align: top;\n    }\n\n    .dataframe thead th {\n        text-align: right;\n    }\n</style>\n<table border=\"1\" class=\"dataframe\">\n  <thead>\n    <tr style=\"text-align: right;\">\n      <th></th>\n      <th>acousticness</th>\n      <th>danceability</th>\n      <th>duration_ms</th>\n      <th>energy</th>\n      <th>instrumentalness</th>\n      <th>key</th>\n      <th>liveness</th>\n      <th>loudness</th>\n      <th>speechiness</th>\n      <th>tempo</th>\n      <th>valence</th>\n      <th>variation</th>\n    </tr>\n    <tr>\n      <th>track_id</th>\n      <th></th>\n      <th></th>\n      <th></th>\n      <th></th>\n      <th></th>\n      <th></th>\n      <th></th>\n      <th></th>\n      <th></th>\n      <th></th>\n      <th></th>\n      <th></th>\n    </tr>\n  </thead>\n  <tbody>\n    <tr>\n      <th>6GXbpne1EKdVlYhFazWFs4</th>\n      <td>0.539869</td>\n      <td>0.231121</td>\n      <td>-0.153794</td>\n      <td>-0.101924</td>\n      <td>-0.815783</td>\n      <td>0.285714</td>\n      <td>-0.184314</td>\n      <td>0.626367</td>\n      <td>-0.234609</td>\n      <td>0.060738</td>\n      <td>-0.254613</td>\n      <td>0.001227</td>\n    </tr>\n    <tr>\n      <th>1HwgiZluTgktb8SOFqcKkh</th>\n      <td>0.430065</td>\n      <td>-0.005339</td>\n      <td>0.478167</td>\n      <td>-0.016393</td>\n      <td>-0.972655</td>\n      <td>0.285714</td>\n      <td>-0.496471</td>\n      <td>0.026038</td>\n      <td>-0.158070</td>\n      <td>-0.237020</td>\n      <td>0.618081</td>\n      <td>0.047883</td>\n    </tr>\n    <tr>\n      <th>5PMKzsUsTpZZGsCcJBuhP2</th>\n      <td>0.050980</td>\n      <td>0.302822</td>\n      <td>0.193132</td>\n      <td>-0.225944</td>\n      <td>-0.917534</td>\n      <td>0.142857</td>\n      <td>-0.671373</td>\n      <td>0.193689</td>\n      <td>0.404326</td>\n      <td>-0.145966</td>\n      <td>0.601476</td>\n      <td>0.071534</td>\n    </tr>\n    <tr>\n      <th>1tdarjaWSw6cxpFdLNANuQ</th>\n      <td>-0.205229</td>\n      <td>-0.116705</td>\n      <td>0.134913</td>\n      <td>0.036351</td>\n      <td>-0.971360</td>\n      <td>0.428571</td>\n      <td>0.349020</td>\n      <td>-0.056819</td>\n      <td>-0.447587</td>\n      <td>0.414049</td>\n      <td>0.632841</td>\n      <td>0.198045</td>\n    </tr>\n    <tr>\n      <th>6IvKGL3DMPRPjJi8pz059W</th>\n      <td>-0.301961</td>\n      <td>-0.411137</td>\n      <td>0.677829</td>\n      <td>0.194583</td>\n      <td>-0.909762</td>\n      <td>-0.714286</td>\n      <td>1.133333</td>\n      <td>0.433550</td>\n      <td>0.021631</td>\n      <td>0.417108</td>\n      <td>-0.195572</td>\n      <td>0.345316</td>\n    </tr>\n    <tr>\n      <th>57Sue0eOgweOlVxc6g2yCo</th>\n      <td>1.640523</td>\n      <td>-0.443173</td>\n      <td>0.483586</td>\n      <td>-0.218817</td>\n      <td>-1.000000</td>\n      <td>0.428571</td>\n      <td>-0.683137</td>\n      <td>0.808150</td>\n      <td>-0.339434</td>\n      <td>-0.154901</td>\n      <td>-0.142066</td>\n      <td>0.379302</td>\n    </tr>\n    <tr>\n      <th>3zYQ1KXzqBWRsxIqdVMoYF</th>\n      <td>0.283660</td>\n      <td>0.087719</td>\n      <td>-0.132563</td>\n      <td>0.140413</td>\n      <td>-0.885440</td>\n      <td>0.000000</td>\n      <td>-0.277647</td>\n      <td>0.149550</td>\n      <td>-0.419301</td>\n      <td>0.159982</td>\n      <td>0.501845</td>\n      <td>0.391781</td>\n    </tr>\n    <tr>\n      <th>1uyj6ycPIp7i907LsGbUmA</th>\n      <td>0.484967</td>\n      <td>0.022121</td>\n      <td>0.320281</td>\n      <td>-0.099073</td>\n      <td>-0.752458</td>\n      <td>0.000000</td>\n      <td>-0.699608</td>\n      <td>0.538476</td>\n      <td>0.896839</td>\n      <td>-0.252173</td>\n      <td>0.483395</td>\n      <td>0.942766</td>\n    </tr>\n    <tr>\n      <th>6h7oewjyzSKywtot8sHXj7</th>\n      <td>-0.667974</td>\n      <td>0.031274</td>\n      <td>0.323218</td>\n      <td>-0.294369</td>\n      <td>0.427682</td>\n      <td>0.285714</td>\n      <td>-0.378824</td>\n      <td>1.033491</td>\n      <td>-0.500832</td>\n      <td>0.039725</td>\n      <td>0.678967</td>\n      <td>0.978073</td>\n    </tr>\n    <tr>\n      <th>1JkhKUXAoNivi87ipmV3rp</th>\n      <td>-0.748497</td>\n      <td>0.131960</td>\n      <td>0.108151</td>\n      <td>0.037776</td>\n      <td>-0.946318</td>\n      <td>0.428571</td>\n      <td>0.050980</td>\n      <td>0.282741</td>\n      <td>-0.475874</td>\n      <td>-0.204171</td>\n      <td>0.285978</td>\n      <td>1.048701</td>\n    </tr>\n    <tr>\n      <th>2RtvkLz5tmOXlzz918It6E</th>\n      <td>1.486275</td>\n      <td>0.128909</td>\n      <td>0.474251</td>\n      <td>-0.488239</td>\n      <td>-1.000000</td>\n      <td>0.428571</td>\n      <td>0.011765</td>\n      <td>0.608557</td>\n      <td>-0.231281</td>\n      <td>0.045660</td>\n      <td>-0.304428</td>\n      <td>1.160039</td>\n    </tr>\n    <tr>\n      <th>6FXis8xolZr1w66kY27zbs</th>\n      <td>1.606536</td>\n      <td>0.051106</td>\n      <td>0.025000</td>\n      <td>0.097648</td>\n      <td>-0.929192</td>\n      <td>0.285714</td>\n      <td>-0.269020</td>\n      <td>0.126900</td>\n      <td>0.086522</td>\n      <td>-0.187311</td>\n      <td>0.309963</td>\n      <td>1.203867</td>\n    </tr>\n    <tr>\n      <th>14VwBAL1qSlG4ovOSYUQF4</th>\n      <td>0.014379</td>\n      <td>0.041953</td>\n      <td>0.436264</td>\n      <td>-0.221668</td>\n      <td>-0.756776</td>\n      <td>-0.714286</td>\n      <td>-0.503529</td>\n      <td>0.758978</td>\n      <td>-0.627288</td>\n      <td>-0.253839</td>\n      <td>0.356089</td>\n      <td>1.469724</td>\n    </tr>\n    <tr>\n      <th>7a5xvCgoD8qFEQmO8Jjvtf</th>\n      <td>0.866667</td>\n      <td>0.090770</td>\n      <td>-0.008753</td>\n      <td>-0.144690</td>\n      <td>1.374672</td>\n      <td>-0.285714</td>\n      <td>-0.312941</td>\n      <td>0.496080</td>\n      <td>-0.560732</td>\n      <td>-0.278946</td>\n      <td>0.420664</td>\n      <td>1.657077</td>\n    </tr>\n    <tr>\n      <th>6kUfA51KpIMGdKYrzWLkbn</th>\n      <td>-0.456209</td>\n      <td>-0.141114</td>\n      <td>0.025259</td>\n      <td>-0.140413</td>\n      <td>-0.936963</td>\n      <td>0.000000</td>\n      <td>0.325490</td>\n      <td>0.560352</td>\n      <td>-0.502496</td>\n      <td>-0.216008</td>\n      <td>-0.326568</td>\n      <td>1.808669</td>\n    </tr>\n    <tr>\n      <th>3TkNsftUBh8dwwLUHpmYNC</th>\n      <td>0.508497</td>\n      <td>0.086194</td>\n      <td>0.221720</td>\n      <td>-0.063435</td>\n      <td>-1.000000</td>\n      <td>0.428571</td>\n      <td>0.835294</td>\n      <td>0.139870</td>\n      <td>1.479201</td>\n      <td>-0.187734</td>\n      <td>-0.193727</td>\n      <td>2.254451</td>\n    </tr>\n    <tr>\n      <th>0tjjWJfZyceooAGlRfZTh1</th>\n      <td>-0.087582</td>\n      <td>0.318078</td>\n      <td>0.373605</td>\n      <td>-0.136137</td>\n      <td>1.633727</td>\n      <td>-0.285714</td>\n      <td>0.184314</td>\n      <td>0.938244</td>\n      <td>0.064892</td>\n      <td>-0.013805</td>\n      <td>0.011070</td>\n      <td>3.000691</td>\n    </tr>\n    <tr>\n      <th>6iNHWlOLt4NuDi9iSvtznO</th>\n      <td>3.915033</td>\n      <td>-0.267735</td>\n      <td>0.259972</td>\n      <td>0.070563</td>\n      <td>-0.975678</td>\n      <td>-0.857143</td>\n      <td>0.278431</td>\n      <td>0.103862</td>\n      <td>-0.362729</td>\n      <td>0.470232</td>\n      <td>0.455720</td>\n      <td>3.090529</td>\n    </tr>\n    <tr>\n      <th>0Gs5zsjp7Rp2i41yMgNxCf</th>\n      <td>3.941176</td>\n      <td>0.051106</td>\n      <td>0.157955</td>\n      <td>-0.070563</td>\n      <td>-1.000000</td>\n      <td>-0.857143</td>\n      <td>-0.721569</td>\n      <td>0.253702</td>\n      <td>1.645591</td>\n      <td>-0.245724</td>\n      <td>0.295203</td>\n      <td>3.449735</td>\n    </tr>\n    <tr>\n      <th>6gUbpcQmFvDUbe7a213wlr</th>\n      <td>4.124183</td>\n      <td>0.095347</td>\n      <td>0.089030</td>\n      <td>-0.050606</td>\n      <td>-1.000000</td>\n      <td>-1.000000</td>\n      <td>1.439216</td>\n      <td>0.045785</td>\n      <td>-0.507488</td>\n      <td>-0.111740</td>\n      <td>0.595941</td>\n      <td>3.719667</td>\n    </tr>\n    <tr>\n      <th>2agIeYLyjyxLwQV09f2NCA</th>\n      <td>4.516340</td>\n      <td>-0.264683</td>\n      <td>-0.018063</td>\n      <td>-0.009266</td>\n      <td>-1.000000</td>\n      <td>0.142857</td>\n      <td>-0.027451</td>\n      <td>0.086826</td>\n      <td>0.896839</td>\n      <td>-0.197730</td>\n      <td>-0.068266</td>\n      <td>4.057402</td>\n    </tr>\n    <tr>\n      <th>0YfwVbEYw31UiVCllyoTaG</th>\n      <td>4.464052</td>\n      <td>-0.057208</td>\n      <td>0.050387</td>\n      <td>0.017819</td>\n      <td>-0.181098</td>\n      <td>-0.285714</td>\n      <td>-0.451765</td>\n      <td>0.264737</td>\n      <td>0.247920</td>\n      <td>-0.247423</td>\n      <td>0.247232</td>\n      <td>4.068939</td>\n    </tr>\n    <tr>\n      <th>1UXQhuCOj5ksuFbceRAdPo</th>\n      <td>3.810458</td>\n      <td>0.057208</td>\n      <td>-0.048693</td>\n      <td>-0.151818</td>\n      <td>-1.000000</td>\n      <td>0.000000</td>\n      <td>1.101961</td>\n      <td>0.426387</td>\n      <td>-0.103161</td>\n      <td>-0.167774</td>\n      <td>0.385609</td>\n      <td>4.310176</td>\n    </tr>\n    <tr>\n      <th>7vVIj8Tm1wCawjvwVZdeLD</th>\n      <td>-0.150327</td>\n      <td>-0.246377</td>\n      <td>0.450950</td>\n      <td>-0.271561</td>\n      <td>-1.000000</td>\n      <td>-0.428571</td>\n      <td>4.027451</td>\n      <td>1.333559</td>\n      <td>0.372712</td>\n      <td>0.394669</td>\n      <td>-0.066421</td>\n      <td>4.416085</td>\n    </tr>\n    <tr>\n      <th>1mz6oqRktdmNN6KfqJY9Op</th>\n      <td>5.274510</td>\n      <td>-0.302822</td>\n      <td>0.086024</td>\n      <td>-0.161796</td>\n      <td>-1.000000</td>\n      <td>0.428571</td>\n      <td>-0.043137</td>\n      <td>0.154777</td>\n      <td>-0.239601</td>\n      <td>0.407998</td>\n      <td>0.038745</td>\n      <td>4.643269</td>\n    </tr>\n    <tr>\n      <th>2fE4MbwX3QGMzNaMjGVhtw</th>\n      <td>4.516340</td>\n      <td>0.139588</td>\n      <td>0.313751</td>\n      <td>-0.432644</td>\n      <td>-0.997956</td>\n      <td>-0.285714</td>\n      <td>-0.113725</td>\n      <td>1.503533</td>\n      <td>0.236273</td>\n      <td>-0.022716</td>\n      <td>-0.210332</td>\n      <td>4.646396</td>\n    </tr>\n    <tr>\n      <th>58xH2AxeyFjJ1o7vWKqUrt</th>\n      <td>1.013072</td>\n      <td>0.429443</td>\n      <td>0.263951</td>\n      <td>-0.260157</td>\n      <td>-0.117773</td>\n      <td>0.571429</td>\n      <td>1.439216</td>\n      <td>0.915400</td>\n      <td>0.262895</td>\n      <td>0.052722</td>\n      <td>0.509225</td>\n      <td>5.079423</td>\n    </tr>\n    <tr>\n      <th>36Pk18O34Y8aL4noAMONYz</th>\n      <td>2.529412</td>\n      <td>-0.263158</td>\n      <td>0.305135</td>\n      <td>-0.217391</td>\n      <td>-1.000000</td>\n      <td>0.428571</td>\n      <td>0.490196</td>\n      <td>0.268415</td>\n      <td>3.026622</td>\n      <td>-0.295665</td>\n      <td>0.276753</td>\n      <td>5.548890</td>\n    </tr>\n    <tr>\n      <th>1FqOGWc280BYbpRwLiPn4P</th>\n      <td>5.745098</td>\n      <td>0.075515</td>\n      <td>0.222308</td>\n      <td>0.223093</td>\n      <td>-1.000000</td>\n      <td>-0.285714</td>\n      <td>0.545098</td>\n      <td>-0.094183</td>\n      <td>-0.404326</td>\n      <td>-0.103302</td>\n      <td>0.632841</td>\n      <td>5.556428</td>\n    </tr>\n    <tr>\n      <th>0edULMXqdv4qV7CcJ6Obvd</th>\n      <td>5.980392</td>\n      <td>0.025172</td>\n      <td>0.198551</td>\n      <td>-0.224519</td>\n      <td>-1.000000</td>\n      <td>-0.857143</td>\n      <td>1.870588</td>\n      <td>0.274417</td>\n      <td>-0.159734</td>\n      <td>-0.245658</td>\n      <td>-0.182657</td>\n      <td>5.679410</td>\n    </tr>\n  </tbody>\n</table>\n</div>"
     },
     "metadata": {},
     "execution_count": 89
    }
   ],
   "source": [
    "# Picking 30 least variated songs from df_main_var\n",
    "rec_songs = df_main_var.nsmallest(30,'variation')\n",
    "\n",
    "rec_songs"
   ]
  },
  {
   "cell_type": "code",
   "execution_count": 90,
   "metadata": {},
   "outputs": [],
   "source": [
    "# Creates custom playlist\n",
    "def custom_playlist(sp, username, playlist_name, playlist_description, isPublic):\n",
    "    pl_custom = sp.user_playlist_create(username, playlist_name, public=isPublic, collaborative=False, description=playlist_description)\n",
    "\n",
    "custom_playlist(sp, user_name, 'DJ_NumPy', 'Custom Playlist', False)"
   ]
  },
  {
   "cell_type": "code",
   "execution_count": 91,
   "metadata": {},
   "outputs": [],
   "source": [
    "custom_id = sp.user_playlists(user_name)['items'][0]['id']"
   ]
  },
  {
   "cell_type": "code",
   "execution_count": 92,
   "metadata": {},
   "outputs": [],
   "source": [
    "# Fills custom playlist with recommended tracks\n",
    "def fill_playlist(playlist_id):\n",
    "    # try:\n",
    "    #     sp.user_playlist_unfollow(user=user_name, playlist_id=custom_id)\n",
    "    # except:\n",
    "    #     sp.playlist_add_items(playlist_id, items= rec_songs.index[0:len(rec_songs.index)])\n",
    "    sp.playlist_add_items(playlist_id, items=rec_songs.index[0:len(rec_songs.index)])"
   ]
  },
  {
   "cell_type": "code",
   "execution_count": 93,
   "metadata": {},
   "outputs": [],
   "source": [
    "fill_playlist(custom_id)"
   ]
  }
 ]
}